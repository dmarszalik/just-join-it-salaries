{
  "cells": [
    {
      "cell_type": "code",
      "execution_count": 4,
      "metadata": {
        "colab": {
          "base_uri": "https://localhost:8080/"
        },
        "id": "EuC4ohiUVOLz",
        "outputId": "ac926b09-4003-47fb-c59f-c7c0cdbf376e"
      },
      "outputs": [
        {
          "name": "stdout",
          "output_type": "stream",
          "text": [
            "Requirement already satisfied: forex-python in /Users/dawidmarszalik/anaconda3/lib/python3.10/site-packages (1.8)\n",
            "Requirement already satisfied: requests in /Users/dawidmarszalik/anaconda3/lib/python3.10/site-packages (from forex-python) (2.29.0)\n",
            "Requirement already satisfied: simplejson in /Users/dawidmarszalik/anaconda3/lib/python3.10/site-packages (from forex-python) (3.19.1)\n",
            "Requirement already satisfied: charset-normalizer<4,>=2 in /Users/dawidmarszalik/anaconda3/lib/python3.10/site-packages (from requests->forex-python) (2.0.4)\n",
            "Requirement already satisfied: idna<4,>=2.5 in /Users/dawidmarszalik/anaconda3/lib/python3.10/site-packages (from requests->forex-python) (3.4)\n",
            "Requirement already satisfied: urllib3<1.27,>=1.21.1 in /Users/dawidmarszalik/anaconda3/lib/python3.10/site-packages (from requests->forex-python) (1.26.16)\n",
            "Requirement already satisfied: certifi>=2017.4.17 in /Users/dawidmarszalik/anaconda3/lib/python3.10/site-packages (from requests->forex-python) (2023.5.7)\n"
          ]
        }
      ],
      "source": [
        "!pip install forex-python"
      ]
    },
    {
      "cell_type": "code",
      "execution_count": 5,
      "metadata": {
        "id": "-6q7uwO6eoUO"
      },
      "outputs": [],
      "source": [
        "import pandas as pd\n",
        "import numpy as np\n",
        "import matplotlib.pyplot as plt\n",
        "import seaborn as sns\n",
        "\n",
        "import requests\n",
        "import json\n",
        "import time\n",
        "import joblib\n",
        "import datetime\n",
        "\n",
        "from sklearn import preprocessing\n",
        "from sklearn.feature_extraction.text import TfidfVectorizer\n",
        "from sklearn.ensemble import RandomForestRegressor\n",
        "from sklearn.model_selection import train_test_split\n",
        "from sklearn.model_selection import cross_val_score, KFold\n",
        "from sklearn.model_selection import GridSearchCV\n",
        "from sklearn import tree\n",
        "from sklearn.preprocessing import StandardScaler\n",
        "\n",
        "from forex_python.converter import CurrencyRates\n",
        "\n",
        "###RandomizedSearchCV\n",
        "\n",
        "from sklearn.neighbors import KNeighborsRegressor\n",
        "from sklearn.metrics import mean_absolute_error, mean_squared_error, r2_score, accuracy_score"
      ]
    },
    {
      "cell_type": "code",
      "execution_count": 6,
      "metadata": {
        "id": "rBMl1FyhVWcb"
      },
      "outputs": [],
      "source": [
        "def change_currency(val, curr_from, curr_to):\n",
        "  if curr_from != curr_to:\n",
        "    curr_from = curr_from.upper()\n",
        "    curr_to = curr_to.upper()\n",
        "    c = CurrencyRates()\n",
        "    return round(val/c.get_rate(curr_to, curr_from, datetime.datetime.now()))"
      ]
    },
    {
      "cell_type": "code",
      "execution_count": 7,
      "metadata": {
        "id": "K4-vEJIKBYFT"
      },
      "outputs": [],
      "source": [
        "def remove_mark(value):\n",
        "    marks = ['>', '<', '-', '+', '_', ' ', '  ', ',']\n",
        "    for mark in marks:\n",
        "        if pd.notna(value) and mark in value:\n",
        "            return value.replace(mark, '')\n",
        "    return value"
      ]
    },
    {
      "cell_type": "code",
      "execution_count": 8,
      "metadata": {
        "id": "K0yosZVjroXI"
      },
      "outputs": [],
      "source": [
        "def remove_blanc(value):\n",
        "    if value == '':\n",
        "        value = 0\n",
        "        return value"
      ]
    },
    {
      "cell_type": "code",
      "execution_count": 9,
      "metadata": {
        "id": "peCsuyUDHyQF"
      },
      "outputs": [],
      "source": [
        "def evaluate_regression_model(model, X_test, y_test):\n",
        "    \"\"\"\n",
        "    Evaluates the performance of a regression model and provides a summary.\n",
        "\n",
        "    Parameters:\n",
        "        model: A trained regression model from scikit-learn.\n",
        "        X_test: Test features.\n",
        "        y_test: Test labels.\n",
        "    \"\"\"\n",
        "    # Predictions on the test set\n",
        "    y_pred = model.predict(X_test)\n",
        "\n",
        "    # Calculate metrics\n",
        "    mae = mean_absolute_error(y_test, y_pred)\n",
        "    mse = mean_squared_error(y_test, y_pred)\n",
        "    rmse = mean_squared_error(y_test, y_pred, squared=False)  # RMSE\n",
        "    r2 = r2_score(y_test, y_pred)\n",
        "\n",
        "    # Display results\n",
        "    print(\"Regression Model Evaluation:\")\n",
        "    print(\"===========================\")\n",
        "    print(f\"Mean Absolute Error (MAE): {mae:.2f}\")\n",
        "    print(f\"Mean Squared Error (MSE): {mse:.2f}\")\n",
        "    print(f\"Root Mean Squared Error (RMSE): {rmse:.2f}\")\n",
        "    print(f\"R-squared (R2): {r2:.2f}\")"
      ]
    },
    {
      "cell_type": "code",
      "execution_count": 10,
      "metadata": {
        "id": "MPJLs00kXQXo"
      },
      "outputs": [],
      "source": [
        "def api_to_df(url):\n",
        "    response = requests.get(url)\n",
        "    content = response.json()\n",
        "    return pd.DataFrame.from_records(content)\n"
      ]
    },
    {
      "cell_type": "code",
      "execution_count": 11,
      "metadata": {
        "id": "RfHKL9f0YgTI"
      },
      "outputs": [],
      "source": [
        "def to_csv_date(df, filename):\n",
        "    current_date = pd.Timestamp(\"today\").strftime(\"%m%d%Y\")\n",
        "    df.to_csv(filename + '_' + current_date + '_.csv', index = False)\n"
      ]
    },
    {
      "cell_type": "code",
      "execution_count": 12,
      "metadata": {
        "id": "Iljb_FG1Yi93"
      },
      "outputs": [],
      "source": [
        "def remove_null_col(df):\n",
        "    return df.dropna(axis=1, how='all', inplace = False)"
      ]
    },
    {
      "cell_type": "code",
      "execution_count": 13,
      "metadata": {
        "id": "bV6HbV2_YlOA"
      },
      "outputs": [],
      "source": [
        "def flatten_list_col(df):\n",
        "    new_df = pd.DataFrame()\n",
        "    nested_columns_list = []\n",
        "    for i, col in enumerate(df.columns):\n",
        "        if any(isinstance(item, list) for item in df[col]):\n",
        "            nested_columns_list.append(col)\n",
        "            new_df= pd.concat([new_df, df[col].apply(pd.Series)], axis = 1)\n",
        "    new_columns = list(range(len(new_df.columns)))\n",
        "    new_df.columns = new_columns\n",
        "    return new_df"
      ]
    },
    {
      "cell_type": "code",
      "execution_count": 14,
      "metadata": {
        "id": "A7U2aPp8YoT4"
      },
      "outputs": [],
      "source": [
        "def flatten_dict_col(df):\n",
        "    new_df = pd.DataFrame()\n",
        "    nested_columns_list = []\n",
        "    for i, col in enumerate(df.columns):\n",
        "        if any(isinstance(item, dict) for item in df[col]):\n",
        "            nested_columns_list.append(col)\n",
        "            new_df= pd.concat([new_df, df[col].apply(pd.Series)], axis = 1)\n",
        "#     new_columns = list(range(len(new_df.columns)))\n",
        "#     new_df.columns = new_columns\n",
        "    new_df = remove_null_col(new_df)\n",
        "    return new_df"
      ]
    },
    {
      "cell_type": "code",
      "execution_count": 15,
      "metadata": {
        "id": "yPnvG6bBZ6lJ"
      },
      "outputs": [],
      "source": [
        "def unpack_nested_col(nested_col, key_name):\n",
        "    unpacked_col = {}\n",
        "    nested_col_unpacked = nested_col.apply(pd.Series)\n",
        "    for i, col in enumerate(nested_col_unpacked.columns):\n",
        "        unpacked_col[f'{key_name}_{i}'] = nested_col_unpacked[col].apply(pd.Series)\n",
        "        if 0 in unpacked_col[f'{key_name}_{i}'].columns:\n",
        "            if unpacked_col[f'{key_name}_{i}'][0].isna().all():\n",
        "                unpacked_col[f'{key_name}_{i}'].drop(columns = 0, inplace = True)\n",
        "    return unpacked_col"
      ]
    },
    {
      "cell_type": "code",
      "execution_count": 16,
      "metadata": {
        "id": "KWUFbgEaroXK"
      },
      "outputs": [],
      "source": [
        "def standardize_text(df, text_field):\n",
        "    df[text_field] = df[text_field].str.lower()\n",
        "    return df"
      ]
    },
    {
      "cell_type": "code",
      "execution_count": 17,
      "metadata": {
        "id": "D4hvcePmYs0v"
      },
      "outputs": [],
      "source": [
        "def replace_cols(recipient_df, col_replaced, donor_df, col_replacing):\n",
        "    recipient_df.drop(columns = col_replaced, inplace = True)\n",
        "    recipient_df = pd.concat([recipient_df, donor_df[col_replacing]])\n",
        "    return recipient_df"
      ]
    },
    {
      "cell_type": "markdown",
      "metadata": {
        "id": "uIL37bLnKsyr"
      },
      "source": [
        "## Reading initial data from API. In this step, we accept all offers from the API, but only receive general information. In order to complete the data, we also read each offer separately using its individual API."
      ]
    },
    {
      "cell_type": "markdown",
      "metadata": {
        "id": "9XRC0WCeYyH3"
      },
      "source": [
        "\n",
        "## Unpacking the data\n"
      ]
    },
    {
      "cell_type": "code",
      "execution_count": 18,
      "metadata": {
        "colab": {
          "base_uri": "https://localhost:8080/"
        },
        "id": "pBXzE6iAYvN_",
        "outputId": "0c4e7fe9-6918-4221-81fd-329c2e2f4d3d"
      },
      "outputs": [
        {
          "name": "stdout",
          "output_type": "stream",
          "text": [
            "<class 'pandas.core.frame.DataFrame'>\n",
            "RangeIndex: 12691 entries, 0 to 12690\n",
            "Data columns (total 24 columns):\n",
            " #   Column                   Non-Null Count  Dtype \n",
            "---  ------                   --------------  ----- \n",
            " 0   title                    12691 non-null  object\n",
            " 1   street                   12689 non-null  object\n",
            " 2   city                     12691 non-null  object\n",
            " 3   country_code             12685 non-null  object\n",
            " 4   address_text             12691 non-null  object\n",
            " 5   marker_icon              12691 non-null  object\n",
            " 6   workplace_type           12691 non-null  object\n",
            " 7   company_name             12691 non-null  object\n",
            " 8   company_url              12691 non-null  object\n",
            " 9   company_size             12691 non-null  object\n",
            " 10  experience_level         12691 non-null  object\n",
            " 11  latitude                 12691 non-null  object\n",
            " 12  longitude                12691 non-null  object\n",
            " 13  published_at             12691 non-null  object\n",
            " 14  remote_interview         12691 non-null  bool  \n",
            " 15  open_to_hire_ukrainians  12691 non-null  bool  \n",
            " 16  id                       12691 non-null  object\n",
            " 17  display_offer            12691 non-null  bool  \n",
            " 18  employment_types         12691 non-null  object\n",
            " 19  company_logo_url         12691 non-null  object\n",
            " 20  skills                   12691 non-null  object\n",
            " 21  remote                   12691 non-null  bool  \n",
            " 22  multilocation            12691 non-null  object\n",
            " 23  way_of_apply             12691 non-null  object\n",
            "dtypes: bool(4), object(20)\n",
            "memory usage: 2.0+ MB\n"
          ]
        }
      ],
      "source": [
        "df_init = api_to_df('https://justjoin.it/api/offers')\n",
        "\n",
        "df_init.info()"
      ]
    },
    {
      "cell_type": "markdown",
      "metadata": {
        "id": "ZcHsRCYJiD_y"
      },
      "source": [
        "## Select the subset of the data - only \"data\" marker icon"
      ]
    },
    {
      "cell_type": "code",
      "execution_count": 19,
      "metadata": {
        "id": "BDY21nfovSn1"
      },
      "outputs": [],
      "source": [
        "# Limit observations to those that have flag 'data'\n",
        "df_data = df_init[df_init['marker_icon'] == 'data']\n",
        "df_data.reset_index(drop=True, inplace = True)"
      ]
    },
    {
      "cell_type": "markdown",
      "metadata": {
        "id": "BSyhlRNOJ9Hq"
      },
      "source": [
        "## Reading detailed data for every separete offer from API"
      ]
    },
    {
      "cell_type": "code",
      "execution_count": 20,
      "metadata": {
        "id": "-cA9M3EQ6Rle"
      },
      "outputs": [],
      "source": [
        "json_data = []"
      ]
    },
    {
      "cell_type": "code",
      "execution_count": 21,
      "metadata": {
        "id": "IW7WIO2U7E15"
      },
      "outputs": [],
      "source": [
        "offers = list(df_data.id)"
      ]
    },
    {
      "cell_type": "code",
      "execution_count": 22,
      "metadata": {
        "colab": {
          "base_uri": "https://localhost:8080/"
        },
        "id": "Xcxmi4xjQOGu",
        "outputId": "f07ddf36-a3a6-4eef-b429-f50d9848cb43"
      },
      "outputs": [
        {
          "data": {
            "text/plain": [
              "1063"
            ]
          },
          "execution_count": 22,
          "metadata": {},
          "output_type": "execute_result"
        }
      ],
      "source": [
        "len(offers)"
      ]
    },
    {
      "cell_type": "code",
      "execution_count": 23,
      "metadata": {
        "colab": {
          "background_save": true
        },
        "id": "OopZge2j6WW9"
      },
      "outputs": [],
      "source": [
        "for offer in offers:\n",
        "  url = f'https://justjoin.it/api/offers/{offer}'\n",
        "  response = requests.get(url)\n",
        "  json_obj = response.json()\n",
        "#   initial_df = pd.json_normalize(json_obj)\n",
        "  json_data.append(json_obj)\n",
        "#   time.sleep(0.5)"
      ]
    },
    {
      "cell_type": "code",
      "execution_count": 24,
      "metadata": {
        "colab": {
          "background_save": true
        },
        "id": "OkkgjsuLRy-w"
      },
      "outputs": [],
      "source": [
        "df_data_offers = pd.DataFrame(json_data)\n",
        "to_csv_date(df_data_offers, 'df_data_offers')"
      ]
    },
    {
      "cell_type": "code",
      "execution_count": 25,
      "metadata": {
        "colab": {
          "background_save": true
        },
        "id": "d7a7ItlZVcjs"
      },
      "outputs": [
        {
          "name": "stdout",
          "output_type": "stream",
          "text": [
            "<class 'pandas.core.frame.DataFrame'>\n",
            "RangeIndex: 1063 entries, 0 to 1062\n",
            "Data columns (total 35 columns):\n",
            " #   Column                   Non-Null Count  Dtype \n",
            "---  ------                   --------------  ----- \n",
            " 0   apply_body               0 non-null      object\n",
            " 1   title                    1063 non-null   object\n",
            " 2   street                   1063 non-null   object\n",
            " 3   city                     1063 non-null   object\n",
            " 4   country_code             1062 non-null   object\n",
            " 5   address_text             1063 non-null   object\n",
            " 6   marker_icon              1063 non-null   object\n",
            " 7   workplace_type           1063 non-null   object\n",
            " 8   company_name             1063 non-null   object\n",
            " 9   company_url              1063 non-null   object\n",
            " 10  company_size             1063 non-null   object\n",
            " 11  experience_level         1063 non-null   object\n",
            " 12  latitude                 1063 non-null   object\n",
            " 13  longitude                1063 non-null   object\n",
            " 14  apply_url                704 non-null    object\n",
            " 15  published_at             1063 non-null   object\n",
            " 16  remote_interview         1063 non-null   bool  \n",
            " 17  video_key                1 non-null      object\n",
            " 18  video_provider           1 non-null      object\n",
            " 19  open_to_hire_ukrainians  1063 non-null   bool  \n",
            " 20  future_consent_title     904 non-null    object\n",
            " 21  future_consent           904 non-null    object\n",
            " 22  information_clause       1063 non-null   object\n",
            " 23  custom_consent_title     122 non-null    object\n",
            " 24  custom_consent           122 non-null    object\n",
            " 25  id                       1063 non-null   object\n",
            " 26  tags                     1063 non-null   object\n",
            " 27  body                     1063 non-null   object\n",
            " 28  company_logo_url         1063 non-null   object\n",
            " 29  banner_url               12 non-null     object\n",
            " 30  skills                   1063 non-null   object\n",
            " 31  remote                   1063 non-null   bool  \n",
            " 32  employment_types         1063 non-null   object\n",
            " 33  multilocation            1063 non-null   object\n",
            " 34  company_profile          411 non-null    object\n",
            "dtypes: bool(3), object(32)\n",
            "memory usage: 269.0+ KB\n"
          ]
        }
      ],
      "source": [
        "df_data_offers.info(10)"
      ]
    },
    {
      "cell_type": "markdown",
      "metadata": {
        "id": "OG1bQrvEroXN"
      },
      "source": [
        "### Dealing with skills"
      ]
    },
    {
      "cell_type": "code",
      "execution_count": 26,
      "metadata": {
        "colab": {
          "background_save": true
        },
        "id": "oJrq48jBroXN"
      },
      "outputs": [
        {
          "name": "stdout",
          "output_type": "stream",
          "text": [
            "[{'name': 'Azure', 'level': 5}, {'name': 'SQL', 'level': 5}, {'name': 'Java', 'level': 4}, {'name': 'SAP', 'level': 1}]\n"
          ]
        }
      ],
      "source": [
        "print(df_data_offers['skills'][0])"
      ]
    },
    {
      "cell_type": "code",
      "execution_count": 27,
      "metadata": {
        "colab": {
          "background_save": true
        },
        "id": "mb3I-XKIfMlD"
      },
      "outputs": [],
      "source": [
        "# Putting all skills into one column\n",
        "\n",
        "old_data = df_data_offers.to_dict(orient='records')\n",
        "new_data = []\n",
        "\n",
        "for index, skills_list in enumerate(df_data_offers['skills']):\n",
        "    for skill in skills_list:\n",
        "        new_row = old_data[index].copy()\n",
        "        new_row['skill_name'] = skill['name']\n",
        "        new_row['skill_level'] = skill['level']\n",
        "        new_data.append(new_row)"
      ]
    },
    {
      "cell_type": "code",
      "execution_count": 28,
      "metadata": {
        "colab": {
          "background_save": true
        },
        "id": "vnQze3bCfRDy"
      },
      "outputs": [],
      "source": [
        "new_df = pd.DataFrame(new_data)"
      ]
    },
    {
      "cell_type": "code",
      "execution_count": 29,
      "metadata": {
        "colab": {
          "background_save": true
        },
        "id": "yYB1u2oeroXO"
      },
      "outputs": [
        {
          "data": {
            "text/html": [
              "<div>\n",
              "<style scoped>\n",
              "    .dataframe tbody tr th:only-of-type {\n",
              "        vertical-align: middle;\n",
              "    }\n",
              "\n",
              "    .dataframe tbody tr th {\n",
              "        vertical-align: top;\n",
              "    }\n",
              "\n",
              "    .dataframe thead th {\n",
              "        text-align: right;\n",
              "    }\n",
              "</style>\n",
              "<table border=\"1\" class=\"dataframe\">\n",
              "  <thead>\n",
              "    <tr style=\"text-align: right;\">\n",
              "      <th></th>\n",
              "      <th>apply_body</th>\n",
              "      <th>title</th>\n",
              "      <th>street</th>\n",
              "      <th>city</th>\n",
              "      <th>country_code</th>\n",
              "      <th>address_text</th>\n",
              "      <th>marker_icon</th>\n",
              "      <th>workplace_type</th>\n",
              "      <th>company_name</th>\n",
              "      <th>company_url</th>\n",
              "      <th>...</th>\n",
              "      <th>body</th>\n",
              "      <th>company_logo_url</th>\n",
              "      <th>banner_url</th>\n",
              "      <th>skills</th>\n",
              "      <th>remote</th>\n",
              "      <th>employment_types</th>\n",
              "      <th>multilocation</th>\n",
              "      <th>company_profile</th>\n",
              "      <th>skill_name</th>\n",
              "      <th>skill_level</th>\n",
              "    </tr>\n",
              "  </thead>\n",
              "  <tbody>\n",
              "    <tr>\n",
              "      <th>5119</th>\n",
              "      <td>None</td>\n",
              "      <td>BI Developer - SQL/Power BI</td>\n",
              "      <td>Centrum</td>\n",
              "      <td>Białystok</td>\n",
              "      <td>PL</td>\n",
              "      <td>Centrum, Białystok</td>\n",
              "      <td>data</td>\n",
              "      <td>remote</td>\n",
              "      <td>QBICO Sp. z o.o.</td>\n",
              "      <td>https://qbico.pl/</td>\n",
              "      <td>...</td>\n",
              "      <td>&lt;div&gt;&lt;strong&gt;Kim jesteśmy?&lt;/strong&gt;&lt;/div&gt;&lt;div&gt;...</td>\n",
              "      <td>https://bucket.justjoin.it/offers/company_logo...</td>\n",
              "      <td>None</td>\n",
              "      <td>[{'name': 'T-SQL', 'level': 3}, {'name': 'Powe...</td>\n",
              "      <td>True</td>\n",
              "      <td>[{'type': 'b2b', 'salary': {'from': 10000, 'to...</td>\n",
              "      <td>[{'slug': 'qbico-sp-z-o-o-bi-developer-sql-pow...</td>\n",
              "      <td>NaN</td>\n",
              "      <td>T-SQL</td>\n",
              "      <td>3</td>\n",
              "    </tr>\n",
              "  </tbody>\n",
              "</table>\n",
              "<p>1 rows × 37 columns</p>\n",
              "</div>"
            ],
            "text/plain": [
              "     apply_body                        title   street       city country_code  \\\n",
              "5119       None  BI Developer - SQL/Power BI  Centrum  Białystok           PL   \n",
              "\n",
              "            address_text marker_icon workplace_type      company_name  \\\n",
              "5119  Centrum, Białystok        data         remote  QBICO Sp. z o.o.   \n",
              "\n",
              "            company_url  ...  \\\n",
              "5119  https://qbico.pl/  ...   \n",
              "\n",
              "                                                   body  \\\n",
              "5119  <div><strong>Kim jesteśmy?</strong></div><div>...   \n",
              "\n",
              "                                       company_logo_url banner_url  \\\n",
              "5119  https://bucket.justjoin.it/offers/company_logo...       None   \n",
              "\n",
              "                                                 skills remote  \\\n",
              "5119  [{'name': 'T-SQL', 'level': 3}, {'name': 'Powe...   True   \n",
              "\n",
              "                                       employment_types  \\\n",
              "5119  [{'type': 'b2b', 'salary': {'from': 10000, 'to...   \n",
              "\n",
              "                                          multilocation company_profile  \\\n",
              "5119  [{'slug': 'qbico-sp-z-o-o-bi-developer-sql-pow...             NaN   \n",
              "\n",
              "     skill_name  skill_level  \n",
              "5119      T-SQL            3  \n",
              "\n",
              "[1 rows x 37 columns]"
            ]
          },
          "execution_count": 29,
          "metadata": {},
          "output_type": "execute_result"
        }
      ],
      "source": [
        "new_df.sample()"
      ]
    },
    {
      "cell_type": "code",
      "execution_count": 30,
      "metadata": {
        "colab": {
          "background_save": true
        },
        "id": "KvGJSECgfZN6"
      },
      "outputs": [
        {
          "data": {
            "text/plain": [
              "array(['Azure', 'SQL', 'Java', 'SAP', 'Data Pipelines', 'Data modeling',\n",
              "       'Data Engineering', 'Data Warehousing', 'Snowflake', 'Looker',\n",
              "       'Kafka', 'Airflow', 'Power BI', 'Python', 'Data cloud',\n",
              "       'Data engineer', 'AWS', 'Google Cloud Platform', 'Spark', 'MS SQL',\n",
              "       'T-SQL', 'MVC', 'SSIS', 'SSRS', 'Data', 'Big Data', 'Torchscript',\n",
              "       'ONNX', 'Docker', 'Business Analysis',\n",
              "       'Private Capital fund industry', 'Project Management', 'eFront',\n",
              "       'Multifond', 'Arc Regulatory', 'Fund ID', 'Arep', 'SQL Profiler',\n",
              "       'WebService', 'Oracle BI', 'PL/SQL', 'Powershell', 'VBScript',\n",
              "       'Graph API', 'MS', 'AD', 'MECM', 'MS/Postgre SQL',\n",
              "       'Technologie Voice i eCom', 'Confluent Kafka', 'Hadoop', 'Linux',\n",
              "       'Ansible', 'JupyterHub', 'PostgreSQL', 'MapR',\n",
              "       'HPE Ezmeral Data Fabric', 'OpenShift', 'data analyst', 'MS Excel',\n",
              "       'Niemiecki', 'GCP', 'Kubernetes', 'REST API', 'MS Office',\n",
              "       'PowerBi', 'analiza', 'PHP', 'MySQL', 'Symfony', 'NoSQL',\n",
              "       'Terraform', 'Data Management', 'Kafk', 'API', 'Oracle',\n",
              "       'Oracle Forms', 'Databricks', 'TimeXtender', 'MS Data', 'Polish',\n",
              "       'English', 'Cloud', 'ETL', 'ELT', 'Azure Services',\n",
              "       'Microsoft Azure Cloud', 'Azure Data Factory',\n",
              "       'Relational Databases', 'Azure Synapse', 'Azure SQL DW',\n",
              "       'Data Factory', 'Delta Lake', 'Synapse', 'Team Leadership',\n",
              "       'EDW architectural frameworks', 'Data architecture', 'ETL tools',\n",
              "       'scikit-learn', 'TensorFlow', 'VS Code', 'Databases', 'SQL Server',\n",
              "       'German', 'MariaDB', 'Eloquence', 'DevOps', 'AIX',\n",
              "       'Machine Learning', 'Azure Synapse Analytics / Azure Data Factory',\n",
              "       'SQL / T-SQL / Spark-SQL', 'Azure Stream Analytics',\n",
              "       'Power BI Dax Query Language', 'Azure Functions',\n",
              "       'Kubernetes/Openshift', 'Data Platform', 'Analytical skills',\n",
              "       'Communication Skills', 'Problem Solving', 'Quality Assurance',\n",
              "       'Trading Systems', 'Scala', 'Containers', 'BI', 'Oracle DB',\n",
              "       'master data', 'Data Science', 'SAS', 'Golang', 'Azure Databricks',\n",
              "       'Tableau', 'Ceph', 'Big Query', 'Google Analytics',\n",
              "       'MS SQL Server', 'MS SQL Server on SAN’s',\n",
              "       'SolarWinds Database Performance Analyzer', 'MongoDB', 'Cassandra',\n",
              "       'NumPy', 'Pandas', 'Apache Airflow', 'Bash', 'Jupyter Notebook',\n",
              "       'SAP BODS', 'MS Azure', 'qad', 'AX09', 'JavaScript',\n",
              "       'Amazon Web Services', 'Dataflow', 'Qlik Replicate', 'Glue',\n",
              "       'Lambda', 'DMS', 'DWH', 'MSSIS', 'Data Vault', 'Ab Initio', 'JSON',\n",
              "       'Data analysis', 'SAP S4/Hana', 'SAP BW', 'R',\n",
              "       'Business Intelligence', 'Linux / Unix', 'SOAP/REST API',\n",
              "       'Confluence', 'JIRA', 'Google BigQuery', 'fiddler',\n",
              "       'Microsoft Power BI', 'DAX', 'Azure Analysis Services',\n",
              "       'Synapse Analytics', 'Deep Learning', 'AI', '4gl', 'VBA',\n",
              "       'Python/R', 'PySpark', 'R Shiny', 'Metabase', 'ERP', 'finance',\n",
              "       'Analytics', 'IT', 'SASE', 'LAN/WAN', 'Unix',\n",
              "       'SAP BusinessObjects', 'Agile', 'MSR', 'powerPoint', 'Matlab',\n",
              "       'Statistics', 'Bloomberg', 'solvency II', 'BEL', 'SCR', 'SAS EG',\n",
              "       'PYTHON / VBA / R', 'matematyka finansowa',\n",
              "       'Modelowanie matematyczne', 'Zarządzanie ryzykiem',\n",
              "       'Bloomberg / Reuters', 'MS Excel i VBA', 'Management', 'REST',\n",
              "       'data mart', 'Pricing Models', 'Derivatives',\n",
              "       'Financial Instrumetns', 'Flask', 'Cryptocurrencies',\n",
              "       'Analiza Biznesowa', 'UML', 'BPMN', 'SOA', 'Microsoft SQL',\n",
              "       'inżynieria przemysłowa', 'Business management', 'Power Query',\n",
              "       'OLAP', 'Apache Kafka', 'Apache Spark', 'Apache Flink',\n",
              "       'Amazon AWS', 'C#', '.NET Core', 'Microservices', '.NET 6',\n",
              "       '.Net 5', 'HTML', 'CSS', 'WebCon BPS', 'Oracle EBS',\n",
              "       'Fusion Cloud', 'oracle financials', 'Oracle SCM', 'OCI',\n",
              "       'Hyperion', 'Data procesing', 'Spring Boot', 'SAP MDM',\n",
              "       'Salesforce', 'Oracle DBA', 'Oracle RDBMS', 'ITIL',\n",
              "       'Analytical Thinking', 'Oracle SQL', 'Azure DevOps', 'Angielski',\n",
              "       'Dane', 'SAP HR', 'Git', 'Bots', 'SAS CI Studio', 'HTML5 / CSS3',\n",
              "       'GTM', 'Optimizely', 'GitLab', 'SSAS/AAS', 'M', 'Data Lake',\n",
              "       'PostreSQL', 'ETL/ELT', 'Audyt IT', 'Analiza Danych', 'Testing',\n",
              "       'VMware', 'Hyper-V', 'banking', 'hBase', 'Design Patterns',\n",
              "       'Scrum', 'Hive', 'Java/Scala', 'Oracle APEX', 'Leadership',\n",
              "       'GB/GF', 'BigQuery', 'ML', 'Alteryxa', 'Cortex XSOAR',\n",
              "       'data processing', 'SIEM', 'IT Security', 'IFS Cloud', 'Matillion',\n",
              "       'C++', 'Google Cloud', 'GitHub', 'AWS (Strong)',\n",
              "       'Java\\\\Python (Strong)', 'SQL\\\\NoSQL DB', 'Map/Reduce', 'CI/CD',\n",
              "       'Amplitude', 'SEMrush', 'AWS Glue', 'Azure SQL',\n",
              "       'Azure Synapse Analytics', 'Azure Data Storage',\n",
              "       'Microsoft Purview', 'Azure Cosmos DB',\n",
              "       'Azure Applied AI Services', 'Azure Cognitive Services',\n",
              "       'Microsoft Azure', 'Cloud SQL', 'Networking',\n",
              "       'Identity Management', 'virtualisation', 'secutity', 'ServiceNow',\n",
              "       'AngularJS', 'HTML/CSS', 'ITSM/CMDB/SELF-SERVICE corporate tools',\n",
              "       'NLP', 'LLMs', 'LLM', 'SAP MM', 'Node.js', 'Ruby on Rails',\n",
              "       'Data Analystics', 'Google Tag Manager', 'Azure Data Lake',\n",
              "       'Spark / pySpark / Python', 'Azure Event hub', 'Git/SVN',\n",
              "       'Data Streaming and Kafka', 'data governance', 'Colibra',\n",
              "       'AbInitio', 'Ataccama',\n",
              "       'narzędzia do wizualizacji i analizy danych', 'Looker Studio',\n",
              "       'Data Strategy', 'Data Architecure', 'ESG', 'IBM DataStage',\n",
              "       'Windows Administration', 'Security', 'IT Support',\n",
              "       'Relacyjne Bazy Danych', 'Scada', 'MES', 'Microsoft',\n",
              "       'ETL process', 'DATA MODELLING', 'Data Bricks', 'Data Warehouse',\n",
              "       'Python/PySpark', 'Azure Data factory.', 'Mac OS', 'Oracle PL/SQL',\n",
              "       'Star/Snowflake', 'DBT', 'Fivetran', 'AWS / Azure', 'COMARCH',\n",
              "       'MsSQL', '.NET C#', 'Apache', 'Apex', 'Visualforce', 'LWC', '.Net',\n",
              "       'ALM Quality Center', 'Octane', '4D technology', 'Autosys',\n",
              "       'unix shell', 'IRP', 'Crystal Reports', 'Hadoop-Based Analytics',\n",
              "       'SAP RAR', 'FICA', 'RAR', 'Qlik', 'Data quality management',\n",
              "       'data standards', 'IS Service Delivery', 'Network Service Owner',\n",
              "       'Global WAN', 'LAN technologies', 'OOP', 'GCP/AWS/AZURE',\n",
              "       'Databricks/Dataiku/Alteryx', 'DevOps Components', 'Big Table',\n",
              "       'Go', 'Amazon Redshift', 'Kanban', 'Risk Management', 'SSAS',\n",
              "       'Data Analysis/Data Science',\n",
              "       'Artificial Intelligence/Machine learning', 'Python 3.x', 'MLOps',\n",
              "       'Pipeline Pilot', 'alteryx', 'ETL applications', 'IDE', 'wiki',\n",
              "       'sad', 'Unit Testing', 'VSS', 'DBMS', 'DWH IBM',\n",
              "       'Microsoft SQL Server', 'Data Warehouses', 'UML/BPMN',\n",
              "       'IBM Data Stage', 'NIFI', 'Qlik Sense', 'NPrinting', 'Qlik View',\n",
              "       'ALM', 'shiny', 'Julia', 'Kedro', 'MLflow', 'QlikSense', 'RPA',\n",
              "       'Palantir Foundry', 'Consulting', 'data analytics',\n",
              "       'Cloud Platforms', 'PyTorch', 'Windows Server', 'Jenkins',\n",
              "       'Kibana', 'Computer science', 'Graph Analytics', 'Neo4j',\n",
              "       'TigerGraph', 'Palantir', 'Quantexa', 'Elasticsearch',\n",
              "       'Data Integration', 'Mass data', 'MapR Cluster', 'Power Platform',\n",
              "       'SharePoint', 'Web Development', 'C#/JS/Python', 'Solid',\n",
              "       'Bitbucket', 'GBQ', 'People Management', 'Windows',\n",
              "       'integracja systemów',\n",
              "       'REST API / JSON / XML / UML / Postman / Swagger / WSDL', 'Perl',\n",
              "       'Lamp / Linux', 'dataLayer', 'MS Power BI', 'Groovy',\n",
              "       'Informatica', 'ScyllaDB', 'protocols', 'Degree', 'Prometheus',\n",
              "       'DNS', 'Statistic', 'Komunikatywność', 'Testy A/B',\n",
              "       'change manager', 'SAP - wdrożenia', 'projekty IT - wdrożenia',\n",
              "       'SharePont Jira Confluence', 'Analityczne Myślenie',\n",
              "       'współpraca z biznesem', 'Zarządzanie zmianą', 'certyfikaty',\n",
              "       'referencje', 'SAS Viya', 'Google Sheets', 'Excel', 'Delta-Lake',\n",
              "       'MS Power Platform', 'Grafana', 'doradztwo', 'WPF', 'MS tools',\n",
              "       'Jira/Confluence', 'Controlling', 'reklama online', 'TSQL', 'DSP',\n",
              "       'DV360', 'Adform', 'Category Management', 'VB6', 'Appsheets',\n",
              "       'GMP', 'Search Ads', 'programmatic', 'DMC', 'Youtube Analytics',\n",
              "       'Adobe Analytics', 'CRM', 'Technical Support', 'Help Desk',\n",
              "       'aplikacje biznesowe', 'wsparcie telefoniczne', 'TIA', 'GraphQL',\n",
              "       'Presto/Trino', 'Apache Spark/PySpark', 'Firebase', 'KPI',\n",
              "       'marketing automation', 'Google Loker Studio', 'PIM', 'CMS',\n",
              "       'E-commerce', 'Data Center', 'G1', 'Processing data'], dtype=object)"
            ]
          },
          "execution_count": 30,
          "metadata": {},
          "output_type": "execute_result"
        }
      ],
      "source": [
        "new_df.skill_name.unique()"
      ]
    },
    {
      "cell_type": "code",
      "execution_count": 31,
      "metadata": {
        "colab": {
          "background_save": true
        },
        "id": "WYBz4_MNfe0g"
      },
      "outputs": [
        {
          "data": {
            "text/plain": [
              "521"
            ]
          },
          "execution_count": 31,
          "metadata": {},
          "output_type": "execute_result"
        }
      ],
      "source": [
        "new_df.skill_name.nunique()"
      ]
    },
    {
      "cell_type": "code",
      "execution_count": 32,
      "metadata": {
        "colab": {
          "background_save": true
        },
        "id": "O6jg-xX2gR1X"
      },
      "outputs": [],
      "source": [
        "# Po co to?\n",
        "\n",
        "clean_df = new_df.copy()\n",
        "clean_df = standardize_text(clean_df, \"title\")\n",
        "clean_df = standardize_text(clean_df, \"skill_name\")"
      ]
    },
    {
      "cell_type": "code",
      "execution_count": 33,
      "metadata": {
        "colab": {
          "background_save": true
        },
        "id": "ojvkVUjQroXO"
      },
      "outputs": [
        {
          "data": {
            "text/html": [
              "<div>\n",
              "<style scoped>\n",
              "    .dataframe tbody tr th:only-of-type {\n",
              "        vertical-align: middle;\n",
              "    }\n",
              "\n",
              "    .dataframe tbody tr th {\n",
              "        vertical-align: top;\n",
              "    }\n",
              "\n",
              "    .dataframe thead th {\n",
              "        text-align: right;\n",
              "    }\n",
              "</style>\n",
              "<table border=\"1\" class=\"dataframe\">\n",
              "  <thead>\n",
              "    <tr style=\"text-align: right;\">\n",
              "      <th></th>\n",
              "      <th>apply_body</th>\n",
              "      <th>title</th>\n",
              "      <th>street</th>\n",
              "      <th>city</th>\n",
              "      <th>country_code</th>\n",
              "      <th>address_text</th>\n",
              "      <th>marker_icon</th>\n",
              "      <th>workplace_type</th>\n",
              "      <th>company_name</th>\n",
              "      <th>company_url</th>\n",
              "      <th>...</th>\n",
              "      <th>body</th>\n",
              "      <th>company_logo_url</th>\n",
              "      <th>banner_url</th>\n",
              "      <th>skills</th>\n",
              "      <th>remote</th>\n",
              "      <th>employment_types</th>\n",
              "      <th>multilocation</th>\n",
              "      <th>company_profile</th>\n",
              "      <th>skill_name</th>\n",
              "      <th>skill_level</th>\n",
              "    </tr>\n",
              "  </thead>\n",
              "  <tbody>\n",
              "    <tr>\n",
              "      <th>0</th>\n",
              "      <td>None</td>\n",
              "      <td>implementation engineer</td>\n",
              "      <td>Zabłocie 43A, 30-701</td>\n",
              "      <td>Kraków</td>\n",
              "      <td>PL</td>\n",
              "      <td>Zabłocie 43A, 30-701, Kraków</td>\n",
              "      <td>data</td>\n",
              "      <td>remote</td>\n",
              "      <td>N-iX</td>\n",
              "      <td>https://careers.n-ix.com/</td>\n",
              "      <td>...</td>\n",
              "      <td>&lt;div&gt;We are looking for Implementation Enginee...</td>\n",
              "      <td>https://bucket.justjoin.it/offers/company_logo...</td>\n",
              "      <td>None</td>\n",
              "      <td>[{'name': 'Azure', 'level': 5}, {'name': 'SQL'...</td>\n",
              "      <td>True</td>\n",
              "      <td>[{'type': 'b2b', 'salary': {'from': 5500, 'to'...</td>\n",
              "      <td>[{'slug': 'n-ix-implementation-engineer', 'cit...</td>\n",
              "      <td>{'url': '/brands/story/n-ix', 'short_descripti...</td>\n",
              "      <td>azure</td>\n",
              "      <td>5</td>\n",
              "    </tr>\n",
              "    <tr>\n",
              "      <th>1</th>\n",
              "      <td>None</td>\n",
              "      <td>implementation engineer</td>\n",
              "      <td>Zabłocie 43A, 30-701</td>\n",
              "      <td>Kraków</td>\n",
              "      <td>PL</td>\n",
              "      <td>Zabłocie 43A, 30-701, Kraków</td>\n",
              "      <td>data</td>\n",
              "      <td>remote</td>\n",
              "      <td>N-iX</td>\n",
              "      <td>https://careers.n-ix.com/</td>\n",
              "      <td>...</td>\n",
              "      <td>&lt;div&gt;We are looking for Implementation Enginee...</td>\n",
              "      <td>https://bucket.justjoin.it/offers/company_logo...</td>\n",
              "      <td>None</td>\n",
              "      <td>[{'name': 'Azure', 'level': 5}, {'name': 'SQL'...</td>\n",
              "      <td>True</td>\n",
              "      <td>[{'type': 'b2b', 'salary': {'from': 5500, 'to'...</td>\n",
              "      <td>[{'slug': 'n-ix-implementation-engineer', 'cit...</td>\n",
              "      <td>{'url': '/brands/story/n-ix', 'short_descripti...</td>\n",
              "      <td>sql</td>\n",
              "      <td>5</td>\n",
              "    </tr>\n",
              "    <tr>\n",
              "      <th>2</th>\n",
              "      <td>None</td>\n",
              "      <td>implementation engineer</td>\n",
              "      <td>Zabłocie 43A, 30-701</td>\n",
              "      <td>Kraków</td>\n",
              "      <td>PL</td>\n",
              "      <td>Zabłocie 43A, 30-701, Kraków</td>\n",
              "      <td>data</td>\n",
              "      <td>remote</td>\n",
              "      <td>N-iX</td>\n",
              "      <td>https://careers.n-ix.com/</td>\n",
              "      <td>...</td>\n",
              "      <td>&lt;div&gt;We are looking for Implementation Enginee...</td>\n",
              "      <td>https://bucket.justjoin.it/offers/company_logo...</td>\n",
              "      <td>None</td>\n",
              "      <td>[{'name': 'Azure', 'level': 5}, {'name': 'SQL'...</td>\n",
              "      <td>True</td>\n",
              "      <td>[{'type': 'b2b', 'salary': {'from': 5500, 'to'...</td>\n",
              "      <td>[{'slug': 'n-ix-implementation-engineer', 'cit...</td>\n",
              "      <td>{'url': '/brands/story/n-ix', 'short_descripti...</td>\n",
              "      <td>java</td>\n",
              "      <td>4</td>\n",
              "    </tr>\n",
              "    <tr>\n",
              "      <th>3</th>\n",
              "      <td>None</td>\n",
              "      <td>implementation engineer</td>\n",
              "      <td>Zabłocie 43A, 30-701</td>\n",
              "      <td>Kraków</td>\n",
              "      <td>PL</td>\n",
              "      <td>Zabłocie 43A, 30-701, Kraków</td>\n",
              "      <td>data</td>\n",
              "      <td>remote</td>\n",
              "      <td>N-iX</td>\n",
              "      <td>https://careers.n-ix.com/</td>\n",
              "      <td>...</td>\n",
              "      <td>&lt;div&gt;We are looking for Implementation Enginee...</td>\n",
              "      <td>https://bucket.justjoin.it/offers/company_logo...</td>\n",
              "      <td>None</td>\n",
              "      <td>[{'name': 'Azure', 'level': 5}, {'name': 'SQL'...</td>\n",
              "      <td>True</td>\n",
              "      <td>[{'type': 'b2b', 'salary': {'from': 5500, 'to'...</td>\n",
              "      <td>[{'slug': 'n-ix-implementation-engineer', 'cit...</td>\n",
              "      <td>{'url': '/brands/story/n-ix', 'short_descripti...</td>\n",
              "      <td>sap</td>\n",
              "      <td>1</td>\n",
              "    </tr>\n",
              "    <tr>\n",
              "      <th>4</th>\n",
              "      <td>None</td>\n",
              "      <td>data warehouse architect</td>\n",
              "      <td>Lubostroń, 1</td>\n",
              "      <td>Kraków</td>\n",
              "      <td>PL</td>\n",
              "      <td>Lubostroń, 1, Kraków</td>\n",
              "      <td>data</td>\n",
              "      <td>remote</td>\n",
              "      <td>Kitopi - SATISFYING THE WORLD’S APPETITE</td>\n",
              "      <td>https://kitopi.com</td>\n",
              "      <td>...</td>\n",
              "      <td>&lt;div&gt;\\n&lt;a href=\"https://www.kitopi.com/\" targe...</td>\n",
              "      <td>https://bucket.justjoin.it/offers/company_logo...</td>\n",
              "      <td>None</td>\n",
              "      <td>[{'name': 'Data Pipelines', 'level': 5}, {'nam...</td>\n",
              "      <td>True</td>\n",
              "      <td>[{'type': 'b2b', 'salary': {'from': 32000, 'to...</td>\n",
              "      <td>[{'slug': 'kitopi-satisfying-the-world-s-appet...</td>\n",
              "      <td>{'url': '/brands/story/kitopi', 'short_descrip...</td>\n",
              "      <td>data pipelines</td>\n",
              "      <td>5</td>\n",
              "    </tr>\n",
              "  </tbody>\n",
              "</table>\n",
              "<p>5 rows × 37 columns</p>\n",
              "</div>"
            ],
            "text/plain": [
              "  apply_body                     title                street    city  \\\n",
              "0       None   implementation engineer  Zabłocie 43A, 30-701  Kraków   \n",
              "1       None   implementation engineer  Zabłocie 43A, 30-701  Kraków   \n",
              "2       None   implementation engineer  Zabłocie 43A, 30-701  Kraków   \n",
              "3       None   implementation engineer  Zabłocie 43A, 30-701  Kraków   \n",
              "4       None  data warehouse architect          Lubostroń, 1  Kraków   \n",
              "\n",
              "  country_code                  address_text marker_icon workplace_type  \\\n",
              "0           PL  Zabłocie 43A, 30-701, Kraków        data         remote   \n",
              "1           PL  Zabłocie 43A, 30-701, Kraków        data         remote   \n",
              "2           PL  Zabłocie 43A, 30-701, Kraków        data         remote   \n",
              "3           PL  Zabłocie 43A, 30-701, Kraków        data         remote   \n",
              "4           PL          Lubostroń, 1, Kraków        data         remote   \n",
              "\n",
              "                               company_name                company_url  ...  \\\n",
              "0                                      N-iX  https://careers.n-ix.com/  ...   \n",
              "1                                      N-iX  https://careers.n-ix.com/  ...   \n",
              "2                                      N-iX  https://careers.n-ix.com/  ...   \n",
              "3                                      N-iX  https://careers.n-ix.com/  ...   \n",
              "4  Kitopi - SATISFYING THE WORLD’S APPETITE         https://kitopi.com  ...   \n",
              "\n",
              "                                                body  \\\n",
              "0  <div>We are looking for Implementation Enginee...   \n",
              "1  <div>We are looking for Implementation Enginee...   \n",
              "2  <div>We are looking for Implementation Enginee...   \n",
              "3  <div>We are looking for Implementation Enginee...   \n",
              "4  <div>\\n<a href=\"https://www.kitopi.com/\" targe...   \n",
              "\n",
              "                                    company_logo_url banner_url  \\\n",
              "0  https://bucket.justjoin.it/offers/company_logo...       None   \n",
              "1  https://bucket.justjoin.it/offers/company_logo...       None   \n",
              "2  https://bucket.justjoin.it/offers/company_logo...       None   \n",
              "3  https://bucket.justjoin.it/offers/company_logo...       None   \n",
              "4  https://bucket.justjoin.it/offers/company_logo...       None   \n",
              "\n",
              "                                              skills remote  \\\n",
              "0  [{'name': 'Azure', 'level': 5}, {'name': 'SQL'...   True   \n",
              "1  [{'name': 'Azure', 'level': 5}, {'name': 'SQL'...   True   \n",
              "2  [{'name': 'Azure', 'level': 5}, {'name': 'SQL'...   True   \n",
              "3  [{'name': 'Azure', 'level': 5}, {'name': 'SQL'...   True   \n",
              "4  [{'name': 'Data Pipelines', 'level': 5}, {'nam...   True   \n",
              "\n",
              "                                    employment_types  \\\n",
              "0  [{'type': 'b2b', 'salary': {'from': 5500, 'to'...   \n",
              "1  [{'type': 'b2b', 'salary': {'from': 5500, 'to'...   \n",
              "2  [{'type': 'b2b', 'salary': {'from': 5500, 'to'...   \n",
              "3  [{'type': 'b2b', 'salary': {'from': 5500, 'to'...   \n",
              "4  [{'type': 'b2b', 'salary': {'from': 32000, 'to...   \n",
              "\n",
              "                                       multilocation  \\\n",
              "0  [{'slug': 'n-ix-implementation-engineer', 'cit...   \n",
              "1  [{'slug': 'n-ix-implementation-engineer', 'cit...   \n",
              "2  [{'slug': 'n-ix-implementation-engineer', 'cit...   \n",
              "3  [{'slug': 'n-ix-implementation-engineer', 'cit...   \n",
              "4  [{'slug': 'kitopi-satisfying-the-world-s-appet...   \n",
              "\n",
              "                                     company_profile      skill_name  \\\n",
              "0  {'url': '/brands/story/n-ix', 'short_descripti...           azure   \n",
              "1  {'url': '/brands/story/n-ix', 'short_descripti...             sql   \n",
              "2  {'url': '/brands/story/n-ix', 'short_descripti...            java   \n",
              "3  {'url': '/brands/story/n-ix', 'short_descripti...             sap   \n",
              "4  {'url': '/brands/story/kitopi', 'short_descrip...  data pipelines   \n",
              "\n",
              "   skill_level  \n",
              "0            5  \n",
              "1            5  \n",
              "2            4  \n",
              "3            1  \n",
              "4            5  \n",
              "\n",
              "[5 rows x 37 columns]"
            ]
          },
          "execution_count": 33,
          "metadata": {},
          "output_type": "execute_result"
        }
      ],
      "source": [
        "clean_df.head(5)"
      ]
    },
    {
      "cell_type": "code",
      "execution_count": 34,
      "metadata": {
        "colab": {
          "background_save": true
        },
        "id": "XCVG8Uwzfhlm"
      },
      "outputs": [],
      "source": [
        "top_values = clean_df['skill_name'].value_counts().head(20)\n",
        "top_20_skills = list(top_values.index)"
      ]
    },
    {
      "cell_type": "code",
      "execution_count": 35,
      "metadata": {
        "colab": {
          "background_save": true
        },
        "id": "EAjoCKmsih0E"
      },
      "outputs": [
        {
          "name": "stdout",
          "output_type": "stream",
          "text": [
            "['sql', 'python', 'english', 'power bi', 'aws', 'etl', 'java', 'azure', 'oracle', 'databricks', 'big data', 'snowflake', 'scala', 'data', 'machine learning', 'spark', 'pl/sql', 'dwh', 'gcp', 'databases']\n"
          ]
        }
      ],
      "source": [
        "print(top_20_skills)"
      ]
    },
    {
      "cell_type": "code",
      "execution_count": 122,
      "metadata": {},
      "outputs": [],
      "source": [
        "with open('output.txt', 'w') as file:\n",
        "    for item in top_20_skills:\n",
        "        file.write(str(item) + '\\n')"
      ]
    },
    {
      "cell_type": "code",
      "execution_count": 36,
      "metadata": {
        "colab": {
          "background_save": true
        },
        "id": "9bgnE6xhroXT"
      },
      "outputs": [
        {
          "data": {
            "image/png": "[encoded data removed]",
            "text/plain": [
              "<Figure size 1000x600 with 1 Axes>"
            ]
          },
          "metadata": {},
          "output_type": "display_data"
        }
      ],
      "source": [
        "plt.figure(figsize=(10, 6))\n",
        "sns.set(style=\"darkgrid\")\n",
        "plot = sns.barplot(x=clean_df['skill_name'].value_counts().iloc[:20].index, y=clean_df['skill_name'].value_counts().iloc[:20].values)\n",
        "plot.set_title('20 Most Common Skills')\n",
        "plot.set_xticklabels(plot.get_xticklabels(), rotation=45, horizontalalignment='right')\n",
        "\n",
        "plt.show()"
      ]
    },
    {
      "cell_type": "code",
      "execution_count": 37,
      "metadata": {
        "colab": {
          "background_save": true
        },
        "id": "dd32fVp7roXU"
      },
      "outputs": [],
      "source": [
        "# Sprawdzanie i zamiana wartości\n",
        "common_skills_df = clean_df.copy()\n",
        "mask = ~common_skills_df['skill_name'].isin(top_20_skills)\n",
        "common_skills_df.loc[mask, 'skill_name'] = None\n"
      ]
    },
    {
      "cell_type": "code",
      "execution_count": 38,
      "metadata": {
        "colab": {
          "background_save": true
        },
        "id": "ZHzRMyr4QPDm"
      },
      "outputs": [],
      "source": [
        "most_common_skills_df = common_skills_df.dropna(subset=['skill_name'])"
      ]
    },
    {
      "cell_type": "code",
      "execution_count": 39,
      "metadata": {
        "colab": {
          "background_save": true
        },
        "id": "KAaH9P8_QW09"
      },
      "outputs": [
        {
          "name": "stdout",
          "output_type": "stream",
          "text": [
            "<class 'pandas.core.frame.DataFrame'>\n",
            "RangeIndex: 2317 entries, 0 to 2316\n",
            "Data columns (total 37 columns):\n",
            " #   Column                   Non-Null Count  Dtype \n",
            "---  ------                   --------------  ----- \n",
            " 0   apply_body               0 non-null      object\n",
            " 1   title                    2317 non-null   object\n",
            " 2   street                   2317 non-null   object\n",
            " 3   city                     2317 non-null   object\n",
            " 4   country_code             2316 non-null   object\n",
            " 5   address_text             2317 non-null   object\n",
            " 6   marker_icon              2317 non-null   object\n",
            " 7   workplace_type           2317 non-null   object\n",
            " 8   company_name             2317 non-null   object\n",
            " 9   company_url              2317 non-null   object\n",
            " 10  company_size             2317 non-null   object\n",
            " 11  experience_level         2317 non-null   object\n",
            " 12  latitude                 2317 non-null   object\n",
            " 13  longitude                2317 non-null   object\n",
            " 14  apply_url                1496 non-null   object\n",
            " 15  published_at             2317 non-null   object\n",
            " 16  remote_interview         2317 non-null   bool  \n",
            " 17  video_key                1 non-null      object\n",
            " 18  video_provider           1 non-null      object\n",
            " 19  open_to_hire_ukrainians  2317 non-null   bool  \n",
            " 20  future_consent_title     2013 non-null   object\n",
            " 21  future_consent           2013 non-null   object\n",
            " 22  information_clause       2317 non-null   object\n",
            " 23  custom_consent_title     299 non-null    object\n",
            " 24  custom_consent           299 non-null    object\n",
            " 25  id                       2317 non-null   object\n",
            " 26  tags                     2317 non-null   object\n",
            " 27  body                     2317 non-null   object\n",
            " 28  company_logo_url         2317 non-null   object\n",
            " 29  banner_url               16 non-null     object\n",
            " 30  skills                   2317 non-null   object\n",
            " 31  remote                   2317 non-null   bool  \n",
            " 32  employment_types         2317 non-null   object\n",
            " 33  multilocation            2317 non-null   object\n",
            " 34  company_profile          1056 non-null   object\n",
            " 35  skill_name               2317 non-null   object\n",
            " 36  skill_level              2317 non-null   int64 \n",
            "dtypes: bool(3), int64(1), object(33)\n",
            "memory usage: 622.4+ KB\n"
          ]
        }
      ],
      "source": [
        "most_common_skills_df.reset_index(drop=True, inplace = True)\n",
        "most_common_skills_df.info()"
      ]
    },
    {
      "cell_type": "code",
      "execution_count": 41,
      "metadata": {
        "colab": {
          "background_save": true
        },
        "id": "6xvMGqrdroXU"
      },
      "outputs": [
        {
          "data": {
            "text/plain": [
              "Index(['apply_body', 'title', 'street', 'city', 'country_code', 'address_text',\n",
              "       'marker_icon', 'workplace_type', 'company_name', 'company_url',\n",
              "       'company_size', 'experience_level', 'latitude', 'longitude',\n",
              "       'apply_url', 'published_at', 'remote_interview', 'video_key',\n",
              "       'video_provider', 'open_to_hire_ukrainians', 'future_consent_title',\n",
              "       'future_consent', 'information_clause', 'custom_consent_title',\n",
              "       'custom_consent', 'id', 'tags', 'body', 'company_logo_url',\n",
              "       'banner_url', 'skills', 'remote', 'employment_types', 'multilocation',\n",
              "       'company_profile', 'skill_name', 'skill_level'],\n",
              "      dtype='object')"
            ]
          },
          "execution_count": 41,
          "metadata": {},
          "output_type": "execute_result"
        }
      ],
      "source": [
        "most_common_skills_df.columns"
      ]
    },
    {
      "cell_type": "code",
      "execution_count": 42,
      "metadata": {
        "colab": {
          "background_save": true
        },
        "id": "ywo6HEAlroXU"
      },
      "outputs": [],
      "source": [
        "dummies = pd.get_dummies(most_common_skills_df['skill_name'], prefix='skill')\n",
        "\n",
        "for col in dummies.columns:\n",
        "    dummies[col] *=  most_common_skills_df['skill_level']\n",
        "\n",
        "# Dołączanie kolumn dummies\n",
        "aggregated_df = pd.concat([most_common_skills_df, dummies], axis=1)\n",
        "\n",
        "def custom_agg(series):\n",
        "    if series.name.startswith('skill'):\n",
        "        return series.sum()\n",
        "    else:\n",
        "        return series.iat[0]\n",
        "\n",
        "\n",
        "aggregated_df = aggregated_df.drop('skill_name', axis=1)\n",
        "aggregated_df = aggregated_df.drop('skills', axis=1)\n",
        "\n",
        "# Grupowanie, agregacja i reset indeksu\n",
        "aggregated_df = aggregated_df.groupby('id', as_index=False).agg(custom_agg)\n",
        "aggregated_df = aggregated_df.drop('skill_level', axis=1)"
      ]
    },
    {
      "cell_type": "code",
      "execution_count": 43,
      "metadata": {
        "colab": {
          "background_save": true
        },
        "id": "1Gbhfv0nroXU"
      },
      "outputs": [
        {
          "name": "stdout",
          "output_type": "stream",
          "text": [
            "<class 'pandas.core.frame.DataFrame'>\n",
            "RangeIndex: 908 entries, 0 to 907\n",
            "Data columns (total 54 columns):\n",
            " #   Column                   Non-Null Count  Dtype \n",
            "---  ------                   --------------  ----- \n",
            " 0   id                       908 non-null    object\n",
            " 1   apply_body               0 non-null      object\n",
            " 2   title                    908 non-null    object\n",
            " 3   street                   908 non-null    object\n",
            " 4   city                     908 non-null    object\n",
            " 5   country_code             907 non-null    object\n",
            " 6   address_text             908 non-null    object\n",
            " 7   marker_icon              908 non-null    object\n",
            " 8   workplace_type           908 non-null    object\n",
            " 9   company_name             908 non-null    object\n",
            " 10  company_url              908 non-null    object\n",
            " 11  company_size             908 non-null    object\n",
            " 12  experience_level         908 non-null    object\n",
            " 13  latitude                 908 non-null    object\n",
            " 14  longitude                908 non-null    object\n",
            " 15  apply_url                600 non-null    object\n",
            " 16  published_at             908 non-null    object\n",
            " 17  remote_interview         908 non-null    bool  \n",
            " 18  video_key                1 non-null      object\n",
            " 19  video_provider           1 non-null      object\n",
            " 20  open_to_hire_ukrainians  908 non-null    bool  \n",
            " 21  future_consent_title     776 non-null    object\n",
            " 22  future_consent           776 non-null    object\n",
            " 23  information_clause       908 non-null    object\n",
            " 24  custom_consent_title     117 non-null    object\n",
            " 25  custom_consent           117 non-null    object\n",
            " 26  tags                     908 non-null    object\n",
            " 27  body                     908 non-null    object\n",
            " 28  company_logo_url         908 non-null    object\n",
            " 29  banner_url               8 non-null      object\n",
            " 30  remote                   908 non-null    bool  \n",
            " 31  employment_types         908 non-null    object\n",
            " 32  multilocation            908 non-null    object\n",
            " 33  company_profile          368 non-null    object\n",
            " 34  skill_aws                908 non-null    int64 \n",
            " 35  skill_azure              908 non-null    int64 \n",
            " 36  skill_big data           908 non-null    int64 \n",
            " 37  skill_data               908 non-null    int64 \n",
            " 38  skill_databases          908 non-null    int64 \n",
            " 39  skill_databricks         908 non-null    int64 \n",
            " 40  skill_dwh                908 non-null    int64 \n",
            " 41  skill_english            908 non-null    int64 \n",
            " 42  skill_etl                908 non-null    int64 \n",
            " 43  skill_gcp                908 non-null    int64 \n",
            " 44  skill_java               908 non-null    int64 \n",
            " 45  skill_machine learning   908 non-null    int64 \n",
            " 46  skill_oracle             908 non-null    int64 \n",
            " 47  skill_pl/sql             908 non-null    int64 \n",
            " 48  skill_power bi           908 non-null    int64 \n",
            " 49  skill_python             908 non-null    int64 \n",
            " 50  skill_scala              908 non-null    int64 \n",
            " 51  skill_snowflake          908 non-null    int64 \n",
            " 52  skill_spark              908 non-null    int64 \n",
            " 53  skill_sql                908 non-null    int64 \n",
            "dtypes: bool(3), int64(20), object(31)\n",
            "memory usage: 364.6+ KB\n"
          ]
        }
      ],
      "source": [
        "aggregated_df.info()"
      ]
    },
    {
      "cell_type": "markdown",
      "metadata": {
        "id": "T9VfDcCOroXU"
      },
      "source": [
        "## Dealing with experience level - label encoding"
      ]
    },
    {
      "cell_type": "code",
      "execution_count": 44,
      "metadata": {
        "colab": {
          "background_save": true
        },
        "id": "BZvHz6IIroXV"
      },
      "outputs": [
        {
          "data": {
            "text/plain": [
              "array(['senior', 'mid', 'junior'], dtype=object)"
            ]
          },
          "execution_count": 44,
          "metadata": {},
          "output_type": "execute_result"
        }
      ],
      "source": [
        "aggregated_df['experience_level'].unique()"
      ]
    },
    {
      "cell_type": "code",
      "execution_count": 45,
      "metadata": {
        "colab": {
          "background_save": true
        },
        "id": "6cfNNP2nroXV"
      },
      "outputs": [],
      "source": [
        "label_encoder = preprocessing.LabelEncoder()\n",
        "aggregated_df['experience_level']= label_encoder.fit_transform(aggregated_df['experience_level'])"
      ]
    },
    {
      "cell_type": "markdown",
      "metadata": {
        "id": "IoFXGuoTroXV"
      },
      "source": [
        "## Dealing with 'workplace_type', 'country_code'"
      ]
    },
    {
      "cell_type": "code",
      "execution_count": 46,
      "metadata": {
        "colab": {
          "background_save": true
        },
        "id": "aBqXs4qjroXV"
      },
      "outputs": [
        {
          "data": {
            "text/plain": [
              "array(['remote', 'partly_remote', 'office'], dtype=object)"
            ]
          },
          "execution_count": 46,
          "metadata": {},
          "output_type": "execute_result"
        }
      ],
      "source": [
        "aggregated_df['workplace_type'].unique()"
      ]
    },
    {
      "cell_type": "code",
      "execution_count": 47,
      "metadata": {
        "colab": {
          "background_save": true
        },
        "id": "K821pb5eroXV"
      },
      "outputs": [
        {
          "data": {
            "text/plain": [
              "array(['PL', 'SK', 'CZ', 'HU', 'AT', 'SI', 'RO', 'MT', 'DE', 'UA', None,\n",
              "       'EE'], dtype=object)"
            ]
          },
          "execution_count": 47,
          "metadata": {},
          "output_type": "execute_result"
        }
      ],
      "source": [
        "aggregated_df['country_code'].unique()"
      ]
    },
    {
      "cell_type": "code",
      "execution_count": 48,
      "metadata": {
        "colab": {
          "background_save": true
        },
        "id": "ICygch60roXV"
      },
      "outputs": [],
      "source": [
        "aggregated_df['workplace_type']= label_encoder.fit_transform(aggregated_df['workplace_type'])\n",
        "aggregated_df['country_code']= label_encoder.fit_transform(aggregated_df['country_code'])"
      ]
    },
    {
      "cell_type": "markdown",
      "metadata": {
        "id": "wfa3GCe0roXV"
      },
      "source": [
        "## Dealing with salaries"
      ]
    },
    {
      "cell_type": "code",
      "execution_count": 49,
      "metadata": {
        "colab": {
          "background_save": true
        },
        "id": "YmkcTgfZroXV"
      },
      "outputs": [
        {
          "data": {
            "text/html": [
              "<div>\n",
              "<style scoped>\n",
              "    .dataframe tbody tr th:only-of-type {\n",
              "        vertical-align: middle;\n",
              "    }\n",
              "\n",
              "    .dataframe tbody tr th {\n",
              "        vertical-align: top;\n",
              "    }\n",
              "\n",
              "    .dataframe thead th {\n",
              "        text-align: right;\n",
              "    }\n",
              "</style>\n",
              "<table border=\"1\" class=\"dataframe\">\n",
              "  <thead>\n",
              "    <tr style=\"text-align: right;\">\n",
              "      <th></th>\n",
              "      <th>0</th>\n",
              "      <th>1</th>\n",
              "    </tr>\n",
              "  </thead>\n",
              "  <tbody>\n",
              "    <tr>\n",
              "      <th>566</th>\n",
              "      <td>{'type': 'permanent', 'salary': None}</td>\n",
              "      <td>NaN</td>\n",
              "    </tr>\n",
              "  </tbody>\n",
              "</table>\n",
              "</div>"
            ],
            "text/plain": [
              "                                         0    1\n",
              "566  {'type': 'permanent', 'salary': None}  NaN"
            ]
          },
          "execution_count": 49,
          "metadata": {},
          "output_type": "execute_result"
        }
      ],
      "source": [
        "df_employment_types = aggregated_df['employment_types'].apply(pd.Series)\n",
        "df_employment_types.sample()"
      ]
    },
    {
      "cell_type": "code",
      "execution_count": 50,
      "metadata": {
        "colab": {
          "background_save": true
        },
        "id": "aaM_1q9uroXV"
      },
      "outputs": [
        {
          "data": {
            "text/html": [
              "<div>\n",
              "<style scoped>\n",
              "    .dataframe tbody tr th:only-of-type {\n",
              "        vertical-align: middle;\n",
              "    }\n",
              "\n",
              "    .dataframe tbody tr th {\n",
              "        vertical-align: top;\n",
              "    }\n",
              "\n",
              "    .dataframe thead th {\n",
              "        text-align: right;\n",
              "    }\n",
              "</style>\n",
              "<table border=\"1\" class=\"dataframe\">\n",
              "  <thead>\n",
              "    <tr style=\"text-align: right;\">\n",
              "      <th></th>\n",
              "      <th>type</th>\n",
              "      <th>from</th>\n",
              "      <th>to</th>\n",
              "      <th>currency</th>\n",
              "    </tr>\n",
              "  </thead>\n",
              "  <tbody>\n",
              "    <tr>\n",
              "      <th>782</th>\n",
              "      <td>b2b</td>\n",
              "      <td>26000.0</td>\n",
              "      <td>31920.0</td>\n",
              "      <td>pln</td>\n",
              "    </tr>\n",
              "  </tbody>\n",
              "</table>\n",
              "</div>"
            ],
            "text/plain": [
              "    type     from       to currency\n",
              "782  b2b  26000.0  31920.0      pln"
            ]
          },
          "execution_count": 50,
          "metadata": {},
          "output_type": "execute_result"
        }
      ],
      "source": [
        "df_employment_type_1 = df_employment_types[0].apply(pd.Series, dtype='object')\n",
        "df_employment_type_1= pd.concat([df_employment_type_1.drop(['salary'], axis=1),\n",
        "                                 df_employment_type_1['salary'].apply(pd.Series, dtype='object')], axis=1)\n",
        "df_employment_type_1.sample()"
      ]
    },
    {
      "cell_type": "code",
      "execution_count": 51,
      "metadata": {
        "colab": {
          "background_save": true
        },
        "id": "AvBsWoMTroXV"
      },
      "outputs": [
        {
          "data": {
            "text/html": [
              "<div>\n",
              "<style scoped>\n",
              "    .dataframe tbody tr th:only-of-type {\n",
              "        vertical-align: middle;\n",
              "    }\n",
              "\n",
              "    .dataframe tbody tr th {\n",
              "        vertical-align: top;\n",
              "    }\n",
              "\n",
              "    .dataframe thead th {\n",
              "        text-align: right;\n",
              "    }\n",
              "</style>\n",
              "<table border=\"1\" class=\"dataframe\">\n",
              "  <thead>\n",
              "    <tr style=\"text-align: right;\">\n",
              "      <th></th>\n",
              "      <th>type</th>\n",
              "      <th>from</th>\n",
              "      <th>to</th>\n",
              "      <th>currency</th>\n",
              "    </tr>\n",
              "  </thead>\n",
              "  <tbody>\n",
              "    <tr>\n",
              "      <th>641</th>\n",
              "      <td>NaN</td>\n",
              "      <td>NaN</td>\n",
              "      <td>NaN</td>\n",
              "      <td>NaN</td>\n",
              "    </tr>\n",
              "    <tr>\n",
              "      <th>403</th>\n",
              "      <td>NaN</td>\n",
              "      <td>NaN</td>\n",
              "      <td>NaN</td>\n",
              "      <td>NaN</td>\n",
              "    </tr>\n",
              "    <tr>\n",
              "      <th>260</th>\n",
              "      <td>NaN</td>\n",
              "      <td>NaN</td>\n",
              "      <td>NaN</td>\n",
              "      <td>NaN</td>\n",
              "    </tr>\n",
              "    <tr>\n",
              "      <th>95</th>\n",
              "      <td>NaN</td>\n",
              "      <td>NaN</td>\n",
              "      <td>NaN</td>\n",
              "      <td>NaN</td>\n",
              "    </tr>\n",
              "    <tr>\n",
              "      <th>701</th>\n",
              "      <td>b2b</td>\n",
              "      <td>NaN</td>\n",
              "      <td>NaN</td>\n",
              "      <td>NaN</td>\n",
              "    </tr>\n",
              "    <tr>\n",
              "      <th>149</th>\n",
              "      <td>NaN</td>\n",
              "      <td>NaN</td>\n",
              "      <td>NaN</td>\n",
              "      <td>NaN</td>\n",
              "    </tr>\n",
              "    <tr>\n",
              "      <th>573</th>\n",
              "      <td>b2b</td>\n",
              "      <td>NaN</td>\n",
              "      <td>NaN</td>\n",
              "      <td>NaN</td>\n",
              "    </tr>\n",
              "    <tr>\n",
              "      <th>856</th>\n",
              "      <td>NaN</td>\n",
              "      <td>NaN</td>\n",
              "      <td>NaN</td>\n",
              "      <td>NaN</td>\n",
              "    </tr>\n",
              "    <tr>\n",
              "      <th>712</th>\n",
              "      <td>NaN</td>\n",
              "      <td>NaN</td>\n",
              "      <td>NaN</td>\n",
              "      <td>NaN</td>\n",
              "    </tr>\n",
              "    <tr>\n",
              "      <th>799</th>\n",
              "      <td>NaN</td>\n",
              "      <td>NaN</td>\n",
              "      <td>NaN</td>\n",
              "      <td>NaN</td>\n",
              "    </tr>\n",
              "  </tbody>\n",
              "</table>\n",
              "</div>"
            ],
            "text/plain": [
              "    type  from  to currency\n",
              "641  NaN   NaN NaN      NaN\n",
              "403  NaN   NaN NaN      NaN\n",
              "260  NaN   NaN NaN      NaN\n",
              "95   NaN   NaN NaN      NaN\n",
              "701  b2b   NaN NaN      NaN\n",
              "149  NaN   NaN NaN      NaN\n",
              "573  b2b   NaN NaN      NaN\n",
              "856  NaN   NaN NaN      NaN\n",
              "712  NaN   NaN NaN      NaN\n",
              "799  NaN   NaN NaN      NaN"
            ]
          },
          "execution_count": 51,
          "metadata": {},
          "output_type": "execute_result"
        }
      ],
      "source": [
        "df_employment_type_2 = df_employment_types[1].apply(pd.Series, dtype='object')\n",
        "df_employment_type_2 = pd.concat([df_employment_type_2.drop(['salary'], axis=1),\n",
        "                                  df_employment_type_2['salary'].apply(pd.Series, dtype='object')], axis=1)\n",
        "df_employment_type_2.drop(columns=0, inplace = True)\n",
        "df_employment_type_2.sample(10)"
      ]
    },
    {
      "cell_type": "code",
      "execution_count": 52,
      "metadata": {
        "colab": {
          "background_save": true
        },
        "id": "sBZoIvVJroXW"
      },
      "outputs": [
        {
          "name": "stdout",
          "output_type": "stream",
          "text": [
            "<class 'pandas.core.frame.DataFrame'>\n",
            "RangeIndex: 1096 entries, 0 to 1095\n",
            "Data columns (total 57 columns):\n",
            " #   Column                   Non-Null Count  Dtype  \n",
            "---  ------                   --------------  -----  \n",
            " 0   id                       1096 non-null   object \n",
            " 1   apply_body               0 non-null      object \n",
            " 2   title                    1096 non-null   object \n",
            " 3   street                   1096 non-null   object \n",
            " 4   city                     1096 non-null   object \n",
            " 5   country_code             1096 non-null   int64  \n",
            " 6   address_text             1096 non-null   object \n",
            " 7   marker_icon              1096 non-null   object \n",
            " 8   workplace_type           1096 non-null   int64  \n",
            " 9   company_name             1096 non-null   object \n",
            " 10  company_url              1096 non-null   object \n",
            " 11  company_size             1096 non-null   object \n",
            " 12  experience_level         1096 non-null   int64  \n",
            " 13  latitude                 1096 non-null   object \n",
            " 14  longitude                1096 non-null   object \n",
            " 15  apply_url                723 non-null    object \n",
            " 16  published_at             1096 non-null   object \n",
            " 17  remote_interview         1096 non-null   bool   \n",
            " 18  video_key                1 non-null      object \n",
            " 19  video_provider           1 non-null      object \n",
            " 20  open_to_hire_ukrainians  1096 non-null   bool   \n",
            " 21  future_consent_title     938 non-null    object \n",
            " 22  future_consent           938 non-null    object \n",
            " 23  information_clause       1096 non-null   object \n",
            " 24  custom_consent_title     141 non-null    object \n",
            " 25  custom_consent           141 non-null    object \n",
            " 26  tags                     1096 non-null   object \n",
            " 27  body                     1096 non-null   object \n",
            " 28  company_logo_url         1096 non-null   object \n",
            " 29  banner_url               16 non-null     object \n",
            " 30  remote                   1096 non-null   bool   \n",
            " 31  multilocation            1096 non-null   object \n",
            " 32  company_profile          455 non-null    object \n",
            " 33  skill_aws                1096 non-null   int64  \n",
            " 34  skill_azure              1096 non-null   int64  \n",
            " 35  skill_big data           1096 non-null   int64  \n",
            " 36  skill_data               1096 non-null   int64  \n",
            " 37  skill_databases          1096 non-null   int64  \n",
            " 38  skill_databricks         1096 non-null   int64  \n",
            " 39  skill_dwh                1096 non-null   int64  \n",
            " 40  skill_english            1096 non-null   int64  \n",
            " 41  skill_etl                1096 non-null   int64  \n",
            " 42  skill_gcp                1096 non-null   int64  \n",
            " 43  skill_java               1096 non-null   int64  \n",
            " 44  skill_machine learning   1096 non-null   int64  \n",
            " 45  skill_oracle             1096 non-null   int64  \n",
            " 46  skill_pl/sql             1096 non-null   int64  \n",
            " 47  skill_power bi           1096 non-null   int64  \n",
            " 48  skill_python             1096 non-null   int64  \n",
            " 49  skill_scala              1096 non-null   int64  \n",
            " 50  skill_snowflake          1096 non-null   int64  \n",
            " 51  skill_spark              1096 non-null   int64  \n",
            " 52  skill_sql                1096 non-null   int64  \n",
            " 53  type                     1096 non-null   object \n",
            " 54  from                     780 non-null    float64\n",
            " 55  to                       780 non-null    float64\n",
            " 56  currency                 780 non-null    object \n",
            "dtypes: bool(3), float64(2), int64(23), object(29)\n",
            "memory usage: 465.7+ KB\n"
          ]
        }
      ],
      "source": [
        "df_no_employment = aggregated_df.drop(columns = 'employment_types')\n",
        "df_employment_1 = pd.concat([df_no_employment, df_employment_type_1], axis = 1)\n",
        "df_employment_2 = pd.concat([df_no_employment, df_employment_type_2], axis = 1)\n",
        "df_employment = pd.concat([df_employment_1, df_employment_2])\n",
        "df_employment.dropna(subset=['type'], inplace = True)\n",
        "df_employment.reset_index(drop=True, inplace = True)\n",
        "df_employment.info()"
      ]
    },
    {
      "cell_type": "code",
      "execution_count": 53,
      "metadata": {
        "colab": {
          "background_save": true
        },
        "id": "AG2oXkd6roXW"
      },
      "outputs": [],
      "source": [
        "df_employment['type']= label_encoder.fit_transform(df_employment['type'])"
      ]
    },
    {
      "cell_type": "markdown",
      "metadata": {
        "id": "ZWOU-ORsroXW"
      },
      "source": [
        "### Convert all currencies to PLN"
      ]
    },
    {
      "cell_type": "code",
      "execution_count": 54,
      "metadata": {
        "colab": {
          "background_save": true
        },
        "id": "Ix_8Rd1groXW"
      },
      "outputs": [
        {
          "data": {
            "text/plain": [
              "['pln', 'eur', 'usd']"
            ]
          },
          "execution_count": 54,
          "metadata": {},
          "output_type": "execute_result"
        }
      ],
      "source": [
        "currency_list = list(df_employment[df_employment['from'].notna()]['currency'].unique())\n",
        "currency_list"
      ]
    },
    {
      "cell_type": "code",
      "execution_count": 55,
      "metadata": {
        "colab": {
          "background_save": true
        },
        "id": "jcnmjctCroXW"
      },
      "outputs": [],
      "source": [
        "selected_currency  = 'pln'\n",
        "foreign_currencies = currency_list.copy()\n",
        "foreign_currencies.remove(selected_currency)"
      ]
    },
    {
      "cell_type": "code",
      "execution_count": 56,
      "metadata": {
        "colab": {
          "background_save": true
        },
        "id": "ACulAJC9roXW"
      },
      "outputs": [],
      "source": [
        "df_with_salary = df_employment[df_employment['currency'].notna()]\n",
        "df_no_salary = df_employment[df_employment['currency'].isna()]"
      ]
    },
    {
      "cell_type": "code",
      "execution_count": 57,
      "metadata": {
        "colab": {
          "background_save": true
        },
        "id": "d3hmVXq7roXW"
      },
      "outputs": [
        {
          "name": "stderr",
          "output_type": "stream",
          "text": [
            "/var/folders/mp/mpgc14lx6b9f41xmhqs4mxc80000gn/T/ipykernel_69966/2430910949.py:1: SettingWithCopyWarning: \n",
            "A value is trying to be set on a copy of a slice from a DataFrame.\n",
            "Try using .loc[row_indexer,col_indexer] = value instead\n",
            "\n",
            "See the caveats in the documentation: https://pandas.pydata.org/pandas-docs/stable/user_guide/indexing.html#returning-a-view-versus-a-copy\n",
            "  df_with_salary['from'] = df_with_salary.apply(lambda row: change_currency(row['from'], row['currency'], selected_currency)\n"
          ]
        }
      ],
      "source": [
        "df_with_salary['from'] = df_with_salary.apply(lambda row: change_currency(row['from'], row['currency'], selected_currency)\n",
        "                                              if row['currency'] != selected_currency and pd.notna(row['currency'])\n",
        "                                              else row['from'], axis=1)"
      ]
    },
    {
      "cell_type": "code",
      "execution_count": 58,
      "metadata": {
        "id": "viPYYYTvroXW"
      },
      "outputs": [
        {
          "name": "stderr",
          "output_type": "stream",
          "text": [
            "/var/folders/mp/mpgc14lx6b9f41xmhqs4mxc80000gn/T/ipykernel_69966/1341338040.py:1: SettingWithCopyWarning: \n",
            "A value is trying to be set on a copy of a slice from a DataFrame.\n",
            "Try using .loc[row_indexer,col_indexer] = value instead\n",
            "\n",
            "See the caveats in the documentation: https://pandas.pydata.org/pandas-docs/stable/user_guide/indexing.html#returning-a-view-versus-a-copy\n",
            "  df_with_salary['to'] = df_with_salary.apply(lambda row: change_currency(row['to'], row['currency'], selected_currency)\n"
          ]
        }
      ],
      "source": [
        "df_with_salary['to'] = df_with_salary.apply(lambda row: change_currency(row['to'], row['currency'], selected_currency)\n",
        "                                            if row['currency'] != selected_currency and pd.notna(row['currency'])\n",
        "                                            else row['to'], axis=1)"
      ]
    },
    {
      "cell_type": "code",
      "execution_count": 59,
      "metadata": {
        "id": "1OIlGY4proXW"
      },
      "outputs": [],
      "source": [
        "df_with_salary.loc[df_with_salary['currency'] != selected_currency, 'currency'] = selected_currency"
      ]
    },
    {
      "cell_type": "code",
      "execution_count": 60,
      "metadata": {
        "id": "zrdFi0uuroXW"
      },
      "outputs": [
        {
          "name": "stdout",
          "output_type": "stream",
          "text": [
            "<class 'pandas.core.frame.DataFrame'>\n",
            "RangeIndex: 1096 entries, 0 to 1095\n",
            "Data columns (total 57 columns):\n",
            " #   Column                   Non-Null Count  Dtype  \n",
            "---  ------                   --------------  -----  \n",
            " 0   id                       1096 non-null   object \n",
            " 1   apply_body               0 non-null      object \n",
            " 2   title                    1096 non-null   object \n",
            " 3   street                   1096 non-null   object \n",
            " 4   city                     1096 non-null   object \n",
            " 5   country_code             1096 non-null   int64  \n",
            " 6   address_text             1096 non-null   object \n",
            " 7   marker_icon              1096 non-null   object \n",
            " 8   workplace_type           1096 non-null   int64  \n",
            " 9   company_name             1096 non-null   object \n",
            " 10  company_url              1096 non-null   object \n",
            " 11  company_size             1096 non-null   object \n",
            " 12  experience_level         1096 non-null   int64  \n",
            " 13  latitude                 1096 non-null   object \n",
            " 14  longitude                1096 non-null   object \n",
            " 15  apply_url                723 non-null    object \n",
            " 16  published_at             1096 non-null   object \n",
            " 17  remote_interview         1096 non-null   bool   \n",
            " 18  video_key                1 non-null      object \n",
            " 19  video_provider           1 non-null      object \n",
            " 20  open_to_hire_ukrainians  1096 non-null   bool   \n",
            " 21  future_consent_title     938 non-null    object \n",
            " 22  future_consent           938 non-null    object \n",
            " 23  information_clause       1096 non-null   object \n",
            " 24  custom_consent_title     141 non-null    object \n",
            " 25  custom_consent           141 non-null    object \n",
            " 26  tags                     1096 non-null   object \n",
            " 27  body                     1096 non-null   object \n",
            " 28  company_logo_url         1096 non-null   object \n",
            " 29  banner_url               16 non-null     object \n",
            " 30  remote                   1096 non-null   bool   \n",
            " 31  multilocation            1096 non-null   object \n",
            " 32  company_profile          455 non-null    object \n",
            " 33  skill_aws                1096 non-null   int64  \n",
            " 34  skill_azure              1096 non-null   int64  \n",
            " 35  skill_big data           1096 non-null   int64  \n",
            " 36  skill_data               1096 non-null   int64  \n",
            " 37  skill_databases          1096 non-null   int64  \n",
            " 38  skill_databricks         1096 non-null   int64  \n",
            " 39  skill_dwh                1096 non-null   int64  \n",
            " 40  skill_english            1096 non-null   int64  \n",
            " 41  skill_etl                1096 non-null   int64  \n",
            " 42  skill_gcp                1096 non-null   int64  \n",
            " 43  skill_java               1096 non-null   int64  \n",
            " 44  skill_machine learning   1096 non-null   int64  \n",
            " 45  skill_oracle             1096 non-null   int64  \n",
            " 46  skill_pl/sql             1096 non-null   int64  \n",
            " 47  skill_power bi           1096 non-null   int64  \n",
            " 48  skill_python             1096 non-null   int64  \n",
            " 49  skill_scala              1096 non-null   int64  \n",
            " 50  skill_snowflake          1096 non-null   int64  \n",
            " 51  skill_spark              1096 non-null   int64  \n",
            " 52  skill_sql                1096 non-null   int64  \n",
            " 53  type                     1096 non-null   int64  \n",
            " 54  from                     780 non-null    float64\n",
            " 55  to                       780 non-null    float64\n",
            " 56  currency                 780 non-null    object \n",
            "dtypes: bool(3), float64(2), int64(24), object(28)\n",
            "memory usage: 465.7+ KB\n"
          ]
        }
      ],
      "source": [
        "df_pln = pd.concat([df_with_salary, df_no_salary])\n",
        "df_pln.reset_index(drop=True, inplace = True)\n",
        "df_pln.info()"
      ]
    },
    {
      "cell_type": "markdown",
      "metadata": {
        "id": "Lt8oXBZQroXX"
      },
      "source": [
        "at this stage df includes:\n",
        "- offers with marker icon 'data'\n",
        "- ordered employment column\n",
        "- cleaned company_size column\n",
        "- selected offers with the 30 most popular skills among 'data', both with given and unknown salary\n",
        "- experience_level, country_code, employment_type, workplace_type and skills encoded columns\n",
        "- offers in a foreign currency converted into PLN"
      ]
    },
    {
      "cell_type": "code",
      "execution_count": 61,
      "metadata": {
        "id": "jL3cSqw4roXX"
      },
      "outputs": [
        {
          "data": {
            "text/html": [
              "<div>\n",
              "<style scoped>\n",
              "    .dataframe tbody tr th:only-of-type {\n",
              "        vertical-align: middle;\n",
              "    }\n",
              "\n",
              "    .dataframe tbody tr th {\n",
              "        vertical-align: top;\n",
              "    }\n",
              "\n",
              "    .dataframe thead th {\n",
              "        text-align: right;\n",
              "    }\n",
              "</style>\n",
              "<table border=\"1\" class=\"dataframe\">\n",
              "  <thead>\n",
              "    <tr style=\"text-align: right;\">\n",
              "      <th></th>\n",
              "      <th>company_size</th>\n",
              "    </tr>\n",
              "  </thead>\n",
              "  <tbody>\n",
              "    <tr>\n",
              "      <th>5</th>\n",
              "      <td>11-50</td>\n",
              "    </tr>\n",
              "    <tr>\n",
              "      <th>31</th>\n",
              "      <td>51-200</td>\n",
              "    </tr>\n",
              "    <tr>\n",
              "      <th>32</th>\n",
              "      <td>51-200</td>\n",
              "    </tr>\n",
              "    <tr>\n",
              "      <th>33</th>\n",
              "      <td>51-200</td>\n",
              "    </tr>\n",
              "    <tr>\n",
              "      <th>34</th>\n",
              "      <td>51-200</td>\n",
              "    </tr>\n",
              "    <tr>\n",
              "      <th>...</th>\n",
              "      <td>...</td>\n",
              "    </tr>\n",
              "    <tr>\n",
              "      <th>1053</th>\n",
              "      <td>11-50</td>\n",
              "    </tr>\n",
              "    <tr>\n",
              "      <th>1054</th>\n",
              "      <td>11-50</td>\n",
              "    </tr>\n",
              "    <tr>\n",
              "      <th>1055</th>\n",
              "      <td>11-50</td>\n",
              "    </tr>\n",
              "    <tr>\n",
              "      <th>1060</th>\n",
              "      <td>-</td>\n",
              "    </tr>\n",
              "    <tr>\n",
              "      <th>1075</th>\n",
              "      <td>200-220</td>\n",
              "    </tr>\n",
              "  </tbody>\n",
              "</table>\n",
              "<p>221 rows × 1 columns</p>\n",
              "</div>"
            ],
            "text/plain": [
              "     company_size\n",
              "5           11-50\n",
              "31         51-200\n",
              "32         51-200\n",
              "33         51-200\n",
              "34         51-200\n",
              "...           ...\n",
              "1053        11-50\n",
              "1054        11-50\n",
              "1055        11-50\n",
              "1060            -\n",
              "1075      200-220\n",
              "\n",
              "[221 rows x 1 columns]"
            ]
          },
          "execution_count": 61,
          "metadata": {},
          "output_type": "execute_result"
        }
      ],
      "source": [
        "#cleaning up and encoding company sizes\n",
        "\n",
        "#cleaning up sizes that contain '-'\n",
        "company_size_df = df_pln[df_pln['company_size'].str.contains('-')][['company_size']]\n",
        "company_size_df"
      ]
    },
    {
      "cell_type": "code",
      "execution_count": 62,
      "metadata": {
        "id": "hVS5RSnhTsg-"
      },
      "outputs": [],
      "source": [
        "company_size_df['company_size_1'] = company_size_df['company_size'].str.split('-').str[0]\n",
        "company_size_df['company_size_2']  = company_size_df['company_size'].str.split('-').str[-1]"
      ]
    },
    {
      "cell_type": "code",
      "execution_count": 63,
      "metadata": {
        "id": "kbKIDex9UVSd"
      },
      "outputs": [
        {
          "data": {
            "text/html": [
              "<div>\n",
              "<style scoped>\n",
              "    .dataframe tbody tr th:only-of-type {\n",
              "        vertical-align: middle;\n",
              "    }\n",
              "\n",
              "    .dataframe tbody tr th {\n",
              "        vertical-align: top;\n",
              "    }\n",
              "\n",
              "    .dataframe thead th {\n",
              "        text-align: right;\n",
              "    }\n",
              "</style>\n",
              "<table border=\"1\" class=\"dataframe\">\n",
              "  <thead>\n",
              "    <tr style=\"text-align: right;\">\n",
              "      <th></th>\n",
              "      <th>company_size</th>\n",
              "      <th>company_size_1</th>\n",
              "      <th>company_size_2</th>\n",
              "    </tr>\n",
              "  </thead>\n",
              "  <tbody>\n",
              "    <tr>\n",
              "      <th>877</th>\n",
              "      <td>-</td>\n",
              "      <td></td>\n",
              "      <td></td>\n",
              "    </tr>\n",
              "    <tr>\n",
              "      <th>878</th>\n",
              "      <td>-</td>\n",
              "      <td></td>\n",
              "      <td></td>\n",
              "    </tr>\n",
              "    <tr>\n",
              "      <th>1060</th>\n",
              "      <td>-</td>\n",
              "      <td></td>\n",
              "      <td></td>\n",
              "    </tr>\n",
              "  </tbody>\n",
              "</table>\n",
              "</div>"
            ],
            "text/plain": [
              "     company_size company_size_1 company_size_2\n",
              "877             -                              \n",
              "878             -                              \n",
              "1060            -                              "
            ]
          },
          "execution_count": 63,
          "metadata": {},
          "output_type": "execute_result"
        }
      ],
      "source": [
        "company_size_df[company_size_df['company_size']=='-']"
      ]
    },
    {
      "cell_type": "code",
      "execution_count": 64,
      "metadata": {
        "id": "vLw77-jrT4FO"
      },
      "outputs": [
        {
          "data": {
            "text/html": [
              "<div>\n",
              "<style scoped>\n",
              "    .dataframe tbody tr th:only-of-type {\n",
              "        vertical-align: middle;\n",
              "    }\n",
              "\n",
              "    .dataframe tbody tr th {\n",
              "        vertical-align: top;\n",
              "    }\n",
              "\n",
              "    .dataframe thead th {\n",
              "        text-align: right;\n",
              "    }\n",
              "</style>\n",
              "<table border=\"1\" class=\"dataframe\">\n",
              "  <thead>\n",
              "    <tr style=\"text-align: right;\">\n",
              "      <th></th>\n",
              "      <th>company_size</th>\n",
              "      <th>company_size_1</th>\n",
              "      <th>company_size_2</th>\n",
              "    </tr>\n",
              "  </thead>\n",
              "  <tbody>\n",
              "  </tbody>\n",
              "</table>\n",
              "</div>"
            ],
            "text/plain": [
              "Empty DataFrame\n",
              "Columns: [company_size, company_size_1, company_size_2]\n",
              "Index: []"
            ]
          },
          "execution_count": 64,
          "metadata": {},
          "output_type": "execute_result"
        }
      ],
      "source": [
        "company_size_df = company_size_df[company_size_df['company_size'] != '-']\n",
        "company_size_df[company_size_df['company_size']=='-']"
      ]
    },
    {
      "cell_type": "code",
      "execution_count": 65,
      "metadata": {
        "id": "zFKI_D6OUzVm"
      },
      "outputs": [
        {
          "name": "stderr",
          "output_type": "stream",
          "text": [
            "/var/folders/mp/mpgc14lx6b9f41xmhqs4mxc80000gn/T/ipykernel_69966/2302636781.py:2: SettingWithCopyWarning: \n",
            "A value is trying to be set on a copy of a slice from a DataFrame.\n",
            "Try using .loc[row_indexer,col_indexer] = value instead\n",
            "\n",
            "See the caveats in the documentation: https://pandas.pydata.org/pandas-docs/stable/user_guide/indexing.html#returning-a-view-versus-a-copy\n",
            "  company_size_df['company_size_1'] = pd.to_numeric(company_size_df['company_size_1'])\n",
            "/var/folders/mp/mpgc14lx6b9f41xmhqs4mxc80000gn/T/ipykernel_69966/2302636781.py:3: SettingWithCopyWarning: \n",
            "A value is trying to be set on a copy of a slice from a DataFrame.\n",
            "Try using .loc[row_indexer,col_indexer] = value instead\n",
            "\n",
            "See the caveats in the documentation: https://pandas.pydata.org/pandas-docs/stable/user_guide/indexing.html#returning-a-view-versus-a-copy\n",
            "  company_size_df['company_size_2'] = pd.to_numeric(company_size_df['company_size_2'])\n",
            "/var/folders/mp/mpgc14lx6b9f41xmhqs4mxc80000gn/T/ipykernel_69966/2302636781.py:4: SettingWithCopyWarning: \n",
            "A value is trying to be set on a copy of a slice from a DataFrame.\n",
            "Try using .loc[row_indexer,col_indexer] = value instead\n",
            "\n",
            "See the caveats in the documentation: https://pandas.pydata.org/pandas-docs/stable/user_guide/indexing.html#returning-a-view-versus-a-copy\n",
            "  company_size_df['avg_company_size'] = (company_size_df['company_size_1'] + company_size_df['company_size_2']) / 2\n"
          ]
        },
        {
          "data": {
            "text/html": [
              "<div>\n",
              "<style scoped>\n",
              "    .dataframe tbody tr th:only-of-type {\n",
              "        vertical-align: middle;\n",
              "    }\n",
              "\n",
              "    .dataframe tbody tr th {\n",
              "        vertical-align: top;\n",
              "    }\n",
              "\n",
              "    .dataframe thead th {\n",
              "        text-align: right;\n",
              "    }\n",
              "</style>\n",
              "<table border=\"1\" class=\"dataframe\">\n",
              "  <thead>\n",
              "    <tr style=\"text-align: right;\">\n",
              "      <th></th>\n",
              "      <th>avg_company_size</th>\n",
              "    </tr>\n",
              "  </thead>\n",
              "  <tbody>\n",
              "    <tr>\n",
              "      <th>5</th>\n",
              "      <td>30.5</td>\n",
              "    </tr>\n",
              "    <tr>\n",
              "      <th>31</th>\n",
              "      <td>125.5</td>\n",
              "    </tr>\n",
              "    <tr>\n",
              "      <th>32</th>\n",
              "      <td>125.5</td>\n",
              "    </tr>\n",
              "    <tr>\n",
              "      <th>33</th>\n",
              "      <td>125.5</td>\n",
              "    </tr>\n",
              "    <tr>\n",
              "      <th>34</th>\n",
              "      <td>125.5</td>\n",
              "    </tr>\n",
              "    <tr>\n",
              "      <th>...</th>\n",
              "      <td>...</td>\n",
              "    </tr>\n",
              "    <tr>\n",
              "      <th>1052</th>\n",
              "      <td>30.5</td>\n",
              "    </tr>\n",
              "    <tr>\n",
              "      <th>1053</th>\n",
              "      <td>30.5</td>\n",
              "    </tr>\n",
              "    <tr>\n",
              "      <th>1054</th>\n",
              "      <td>30.5</td>\n",
              "    </tr>\n",
              "    <tr>\n",
              "      <th>1055</th>\n",
              "      <td>30.5</td>\n",
              "    </tr>\n",
              "    <tr>\n",
              "      <th>1075</th>\n",
              "      <td>210.0</td>\n",
              "    </tr>\n",
              "  </tbody>\n",
              "</table>\n",
              "<p>218 rows × 1 columns</p>\n",
              "</div>"
            ],
            "text/plain": [
              "      avg_company_size\n",
              "5                 30.5\n",
              "31               125.5\n",
              "32               125.5\n",
              "33               125.5\n",
              "34               125.5\n",
              "...                ...\n",
              "1052              30.5\n",
              "1053              30.5\n",
              "1054              30.5\n",
              "1055              30.5\n",
              "1075             210.0\n",
              "\n",
              "[218 rows x 1 columns]"
            ]
          },
          "execution_count": 65,
          "metadata": {},
          "output_type": "execute_result"
        }
      ],
      "source": [
        "# company_size_df = company_size_df.copy()\n",
        "company_size_df['company_size_1'] = pd.to_numeric(company_size_df['company_size_1'])\n",
        "company_size_df['company_size_2'] = pd.to_numeric(company_size_df['company_size_2'])\n",
        "company_size_df['avg_company_size'] = (company_size_df['company_size_1'] + company_size_df['company_size_2']) / 2\n",
        "\n",
        "company_size_df = company_size_df[['avg_company_size']]\n",
        "company_size_df"
      ]
    },
    {
      "cell_type": "code",
      "execution_count": 66,
      "metadata": {
        "id": "7eZNw8RuroXX"
      },
      "outputs": [],
      "source": [
        "df_avg_company_size = pd.merge(df_pln, company_size_df, left_index=True, right_index=True, how = 'outer')"
      ]
    },
    {
      "cell_type": "code",
      "execution_count": 67,
      "metadata": {
        "id": "foaesHkuW_99"
      },
      "outputs": [
        {
          "data": {
            "text/plain": [
              "array(['250', '6000', '1150', '200', '30', '51200', '1001  5000', '100',\n",
              "       '500', '6080', '60000', '150', '110', '1000', '2030', '50',\n",
              "       '300000', '125', '1025', '120', '1020', '3040', '450', '40',\n",
              "       '1400', '1530', '7000', '5011000', '750', '350', '80', '87',\n",
              "       '101500', '50100', '60', '1520', '200250', '50  100', '2000',\n",
              "       '900', '460', '430', '300', '2650', '22 200', '30000', '1525',\n",
              "       ' 30', '1500', '280', '2 000', '100200', '51100', '170', '5000',\n",
              "       '8600', '500 000', '70100', '501', '1700', '600', '67007000',\n",
              "       '700', '400', '100 000', '', '55000', '10000', '1600', '800',\n",
              "       '3000', '22000', '200220', '10015000', '40000', '10 000 ', '70',\n",
              "       '650'], dtype=object)"
            ]
          },
          "execution_count": 67,
          "metadata": {},
          "output_type": "execute_result"
        }
      ],
      "source": [
        "df_avg_company_size['company_size'] = df_avg_company_size['company_size'].apply(remove_mark)\n",
        "df_avg_company_size['company_size'].unique()"
      ]
    },
    {
      "cell_type": "code",
      "execution_count": 68,
      "metadata": {
        "id": "ZBlI_RTkXTvc"
      },
      "outputs": [
        {
          "data": {
            "text/plain": [
              "array(['250', '6000', '1150', '200', '30', '51200', '10015000', '100',\n",
              "       '500', '6080', '60000', '150', '110', '1000', '2030', '50',\n",
              "       '300000', '125', '1025', '120', '1020', '3040', '450', '40',\n",
              "       '1400', '1530', '7000', '5011000', '750', '350', '80', '87',\n",
              "       '101500', '50100', '60', '1520', '200250', '2000', '900', '460',\n",
              "       '430', '300', '2650', '22200', '30000', '1525', '1500', '280',\n",
              "       '100200', '51100', '170', '5000', '8600', '500000', '70100', '501',\n",
              "       '1700', '600', '67007000', '700', '400', '100000', '', '55000',\n",
              "       '10000', '1600', '800', '3000', '22000', '200220', '40000', '70',\n",
              "       '650'], dtype=object)"
            ]
          },
          "execution_count": 68,
          "metadata": {},
          "output_type": "execute_result"
        }
      ],
      "source": [
        "df_avg_company_size['company_size'] = df_avg_company_size['company_size'].apply(remove_mark)\n",
        "df_avg_company_size['company_size'].unique()"
      ]
    },
    {
      "cell_type": "code",
      "execution_count": 69,
      "metadata": {
        "id": "xm9Uufr8roXX"
      },
      "outputs": [],
      "source": [
        "df_avg_company_size['company_size'] = pd.to_numeric(df_avg_company_size['company_size'])"
      ]
    },
    {
      "cell_type": "code",
      "execution_count": 70,
      "metadata": {
        "id": "lPo7FJVXroXX"
      },
      "outputs": [],
      "source": [
        "df_avg_company_size['avg_company_size'] = df_avg_company_size.apply(\n",
        "    lambda row: row['company_size'] if pd.isna(row['avg_company_size']) else row['avg_company_size'],\n",
        "    axis=1\n",
        ").astype('float')"
      ]
    },
    {
      "cell_type": "code",
      "execution_count": 71,
      "metadata": {
        "id": "FH7Bjk7vroXX"
      },
      "outputs": [
        {
          "name": "stdout",
          "output_type": "stream",
          "text": [
            "<class 'pandas.core.frame.DataFrame'>\n",
            "Index: 1096 entries, 0 to 1095\n",
            "Data columns (total 58 columns):\n",
            " #   Column                   Non-Null Count  Dtype  \n",
            "---  ------                   --------------  -----  \n",
            " 0   id                       1096 non-null   object \n",
            " 1   apply_body               0 non-null      object \n",
            " 2   title                    1096 non-null   object \n",
            " 3   street                   1096 non-null   object \n",
            " 4   city                     1096 non-null   object \n",
            " 5   country_code             1096 non-null   int64  \n",
            " 6   address_text             1096 non-null   object \n",
            " 7   marker_icon              1096 non-null   object \n",
            " 8   workplace_type           1096 non-null   int64  \n",
            " 9   company_name             1096 non-null   object \n",
            " 10  company_url              1096 non-null   object \n",
            " 11  company_size             1093 non-null   float64\n",
            " 12  experience_level         1096 non-null   int64  \n",
            " 13  latitude                 1096 non-null   object \n",
            " 14  longitude                1096 non-null   object \n",
            " 15  apply_url                723 non-null    object \n",
            " 16  published_at             1096 non-null   object \n",
            " 17  remote_interview         1096 non-null   bool   \n",
            " 18  video_key                1 non-null      object \n",
            " 19  video_provider           1 non-null      object \n",
            " 20  open_to_hire_ukrainians  1096 non-null   bool   \n",
            " 21  future_consent_title     938 non-null    object \n",
            " 22  future_consent           938 non-null    object \n",
            " 23  information_clause       1096 non-null   object \n",
            " 24  custom_consent_title     141 non-null    object \n",
            " 25  custom_consent           141 non-null    object \n",
            " 26  tags                     1096 non-null   object \n",
            " 27  body                     1096 non-null   object \n",
            " 28  company_logo_url         1096 non-null   object \n",
            " 29  banner_url               16 non-null     object \n",
            " 30  remote                   1096 non-null   bool   \n",
            " 31  multilocation            1096 non-null   object \n",
            " 32  company_profile          455 non-null    object \n",
            " 33  skill_aws                1096 non-null   int64  \n",
            " 34  skill_azure              1096 non-null   int64  \n",
            " 35  skill_big data           1096 non-null   int64  \n",
            " 36  skill_data               1096 non-null   int64  \n",
            " 37  skill_databases          1096 non-null   int64  \n",
            " 38  skill_databricks         1096 non-null   int64  \n",
            " 39  skill_dwh                1096 non-null   int64  \n",
            " 40  skill_english            1096 non-null   int64  \n",
            " 41  skill_etl                1096 non-null   int64  \n",
            " 42  skill_gcp                1096 non-null   int64  \n",
            " 43  skill_java               1096 non-null   int64  \n",
            " 44  skill_machine learning   1096 non-null   int64  \n",
            " 45  skill_oracle             1096 non-null   int64  \n",
            " 46  skill_pl/sql             1096 non-null   int64  \n",
            " 47  skill_power bi           1096 non-null   int64  \n",
            " 48  skill_python             1096 non-null   int64  \n",
            " 49  skill_scala              1096 non-null   int64  \n",
            " 50  skill_snowflake          1096 non-null   int64  \n",
            " 51  skill_spark              1096 non-null   int64  \n",
            " 52  skill_sql                1096 non-null   int64  \n",
            " 53  type                     1096 non-null   int64  \n",
            " 54  from                     780 non-null    float64\n",
            " 55  to                       780 non-null    float64\n",
            " 56  currency                 780 non-null    object \n",
            " 57  avg_company_size         1093 non-null   float64\n",
            "dtypes: bool(3), float64(4), int64(24), object(27)\n",
            "memory usage: 482.7+ KB\n"
          ]
        }
      ],
      "source": [
        "df_avg_company_size.info()"
      ]
    },
    {
      "cell_type": "code",
      "execution_count": 72,
      "metadata": {
        "id": "UDTKzYjGYrUG"
      },
      "outputs": [],
      "source": [
        "to_csv_date(df_avg_company_size,'offers_API_ready_to_analyze')"
      ]
    },
    {
      "cell_type": "markdown",
      "metadata": {
        "id": "LhJYSLKHroXX"
      },
      "source": []
    },
    {
      "cell_type": "markdown",
      "metadata": {
        "id": "rNgoxgnjHYmO"
      },
      "source": [
        "# BUILDING REGRESSION MODEL"
      ]
    },
    {
      "cell_type": "code",
      "execution_count": 74,
      "metadata": {
        "id": "aYAg92GuvG9H"
      },
      "outputs": [],
      "source": [
        "df_reg = df_avg_company_size.copy()\n",
        "#pd.read_csv('https://raw.githubusercontent.com/KKozakiewicz/predict_salaries/main/ready_to_analyze_08252023_.csv')"
      ]
    },
    {
      "cell_type": "code",
      "execution_count": 75,
      "metadata": {
        "id": "jQU7ZlW_ZqDG"
      },
      "outputs": [
        {
          "data": {
            "text/html": [
              "<div>\n",
              "<style scoped>\n",
              "    .dataframe tbody tr th:only-of-type {\n",
              "        vertical-align: middle;\n",
              "    }\n",
              "\n",
              "    .dataframe tbody tr th {\n",
              "        vertical-align: top;\n",
              "    }\n",
              "\n",
              "    .dataframe thead th {\n",
              "        text-align: right;\n",
              "    }\n",
              "</style>\n",
              "<table border=\"1\" class=\"dataframe\">\n",
              "  <thead>\n",
              "    <tr style=\"text-align: right;\">\n",
              "      <th></th>\n",
              "      <th>id</th>\n",
              "      <th>apply_body</th>\n",
              "      <th>title</th>\n",
              "      <th>street</th>\n",
              "      <th>city</th>\n",
              "      <th>country_code</th>\n",
              "      <th>address_text</th>\n",
              "      <th>marker_icon</th>\n",
              "      <th>workplace_type</th>\n",
              "      <th>company_name</th>\n",
              "      <th>...</th>\n",
              "      <th>skill_python</th>\n",
              "      <th>skill_scala</th>\n",
              "      <th>skill_snowflake</th>\n",
              "      <th>skill_spark</th>\n",
              "      <th>skill_sql</th>\n",
              "      <th>type</th>\n",
              "      <th>from</th>\n",
              "      <th>to</th>\n",
              "      <th>currency</th>\n",
              "      <th>avg_company_size</th>\n",
              "    </tr>\n",
              "  </thead>\n",
              "  <tbody>\n",
              "    <tr>\n",
              "      <th>606</th>\n",
              "      <td>xtb-head-of-ai-362cc5ff-4205-49f2-b1c2-5d163e7...</td>\n",
              "      <td>None</td>\n",
              "      <td>head of ai</td>\n",
              "      <td>Centrum</td>\n",
              "      <td>Katowice</td>\n",
              "      <td>6</td>\n",
              "      <td>Centrum, Katowice</td>\n",
              "      <td>data</td>\n",
              "      <td>2</td>\n",
              "      <td>XTB</td>\n",
              "      <td>...</td>\n",
              "      <td>5</td>\n",
              "      <td>0</td>\n",
              "      <td>0</td>\n",
              "      <td>0</td>\n",
              "      <td>0</td>\n",
              "      <td>0</td>\n",
              "      <td>30000.0</td>\n",
              "      <td>40000.0</td>\n",
              "      <td>pln</td>\n",
              "      <td>500.0</td>\n",
              "    </tr>\n",
              "    <tr>\n",
              "      <th>711</th>\n",
              "      <td>objectivity-part-of-accenture-senior-data-engi...</td>\n",
              "      <td>None</td>\n",
              "      <td>senior data engineer with python</td>\n",
              "      <td>Strzegomska 142a</td>\n",
              "      <td>Wrocław</td>\n",
              "      <td>6</td>\n",
              "      <td>Strzegomska 142a, Wrocław</td>\n",
              "      <td>data</td>\n",
              "      <td>2</td>\n",
              "      <td>Objectivity - part of Accenture</td>\n",
              "      <td>...</td>\n",
              "      <td>4</td>\n",
              "      <td>0</td>\n",
              "      <td>0</td>\n",
              "      <td>0</td>\n",
              "      <td>0</td>\n",
              "      <td>2</td>\n",
              "      <td>14000.0</td>\n",
              "      <td>17000.0</td>\n",
              "      <td>pln</td>\n",
              "      <td>900.0</td>\n",
              "    </tr>\n",
              "    <tr>\n",
              "      <th>861</th>\n",
              "      <td>demant-database-administrator-e6d31bd9-d726-4a...</td>\n",
              "      <td>None</td>\n",
              "      <td>database administrator</td>\n",
              "      <td>Remote</td>\n",
              "      <td>Kraków</td>\n",
              "      <td>6</td>\n",
              "      <td>Remote, Kraków</td>\n",
              "      <td>data</td>\n",
              "      <td>2</td>\n",
              "      <td>Demant</td>\n",
              "      <td>...</td>\n",
              "      <td>0</td>\n",
              "      <td>0</td>\n",
              "      <td>0</td>\n",
              "      <td>0</td>\n",
              "      <td>0</td>\n",
              "      <td>2</td>\n",
              "      <td>NaN</td>\n",
              "      <td>NaN</td>\n",
              "      <td>NaN</td>\n",
              "      <td>400.0</td>\n",
              "    </tr>\n",
              "    <tr>\n",
              "      <th>886</th>\n",
              "      <td>g2a-data-engineering-lead-rzeszow</td>\n",
              "      <td>None</td>\n",
              "      <td>data engineering lead</td>\n",
              "      <td>Centrum</td>\n",
              "      <td>Rzeszów</td>\n",
              "      <td>6</td>\n",
              "      <td>Centrum, Rzeszów</td>\n",
              "      <td>data</td>\n",
              "      <td>2</td>\n",
              "      <td>G2A</td>\n",
              "      <td>...</td>\n",
              "      <td>0</td>\n",
              "      <td>0</td>\n",
              "      <td>0</td>\n",
              "      <td>0</td>\n",
              "      <td>0</td>\n",
              "      <td>0</td>\n",
              "      <td>NaN</td>\n",
              "      <td>NaN</td>\n",
              "      <td>NaN</td>\n",
              "      <td>300.5</td>\n",
              "    </tr>\n",
              "    <tr>\n",
              "      <th>296</th>\n",
              "      <td>getindata-part-of-xebia-senior-data-engineer-a...</td>\n",
              "      <td>None</td>\n",
              "      <td>senior data engineer (azure)</td>\n",
              "      <td>-</td>\n",
              "      <td>Poznań</td>\n",
              "      <td>6</td>\n",
              "      <td>-, Poznań</td>\n",
              "      <td>data</td>\n",
              "      <td>2</td>\n",
              "      <td>GetInData | Part of Xebia</td>\n",
              "      <td>...</td>\n",
              "      <td>4</td>\n",
              "      <td>0</td>\n",
              "      <td>0</td>\n",
              "      <td>0</td>\n",
              "      <td>4</td>\n",
              "      <td>0</td>\n",
              "      <td>26800.0</td>\n",
              "      <td>33600.0</td>\n",
              "      <td>pln</td>\n",
              "      <td>100.0</td>\n",
              "    </tr>\n",
              "  </tbody>\n",
              "</table>\n",
              "<p>5 rows × 58 columns</p>\n",
              "</div>"
            ],
            "text/plain": [
              "                                                    id apply_body  \\\n",
              "606  xtb-head-of-ai-362cc5ff-4205-49f2-b1c2-5d163e7...       None   \n",
              "711  objectivity-part-of-accenture-senior-data-engi...       None   \n",
              "861  demant-database-administrator-e6d31bd9-d726-4a...       None   \n",
              "886                  g2a-data-engineering-lead-rzeszow       None   \n",
              "296  getindata-part-of-xebia-senior-data-engineer-a...       None   \n",
              "\n",
              "                                title            street      city  \\\n",
              "606                        head of ai           Centrum  Katowice   \n",
              "711  senior data engineer with python  Strzegomska 142a   Wrocław   \n",
              "861            database administrator            Remote    Kraków   \n",
              "886             data engineering lead           Centrum   Rzeszów   \n",
              "296      senior data engineer (azure)                 -    Poznań   \n",
              "\n",
              "     country_code               address_text marker_icon  workplace_type  \\\n",
              "606             6          Centrum, Katowice        data               2   \n",
              "711             6  Strzegomska 142a, Wrocław        data               2   \n",
              "861             6             Remote, Kraków        data               2   \n",
              "886             6           Centrum, Rzeszów        data               2   \n",
              "296             6                  -, Poznań        data               2   \n",
              "\n",
              "                        company_name  ... skill_python  skill_scala  \\\n",
              "606                              XTB  ...            5            0   \n",
              "711  Objectivity - part of Accenture  ...            4            0   \n",
              "861                           Demant  ...            0            0   \n",
              "886                              G2A  ...            0            0   \n",
              "296        GetInData | Part of Xebia  ...            4            0   \n",
              "\n",
              "     skill_snowflake skill_spark skill_sql type     from       to currency  \\\n",
              "606                0           0         0    0  30000.0  40000.0      pln   \n",
              "711                0           0         0    2  14000.0  17000.0      pln   \n",
              "861                0           0         0    2      NaN      NaN      NaN   \n",
              "886                0           0         0    0      NaN      NaN      NaN   \n",
              "296                0           0         4    0  26800.0  33600.0      pln   \n",
              "\n",
              "    avg_company_size  \n",
              "606            500.0  \n",
              "711            900.0  \n",
              "861            400.0  \n",
              "886            300.5  \n",
              "296            100.0  \n",
              "\n",
              "[5 rows x 58 columns]"
            ]
          },
          "execution_count": 75,
          "metadata": {},
          "output_type": "execute_result"
        }
      ],
      "source": [
        "df_reg.sample(5)"
      ]
    },
    {
      "cell_type": "code",
      "execution_count": 76,
      "metadata": {
        "id": "ie3utLLuHWvD"
      },
      "outputs": [],
      "source": [
        "# remove columns that won't be taken into consideration\n",
        "df_reg_limit=df_reg.drop(columns = ['id', 'apply_body', 'title', 'company_size', 'street', 'city', 'address_text', 'marker_icon', 'company_name', 'company_url', 'latitude', 'longitude', 'apply_url', 'published_at', 'remote_interview', 'video_key', 'video_provider', 'open_to_hire_ukrainians', 'future_consent_title', 'future_consent', 'information_clause', 'custom_consent_title', 'custom_consent', 'tags', 'body', 'company_logo_url', 'banner_url', 'multilocation', 'company_profile', 'currency'])\n"
      ]
    },
    {
      "cell_type": "code",
      "execution_count": 77,
      "metadata": {
        "id": "ezqMq-KiT-l2"
      },
      "outputs": [
        {
          "data": {
            "text/html": [
              "<div>\n",
              "<style scoped>\n",
              "    .dataframe tbody tr th:only-of-type {\n",
              "        vertical-align: middle;\n",
              "    }\n",
              "\n",
              "    .dataframe tbody tr th {\n",
              "        vertical-align: top;\n",
              "    }\n",
              "\n",
              "    .dataframe thead th {\n",
              "        text-align: right;\n",
              "    }\n",
              "</style>\n",
              "<table border=\"1\" class=\"dataframe\">\n",
              "  <thead>\n",
              "    <tr style=\"text-align: right;\">\n",
              "      <th></th>\n",
              "      <th>country_code</th>\n",
              "      <th>workplace_type</th>\n",
              "      <th>experience_level</th>\n",
              "      <th>remote</th>\n",
              "      <th>skill_aws</th>\n",
              "      <th>skill_azure</th>\n",
              "      <th>skill_big data</th>\n",
              "      <th>skill_data</th>\n",
              "      <th>skill_databases</th>\n",
              "      <th>skill_databricks</th>\n",
              "      <th>...</th>\n",
              "      <th>skill_power bi</th>\n",
              "      <th>skill_python</th>\n",
              "      <th>skill_scala</th>\n",
              "      <th>skill_snowflake</th>\n",
              "      <th>skill_spark</th>\n",
              "      <th>skill_sql</th>\n",
              "      <th>type</th>\n",
              "      <th>from</th>\n",
              "      <th>to</th>\n",
              "      <th>avg_company_size</th>\n",
              "    </tr>\n",
              "  </thead>\n",
              "  <tbody>\n",
              "    <tr>\n",
              "      <th>0</th>\n",
              "      <td>6</td>\n",
              "      <td>2</td>\n",
              "      <td>2</td>\n",
              "      <td>True</td>\n",
              "      <td>3</td>\n",
              "      <td>0</td>\n",
              "      <td>0</td>\n",
              "      <td>0</td>\n",
              "      <td>0</td>\n",
              "      <td>0</td>\n",
              "      <td>...</td>\n",
              "      <td>0</td>\n",
              "      <td>4</td>\n",
              "      <td>0</td>\n",
              "      <td>3</td>\n",
              "      <td>1</td>\n",
              "      <td>4</td>\n",
              "      <td>0</td>\n",
              "      <td>31000.0</td>\n",
              "      <td>38000.0</td>\n",
              "      <td>250.0</td>\n",
              "    </tr>\n",
              "    <tr>\n",
              "      <th>1</th>\n",
              "      <td>6</td>\n",
              "      <td>2</td>\n",
              "      <td>2</td>\n",
              "      <td>True</td>\n",
              "      <td>3</td>\n",
              "      <td>0</td>\n",
              "      <td>0</td>\n",
              "      <td>0</td>\n",
              "      <td>0</td>\n",
              "      <td>0</td>\n",
              "      <td>...</td>\n",
              "      <td>0</td>\n",
              "      <td>4</td>\n",
              "      <td>0</td>\n",
              "      <td>3</td>\n",
              "      <td>1</td>\n",
              "      <td>4</td>\n",
              "      <td>0</td>\n",
              "      <td>25000.0</td>\n",
              "      <td>30000.0</td>\n",
              "      <td>250.0</td>\n",
              "    </tr>\n",
              "    <tr>\n",
              "      <th>2</th>\n",
              "      <td>6</td>\n",
              "      <td>2</td>\n",
              "      <td>1</td>\n",
              "      <td>True</td>\n",
              "      <td>0</td>\n",
              "      <td>0</td>\n",
              "      <td>0</td>\n",
              "      <td>0</td>\n",
              "      <td>0</td>\n",
              "      <td>3</td>\n",
              "      <td>...</td>\n",
              "      <td>0</td>\n",
              "      <td>4</td>\n",
              "      <td>0</td>\n",
              "      <td>0</td>\n",
              "      <td>0</td>\n",
              "      <td>4</td>\n",
              "      <td>2</td>\n",
              "      <td>13000.0</td>\n",
              "      <td>25000.0</td>\n",
              "      <td>6000.0</td>\n",
              "    </tr>\n",
              "    <tr>\n",
              "      <th>3</th>\n",
              "      <td>6</td>\n",
              "      <td>2</td>\n",
              "      <td>1</td>\n",
              "      <td>True</td>\n",
              "      <td>0</td>\n",
              "      <td>0</td>\n",
              "      <td>0</td>\n",
              "      <td>0</td>\n",
              "      <td>0</td>\n",
              "      <td>3</td>\n",
              "      <td>...</td>\n",
              "      <td>0</td>\n",
              "      <td>4</td>\n",
              "      <td>0</td>\n",
              "      <td>0</td>\n",
              "      <td>0</td>\n",
              "      <td>4</td>\n",
              "      <td>2</td>\n",
              "      <td>13000.0</td>\n",
              "      <td>25000.0</td>\n",
              "      <td>6000.0</td>\n",
              "    </tr>\n",
              "    <tr>\n",
              "      <th>4</th>\n",
              "      <td>6</td>\n",
              "      <td>2</td>\n",
              "      <td>1</td>\n",
              "      <td>True</td>\n",
              "      <td>0</td>\n",
              "      <td>0</td>\n",
              "      <td>0</td>\n",
              "      <td>0</td>\n",
              "      <td>0</td>\n",
              "      <td>3</td>\n",
              "      <td>...</td>\n",
              "      <td>0</td>\n",
              "      <td>4</td>\n",
              "      <td>0</td>\n",
              "      <td>0</td>\n",
              "      <td>0</td>\n",
              "      <td>4</td>\n",
              "      <td>2</td>\n",
              "      <td>13000.0</td>\n",
              "      <td>25000.0</td>\n",
              "      <td>6000.0</td>\n",
              "    </tr>\n",
              "  </tbody>\n",
              "</table>\n",
              "<p>5 rows × 28 columns</p>\n",
              "</div>"
            ],
            "text/plain": [
              "   country_code  workplace_type  experience_level  remote  skill_aws  \\\n",
              "0             6               2                 2    True          3   \n",
              "1             6               2                 2    True          3   \n",
              "2             6               2                 1    True          0   \n",
              "3             6               2                 1    True          0   \n",
              "4             6               2                 1    True          0   \n",
              "\n",
              "   skill_azure  skill_big data  skill_data  skill_databases  skill_databricks  \\\n",
              "0            0               0           0                0                 0   \n",
              "1            0               0           0                0                 0   \n",
              "2            0               0           0                0                 3   \n",
              "3            0               0           0                0                 3   \n",
              "4            0               0           0                0                 3   \n",
              "\n",
              "   ...  skill_power bi  skill_python  skill_scala  skill_snowflake  \\\n",
              "0  ...               0             4            0                3   \n",
              "1  ...               0             4            0                3   \n",
              "2  ...               0             4            0                0   \n",
              "3  ...               0             4            0                0   \n",
              "4  ...               0             4            0                0   \n",
              "\n",
              "   skill_spark  skill_sql  type     from       to  avg_company_size  \n",
              "0            1          4     0  31000.0  38000.0             250.0  \n",
              "1            1          4     0  25000.0  30000.0             250.0  \n",
              "2            0          4     2  13000.0  25000.0            6000.0  \n",
              "3            0          4     2  13000.0  25000.0            6000.0  \n",
              "4            0          4     2  13000.0  25000.0            6000.0  \n",
              "\n",
              "[5 rows x 28 columns]"
            ]
          },
          "execution_count": 77,
          "metadata": {},
          "output_type": "execute_result"
        }
      ],
      "source": [
        "df_reg_limit.head()"
      ]
    },
    {
      "cell_type": "code",
      "execution_count": 78,
      "metadata": {
        "id": "-vsSKpdV0J_o"
      },
      "outputs": [
        {
          "name": "stdout",
          "output_type": "stream",
          "text": [
            "<class 'pandas.core.frame.DataFrame'>\n",
            "Index: 1096 entries, 0 to 1095\n",
            "Data columns (total 28 columns):\n",
            " #   Column                  Non-Null Count  Dtype  \n",
            "---  ------                  --------------  -----  \n",
            " 0   country_code            1096 non-null   int64  \n",
            " 1   workplace_type          1096 non-null   int64  \n",
            " 2   experience_level        1096 non-null   int64  \n",
            " 3   remote                  1096 non-null   bool   \n",
            " 4   skill_aws               1096 non-null   int64  \n",
            " 5   skill_azure             1096 non-null   int64  \n",
            " 6   skill_big data          1096 non-null   int64  \n",
            " 7   skill_data              1096 non-null   int64  \n",
            " 8   skill_databases         1096 non-null   int64  \n",
            " 9   skill_databricks        1096 non-null   int64  \n",
            " 10  skill_dwh               1096 non-null   int64  \n",
            " 11  skill_english           1096 non-null   int64  \n",
            " 12  skill_etl               1096 non-null   int64  \n",
            " 13  skill_gcp               1096 non-null   int64  \n",
            " 14  skill_java              1096 non-null   int64  \n",
            " 15  skill_machine learning  1096 non-null   int64  \n",
            " 16  skill_oracle            1096 non-null   int64  \n",
            " 17  skill_pl/sql            1096 non-null   int64  \n",
            " 18  skill_power bi          1096 non-null   int64  \n",
            " 19  skill_python            1096 non-null   int64  \n",
            " 20  skill_scala             1096 non-null   int64  \n",
            " 21  skill_snowflake         1096 non-null   int64  \n",
            " 22  skill_spark             1096 non-null   int64  \n",
            " 23  skill_sql               1096 non-null   int64  \n",
            " 24  type                    1096 non-null   int64  \n",
            " 25  from                    780 non-null    float64\n",
            " 26  to                      780 non-null    float64\n",
            " 27  avg_company_size        1093 non-null   float64\n",
            "dtypes: bool(1), float64(3), int64(24)\n",
            "memory usage: 240.8 KB\n"
          ]
        }
      ],
      "source": [
        "df_reg_limit.info()"
      ]
    },
    {
      "cell_type": "code",
      "execution_count": 79,
      "metadata": {
        "id": "3W00BbbiHW2l"
      },
      "outputs": [
        {
          "name": "stdout",
          "output_type": "stream",
          "text": [
            "<class 'pandas.core.frame.DataFrame'>\n",
            "RangeIndex: 316 entries, 0 to 315\n",
            "Data columns (total 28 columns):\n",
            " #   Column                  Non-Null Count  Dtype  \n",
            "---  ------                  --------------  -----  \n",
            " 0   country_code            316 non-null    int64  \n",
            " 1   workplace_type          316 non-null    int64  \n",
            " 2   experience_level        316 non-null    int64  \n",
            " 3   remote                  316 non-null    bool   \n",
            " 4   skill_aws               316 non-null    int64  \n",
            " 5   skill_azure             316 non-null    int64  \n",
            " 6   skill_big data          316 non-null    int64  \n",
            " 7   skill_data              316 non-null    int64  \n",
            " 8   skill_databases         316 non-null    int64  \n",
            " 9   skill_databricks        316 non-null    int64  \n",
            " 10  skill_dwh               316 non-null    int64  \n",
            " 11  skill_english           316 non-null    int64  \n",
            " 12  skill_etl               316 non-null    int64  \n",
            " 13  skill_gcp               316 non-null    int64  \n",
            " 14  skill_java              316 non-null    int64  \n",
            " 15  skill_machine learning  316 non-null    int64  \n",
            " 16  skill_oracle            316 non-null    int64  \n",
            " 17  skill_pl/sql            316 non-null    int64  \n",
            " 18  skill_power bi          316 non-null    int64  \n",
            " 19  skill_python            316 non-null    int64  \n",
            " 20  skill_scala             316 non-null    int64  \n",
            " 21  skill_snowflake         316 non-null    int64  \n",
            " 22  skill_spark             316 non-null    int64  \n",
            " 23  skill_sql               316 non-null    int64  \n",
            " 24  type                    316 non-null    int64  \n",
            " 25  from                    0 non-null      float64\n",
            " 26  to                      0 non-null      float64\n",
            " 27  avg_company_size        313 non-null    float64\n",
            "dtypes: bool(1), float64(3), int64(24)\n",
            "memory usage: 67.1 KB\n",
            "<class 'pandas.core.frame.DataFrame'>\n",
            "RangeIndex: 780 entries, 0 to 779\n",
            "Data columns (total 28 columns):\n",
            " #   Column                  Non-Null Count  Dtype  \n",
            "---  ------                  --------------  -----  \n",
            " 0   country_code            780 non-null    int64  \n",
            " 1   workplace_type          780 non-null    int64  \n",
            " 2   experience_level        780 non-null    int64  \n",
            " 3   remote                  780 non-null    bool   \n",
            " 4   skill_aws               780 non-null    int64  \n",
            " 5   skill_azure             780 non-null    int64  \n",
            " 6   skill_big data          780 non-null    int64  \n",
            " 7   skill_data              780 non-null    int64  \n",
            " 8   skill_databases         780 non-null    int64  \n",
            " 9   skill_databricks        780 non-null    int64  \n",
            " 10  skill_dwh               780 non-null    int64  \n",
            " 11  skill_english           780 non-null    int64  \n",
            " 12  skill_etl               780 non-null    int64  \n",
            " 13  skill_gcp               780 non-null    int64  \n",
            " 14  skill_java              780 non-null    int64  \n",
            " 15  skill_machine learning  780 non-null    int64  \n",
            " 16  skill_oracle            780 non-null    int64  \n",
            " 17  skill_pl/sql            780 non-null    int64  \n",
            " 18  skill_power bi          780 non-null    int64  \n",
            " 19  skill_python            780 non-null    int64  \n",
            " 20  skill_scala             780 non-null    int64  \n",
            " 21  skill_snowflake         780 non-null    int64  \n",
            " 22  skill_spark             780 non-null    int64  \n",
            " 23  skill_sql               780 non-null    int64  \n",
            " 24  type                    780 non-null    int64  \n",
            " 25  from                    780 non-null    float64\n",
            " 26  to                      780 non-null    float64\n",
            " 27  avg_company_size        780 non-null    float64\n",
            "dtypes: bool(1), float64(3), int64(24)\n",
            "memory usage: 165.4 KB\n"
          ]
        }
      ],
      "source": [
        "# extract rows with no salary information\n",
        "df_no_salaries = df_reg_limit[df_reg_limit['to'].isna()].reset_index(drop=True)\n",
        "df_no_salaries.info()\n",
        "\n",
        "# extract rows with salary information\n",
        "df_salaries = df_reg_limit[df_reg_limit['to'].notna()].reset_index(drop=True)\n",
        "df_salaries.info()"
      ]
    },
    {
      "cell_type": "code",
      "execution_count": 80,
      "metadata": {
        "id": "QqfMIvJrbAst"
      },
      "outputs": [
        {
          "data": {
            "text/html": [
              "<div>\n",
              "<style scoped>\n",
              "    .dataframe tbody tr th:only-of-type {\n",
              "        vertical-align: middle;\n",
              "    }\n",
              "\n",
              "    .dataframe tbody tr th {\n",
              "        vertical-align: top;\n",
              "    }\n",
              "\n",
              "    .dataframe thead th {\n",
              "        text-align: right;\n",
              "    }\n",
              "</style>\n",
              "<table border=\"1\" class=\"dataframe\">\n",
              "  <thead>\n",
              "    <tr style=\"text-align: right;\">\n",
              "      <th></th>\n",
              "      <th>country_code</th>\n",
              "      <th>workplace_type</th>\n",
              "      <th>experience_level</th>\n",
              "      <th>remote</th>\n",
              "      <th>skill_aws</th>\n",
              "      <th>skill_azure</th>\n",
              "      <th>skill_big data</th>\n",
              "      <th>skill_data</th>\n",
              "      <th>skill_databases</th>\n",
              "      <th>skill_databricks</th>\n",
              "      <th>...</th>\n",
              "      <th>skill_power bi</th>\n",
              "      <th>skill_python</th>\n",
              "      <th>skill_scala</th>\n",
              "      <th>skill_snowflake</th>\n",
              "      <th>skill_spark</th>\n",
              "      <th>skill_sql</th>\n",
              "      <th>type</th>\n",
              "      <th>from</th>\n",
              "      <th>to</th>\n",
              "      <th>avg_company_size</th>\n",
              "    </tr>\n",
              "  </thead>\n",
              "  <tbody>\n",
              "    <tr>\n",
              "      <th>692</th>\n",
              "      <td>6</td>\n",
              "      <td>0</td>\n",
              "      <td>0</td>\n",
              "      <td>False</td>\n",
              "      <td>0</td>\n",
              "      <td>0</td>\n",
              "      <td>0</td>\n",
              "      <td>0</td>\n",
              "      <td>0</td>\n",
              "      <td>0</td>\n",
              "      <td>...</td>\n",
              "      <td>0</td>\n",
              "      <td>0</td>\n",
              "      <td>0</td>\n",
              "      <td>0</td>\n",
              "      <td>0</td>\n",
              "      <td>1</td>\n",
              "      <td>2</td>\n",
              "      <td>3600.0</td>\n",
              "      <td>5090.0</td>\n",
              "      <td>75.0</td>\n",
              "    </tr>\n",
              "    <tr>\n",
              "      <th>438</th>\n",
              "      <td>6</td>\n",
              "      <td>1</td>\n",
              "      <td>0</td>\n",
              "      <td>False</td>\n",
              "      <td>0</td>\n",
              "      <td>0</td>\n",
              "      <td>0</td>\n",
              "      <td>0</td>\n",
              "      <td>0</td>\n",
              "      <td>0</td>\n",
              "      <td>...</td>\n",
              "      <td>0</td>\n",
              "      <td>1</td>\n",
              "      <td>0</td>\n",
              "      <td>0</td>\n",
              "      <td>0</td>\n",
              "      <td>3</td>\n",
              "      <td>2</td>\n",
              "      <td>4000.0</td>\n",
              "      <td>8000.0</td>\n",
              "      <td>460.0</td>\n",
              "    </tr>\n",
              "    <tr>\n",
              "      <th>417</th>\n",
              "      <td>6</td>\n",
              "      <td>1</td>\n",
              "      <td>0</td>\n",
              "      <td>False</td>\n",
              "      <td>0</td>\n",
              "      <td>0</td>\n",
              "      <td>0</td>\n",
              "      <td>0</td>\n",
              "      <td>0</td>\n",
              "      <td>0</td>\n",
              "      <td>...</td>\n",
              "      <td>0</td>\n",
              "      <td>0</td>\n",
              "      <td>0</td>\n",
              "      <td>0</td>\n",
              "      <td>0</td>\n",
              "      <td>3</td>\n",
              "      <td>2</td>\n",
              "      <td>4000.0</td>\n",
              "      <td>7000.0</td>\n",
              "      <td>25.0</td>\n",
              "    </tr>\n",
              "    <tr>\n",
              "      <th>407</th>\n",
              "      <td>6</td>\n",
              "      <td>0</td>\n",
              "      <td>0</td>\n",
              "      <td>False</td>\n",
              "      <td>0</td>\n",
              "      <td>0</td>\n",
              "      <td>0</td>\n",
              "      <td>0</td>\n",
              "      <td>0</td>\n",
              "      <td>0</td>\n",
              "      <td>...</td>\n",
              "      <td>0</td>\n",
              "      <td>0</td>\n",
              "      <td>0</td>\n",
              "      <td>0</td>\n",
              "      <td>0</td>\n",
              "      <td>1</td>\n",
              "      <td>0</td>\n",
              "      <td>4337.0</td>\n",
              "      <td>6133.0</td>\n",
              "      <td>75.0</td>\n",
              "    </tr>\n",
              "    <tr>\n",
              "      <th>602</th>\n",
              "      <td>6</td>\n",
              "      <td>2</td>\n",
              "      <td>0</td>\n",
              "      <td>True</td>\n",
              "      <td>0</td>\n",
              "      <td>0</td>\n",
              "      <td>0</td>\n",
              "      <td>0</td>\n",
              "      <td>0</td>\n",
              "      <td>0</td>\n",
              "      <td>...</td>\n",
              "      <td>0</td>\n",
              "      <td>0</td>\n",
              "      <td>0</td>\n",
              "      <td>0</td>\n",
              "      <td>0</td>\n",
              "      <td>2</td>\n",
              "      <td>1</td>\n",
              "      <td>4500.0</td>\n",
              "      <td>5000.0</td>\n",
              "      <td>1000.0</td>\n",
              "    </tr>\n",
              "  </tbody>\n",
              "</table>\n",
              "<p>5 rows × 28 columns</p>\n",
              "</div>"
            ],
            "text/plain": [
              "     country_code  workplace_type  experience_level  remote  skill_aws  \\\n",
              "692             6               0                 0   False          0   \n",
              "438             6               1                 0   False          0   \n",
              "417             6               1                 0   False          0   \n",
              "407             6               0                 0   False          0   \n",
              "602             6               2                 0    True          0   \n",
              "\n",
              "     skill_azure  skill_big data  skill_data  skill_databases  \\\n",
              "692            0               0           0                0   \n",
              "438            0               0           0                0   \n",
              "417            0               0           0                0   \n",
              "407            0               0           0                0   \n",
              "602            0               0           0                0   \n",
              "\n",
              "     skill_databricks  ...  skill_power bi  skill_python  skill_scala  \\\n",
              "692                 0  ...               0             0            0   \n",
              "438                 0  ...               0             1            0   \n",
              "417                 0  ...               0             0            0   \n",
              "407                 0  ...               0             0            0   \n",
              "602                 0  ...               0             0            0   \n",
              "\n",
              "     skill_snowflake  skill_spark  skill_sql  type    from      to  \\\n",
              "692                0            0          1     2  3600.0  5090.0   \n",
              "438                0            0          3     2  4000.0  8000.0   \n",
              "417                0            0          3     2  4000.0  7000.0   \n",
              "407                0            0          1     0  4337.0  6133.0   \n",
              "602                0            0          2     1  4500.0  5000.0   \n",
              "\n",
              "     avg_company_size  \n",
              "692              75.0  \n",
              "438             460.0  \n",
              "417              25.0  \n",
              "407              75.0  \n",
              "602            1000.0  \n",
              "\n",
              "[5 rows x 28 columns]"
            ]
          },
          "execution_count": 80,
          "metadata": {},
          "output_type": "execute_result"
        }
      ],
      "source": [
        "df_salaries_sorted = df_salaries.sort_values(by='from', ascending=True)\n",
        "df_salaries_sorted.head()"
      ]
    },
    {
      "cell_type": "code",
      "execution_count": 81,
      "metadata": {
        "id": "aNzBDvUhbfSW"
      },
      "outputs": [
        {
          "data": {
            "image/png": "[encoded data removed]",
            "text/plain": [
              "<Figure size 1000x600 with 1 Axes>"
            ]
          },
          "metadata": {},
          "output_type": "display_data"
        }
      ],
      "source": [
        "plt.figure(figsize=(10, 6))\n",
        "sns.set(style=\"darkgrid\")\n",
        "plot = sns.scatterplot(x=np.arange(len(df_salaries_sorted)), y=df_salaries_sorted['from'])\n",
        "plot.set_title('Salary from in PLN')\n",
        "\n",
        "plt.show()"
      ]
    },
    {
      "cell_type": "code",
      "execution_count": 82,
      "metadata": {
        "id": "8U-0d0rdHW98"
      },
      "outputs": [],
      "source": [
        "# split the dataset into training and test sets, now only salary_from is investigated\n",
        "X = df_salaries.drop(columns=['from','to'])\n",
        "y = df_salaries['from']"
      ]
    },
    {
      "cell_type": "code",
      "execution_count": 83,
      "metadata": {
        "id": "0xFhFRR_LRfJ"
      },
      "outputs": [],
      "source": [
        "# normalizing the data\n",
        "scl = StandardScaler()\n",
        "X_scaled = pd.DataFrame(scl.fit_transform(X), columns = X.columns)"
      ]
    },
    {
      "cell_type": "code",
      "execution_count": 84,
      "metadata": {
        "id": "kmBfKLesHXEr"
      },
      "outputs": [],
      "source": [
        "X_train, X_test, y_train, y_test = train_test_split(X_scaled, y, test_size=0.2)"
      ]
    },
    {
      "cell_type": "markdown",
      "metadata": {
        "id": "u4Rl6-jVImQ7"
      },
      "source": [
        "## Random Forest"
      ]
    },
    {
      "cell_type": "code",
      "execution_count": 85,
      "metadata": {
        "id": "nxn9kWiuHXMI"
      },
      "outputs": [
        {
          "name": "stdout",
          "output_type": "stream",
          "text": [
            "Best Parameters: {'max_depth': 20, 'min_samples_leaf': 1, 'min_samples_split': 2, 'n_estimators': 200}\n",
            "Regression Model Evaluation:\n",
            "===========================\n",
            "Mean Absolute Error (MAE): 543.35\n",
            "Mean Squared Error (MSE): 2995933.21\n",
            "Root Mean Squared Error (RMSE): 1730.88\n",
            "R-squared (R2): 0.94\n"
          ]
        }
      ],
      "source": [
        "# Initialize the RandomForestRegressor model\n",
        "rf_regressor = RandomForestRegressor()\n",
        "\n",
        "# Define the parameter grid for the grid search\n",
        "param_grid = {\n",
        "    'n_estimators': [100, 200, 300],\n",
        "    'max_depth': [None, 10, 20],\n",
        "    'min_samples_split': [2, 5, 10],\n",
        "    'min_samples_leaf': [1, 2, 4]\n",
        "}\n",
        "\n",
        "# Create a GridSearchCV object\n",
        "gs = GridSearchCV(estimator=rf_regressor, param_grid=param_grid, cv=5, n_jobs=-1, scoring='neg_mean_absolute_error')\n",
        "\n",
        "# Fit the GridSearchCV object to the training data\n",
        "gs.fit(X_train, y_train)\n",
        "\n",
        "# Get the best model with tuned hyperparameters\n",
        "best_model = gs.best_estimator_\n",
        "\n",
        "# Print best parameters\n",
        "print(\"Best Parameters:\", gs.best_params_)\n",
        "\n",
        "# Predict on the test set\n",
        "y_pred = best_model.predict(X_test)\n",
        "\n",
        "# Evaluate the best model\n",
        "evaluate_regression_model(best_model, X_test, y_test)"
      ]
    },
    {
      "cell_type": "code",
      "execution_count": 86,
      "metadata": {
        "id": "_l0EUBvGJUYC"
      },
      "outputs": [
        {
          "name": "stdout",
          "output_type": "stream",
          "text": [
            "Regression Model Evaluation:\n",
            "===========================\n",
            "Mean Absolute Error (MAE): 567.44\n",
            "Mean Squared Error (MSE): 2918162.08\n",
            "Root Mean Squared Error (RMSE): 1708.26\n",
            "R-squared (R2): 0.94\n"
          ]
        }
      ],
      "source": [
        "RF_model = RandomForestRegressor(max_depth=None, min_samples_leaf = 1, min_samples_split = 2, n_estimators = 200)\n",
        "RF_model.fit(X_train, y_train)\n",
        "\n",
        "evaluate_regression_model(RF_model, X_test, y_test)"
      ]
    },
    {
      "cell_type": "markdown",
      "metadata": {
        "id": "t2V73OBD8BBc"
      },
      "source": []
    },
    {
      "cell_type": "markdown",
      "metadata": {
        "id": "eehoyGMy_b_K"
      },
      "source": [
        "##MAE distribution"
      ]
    },
    {
      "cell_type": "code",
      "execution_count": 87,
      "metadata": {
        "id": "vCXNSVWL_byS"
      },
      "outputs": [
        {
          "data": {
            "text/plain": [
              "<Axes: ylabel='Count'>"
            ]
          },
          "execution_count": 87,
          "metadata": {},
          "output_type": "execute_result"
        },
        {
          "data": {
            "image/png": "[encoded data removed]",
            "text/plain": [
              "<Figure size 640x480 with 1 Axes>"
            ]
          },
          "metadata": {},
          "output_type": "display_data"
        }
      ],
      "source": [
        "mae = []\n",
        "\n",
        "for i in range(1000):\n",
        "    X_train, X_test, y_train, y_test = train_test_split(X, y, test_size = 0.2)\n",
        "    RF_model = RandomForestRegressor(max_depth=20, min_samples_split = 2, n_estimators = 150)\n",
        "\n",
        "    RF_model.fit(X_train, y_train)\n",
        "\n",
        "    mae.append(mean_absolute_error(y_test, RF_model.predict(X_test)))\n",
        "\n",
        "sns.set_style(\"darkgrid\")\n",
        "sns.histplot(mae)"
      ]
    },
    {
      "cell_type": "code",
      "execution_count": 92,
      "metadata": {
        "id": "0lrHK4038Tzl"
      },
      "outputs": [],
      "source": [
        "import pickle\n",
        "\n",
        "with open('RF_model', 'wb') as f:\n",
        "    pickle.dump(RF_model, f)"
      ]
    },
    {
      "cell_type": "code",
      "execution_count": 95,
      "metadata": {},
      "outputs": [
        {
          "name": "stdout",
          "output_type": "stream",
          "text": [
            "1.2.2\n"
          ]
        }
      ],
      "source": [
        "import sklearn\n",
        "scikit_version = sklearn.__version__\n",
        "print(scikit_version)"
      ]
    },
    {
      "cell_type": "code",
      "execution_count": 96,
      "metadata": {},
      "outputs": [
        {
          "data": {
            "text/plain": [
              "['RF_model_1.2.2.pkl']"
            ]
          },
          "execution_count": 96,
          "metadata": {},
          "output_type": "execute_result"
        }
      ],
      "source": [
        "joblib.dump(RF_model, f\"RF_model_{scikit_version}.pkl\")"
      ]
    },
    {
      "cell_type": "markdown",
      "metadata": {
        "id": "MCTtNlIR0SPA"
      },
      "source": [
        "# Reading job offer and preparing the data"
      ]
    },
    {
      "cell_type": "code",
      "execution_count": 199,
      "metadata": {
        "id": "fl166Irt0YQr"
      },
      "outputs": [],
      "source": [
        "job_offer = 'https://justjoin.it/offers/opi-pib-analityk-danych-warszawa'\n",
        "job_offer_api = job_offer.replace(\"https://justjoin.it/offers/\", \"https://justjoin.it/api/offers/\")"
      ]
    },
    {
      "cell_type": "code",
      "execution_count": 200,
      "metadata": {
        "id": "TMWJUTX_1Wq7"
      },
      "outputs": [],
      "source": [
        "response = requests.get(job_offer_api)\n",
        "job_data = response.json()"
      ]
    },
    {
      "cell_type": "code",
      "execution_count": 201,
      "metadata": {},
      "outputs": [
        {
          "name": "stdout",
          "output_type": "stream",
          "text": [
            "['sql', 'python', 'english', 'power bi', 'aws', 'etl', 'java', 'azure', 'oracle', 'databricks', 'big data', 'snowflake', 'scala', 'data', 'machine learning', 'spark', 'pl/sql', 'dwh', 'gcp', 'databases']\n"
          ]
        }
      ],
      "source": [
        "with open('output.txt', 'r') as file:\n",
        "    lines = file.readlines()\n",
        "    top_20_skills = [line.strip() for line in lines]\n",
        "\n",
        "print(top_20_skills)"
      ]
    },
    {
      "cell_type": "code",
      "execution_count": 202,
      "metadata": {},
      "outputs": [],
      "source": [
        "offer_data = []\n",
        "\n",
        "for skill in job_data['skills']:\n",
        "    # print(skill['name'])\n",
        "    new_row = job_data.copy()\n",
        "    new_row['skill_name'] = skill['name']\n",
        "    new_row['skill_level'] = skill['level']\n",
        "    offer_data.append(new_row)\n",
        "\n",
        "\n",
        "offer_df = pd.DataFrame(offer_data)\n",
        "offer_df = standardize_text(offer_df, \"title\")\n",
        "offer_df = standardize_text(offer_df, \"skill_name\")\n",
        "\n",
        "offer_dummies = pd.DataFrame()\n",
        "\n",
        "for col_name in sorted(top_20_skills):\n",
        "    offer_dummies[\"skill_\" + col_name] = 0\n",
        "\n",
        "offer_dummies.loc[0] = 0"
      ]
    },
    {
      "cell_type": "code",
      "execution_count": 203,
      "metadata": {},
      "outputs": [],
      "source": [
        "final = []\n",
        "for skill in offer_df['skill_name']:\n",
        "    new_dummy = offer_dummies.copy()\n",
        "    if skill in top_20_skills:\n",
        "        new_dummy[f\"skill_{skill}\"] = 1\n",
        "    final.append(new_dummy)\n",
        "\n",
        "all_dummies = pd.concat(final, ignore_index=True)"
      ]
    },
    {
      "cell_type": "code",
      "execution_count": 204,
      "metadata": {
        "id": "PaEviqEe3Qbl"
      },
      "outputs": [],
      "source": [
        "\n",
        "\n",
        "\n",
        "for col in all_dummies.columns:\n",
        "    all_dummies[col] *=  common_skills_offer_df['skill_level']\n",
        "\n",
        "# Dołączanie kolumn dummies\n",
        "aggregated_offer_df = pd.concat([common_skills_offer_df, all_dummies], axis=1)\n",
        "\n",
        "def custom_agg(series):\n",
        "    if series.name.startswith('skill'):\n",
        "        return series.sum()\n",
        "    else:\n",
        "        return series.iat[0]\n",
        "\n",
        "\n",
        "aggregated_offer_df = aggregated_offer_df.drop('skill_name', axis=1)\n",
        "aggregated_offer_df = aggregated_offer_df.drop('skills', axis=1)\n",
        "\n",
        "# Grupowanie, agregacja i reset indeksu\n",
        "aggregated_offer_df = aggregated_offer_df.groupby('id', as_index=False).agg(custom_agg)\n",
        "aggregated_offer_df = aggregated_offer_df.drop('skill_level', axis=1)\n",
        "\n",
        "label_encoder = preprocessing.LabelEncoder()\n",
        "aggregated_offer_df['experience_level']= label_encoder.fit_transform(aggregated_offer_df['experience_level'])\n",
        "aggregated_offer_df['workplace_type']= label_encoder.fit_transform(aggregated_offer_df['workplace_type'])\n",
        "aggregated_offer_df['country_code']= label_encoder.fit_transform(aggregated_offer_df['country_code'])\n",
        "\n"
      ]
    },
    {
      "cell_type": "code",
      "execution_count": 205,
      "metadata": {
        "id": "L3-6i9shDSHN"
      },
      "outputs": [
        {
          "data": {
            "text/html": [
              "<div>\n",
              "<style scoped>\n",
              "    .dataframe tbody tr th:only-of-type {\n",
              "        vertical-align: middle;\n",
              "    }\n",
              "\n",
              "    .dataframe tbody tr th {\n",
              "        vertical-align: top;\n",
              "    }\n",
              "\n",
              "    .dataframe thead th {\n",
              "        text-align: right;\n",
              "    }\n",
              "</style>\n",
              "<table border=\"1\" class=\"dataframe\">\n",
              "  <thead>\n",
              "    <tr style=\"text-align: right;\">\n",
              "      <th></th>\n",
              "      <th>id</th>\n",
              "      <th>apply_body</th>\n",
              "      <th>title</th>\n",
              "      <th>street</th>\n",
              "      <th>city</th>\n",
              "      <th>country_code</th>\n",
              "      <th>address_text</th>\n",
              "      <th>marker_icon</th>\n",
              "      <th>workplace_type</th>\n",
              "      <th>company_name</th>\n",
              "      <th>...</th>\n",
              "      <th>skill_java</th>\n",
              "      <th>skill_machine learning</th>\n",
              "      <th>skill_oracle</th>\n",
              "      <th>skill_pl/sql</th>\n",
              "      <th>skill_power bi</th>\n",
              "      <th>skill_python</th>\n",
              "      <th>skill_scala</th>\n",
              "      <th>skill_snowflake</th>\n",
              "      <th>skill_spark</th>\n",
              "      <th>skill_sql</th>\n",
              "    </tr>\n",
              "  </thead>\n",
              "  <tbody>\n",
              "    <tr>\n",
              "      <th>0</th>\n",
              "      <td>dataconsulting-pl-data-engineer</td>\n",
              "      <td>None</td>\n",
              "      <td>data engineer</td>\n",
              "      <td>al. Jana Pawła II 11</td>\n",
              "      <td>Warszawa</td>\n",
              "      <td>0</td>\n",
              "      <td>al. Jana Pawła II 11, Warszawa</td>\n",
              "      <td>data</td>\n",
              "      <td>0</td>\n",
              "      <td>dataconsulting.pl</td>\n",
              "      <td>...</td>\n",
              "      <td>0.0</td>\n",
              "      <td>0.0</td>\n",
              "      <td>0.0</td>\n",
              "      <td>4.0</td>\n",
              "      <td>0.0</td>\n",
              "      <td>4.0</td>\n",
              "      <td>0.0</td>\n",
              "      <td>0.0</td>\n",
              "      <td>0.0</td>\n",
              "      <td>4.0</td>\n",
              "    </tr>\n",
              "  </tbody>\n",
              "</table>\n",
              "<p>1 rows × 53 columns</p>\n",
              "</div>"
            ],
            "text/plain": [
              "                                id apply_body          title  \\\n",
              "0  dataconsulting-pl-data-engineer       None  data engineer   \n",
              "\n",
              "                 street      city  country_code  \\\n",
              "0  al. Jana Pawła II 11  Warszawa             0   \n",
              "\n",
              "                     address_text marker_icon  workplace_type  \\\n",
              "0  al. Jana Pawła II 11, Warszawa        data               0   \n",
              "\n",
              "        company_name  ... skill_java skill_machine learning  skill_oracle  \\\n",
              "0  dataconsulting.pl  ...        0.0                    0.0           0.0   \n",
              "\n",
              "  skill_pl/sql skill_power bi skill_python skill_scala  skill_snowflake  \\\n",
              "0          4.0            0.0          4.0         0.0              0.0   \n",
              "\n",
              "  skill_spark skill_sql  \n",
              "0         0.0       4.0  \n",
              "\n",
              "[1 rows x 53 columns]"
            ]
          },
          "execution_count": 205,
          "metadata": {},
          "output_type": "execute_result"
        }
      ],
      "source": [
        "aggregated_offer_df.sample()"
      ]
    },
    {
      "cell_type": "code",
      "execution_count": 206,
      "metadata": {
        "id": "FPt1CrKvDEks"
      },
      "outputs": [],
      "source": [
        "offer_employment_types = aggregated_offer_df['employment_types'].apply(pd.Series)\n",
        "offer_employment_type = offer_employment_types[0].apply(pd.Series)\n",
        "offer_employment_type= pd.concat([offer_employment_type.drop(['salary'], axis=1),\n",
        "                                 offer_employment_type['salary'].apply(pd.Series)], axis=1)\n",
        "\n",
        "offer_no_employment = aggregated_offer_df.drop(columns = 'employment_types')\n",
        "offer_employment = pd.concat([offer_no_employment, offer_employment_type], axis = 1)\n",
        "\n",
        "offer_employment['type']= label_encoder.fit_transform(offer_employment['type'])\n",
        "\n",
        "offer_employment.reset_index(drop=True, inplace = True)\n",
        "\n",
        "company_size_offer = offer_employment[offer_employment['company_size'].str.contains('-')][['company_size']]\n",
        "\n",
        "company_size_offer['company_size_1'] = company_size_offer['company_size'].str.split('-').str[0]\n",
        "company_size_offer['company_size_2']  = company_size_offer['company_size'].str.split('-').str[-1]\n",
        "\n",
        "company_size_offer['company_size_1'] = pd.to_numeric(company_size_offer['company_size_1'])\n",
        "company_size_offer['company_size_2'] = pd.to_numeric(company_size_offer['company_size_2'])\n",
        "company_size_offer['avg_company_size'] = (company_size_offer['company_size_1'] + company_size_offer['company_size_2']) / 2\n",
        "\n",
        "company_size_offer = company_size_offer[['avg_company_size']]\n",
        "\n",
        "offer = pd.merge(offer_employment, company_size_offer, left_index=True, right_index=True, how = 'outer')\n",
        "\n",
        "offer['company_size'] = offer['company_size'].apply(remove_mark)\n",
        "offer['company_size'] = offer['company_size'].apply(remove_mark)\n",
        "offer['company_size'] = offer['company_size'].apply(remove_blanc)\n",
        "\n",
        "offer['avg_company_size'] = offer.apply(\n",
        "    lambda row: row['company_size'] if pd.isna(row['avg_company_size']) else row['avg_company_size'],\n",
        "    axis=1\n",
        ").astype('float')\n",
        "\n",
        "offer=offer.drop(columns = ['id', 'from', 'to', 'currency', 'apply_body', 'title', 'company_size', 'street', 'city', 'address_text', 'marker_icon', 'company_name', 'company_url', 'latitude', 'longitude', 'apply_url', 'published_at', 'remote_interview', 'video_key', 'video_provider', 'open_to_hire_ukrainians', 'future_consent_title', 'future_consent', 'information_clause', 'custom_consent_title', 'custom_consent', 'tags', 'body', 'company_logo_url', 'banner_url', 'multilocation'])\n",
        "\n",
        "offer_scaled = pd.DataFrame(scl.fit_transform(offer), columns = offer.columns)"
      ]
    },
    {
      "cell_type": "code",
      "execution_count": 211,
      "metadata": {},
      "outputs": [
        {
          "data": {
            "text/html": [
              "<div>\n",
              "<style scoped>\n",
              "    .dataframe tbody tr th:only-of-type {\n",
              "        vertical-align: middle;\n",
              "    }\n",
              "\n",
              "    .dataframe tbody tr th {\n",
              "        vertical-align: top;\n",
              "    }\n",
              "\n",
              "    .dataframe thead th {\n",
              "        text-align: right;\n",
              "    }\n",
              "</style>\n",
              "<table border=\"1\" class=\"dataframe\">\n",
              "  <thead>\n",
              "    <tr style=\"text-align: right;\">\n",
              "      <th></th>\n",
              "      <th>country_code</th>\n",
              "      <th>workplace_type</th>\n",
              "      <th>experience_level</th>\n",
              "      <th>remote</th>\n",
              "      <th>skill_aws</th>\n",
              "      <th>skill_azure</th>\n",
              "      <th>skill_big data</th>\n",
              "      <th>skill_data</th>\n",
              "      <th>skill_databases</th>\n",
              "      <th>skill_databricks</th>\n",
              "      <th>...</th>\n",
              "      <th>skill_oracle</th>\n",
              "      <th>skill_pl/sql</th>\n",
              "      <th>skill_power bi</th>\n",
              "      <th>skill_python</th>\n",
              "      <th>skill_scala</th>\n",
              "      <th>skill_snowflake</th>\n",
              "      <th>skill_spark</th>\n",
              "      <th>skill_sql</th>\n",
              "      <th>type</th>\n",
              "      <th>avg_company_size</th>\n",
              "    </tr>\n",
              "  </thead>\n",
              "  <tbody>\n",
              "    <tr>\n",
              "      <th>0</th>\n",
              "      <td>0</td>\n",
              "      <td>0</td>\n",
              "      <td>0</td>\n",
              "      <td>True</td>\n",
              "      <td>0.0</td>\n",
              "      <td>0.0</td>\n",
              "      <td>0.0</td>\n",
              "      <td>0.0</td>\n",
              "      <td>0.0</td>\n",
              "      <td>0.0</td>\n",
              "      <td>...</td>\n",
              "      <td>0.0</td>\n",
              "      <td>4.0</td>\n",
              "      <td>0.0</td>\n",
              "      <td>4.0</td>\n",
              "      <td>0.0</td>\n",
              "      <td>0.0</td>\n",
              "      <td>0.0</td>\n",
              "      <td>4.0</td>\n",
              "      <td>0</td>\n",
              "      <td>15.0</td>\n",
              "    </tr>\n",
              "  </tbody>\n",
              "</table>\n",
              "<p>1 rows × 26 columns</p>\n",
              "</div>"
            ],
            "text/plain": [
              "   country_code  workplace_type  experience_level  remote  skill_aws  \\\n",
              "0             0               0                 0    True        0.0   \n",
              "\n",
              "   skill_azure  skill_big data  skill_data  skill_databases  skill_databricks  \\\n",
              "0          0.0             0.0         0.0              0.0               0.0   \n",
              "\n",
              "   ...  skill_oracle  skill_pl/sql  skill_power bi  skill_python  skill_scala  \\\n",
              "0  ...           0.0           4.0             0.0           4.0          0.0   \n",
              "\n",
              "   skill_snowflake  skill_spark  skill_sql  type  avg_company_size  \n",
              "0              0.0          0.0        4.0     0              15.0  \n",
              "\n",
              "[1 rows x 26 columns]"
            ]
          },
          "execution_count": 211,
          "metadata": {},
          "output_type": "execute_result"
        }
      ],
      "source": [
        "offer"
      ]
    },
    {
      "cell_type": "code",
      "execution_count": 209,
      "metadata": {
        "id": "KDj_CKG9CX6U"
      },
      "outputs": [],
      "source": [
        "# Predict on the test set\n",
        "pred = RF_model.predict(offer_scaled)"
      ]
    },
    {
      "cell_type": "code",
      "execution_count": 210,
      "metadata": {
        "id": "fBcpN19gCYyH"
      },
      "outputs": [
        {
          "name": "stdout",
          "output_type": "stream",
          "text": [
            "[12374.10666667]\n"
          ]
        }
      ],
      "source": [
        "print(pred)"
      ]
    }
  ],
  "metadata": {
    "colab": {
      "provenance": []
    },
    "kernelspec": {
      "display_name": "Python 3",
      "name": "python3"
    },
    "language_info": {
      "codemirror_mode": {
        "name": "ipython",
        "version": 3
      },
      "file_extension": ".py",
      "mimetype": "text/x-python",
      "name": "python",
      "nbconvert_exporter": "python",
      "pygments_lexer": "ipython3",
      "version": "3.10.9"
    }
  },
  "nbformat": 4,
  "nbformat_minor": 0
}
