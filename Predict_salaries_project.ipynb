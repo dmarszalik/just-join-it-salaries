{
  "cells": [
    {
      "cell_type": "code",
      "execution_count": 95,
      "metadata": {
        "colab": {
          "base_uri": "https://localhost:8080/"
        },
        "id": "EuC4ohiUVOLz",
        "outputId": "ac926b09-4003-47fb-c59f-c7c0cdbf376e"
      },
      "outputs": [
        {
          "name": "stdout",
          "output_type": "stream",
          "text": [
            "Requirement already satisfied: forex-python in /Users/dawidmarszalik/anaconda3/lib/python3.10/site-packages (1.8)\n",
            "Requirement already satisfied: requests in /Users/dawidmarszalik/anaconda3/lib/python3.10/site-packages (from forex-python) (2.29.0)\n",
            "Requirement already satisfied: simplejson in /Users/dawidmarszalik/anaconda3/lib/python3.10/site-packages (from forex-python) (3.19.1)\n",
            "Requirement already satisfied: charset-normalizer<4,>=2 in /Users/dawidmarszalik/anaconda3/lib/python3.10/site-packages (from requests->forex-python) (2.0.4)\n",
            "Requirement already satisfied: idna<4,>=2.5 in /Users/dawidmarszalik/anaconda3/lib/python3.10/site-packages (from requests->forex-python) (3.4)\n",
            "Requirement already satisfied: urllib3<1.27,>=1.21.1 in /Users/dawidmarszalik/anaconda3/lib/python3.10/site-packages (from requests->forex-python) (1.26.16)\n",
            "Requirement already satisfied: certifi>=2017.4.17 in /Users/dawidmarszalik/anaconda3/lib/python3.10/site-packages (from requests->forex-python) (2023.5.7)\n"
          ]
        }
      ],
      "source": [
        "!pip install forex-python"
      ]
    },
    {
      "cell_type": "code",
      "execution_count": 96,
      "metadata": {
        "id": "-6q7uwO6eoUO"
      },
      "outputs": [],
      "source": [
        "import pandas as pd\n",
        "import numpy as np\n",
        "import matplotlib.pyplot as plt\n",
        "import seaborn as sns\n",
        "\n",
        "import requests\n",
        "import json\n",
        "import time\n",
        "import joblib\n",
        "import datetime\n",
        "\n",
        "from sklearn import preprocessing\n",
        "from sklearn.feature_extraction.text import TfidfVectorizer\n",
        "from sklearn.ensemble import RandomForestRegressor\n",
        "from sklearn.model_selection import train_test_split\n",
        "from sklearn.model_selection import cross_val_score, KFold\n",
        "from sklearn.model_selection import GridSearchCV\n",
        "from sklearn import tree\n",
        "from sklearn.preprocessing import StandardScaler\n",
        "\n",
        "from forex_python.converter import CurrencyRates\n",
        "\n",
        "###RandomizedSearchCV\n",
        "\n",
        "from sklearn.neighbors import KNeighborsRegressor\n",
        "from sklearn.metrics import mean_absolute_error, mean_squared_error, r2_score, accuracy_score"
      ]
    },
    {
      "cell_type": "code",
      "execution_count": 97,
      "metadata": {
        "id": "rBMl1FyhVWcb"
      },
      "outputs": [],
      "source": [
        "def change_currency(val, curr_from, curr_to):\n",
        "  if curr_from != curr_to:\n",
        "    curr_from = curr_from.upper()\n",
        "    curr_to = curr_to.upper()\n",
        "    c = CurrencyRates()\n",
        "    return round(val/c.get_rate(curr_to, curr_from, datetime.datetime.now()))"
      ]
    },
    {
      "cell_type": "code",
      "execution_count": 98,
      "metadata": {
        "id": "K4-vEJIKBYFT"
      },
      "outputs": [],
      "source": [
        "def remove_mark(value):\n",
        "    marks = ['>', '<', '-', '+', '_', ' ', '  ', ',']\n",
        "    for mark in marks:\n",
        "        if pd.notna(value) and mark in value:\n",
        "            return value.replace(mark, '')\n",
        "    return value"
      ]
    },
    {
      "cell_type": "code",
      "execution_count": 99,
      "metadata": {
        "id": "K0yosZVjroXI"
      },
      "outputs": [],
      "source": [
        "def remove_blanc(value):\n",
        "    if value == '':\n",
        "        value = 0\n",
        "        return value"
      ]
    },
    {
      "cell_type": "code",
      "execution_count": 100,
      "metadata": {
        "id": "peCsuyUDHyQF"
      },
      "outputs": [],
      "source": [
        "def evaluate_regression_model(model, X_test, y_test):\n",
        "    \"\"\"\n",
        "    Evaluates the performance of a regression model and provides a summary.\n",
        "\n",
        "    Parameters:\n",
        "        model: A trained regression model from scikit-learn.\n",
        "        X_test: Test features.\n",
        "        y_test: Test labels.\n",
        "    \"\"\"\n",
        "    # Predictions on the test set\n",
        "    y_pred = model.predict(X_test)\n",
        "\n",
        "    # Calculate metrics\n",
        "    mae = mean_absolute_error(y_test, y_pred)\n",
        "    mse = mean_squared_error(y_test, y_pred)\n",
        "    rmse = mean_squared_error(y_test, y_pred, squared=False)  # RMSE\n",
        "    r2 = r2_score(y_test, y_pred)\n",
        "\n",
        "    # Display results\n",
        "    print(\"Regression Model Evaluation:\")\n",
        "    print(\"===========================\")\n",
        "    print(f\"Mean Absolute Error (MAE): {mae:.2f}\")\n",
        "    print(f\"Mean Squared Error (MSE): {mse:.2f}\")\n",
        "    print(f\"Root Mean Squared Error (RMSE): {rmse:.2f}\")\n",
        "    print(f\"R-squared (R2): {r2:.2f}\")"
      ]
    },
    {
      "cell_type": "code",
      "execution_count": 101,
      "metadata": {
        "id": "MPJLs00kXQXo"
      },
      "outputs": [],
      "source": [
        "def api_to_df(url):\n",
        "    response = requests.get(url)\n",
        "    content = response.json()\n",
        "    return pd.DataFrame.from_records(content)\n"
      ]
    },
    {
      "cell_type": "code",
      "execution_count": 102,
      "metadata": {
        "id": "RfHKL9f0YgTI"
      },
      "outputs": [],
      "source": [
        "def to_csv_date(df, filename):\n",
        "    current_date = pd.Timestamp(\"today\").strftime(\"%m%d%Y\")\n",
        "    df.to_csv(filename + '_' + current_date + '_.csv', index = False)\n"
      ]
    },
    {
      "cell_type": "code",
      "execution_count": 103,
      "metadata": {
        "id": "Iljb_FG1Yi93"
      },
      "outputs": [],
      "source": [
        "def remove_null_col(df):\n",
        "    return df.dropna(axis=1, how='all', inplace = False)"
      ]
    },
    {
      "cell_type": "code",
      "execution_count": 104,
      "metadata": {
        "id": "bV6HbV2_YlOA"
      },
      "outputs": [],
      "source": [
        "def flatten_list_col(df):\n",
        "    new_df = pd.DataFrame()\n",
        "    nested_columns_list = []\n",
        "    for i, col in enumerate(df.columns):\n",
        "        if any(isinstance(item, list) for item in df[col]):\n",
        "            nested_columns_list.append(col)\n",
        "            new_df= pd.concat([new_df, df[col].apply(pd.Series)], axis = 1)\n",
        "    new_columns = list(range(len(new_df.columns)))\n",
        "    new_df.columns = new_columns\n",
        "    return new_df"
      ]
    },
    {
      "cell_type": "code",
      "execution_count": 105,
      "metadata": {
        "id": "A7U2aPp8YoT4"
      },
      "outputs": [],
      "source": [
        "def flatten_dict_col(df):\n",
        "    new_df = pd.DataFrame()\n",
        "    nested_columns_list = []\n",
        "    for i, col in enumerate(df.columns):\n",
        "        if any(isinstance(item, dict) for item in df[col]):\n",
        "            nested_columns_list.append(col)\n",
        "            new_df= pd.concat([new_df, df[col].apply(pd.Series)], axis = 1)\n",
        "#     new_columns = list(range(len(new_df.columns)))\n",
        "#     new_df.columns = new_columns\n",
        "    new_df = remove_null_col(new_df)\n",
        "    return new_df"
      ]
    },
    {
      "cell_type": "code",
      "execution_count": 106,
      "metadata": {
        "id": "yPnvG6bBZ6lJ"
      },
      "outputs": [],
      "source": [
        "def unpack_nested_col(nested_col, key_name):\n",
        "    unpacked_col = {}\n",
        "    nested_col_unpacked = nested_col.apply(pd.Series)\n",
        "    for i, col in enumerate(nested_col_unpacked.columns):\n",
        "        unpacked_col[f'{key_name}_{i}'] = nested_col_unpacked[col].apply(pd.Series)\n",
        "        if 0 in unpacked_col[f'{key_name}_{i}'].columns:\n",
        "            if unpacked_col[f'{key_name}_{i}'][0].isna().all():\n",
        "                unpacked_col[f'{key_name}_{i}'].drop(columns = 0, inplace = True)\n",
        "    return unpacked_col"
      ]
    },
    {
      "cell_type": "code",
      "execution_count": 107,
      "metadata": {
        "id": "KWUFbgEaroXK"
      },
      "outputs": [],
      "source": [
        "def standardize_text(df, text_field):\n",
        "    df[text_field] = df[text_field].str.lower()\n",
        "    return df"
      ]
    },
    {
      "cell_type": "code",
      "execution_count": 108,
      "metadata": {
        "id": "D4hvcePmYs0v"
      },
      "outputs": [],
      "source": [
        "def replace_cols(recipient_df, col_replaced, donor_df, col_replacing):\n",
        "    recipient_df.drop(columns = col_replaced, inplace = True)\n",
        "    recipient_df = pd.concat([recipient_df, donor_df[col_replacing]])\n",
        "    return recipient_df"
      ]
    },
    {
      "cell_type": "markdown",
      "metadata": {
        "id": "uIL37bLnKsyr"
      },
      "source": [
        "## Reading initial data from API. In this step, we accept all offers from the API, but only receive general information. In order to complete the data, we also read each offer separately using its individual API."
      ]
    },
    {
      "cell_type": "markdown",
      "metadata": {
        "id": "9XRC0WCeYyH3"
      },
      "source": [
        "\n",
        "## Unpacking the data\n"
      ]
    },
    {
      "cell_type": "code",
      "execution_count": 109,
      "metadata": {
        "colab": {
          "base_uri": "https://localhost:8080/"
        },
        "id": "pBXzE6iAYvN_",
        "outputId": "0c4e7fe9-6918-4221-81fd-329c2e2f4d3d"
      },
      "outputs": [
        {
          "name": "stdout",
          "output_type": "stream",
          "text": [
            "<class 'pandas.core.frame.DataFrame'>\n",
            "RangeIndex: 12980 entries, 0 to 12979\n",
            "Data columns (total 24 columns):\n",
            " #   Column                   Non-Null Count  Dtype \n",
            "---  ------                   --------------  ----- \n",
            " 0   title                    12980 non-null  object\n",
            " 1   street                   12978 non-null  object\n",
            " 2   city                     12980 non-null  object\n",
            " 3   country_code             12974 non-null  object\n",
            " 4   address_text             12980 non-null  object\n",
            " 5   marker_icon              12980 non-null  object\n",
            " 6   workplace_type           12980 non-null  object\n",
            " 7   company_name             12980 non-null  object\n",
            " 8   company_url              12980 non-null  object\n",
            " 9   company_size             12980 non-null  object\n",
            " 10  experience_level         12980 non-null  object\n",
            " 11  latitude                 12980 non-null  object\n",
            " 12  longitude                12980 non-null  object\n",
            " 13  published_at             12980 non-null  object\n",
            " 14  remote_interview         12980 non-null  bool  \n",
            " 15  open_to_hire_ukrainians  12980 non-null  bool  \n",
            " 16  id                       12980 non-null  object\n",
            " 17  display_offer            12980 non-null  bool  \n",
            " 18  employment_types         12980 non-null  object\n",
            " 19  company_logo_url         12980 non-null  object\n",
            " 20  skills                   12980 non-null  object\n",
            " 21  remote                   12980 non-null  bool  \n",
            " 22  multilocation            12980 non-null  object\n",
            " 23  way_of_apply             12980 non-null  object\n",
            "dtypes: bool(4), object(20)\n",
            "memory usage: 2.0+ MB\n"
          ]
        }
      ],
      "source": [
        "df_init = api_to_df('https://justjoin.it/api/offers')\n",
        "\n",
        "df_init.info()"
      ]
    },
    {
      "cell_type": "markdown",
      "metadata": {
        "id": "ZcHsRCYJiD_y"
      },
      "source": [
        "## Select the subset of the data - only \"data\" marker icon"
      ]
    },
    {
      "cell_type": "code",
      "execution_count": 110,
      "metadata": {
        "id": "BDY21nfovSn1"
      },
      "outputs": [],
      "source": [
        "# Limit observations to those that have flag 'data'\n",
        "df_data = df_init[df_init['marker_icon'] == 'data']\n",
        "df_data.reset_index(drop=True, inplace = True)"
      ]
    },
    {
      "cell_type": "markdown",
      "metadata": {
        "id": "BSyhlRNOJ9Hq"
      },
      "source": [
        "## Reading detailed data for every separete offer from API"
      ]
    },
    {
      "cell_type": "code",
      "execution_count": 111,
      "metadata": {
        "id": "-cA9M3EQ6Rle"
      },
      "outputs": [],
      "source": [
        "json_data = []"
      ]
    },
    {
      "cell_type": "code",
      "execution_count": 112,
      "metadata": {
        "id": "IW7WIO2U7E15"
      },
      "outputs": [],
      "source": [
        "offers = list(df_data.id)"
      ]
    },
    {
      "cell_type": "code",
      "execution_count": 113,
      "metadata": {
        "colab": {
          "base_uri": "https://localhost:8080/"
        },
        "id": "Xcxmi4xjQOGu",
        "outputId": "f07ddf36-a3a6-4eef-b429-f50d9848cb43"
      },
      "outputs": [
        {
          "data": {
            "text/plain": [
              "1100"
            ]
          },
          "execution_count": 113,
          "metadata": {},
          "output_type": "execute_result"
        }
      ],
      "source": [
        "len(offers)"
      ]
    },
    {
      "cell_type": "code",
      "execution_count": 114,
      "metadata": {
        "colab": {
          "background_save": true
        },
        "id": "OopZge2j6WW9"
      },
      "outputs": [],
      "source": [
        "for offer in offers:\n",
        "  url = f'https://justjoin.it/api/offers/{offer}'\n",
        "  response = requests.get(url)\n",
        "  json_obj = response.json()\n",
        "#   initial_df = pd.json_normalize(json_obj)\n",
        "  json_data.append(json_obj)\n",
        "#   time.sleep(0.5)"
      ]
    },
    {
      "cell_type": "code",
      "execution_count": 115,
      "metadata": {
        "colab": {
          "background_save": true
        },
        "id": "OkkgjsuLRy-w"
      },
      "outputs": [],
      "source": [
        "df_data_offers = pd.DataFrame(json_data)\n",
        "to_csv_date(df_data_offers, 'df_data_offers')"
      ]
    },
    {
      "cell_type": "code",
      "execution_count": 116,
      "metadata": {
        "colab": {
          "background_save": true
        },
        "id": "d7a7ItlZVcjs"
      },
      "outputs": [
        {
          "name": "stdout",
          "output_type": "stream",
          "text": [
            "<class 'pandas.core.frame.DataFrame'>\n",
            "RangeIndex: 1100 entries, 0 to 1099\n",
            "Data columns (total 35 columns):\n",
            " #   Column                   Non-Null Count  Dtype \n",
            "---  ------                   --------------  ----- \n",
            " 0   apply_body               0 non-null      object\n",
            " 1   title                    1100 non-null   object\n",
            " 2   street                   1100 non-null   object\n",
            " 3   city                     1100 non-null   object\n",
            " 4   country_code             1099 non-null   object\n",
            " 5   address_text             1100 non-null   object\n",
            " 6   marker_icon              1100 non-null   object\n",
            " 7   workplace_type           1100 non-null   object\n",
            " 8   company_name             1100 non-null   object\n",
            " 9   company_url              1100 non-null   object\n",
            " 10  company_size             1100 non-null   object\n",
            " 11  experience_level         1100 non-null   object\n",
            " 12  latitude                 1100 non-null   object\n",
            " 13  longitude                1100 non-null   object\n",
            " 14  apply_url                707 non-null    object\n",
            " 15  published_at             1100 non-null   object\n",
            " 16  remote_interview         1100 non-null   bool  \n",
            " 17  video_key                1 non-null      object\n",
            " 18  video_provider           1 non-null      object\n",
            " 19  open_to_hire_ukrainians  1100 non-null   bool  \n",
            " 20  future_consent_title     934 non-null    object\n",
            " 21  future_consent           934 non-null    object\n",
            " 22  information_clause       1100 non-null   object\n",
            " 23  custom_consent_title     127 non-null    object\n",
            " 24  custom_consent           127 non-null    object\n",
            " 25  id                       1100 non-null   object\n",
            " 26  tags                     1100 non-null   object\n",
            " 27  body                     1100 non-null   object\n",
            " 28  company_logo_url         1100 non-null   object\n",
            " 29  banner_url               12 non-null     object\n",
            " 30  skills                   1100 non-null   object\n",
            " 31  remote                   1100 non-null   bool  \n",
            " 32  employment_types         1100 non-null   object\n",
            " 33  multilocation            1100 non-null   object\n",
            " 34  company_profile          415 non-null    object\n",
            "dtypes: bool(3), object(32)\n",
            "memory usage: 278.3+ KB\n"
          ]
        }
      ],
      "source": [
        "df_data_offers.info(10)"
      ]
    },
    {
      "cell_type": "markdown",
      "metadata": {
        "id": "OG1bQrvEroXN"
      },
      "source": [
        "### Dealing with skills"
      ]
    },
    {
      "cell_type": "code",
      "execution_count": 117,
      "metadata": {
        "colab": {
          "background_save": true
        },
        "id": "oJrq48jBroXN"
      },
      "outputs": [
        {
          "name": "stdout",
          "output_type": "stream",
          "text": [
            "[{'name': 'SQL', 'level': 4}, {'name': 'DWH', 'level': 3}, {'name': 'ETL', 'level': 3}, {'name': 'NoSQL', 'level': 1}, {'name': 'Snowflake', 'level': 1}, {'name': 'Cloud', 'level': 1}]\n"
          ]
        }
      ],
      "source": [
        "print(df_data_offers['skills'][0])"
      ]
    },
    {
      "cell_type": "code",
      "execution_count": 118,
      "metadata": {
        "colab": {
          "background_save": true
        },
        "id": "mb3I-XKIfMlD"
      },
      "outputs": [],
      "source": [
        "# Putting all skills into one column\n",
        "\n",
        "old_data = df_data_offers.to_dict(orient='records')\n",
        "new_data = []\n",
        "\n",
        "for index, skills_list in enumerate(df_data_offers['skills']):\n",
        "    for skill in skills_list:\n",
        "        new_row = old_data[index].copy()\n",
        "        new_row['skill_name'] = skill['name']\n",
        "        new_row['skill_level'] = skill['level']\n",
        "        new_data.append(new_row)"
      ]
    },
    {
      "cell_type": "code",
      "execution_count": 119,
      "metadata": {
        "colab": {
          "background_save": true
        },
        "id": "vnQze3bCfRDy"
      },
      "outputs": [],
      "source": [
        "new_df = pd.DataFrame(new_data)"
      ]
    },
    {
      "cell_type": "code",
      "execution_count": 120,
      "metadata": {
        "colab": {
          "background_save": true
        },
        "id": "yYB1u2oeroXO"
      },
      "outputs": [
        {
          "data": {
            "text/html": [
              "<div>\n",
              "<style scoped>\n",
              "    .dataframe tbody tr th:only-of-type {\n",
              "        vertical-align: middle;\n",
              "    }\n",
              "\n",
              "    .dataframe tbody tr th {\n",
              "        vertical-align: top;\n",
              "    }\n",
              "\n",
              "    .dataframe thead th {\n",
              "        text-align: right;\n",
              "    }\n",
              "</style>\n",
              "<table border=\"1\" class=\"dataframe\">\n",
              "  <thead>\n",
              "    <tr style=\"text-align: right;\">\n",
              "      <th></th>\n",
              "      <th>apply_body</th>\n",
              "      <th>title</th>\n",
              "      <th>street</th>\n",
              "      <th>city</th>\n",
              "      <th>country_code</th>\n",
              "      <th>address_text</th>\n",
              "      <th>marker_icon</th>\n",
              "      <th>workplace_type</th>\n",
              "      <th>company_name</th>\n",
              "      <th>company_url</th>\n",
              "      <th>...</th>\n",
              "      <th>body</th>\n",
              "      <th>company_logo_url</th>\n",
              "      <th>banner_url</th>\n",
              "      <th>skills</th>\n",
              "      <th>remote</th>\n",
              "      <th>employment_types</th>\n",
              "      <th>multilocation</th>\n",
              "      <th>company_profile</th>\n",
              "      <th>skill_name</th>\n",
              "      <th>skill_level</th>\n",
              "    </tr>\n",
              "  </thead>\n",
              "  <tbody>\n",
              "    <tr>\n",
              "      <th>297</th>\n",
              "      <td>None</td>\n",
              "      <td>Analityk Danych Gospodarczych (Ekspert)</td>\n",
              "      <td>ul. Krucza 50, Warszawa</td>\n",
              "      <td>Warszawa</td>\n",
              "      <td>PL</td>\n",
              "      <td>ul. Krucza 50, Warszawa, Warszawa</td>\n",
              "      <td>data</td>\n",
              "      <td>partly_remote</td>\n",
              "      <td>PAIH S.A.</td>\n",
              "      <td>https://www.paih.gov.pl/</td>\n",
              "      <td>...</td>\n",
              "      <td>&lt;div&gt;Praca w &lt;strong&gt;Departamencie Analiz i St...</td>\n",
              "      <td>https://bucket.justjoin.it/offers/company_logo...</td>\n",
              "      <td>None</td>\n",
              "      <td>[{'name': 'CRM', 'level': 3}, {'name': 'Analyt...</td>\n",
              "      <td>False</td>\n",
              "      <td>[{'type': 'permanent', 'salary': None}]</td>\n",
              "      <td>[{'slug': 'paih-s-a-analityk-danych-gospodarcz...</td>\n",
              "      <td>NaN</td>\n",
              "      <td>Analytics</td>\n",
              "      <td>3</td>\n",
              "    </tr>\n",
              "  </tbody>\n",
              "</table>\n",
              "<p>1 rows × 37 columns</p>\n",
              "</div>"
            ],
            "text/plain": [
              "    apply_body                                    title  \\\n",
              "297       None  Analityk Danych Gospodarczych (Ekspert)   \n",
              "\n",
              "                      street      city country_code  \\\n",
              "297  ul. Krucza 50, Warszawa  Warszawa           PL   \n",
              "\n",
              "                          address_text marker_icon workplace_type  \\\n",
              "297  ul. Krucza 50, Warszawa, Warszawa        data  partly_remote   \n",
              "\n",
              "    company_name               company_url  ...  \\\n",
              "297    PAIH S.A.  https://www.paih.gov.pl/  ...   \n",
              "\n",
              "                                                  body  \\\n",
              "297  <div>Praca w <strong>Departamencie Analiz i St...   \n",
              "\n",
              "                                      company_logo_url banner_url  \\\n",
              "297  https://bucket.justjoin.it/offers/company_logo...       None   \n",
              "\n",
              "                                                skills remote  \\\n",
              "297  [{'name': 'CRM', 'level': 3}, {'name': 'Analyt...  False   \n",
              "\n",
              "                            employment_types  \\\n",
              "297  [{'type': 'permanent', 'salary': None}]   \n",
              "\n",
              "                                         multilocation company_profile  \\\n",
              "297  [{'slug': 'paih-s-a-analityk-danych-gospodarcz...             NaN   \n",
              "\n",
              "    skill_name  skill_level  \n",
              "297  Analytics            3  \n",
              "\n",
              "[1 rows x 37 columns]"
            ]
          },
          "execution_count": 120,
          "metadata": {},
          "output_type": "execute_result"
        }
      ],
      "source": [
        "new_df.sample()"
      ]
    },
    {
      "cell_type": "code",
      "execution_count": 121,
      "metadata": {
        "colab": {
          "background_save": true
        },
        "id": "KvGJSECgfZN6"
      },
      "outputs": [
        {
          "data": {
            "text/plain": [
              "array(['SQL', 'DWH', 'ETL', 'NoSQL', 'Snowflake', 'Cloud', 'Qlik',\n",
              "       'Python', 'Data Warehouse', 'Power BI', 'AWS', 'AWS (Strong)',\n",
              "       'Java\\\\Python (Strong)', 'SQL\\\\NoSQL DB', 'Map/Reduce', 'Azure',\n",
              "       'Data quality management', 'data standards', 'R', 'DAX', 'T-SQL',\n",
              "       'Cassandra', 'IoT', 'RabbitMQ', 'Agile', 'BigQuery', 'Airflow',\n",
              "       'GCP', 'Databases', 'Business Intelligence', 'Kanban',\n",
              "       'Risk Management', 'Project Management', 'English', 'Java/Scala',\n",
              "       'Big Data', 'MS Excel', 'BI', 'Azure Data Factory',\n",
              "       'Microsoft Power BI', 'Azure SQL', 'Azure Synapse Analytics',\n",
              "       'Azure Data Storage', 'Azure Databricks', 'Microsoft Purview',\n",
              "       'Azure Cosmos DB', 'Azure Applied AI Services',\n",
              "       'Azure Cognitive Services', 'Data', 'VBA', 'Terraform', 'Lambda',\n",
              "       'GraphQL', 'Presto/Trino', 'Apache Spark/PySpark', 'SAP', 'ERP',\n",
              "       'Data Analysis/Data Science',\n",
              "       'Artificial Intelligence/Machine learning', 'Python 3.x', 'MS SQL',\n",
              "       'Oracle', 'Powershell', 'Jenkins', 'Azure DevOps', 'MsSQL',\n",
              "       'Azure Services', 'Microsoft Azure Cloud', 'Azure Synapse',\n",
              "       'Data Science', 'Graph Analytics', 'Neo4j', 'TigerGraph',\n",
              "       'Palantir', 'Quantexa', 'PostgreSQL', 'Elasticsearch', 'API',\n",
              "       'Data Center', 'G1', 'MongoDB', 'Spark', 'Google Cloud Platform',\n",
              "       'C++', 'Data Management', 'Kafk', 'PL/SQL', 'Apex', 'IDE', 'wiki',\n",
              "       'sad', 'Unit Testing', 'VSS', 'DBMS', 'Angielski', 'SQL Server',\n",
              "       'Databricks', 'Analytics', 'Flask', 'Solid', 'Design Patterns',\n",
              "       'JIRA', 'Git', 'Bitbucket', 'Oracle SQL', 'GBQ', 'Kubernetes',\n",
              "       'AI', 'Machine Learning', 'Java', 'People Management', 'DevOps',\n",
              "       'Mass data', 'OpenShift', 'MapR Cluster', 'PySpark', 'TSQL',\n",
              "       'Apache Airflow', 'Scala', 'Hadoop', 'hBase',\n",
              "       'EDW architectural frameworks', 'Data architecture',\n",
              "       'Power Platform', 'SharePoint', 'Microsoft Azure',\n",
              "       'Web Development', 'C#/JS/Python', 'data governance', 'Colibra',\n",
              "       'AbInitio', 'Ataccama', 'Azure Data Lake',\n",
              "       'Spark / pySpark / Python', 'Azure Stream Analytics',\n",
              "       'Azure Event hub', 'Git/SVN', 'Data Streaming and Kafka', 'OLAP',\n",
              "       'SAP HANA', 'Polish', 'AutomateNow', 'TeamCity',\n",
              "       'Informatica Powercenter', 'kubeflow', 'Kafka', 'Hive', 'UML',\n",
              "       'Google Analytics', 'Looker Studio', 'Firebase',\n",
              "       'Google Tag Manager', 'KPI', 'marketing automation', 'CRM',\n",
              "       'Microsoft', 'Tableau', 'Oracle APEX', 'JSON', 'REST API',\n",
              "       'Oracle DB', 'IBM DataStage', 'Microsoft SQL Server', 'Unix',\n",
              "       'SAS', 'master data', 'DWH IBM', 'Leadership', 'ITIL',\n",
              "       'JavaScript', 'UML/BPMN', 'Analytical Thinking',\n",
              "       'Google Loker Studio', 'Perl', 'Lamp / Linux', 'NIFI',\n",
              "       'IBM Data Stage', 'MS Power BI', 'Data Warehousing', 'Excel',\n",
              "       'MS Office', 'PIM', 'CMS', 'E-commerce', 'ScyllaDB', 'Linux',\n",
              "       'protocols', 'Degree', 'Prometheus', 'DNS', 'Bash',\n",
              "       'Data Engineering', 'PowerBi', 'Word', 'Power Point',\n",
              "       'Umiejętności analityczne', 'Windows Administration', 'COMARCH',\n",
              "       'C#', '.NET C#', 'Azure Analysis Services', 'Synapse Analytics',\n",
              "       'Data Factory', 'Database', 'Azure/AWS', 'Power Shell',\n",
              "       'MS SQL Server', 'Business Analysis', 'Crystal Reports', 'SAP RAR',\n",
              "       'FICA', 'RAR', 'Data Pipelines', 'Data modeling', 'Looker',\n",
              "       'Data cloud', 'Data engineer', 'MVC', 'SSIS', 'SSRS',\n",
              "       'Private Capital fund industry', 'eFront', 'Torchscript', 'ONNX',\n",
              "       'Docker', 'Multifond', 'Arc Regulatory', 'Fund ID', 'Arep',\n",
              "       'SQL Profiler', 'WebService', 'Oracle BI', 'VBScript', 'Graph API',\n",
              "       'MS', 'AD', 'MECM', 'MS/Postgre SQL', 'Technologie Voice i eCom',\n",
              "       'Niemiecki', 'Confluent Kafka', 'Ansible', 'JupyterHub', 'MapR',\n",
              "       'HPE Ezmeral Data Fabric', 'analiza', 'PHP', 'MySQL', 'Symfony',\n",
              "       'Oracle Forms', 'TimeXtender', 'MS Data', 'ELT', 'ETL tools',\n",
              "       'Team Leadership', 'German', 'MariaDB', 'Eloquence', 'AIX',\n",
              "       'scikit-learn', 'TensorFlow', 'VS Code', 'Relational Databases',\n",
              "       'Azure SQL DW', 'Delta Lake', 'Synapse',\n",
              "       'Azure Synapse Analytics / Azure Data Factory',\n",
              "       'SQL / T-SQL / Spark-SQL', 'Power BI Dax Query Language',\n",
              "       'Azure Functions', 'Kubernetes/Openshift', 'Data Platform',\n",
              "       'Containers', 'Analytical skills', 'Communication Skills',\n",
              "       'Problem Solving', 'Quality Assurance', 'Trading Systems',\n",
              "       'Golang', 'Ceph', 'Big Query', 'MS SQL Server on SAN’s',\n",
              "       'SolarWinds Database Performance Analyzer', 'NumPy', 'Pandas',\n",
              "       'Jupyter Notebook', 'SAP BODS', 'MS Azure', 'qad', 'AX09',\n",
              "       'Data analysis', 'MSSIS', 'Data Vault', 'Ab Initio', 'SAP S4/Hana',\n",
              "       'SAP BW', 'Linux / Unix', 'SOAP/REST API', 'Google BigQuery',\n",
              "       'fiddler', 'data analyst', '4gl', 'Confluence', 'Deep Learning',\n",
              "       'Python/R', 'R Shiny', 'Metabase', 'IT', 'SASE', 'LAN/WAN',\n",
              "       'finance', 'MSR', 'powerPoint', 'SAP BusinessObjects', 'Matlab',\n",
              "       'Statistics', 'Bloomberg', 'Apache Kafka', 'Apache Spark',\n",
              "       'Apache Flink', 'Amazon AWS', 'Analiza Biznesowa', 'BPMN', 'SOA',\n",
              "       'solvency II', 'BEL', 'SCR', 'SAS EG', 'PYTHON / VBA / R',\n",
              "       'inżynieria przemysłowa', 'Business management', 'REST',\n",
              "       'data mart', 'Microsoft SQL', 'Power Query', 'Pricing Models',\n",
              "       'Derivatives', 'Financial Instrumetns', 'Cryptocurrencies',\n",
              "       'matematyka finansowa', 'Modelowanie matematyczne',\n",
              "       'Zarządzanie ryzykiem', 'Bloomberg / Reuters', 'MS Excel i VBA',\n",
              "       'Management', 'HTML', 'CSS', 'WebCon BPS', 'Oracle EBS',\n",
              "       'Fusion Cloud', 'oracle financials', 'Oracle SCM', 'OCI',\n",
              "       'Hyperion', '.NET Core', 'Microservices', '.NET 6', '.Net 5',\n",
              "       'Data procesing', 'Oracle DBA', 'Oracle RDBMS', 'Spring Boot',\n",
              "       'SAP MDM', 'Salesforce', 'Bots', 'Dane', 'SAP HR', 'SAS CI Studio',\n",
              "       'HTML5 / CSS3', 'GTM', 'Optimizely', 'GitLab', 'SSAS/AAS', 'M',\n",
              "       'Data Lake', 'PostreSQL', 'ETL/ELT', 'banking', 'Scrum',\n",
              "       'Audyt IT', 'Analiza Danych', 'Testing', 'VMware', 'Hyper-V',\n",
              "       'ML Techniques', 'GB/GF', 'Cortex XSOAR', 'data processing',\n",
              "       'SIEM', 'IT Security', 'ML', 'Alteryxa', 'IFS Cloud', 'Matillion',\n",
              "       'Google Cloud', 'GitHub', 'CI/CD', 'Amplitude', 'SEMrush',\n",
              "       'AWS Glue', 'ServiceNow', 'AngularJS', 'HTML/CSS',\n",
              "       'ITSM/CMDB/SELF-SERVICE corporate tools', 'Cloud SQL',\n",
              "       'Networking', 'Identity Management', 'virtualisation', 'secutity',\n",
              "       'NLP', 'LLMs', 'LLM', 'SAP MM', 'Node.js', 'Ruby on Rails',\n",
              "       'Data Analystics', 'narzędzia do wizualizacji i analizy danych',\n",
              "       'Data Strategy', 'Data Architecure', 'ESG', 'Security',\n",
              "       'IT Support', 'Relacyjne Bazy Danych', 'Scada', 'MES',\n",
              "       'ETL process', 'DATA MODELLING', 'Data Bricks', 'DBT', 'Fivetran',\n",
              "       'AWS / Azure', 'Python/PySpark', 'Azure Data factory.', 'Mac OS',\n",
              "       'Oracle PL/SQL', 'Star/Snowflake', 'Apache', 'Visualforce', 'LWC',\n",
              "       '.Net', 'ALM Quality Center', 'Octane', '4D technology', 'Autosys',\n",
              "       'unix shell', 'IRP', 'Hadoop-Based Analytics', 'OOP',\n",
              "       'GCP/AWS/AZURE', 'Databricks/Dataiku/Alteryx', 'DevOps Components',\n",
              "       'IS Service Delivery', 'Network Service Owner', 'Global WAN',\n",
              "       'LAN technologies', 'Big Table', 'Go', 'Amazon Redshift', 'SSAS',\n",
              "       'MLOps', 'Pipeline Pilot', 'alteryx', 'ETL applications',\n",
              "       'Data Warehouses', 'Qlik Sense', 'NPrinting', 'Qlik View', 'ALM',\n",
              "       'shiny', 'Julia', 'Kedro', 'MLflow', 'QlikSense', 'RPA',\n",
              "       'Palantir Foundry', 'Consulting', 'data analytics',\n",
              "       'Cloud Platforms', 'PyTorch', 'Windows Server', 'Kibana',\n",
              "       'Computer science', 'Data Integration', 'Windows',\n",
              "       'integracja systemów',\n",
              "       'REST API / JSON / XML / UML / Postman / Swagger / WSDL', 'Groovy',\n",
              "       'Informatica', 'dataLayer', 'Statistic', 'Komunikatywność',\n",
              "       'Testy A/B', 'change manager', 'SAP - wdrożenia',\n",
              "       'projekty IT - wdrożenia', 'SharePont Jira Confluence',\n",
              "       'Analityczne Myślenie', 'współpraca z biznesem',\n",
              "       'Zarządzanie zmianą', 'certyfikaty', 'referencje', 'SAS Viya',\n",
              "       'Google Sheets', 'doradztwo', 'WPF', 'MS Power Platform',\n",
              "       'Grafana', 'Delta-Lake', 'MS tools', 'Jira/Confluence',\n",
              "       'Controlling', 'reklama online', 'DSP', 'DV360', 'Adform',\n",
              "       'Category Management', 'VB6', 'Appsheets', 'programmatic', 'DMC',\n",
              "       'Youtube Analytics', 'Adobe Analytics', 'GMP', 'Search Ads',\n",
              "       'Technical Support', 'Help Desk', 'aplikacje biznesowe',\n",
              "       'wsparcie telefoniczne', 'TIA', 'Processing data'], dtype=object)"
            ]
          },
          "execution_count": 121,
          "metadata": {},
          "output_type": "execute_result"
        }
      ],
      "source": [
        "new_df.skill_name.unique()"
      ]
    },
    {
      "cell_type": "code",
      "execution_count": 122,
      "metadata": {
        "colab": {
          "background_save": true
        },
        "id": "WYBz4_MNfe0g"
      },
      "outputs": [
        {
          "data": {
            "text/plain": [
              "530"
            ]
          },
          "execution_count": 122,
          "metadata": {},
          "output_type": "execute_result"
        }
      ],
      "source": [
        "new_df.skill_name.nunique()"
      ]
    },
    {
      "cell_type": "code",
      "execution_count": 123,
      "metadata": {
        "colab": {
          "background_save": true
        },
        "id": "O6jg-xX2gR1X"
      },
      "outputs": [],
      "source": [
        "# Po co to?\n",
        "\n",
        "clean_df = new_df.copy()\n",
        "clean_df = standardize_text(clean_df, \"title\")\n",
        "clean_df = standardize_text(clean_df, \"skill_name\")"
      ]
    },
    {
      "cell_type": "code",
      "execution_count": 124,
      "metadata": {
        "colab": {
          "background_save": true
        },
        "id": "ojvkVUjQroXO"
      },
      "outputs": [
        {
          "data": {
            "text/html": [
              "<div>\n",
              "<style scoped>\n",
              "    .dataframe tbody tr th:only-of-type {\n",
              "        vertical-align: middle;\n",
              "    }\n",
              "\n",
              "    .dataframe tbody tr th {\n",
              "        vertical-align: top;\n",
              "    }\n",
              "\n",
              "    .dataframe thead th {\n",
              "        text-align: right;\n",
              "    }\n",
              "</style>\n",
              "<table border=\"1\" class=\"dataframe\">\n",
              "  <thead>\n",
              "    <tr style=\"text-align: right;\">\n",
              "      <th></th>\n",
              "      <th>apply_body</th>\n",
              "      <th>title</th>\n",
              "      <th>street</th>\n",
              "      <th>city</th>\n",
              "      <th>country_code</th>\n",
              "      <th>address_text</th>\n",
              "      <th>marker_icon</th>\n",
              "      <th>workplace_type</th>\n",
              "      <th>company_name</th>\n",
              "      <th>company_url</th>\n",
              "      <th>...</th>\n",
              "      <th>body</th>\n",
              "      <th>company_logo_url</th>\n",
              "      <th>banner_url</th>\n",
              "      <th>skills</th>\n",
              "      <th>remote</th>\n",
              "      <th>employment_types</th>\n",
              "      <th>multilocation</th>\n",
              "      <th>company_profile</th>\n",
              "      <th>skill_name</th>\n",
              "      <th>skill_level</th>\n",
              "    </tr>\n",
              "  </thead>\n",
              "  <tbody>\n",
              "    <tr>\n",
              "      <th>0</th>\n",
              "      <td>None</td>\n",
              "      <td>big data developer / sql developer</td>\n",
              "      <td>Skierniewicka 10A</td>\n",
              "      <td>Warszawa</td>\n",
              "      <td>PL</td>\n",
              "      <td>Skierniewicka 10A, Warszawa</td>\n",
              "      <td>data</td>\n",
              "      <td>remote</td>\n",
              "      <td>core3</td>\n",
              "      <td>http://core3.pl</td>\n",
              "      <td>...</td>\n",
              "      <td>&lt;div&gt;Do naszego wewnętrznego zespołu Data &amp;amp...</td>\n",
              "      <td>https://bucket.justjoin.it/offers/company_logo...</td>\n",
              "      <td>None</td>\n",
              "      <td>[{'name': 'SQL', 'level': 4}, {'name': 'DWH', ...</td>\n",
              "      <td>True</td>\n",
              "      <td>[{'type': 'b2b', 'salary': {'from': 10000, 'to...</td>\n",
              "      <td>[{'slug': 'core3-big-data-developer-sql-develo...</td>\n",
              "      <td>NaN</td>\n",
              "      <td>sql</td>\n",
              "      <td>4</td>\n",
              "    </tr>\n",
              "    <tr>\n",
              "      <th>1</th>\n",
              "      <td>None</td>\n",
              "      <td>big data developer / sql developer</td>\n",
              "      <td>Skierniewicka 10A</td>\n",
              "      <td>Warszawa</td>\n",
              "      <td>PL</td>\n",
              "      <td>Skierniewicka 10A, Warszawa</td>\n",
              "      <td>data</td>\n",
              "      <td>remote</td>\n",
              "      <td>core3</td>\n",
              "      <td>http://core3.pl</td>\n",
              "      <td>...</td>\n",
              "      <td>&lt;div&gt;Do naszego wewnętrznego zespołu Data &amp;amp...</td>\n",
              "      <td>https://bucket.justjoin.it/offers/company_logo...</td>\n",
              "      <td>None</td>\n",
              "      <td>[{'name': 'SQL', 'level': 4}, {'name': 'DWH', ...</td>\n",
              "      <td>True</td>\n",
              "      <td>[{'type': 'b2b', 'salary': {'from': 10000, 'to...</td>\n",
              "      <td>[{'slug': 'core3-big-data-developer-sql-develo...</td>\n",
              "      <td>NaN</td>\n",
              "      <td>dwh</td>\n",
              "      <td>3</td>\n",
              "    </tr>\n",
              "    <tr>\n",
              "      <th>2</th>\n",
              "      <td>None</td>\n",
              "      <td>big data developer / sql developer</td>\n",
              "      <td>Skierniewicka 10A</td>\n",
              "      <td>Warszawa</td>\n",
              "      <td>PL</td>\n",
              "      <td>Skierniewicka 10A, Warszawa</td>\n",
              "      <td>data</td>\n",
              "      <td>remote</td>\n",
              "      <td>core3</td>\n",
              "      <td>http://core3.pl</td>\n",
              "      <td>...</td>\n",
              "      <td>&lt;div&gt;Do naszego wewnętrznego zespołu Data &amp;amp...</td>\n",
              "      <td>https://bucket.justjoin.it/offers/company_logo...</td>\n",
              "      <td>None</td>\n",
              "      <td>[{'name': 'SQL', 'level': 4}, {'name': 'DWH', ...</td>\n",
              "      <td>True</td>\n",
              "      <td>[{'type': 'b2b', 'salary': {'from': 10000, 'to...</td>\n",
              "      <td>[{'slug': 'core3-big-data-developer-sql-develo...</td>\n",
              "      <td>NaN</td>\n",
              "      <td>etl</td>\n",
              "      <td>3</td>\n",
              "    </tr>\n",
              "    <tr>\n",
              "      <th>3</th>\n",
              "      <td>None</td>\n",
              "      <td>big data developer / sql developer</td>\n",
              "      <td>Skierniewicka 10A</td>\n",
              "      <td>Warszawa</td>\n",
              "      <td>PL</td>\n",
              "      <td>Skierniewicka 10A, Warszawa</td>\n",
              "      <td>data</td>\n",
              "      <td>remote</td>\n",
              "      <td>core3</td>\n",
              "      <td>http://core3.pl</td>\n",
              "      <td>...</td>\n",
              "      <td>&lt;div&gt;Do naszego wewnętrznego zespołu Data &amp;amp...</td>\n",
              "      <td>https://bucket.justjoin.it/offers/company_logo...</td>\n",
              "      <td>None</td>\n",
              "      <td>[{'name': 'SQL', 'level': 4}, {'name': 'DWH', ...</td>\n",
              "      <td>True</td>\n",
              "      <td>[{'type': 'b2b', 'salary': {'from': 10000, 'to...</td>\n",
              "      <td>[{'slug': 'core3-big-data-developer-sql-develo...</td>\n",
              "      <td>NaN</td>\n",
              "      <td>nosql</td>\n",
              "      <td>1</td>\n",
              "    </tr>\n",
              "    <tr>\n",
              "      <th>4</th>\n",
              "      <td>None</td>\n",
              "      <td>big data developer / sql developer</td>\n",
              "      <td>Skierniewicka 10A</td>\n",
              "      <td>Warszawa</td>\n",
              "      <td>PL</td>\n",
              "      <td>Skierniewicka 10A, Warszawa</td>\n",
              "      <td>data</td>\n",
              "      <td>remote</td>\n",
              "      <td>core3</td>\n",
              "      <td>http://core3.pl</td>\n",
              "      <td>...</td>\n",
              "      <td>&lt;div&gt;Do naszego wewnętrznego zespołu Data &amp;amp...</td>\n",
              "      <td>https://bucket.justjoin.it/offers/company_logo...</td>\n",
              "      <td>None</td>\n",
              "      <td>[{'name': 'SQL', 'level': 4}, {'name': 'DWH', ...</td>\n",
              "      <td>True</td>\n",
              "      <td>[{'type': 'b2b', 'salary': {'from': 10000, 'to...</td>\n",
              "      <td>[{'slug': 'core3-big-data-developer-sql-develo...</td>\n",
              "      <td>NaN</td>\n",
              "      <td>snowflake</td>\n",
              "      <td>1</td>\n",
              "    </tr>\n",
              "  </tbody>\n",
              "</table>\n",
              "<p>5 rows × 37 columns</p>\n",
              "</div>"
            ],
            "text/plain": [
              "  apply_body                               title             street      city  \\\n",
              "0       None  big data developer / sql developer  Skierniewicka 10A  Warszawa   \n",
              "1       None  big data developer / sql developer  Skierniewicka 10A  Warszawa   \n",
              "2       None  big data developer / sql developer  Skierniewicka 10A  Warszawa   \n",
              "3       None  big data developer / sql developer  Skierniewicka 10A  Warszawa   \n",
              "4       None  big data developer / sql developer  Skierniewicka 10A  Warszawa   \n",
              "\n",
              "  country_code                 address_text marker_icon workplace_type  \\\n",
              "0           PL  Skierniewicka 10A, Warszawa        data         remote   \n",
              "1           PL  Skierniewicka 10A, Warszawa        data         remote   \n",
              "2           PL  Skierniewicka 10A, Warszawa        data         remote   \n",
              "3           PL  Skierniewicka 10A, Warszawa        data         remote   \n",
              "4           PL  Skierniewicka 10A, Warszawa        data         remote   \n",
              "\n",
              "  company_name      company_url  ...  \\\n",
              "0        core3  http://core3.pl  ...   \n",
              "1        core3  http://core3.pl  ...   \n",
              "2        core3  http://core3.pl  ...   \n",
              "3        core3  http://core3.pl  ...   \n",
              "4        core3  http://core3.pl  ...   \n",
              "\n",
              "                                                body  \\\n",
              "0  <div>Do naszego wewnętrznego zespołu Data &amp...   \n",
              "1  <div>Do naszego wewnętrznego zespołu Data &amp...   \n",
              "2  <div>Do naszego wewnętrznego zespołu Data &amp...   \n",
              "3  <div>Do naszego wewnętrznego zespołu Data &amp...   \n",
              "4  <div>Do naszego wewnętrznego zespołu Data &amp...   \n",
              "\n",
              "                                    company_logo_url banner_url  \\\n",
              "0  https://bucket.justjoin.it/offers/company_logo...       None   \n",
              "1  https://bucket.justjoin.it/offers/company_logo...       None   \n",
              "2  https://bucket.justjoin.it/offers/company_logo...       None   \n",
              "3  https://bucket.justjoin.it/offers/company_logo...       None   \n",
              "4  https://bucket.justjoin.it/offers/company_logo...       None   \n",
              "\n",
              "                                              skills remote  \\\n",
              "0  [{'name': 'SQL', 'level': 4}, {'name': 'DWH', ...   True   \n",
              "1  [{'name': 'SQL', 'level': 4}, {'name': 'DWH', ...   True   \n",
              "2  [{'name': 'SQL', 'level': 4}, {'name': 'DWH', ...   True   \n",
              "3  [{'name': 'SQL', 'level': 4}, {'name': 'DWH', ...   True   \n",
              "4  [{'name': 'SQL', 'level': 4}, {'name': 'DWH', ...   True   \n",
              "\n",
              "                                    employment_types  \\\n",
              "0  [{'type': 'b2b', 'salary': {'from': 10000, 'to...   \n",
              "1  [{'type': 'b2b', 'salary': {'from': 10000, 'to...   \n",
              "2  [{'type': 'b2b', 'salary': {'from': 10000, 'to...   \n",
              "3  [{'type': 'b2b', 'salary': {'from': 10000, 'to...   \n",
              "4  [{'type': 'b2b', 'salary': {'from': 10000, 'to...   \n",
              "\n",
              "                                       multilocation company_profile  \\\n",
              "0  [{'slug': 'core3-big-data-developer-sql-develo...             NaN   \n",
              "1  [{'slug': 'core3-big-data-developer-sql-develo...             NaN   \n",
              "2  [{'slug': 'core3-big-data-developer-sql-develo...             NaN   \n",
              "3  [{'slug': 'core3-big-data-developer-sql-develo...             NaN   \n",
              "4  [{'slug': 'core3-big-data-developer-sql-develo...             NaN   \n",
              "\n",
              "  skill_name  skill_level  \n",
              "0        sql            4  \n",
              "1        dwh            3  \n",
              "2        etl            3  \n",
              "3      nosql            1  \n",
              "4  snowflake            1  \n",
              "\n",
              "[5 rows x 37 columns]"
            ]
          },
          "execution_count": 124,
          "metadata": {},
          "output_type": "execute_result"
        }
      ],
      "source": [
        "clean_df.head(5)"
      ]
    },
    {
      "cell_type": "code",
      "execution_count": 125,
      "metadata": {
        "colab": {
          "background_save": true
        },
        "id": "XCVG8Uwzfhlm"
      },
      "outputs": [],
      "source": [
        "top_values = clean_df['skill_name'].value_counts().head(20)\n",
        "top_20_skills = list(top_values.index)"
      ]
    },
    {
      "cell_type": "code",
      "execution_count": 126,
      "metadata": {
        "colab": {
          "background_save": true
        },
        "id": "EAjoCKmsih0E"
      },
      "outputs": [
        {
          "name": "stdout",
          "output_type": "stream",
          "text": [
            "['sql', 'python', 'english', 'power bi', 'etl', 'azure', 'java', 'aws', 'snowflake', 'oracle', 'databricks', 'data', 'big data', 'pl/sql', 'scala', 'machine learning', 'spark', 'dwh', 'gcp', 'databases']\n"
          ]
        }
      ],
      "source": [
        "print(top_20_skills)"
      ]
    },
    {
      "cell_type": "code",
      "execution_count": 127,
      "metadata": {},
      "outputs": [],
      "source": [
        "with open('output.txt', 'w') as file:\n",
        "    for item in top_20_skills:\n",
        "        file.write(str(item) + '\\n')"
      ]
    },
    {
      "cell_type": "code",
      "execution_count": 128,
      "metadata": {
        "colab": {
          "background_save": true
        },
        "id": "9bgnE6xhroXT"
      },
      "outputs": [
        {
          "data": {
            "image/png": "[encoded data removed]",
            "text/plain": [
              "<Figure size 1000x600 with 1 Axes>"
            ]
          },
          "metadata": {},
          "output_type": "display_data"
        }
      ],
      "source": [
        "plt.figure(figsize=(10, 6))\n",
        "sns.set(style=\"darkgrid\")\n",
        "plot = sns.barplot(x=clean_df['skill_name'].value_counts().iloc[:20].index, y=clean_df['skill_name'].value_counts().iloc[:20].values)\n",
        "plot.set_title('20 Most Common Skills')\n",
        "plot.set_xticklabels(plot.get_xticklabels(), rotation=45, horizontalalignment='right')\n",
        "\n",
        "plt.show()"
      ]
    },
    {
      "cell_type": "code",
      "execution_count": 129,
      "metadata": {
        "colab": {
          "background_save": true
        },
        "id": "dd32fVp7roXU"
      },
      "outputs": [],
      "source": [
        "# Sprawdzanie i zamiana wartości\n",
        "common_skills_df = clean_df.copy()\n",
        "mask = ~common_skills_df['skill_name'].isin(top_20_skills)\n",
        "common_skills_df.loc[mask, 'skill_name'] = None\n"
      ]
    },
    {
      "cell_type": "code",
      "execution_count": 130,
      "metadata": {
        "colab": {
          "background_save": true
        },
        "id": "ZHzRMyr4QPDm"
      },
      "outputs": [],
      "source": [
        "most_common_skills_df = common_skills_df.dropna(subset=['skill_name'])"
      ]
    },
    {
      "cell_type": "code",
      "execution_count": 131,
      "metadata": {
        "colab": {
          "background_save": true
        },
        "id": "KAaH9P8_QW09"
      },
      "outputs": [
        {
          "name": "stdout",
          "output_type": "stream",
          "text": [
            "<class 'pandas.core.frame.DataFrame'>\n",
            "RangeIndex: 2411 entries, 0 to 2410\n",
            "Data columns (total 37 columns):\n",
            " #   Column                   Non-Null Count  Dtype \n",
            "---  ------                   --------------  ----- \n",
            " 0   apply_body               0 non-null      object\n",
            " 1   title                    2411 non-null   object\n",
            " 2   street                   2411 non-null   object\n",
            " 3   city                     2411 non-null   object\n",
            " 4   country_code             2410 non-null   object\n",
            " 5   address_text             2411 non-null   object\n",
            " 6   marker_icon              2411 non-null   object\n",
            " 7   workplace_type           2411 non-null   object\n",
            " 8   company_name             2411 non-null   object\n",
            " 9   company_url              2411 non-null   object\n",
            " 10  company_size             2411 non-null   object\n",
            " 11  experience_level         2411 non-null   object\n",
            " 12  latitude                 2411 non-null   object\n",
            " 13  longitude                2411 non-null   object\n",
            " 14  apply_url                1509 non-null   object\n",
            " 15  published_at             2411 non-null   object\n",
            " 16  remote_interview         2411 non-null   bool  \n",
            " 17  video_key                1 non-null      object\n",
            " 18  video_provider           1 non-null      object\n",
            " 19  open_to_hire_ukrainians  2411 non-null   bool  \n",
            " 20  future_consent_title     2085 non-null   object\n",
            " 21  future_consent           2085 non-null   object\n",
            " 22  information_clause       2411 non-null   object\n",
            " 23  custom_consent_title     314 non-null    object\n",
            " 24  custom_consent           314 non-null    object\n",
            " 25  id                       2411 non-null   object\n",
            " 26  tags                     2411 non-null   object\n",
            " 27  body                     2411 non-null   object\n",
            " 28  company_logo_url         2411 non-null   object\n",
            " 29  banner_url               16 non-null     object\n",
            " 30  skills                   2411 non-null   object\n",
            " 31  remote                   2411 non-null   bool  \n",
            " 32  employment_types         2411 non-null   object\n",
            " 33  multilocation            2411 non-null   object\n",
            " 34  company_profile          1058 non-null   object\n",
            " 35  skill_name               2411 non-null   object\n",
            " 36  skill_level              2411 non-null   int64 \n",
            "dtypes: bool(3), int64(1), object(33)\n",
            "memory usage: 647.6+ KB\n"
          ]
        }
      ],
      "source": [
        "most_common_skills_df.reset_index(drop=True, inplace = True)\n",
        "most_common_skills_df.info()"
      ]
    },
    {
      "cell_type": "code",
      "execution_count": 132,
      "metadata": {
        "colab": {
          "background_save": true
        },
        "id": "6xvMGqrdroXU"
      },
      "outputs": [
        {
          "data": {
            "text/plain": [
              "Index(['apply_body', 'title', 'street', 'city', 'country_code', 'address_text',\n",
              "       'marker_icon', 'workplace_type', 'company_name', 'company_url',\n",
              "       'company_size', 'experience_level', 'latitude', 'longitude',\n",
              "       'apply_url', 'published_at', 'remote_interview', 'video_key',\n",
              "       'video_provider', 'open_to_hire_ukrainians', 'future_consent_title',\n",
              "       'future_consent', 'information_clause', 'custom_consent_title',\n",
              "       'custom_consent', 'id', 'tags', 'body', 'company_logo_url',\n",
              "       'banner_url', 'skills', 'remote', 'employment_types', 'multilocation',\n",
              "       'company_profile', 'skill_name', 'skill_level'],\n",
              "      dtype='object')"
            ]
          },
          "execution_count": 132,
          "metadata": {},
          "output_type": "execute_result"
        }
      ],
      "source": [
        "most_common_skills_df.columns"
      ]
    },
    {
      "cell_type": "code",
      "execution_count": 198,
      "metadata": {
        "colab": {
          "background_save": true
        },
        "id": "ywo6HEAlroXU"
      },
      "outputs": [],
      "source": [
        "dummies = pd.get_dummies(most_common_skills_df['skill_name'], prefix='skill')\n",
        "\n",
        "for col in dummies.columns:\n",
        "    dummies[col] *=  most_common_skills_df['skill_level']\n",
        "\n",
        "# Dołączanie kolumn dummies\n",
        "aggregated_df = pd.concat([most_common_skills_df, dummies], axis=1)\n",
        "\n",
        "def custom_agg(series):\n",
        "    if series.name.startswith('skill'):\n",
        "        return series.sum()\n",
        "    else:\n",
        "        return series.iat[0]\n",
        "\n",
        "\n",
        "aggregated_df = aggregated_df.drop('skill_name', axis=1)\n",
        "aggregated_df = aggregated_df.drop('skills', axis=1)\n",
        "\n",
        "# Grupowanie, agregacja i reset indeksu\n",
        "aggregated_df = aggregated_df.groupby('id', as_index=False).agg(custom_agg)\n",
        "aggregated_df = aggregated_df.drop('skill_level', axis=1)"
      ]
    },
    {
      "cell_type": "code",
      "execution_count": 199,
      "metadata": {
        "colab": {
          "background_save": true
        },
        "id": "1Gbhfv0nroXU"
      },
      "outputs": [
        {
          "name": "stdout",
          "output_type": "stream",
          "text": [
            "<class 'pandas.core.frame.DataFrame'>\n",
            "RangeIndex: 946 entries, 0 to 945\n",
            "Data columns (total 54 columns):\n",
            " #   Column                   Non-Null Count  Dtype \n",
            "---  ------                   --------------  ----- \n",
            " 0   id                       946 non-null    object\n",
            " 1   apply_body               0 non-null      object\n",
            " 2   title                    946 non-null    object\n",
            " 3   street                   946 non-null    object\n",
            " 4   city                     946 non-null    object\n",
            " 5   country_code             945 non-null    object\n",
            " 6   address_text             946 non-null    object\n",
            " 7   marker_icon              946 non-null    object\n",
            " 8   workplace_type           946 non-null    object\n",
            " 9   company_name             946 non-null    object\n",
            " 10  company_url              946 non-null    object\n",
            " 11  company_size             946 non-null    object\n",
            " 12  experience_level         946 non-null    object\n",
            " 13  latitude                 946 non-null    object\n",
            " 14  longitude                946 non-null    object\n",
            " 15  apply_url                604 non-null    object\n",
            " 16  published_at             946 non-null    object\n",
            " 17  remote_interview         946 non-null    bool  \n",
            " 18  video_key                1 non-null      object\n",
            " 19  video_provider           1 non-null      object\n",
            " 20  open_to_hire_ukrainians  946 non-null    bool  \n",
            " 21  future_consent_title     806 non-null    object\n",
            " 22  future_consent           806 non-null    object\n",
            " 23  information_clause       946 non-null    object\n",
            " 24  custom_consent_title     122 non-null    object\n",
            " 25  custom_consent           122 non-null    object\n",
            " 26  tags                     946 non-null    object\n",
            " 27  body                     946 non-null    object\n",
            " 28  company_logo_url         946 non-null    object\n",
            " 29  banner_url               8 non-null      object\n",
            " 30  remote                   946 non-null    bool  \n",
            " 31  employment_types         946 non-null    object\n",
            " 32  multilocation            946 non-null    object\n",
            " 33  company_profile          372 non-null    object\n",
            " 34  skill_aws                946 non-null    int64 \n",
            " 35  skill_azure              946 non-null    int64 \n",
            " 36  skill_big data           946 non-null    int64 \n",
            " 37  skill_data               946 non-null    int64 \n",
            " 38  skill_databases          946 non-null    int64 \n",
            " 39  skill_databricks         946 non-null    int64 \n",
            " 40  skill_dwh                946 non-null    int64 \n",
            " 41  skill_english            946 non-null    int64 \n",
            " 42  skill_etl                946 non-null    int64 \n",
            " 43  skill_gcp                946 non-null    int64 \n",
            " 44  skill_java               946 non-null    int64 \n",
            " 45  skill_machine learning   946 non-null    int64 \n",
            " 46  skill_oracle             946 non-null    int64 \n",
            " 47  skill_pl/sql             946 non-null    int64 \n",
            " 48  skill_power bi           946 non-null    int64 \n",
            " 49  skill_python             946 non-null    int64 \n",
            " 50  skill_scala              946 non-null    int64 \n",
            " 51  skill_snowflake          946 non-null    int64 \n",
            " 52  skill_spark              946 non-null    int64 \n",
            " 53  skill_sql                946 non-null    int64 \n",
            "dtypes: bool(3), int64(20), object(31)\n",
            "memory usage: 379.8+ KB\n"
          ]
        }
      ],
      "source": [
        "aggregated_df.info()"
      ]
    },
    {
      "cell_type": "markdown",
      "metadata": {
        "id": "T9VfDcCOroXU"
      },
      "source": [
        "## Dealing with experience level - label encoding"
      ]
    },
    {
      "cell_type": "code",
      "execution_count": 200,
      "metadata": {},
      "outputs": [
        {
          "data": {
            "text/plain": [
              "array(['mid', 'senior', 'junior'], dtype=object)"
            ]
          },
          "execution_count": 200,
          "metadata": {},
          "output_type": "execute_result"
        }
      ],
      "source": [
        "aggregated_df['experience_level'].unique()"
      ]
    },
    {
      "cell_type": "code",
      "execution_count": 201,
      "metadata": {
        "colab": {
          "background_save": true
        },
        "id": "6cfNNP2nroXV"
      },
      "outputs": [],
      "source": [
        "# label_encoder = preprocessing.LabelEncoder()\n",
        "# aggregated_df['experience_level']= label_encoder.fit_transform(aggregated_df['experience_level'])\n",
        "level_mapping = {'junior': 0, 'mid': 1, 'senior': 2}\n",
        "aggregated_df['experience_level'] = aggregated_df['experience_level'].map(level_mapping)"
      ]
    },
    {
      "cell_type": "code",
      "execution_count": 202,
      "metadata": {},
      "outputs": [
        {
          "data": {
            "text/plain": [
              "array([1, 2, 0])"
            ]
          },
          "execution_count": 202,
          "metadata": {},
          "output_type": "execute_result"
        }
      ],
      "source": [
        "aggregated_df['experience_level'].unique()"
      ]
    },
    {
      "cell_type": "markdown",
      "metadata": {
        "id": "IoFXGuoTroXV"
      },
      "source": [
        "## Dealing with 'workplace_type', 'country_code'"
      ]
    },
    {
      "cell_type": "code",
      "execution_count": 137,
      "metadata": {
        "colab": {
          "background_save": true
        },
        "id": "aBqXs4qjroXV"
      },
      "outputs": [
        {
          "data": {
            "text/plain": [
              "array(['remote', 'partly_remote', 'office'], dtype=object)"
            ]
          },
          "execution_count": 137,
          "metadata": {},
          "output_type": "execute_result"
        }
      ],
      "source": [
        "aggregated_df['workplace_type'].unique()"
      ]
    },
    {
      "cell_type": "code",
      "execution_count": 138,
      "metadata": {
        "colab": {
          "background_save": true
        },
        "id": "K821pb5eroXV"
      },
      "outputs": [
        {
          "data": {
            "text/plain": [
              "array(['PL', 'SK', 'CZ', 'HU', 'AT', 'SI', 'RO', 'MT', 'DE', 'UA', None,\n",
              "       'EE'], dtype=object)"
            ]
          },
          "execution_count": 138,
          "metadata": {},
          "output_type": "execute_result"
        }
      ],
      "source": [
        "aggregated_df['country_code'].unique()"
      ]
    },
    {
      "cell_type": "code",
      "execution_count": 204,
      "metadata": {
        "colab": {
          "background_save": true
        },
        "id": "ICygch60roXV"
      },
      "outputs": [],
      "source": [
        "workplace_mapping= {'remote': 0, 'partly_remote': 1, 'office': 2}\n",
        "country_mapping = {'PL': 0, 'SK': 1, 'CZ': 2, 'HU': 3, 'AT': 4, 'SI': 5, 'RO': 6, 'MT': 7, 'DE': 8, 'UA': 9, None: 10,\n",
        "       'EE': 11}\n",
        "\n",
        "aggregated_df['workplace_type'] =aggregated_df['workplace_type'].map(workplace_mapping)\n",
        "\n",
        "aggregated_df['country_code'] = aggregated_df['country_code'].map(country_mapping)"
      ]
    },
    {
      "cell_type": "markdown",
      "metadata": {
        "id": "wfa3GCe0roXV"
      },
      "source": [
        "## Dealing with salaries"
      ]
    },
    {
      "cell_type": "code",
      "execution_count": 140,
      "metadata": {
        "colab": {
          "background_save": true
        },
        "id": "YmkcTgfZroXV"
      },
      "outputs": [
        {
          "data": {
            "text/html": [
              "<div>\n",
              "<style scoped>\n",
              "    .dataframe tbody tr th:only-of-type {\n",
              "        vertical-align: middle;\n",
              "    }\n",
              "\n",
              "    .dataframe tbody tr th {\n",
              "        vertical-align: top;\n",
              "    }\n",
              "\n",
              "    .dataframe thead th {\n",
              "        text-align: right;\n",
              "    }\n",
              "</style>\n",
              "<table border=\"1\" class=\"dataframe\">\n",
              "  <thead>\n",
              "    <tr style=\"text-align: right;\">\n",
              "      <th></th>\n",
              "      <th>0</th>\n",
              "      <th>1</th>\n",
              "    </tr>\n",
              "  </thead>\n",
              "  <tbody>\n",
              "    <tr>\n",
              "      <th>152</th>\n",
              "      <td>{'type': 'b2b', 'salary': None}</td>\n",
              "      <td>NaN</td>\n",
              "    </tr>\n",
              "  </tbody>\n",
              "</table>\n",
              "</div>"
            ],
            "text/plain": [
              "                                   0    1\n",
              "152  {'type': 'b2b', 'salary': None}  NaN"
            ]
          },
          "execution_count": 140,
          "metadata": {},
          "output_type": "execute_result"
        }
      ],
      "source": [
        "df_employment_types = aggregated_df['employment_types'].apply(pd.Series)\n",
        "df_employment_types.sample()"
      ]
    },
    {
      "cell_type": "code",
      "execution_count": 220,
      "metadata": {
        "colab": {
          "background_save": true
        },
        "id": "aaM_1q9uroXV"
      },
      "outputs": [
        {
          "data": {
            "text/plain": [
              "array(['permanent', 'b2b', 'mandate_contract'], dtype=object)"
            ]
          },
          "execution_count": 220,
          "metadata": {},
          "output_type": "execute_result"
        }
      ],
      "source": [
        "df_employment_type_1 = df_employment_types[0].apply(pd.Series, dtype='object')\n",
        "df_employment_type_1= pd.concat([df_employment_type_1.drop(['salary'], axis=1),\n",
        "                                 df_employment_type_1['salary'].apply(pd.Series, dtype='object')], axis=1)\n",
        "df_employment_type_1['type'].unique()"
      ]
    },
    {
      "cell_type": "code",
      "execution_count": 142,
      "metadata": {
        "colab": {
          "background_save": true
        },
        "id": "AvBsWoMTroXV"
      },
      "outputs": [
        {
          "data": {
            "text/html": [
              "<div>\n",
              "<style scoped>\n",
              "    .dataframe tbody tr th:only-of-type {\n",
              "        vertical-align: middle;\n",
              "    }\n",
              "\n",
              "    .dataframe tbody tr th {\n",
              "        vertical-align: top;\n",
              "    }\n",
              "\n",
              "    .dataframe thead th {\n",
              "        text-align: right;\n",
              "    }\n",
              "</style>\n",
              "<table border=\"1\" class=\"dataframe\">\n",
              "  <thead>\n",
              "    <tr style=\"text-align: right;\">\n",
              "      <th></th>\n",
              "      <th>type</th>\n",
              "      <th>from</th>\n",
              "      <th>to</th>\n",
              "      <th>currency</th>\n",
              "    </tr>\n",
              "  </thead>\n",
              "  <tbody>\n",
              "    <tr>\n",
              "      <th>668</th>\n",
              "      <td>NaN</td>\n",
              "      <td>NaN</td>\n",
              "      <td>NaN</td>\n",
              "      <td>NaN</td>\n",
              "    </tr>\n",
              "    <tr>\n",
              "      <th>11</th>\n",
              "      <td>NaN</td>\n",
              "      <td>NaN</td>\n",
              "      <td>NaN</td>\n",
              "      <td>NaN</td>\n",
              "    </tr>\n",
              "    <tr>\n",
              "      <th>518</th>\n",
              "      <td>NaN</td>\n",
              "      <td>NaN</td>\n",
              "      <td>NaN</td>\n",
              "      <td>NaN</td>\n",
              "    </tr>\n",
              "    <tr>\n",
              "      <th>462</th>\n",
              "      <td>NaN</td>\n",
              "      <td>NaN</td>\n",
              "      <td>NaN</td>\n",
              "      <td>NaN</td>\n",
              "    </tr>\n",
              "    <tr>\n",
              "      <th>104</th>\n",
              "      <td>NaN</td>\n",
              "      <td>NaN</td>\n",
              "      <td>NaN</td>\n",
              "      <td>NaN</td>\n",
              "    </tr>\n",
              "    <tr>\n",
              "      <th>315</th>\n",
              "      <td>NaN</td>\n",
              "      <td>NaN</td>\n",
              "      <td>NaN</td>\n",
              "      <td>NaN</td>\n",
              "    </tr>\n",
              "    <tr>\n",
              "      <th>933</th>\n",
              "      <td>NaN</td>\n",
              "      <td>NaN</td>\n",
              "      <td>NaN</td>\n",
              "      <td>NaN</td>\n",
              "    </tr>\n",
              "    <tr>\n",
              "      <th>458</th>\n",
              "      <td>NaN</td>\n",
              "      <td>NaN</td>\n",
              "      <td>NaN</td>\n",
              "      <td>NaN</td>\n",
              "    </tr>\n",
              "    <tr>\n",
              "      <th>41</th>\n",
              "      <td>NaN</td>\n",
              "      <td>NaN</td>\n",
              "      <td>NaN</td>\n",
              "      <td>NaN</td>\n",
              "    </tr>\n",
              "    <tr>\n",
              "      <th>79</th>\n",
              "      <td>NaN</td>\n",
              "      <td>NaN</td>\n",
              "      <td>NaN</td>\n",
              "      <td>NaN</td>\n",
              "    </tr>\n",
              "  </tbody>\n",
              "</table>\n",
              "</div>"
            ],
            "text/plain": [
              "    type  from  to currency\n",
              "668  NaN   NaN NaN      NaN\n",
              "11   NaN   NaN NaN      NaN\n",
              "518  NaN   NaN NaN      NaN\n",
              "462  NaN   NaN NaN      NaN\n",
              "104  NaN   NaN NaN      NaN\n",
              "315  NaN   NaN NaN      NaN\n",
              "933  NaN   NaN NaN      NaN\n",
              "458  NaN   NaN NaN      NaN\n",
              "41   NaN   NaN NaN      NaN\n",
              "79   NaN   NaN NaN      NaN"
            ]
          },
          "execution_count": 142,
          "metadata": {},
          "output_type": "execute_result"
        }
      ],
      "source": [
        "df_employment_type_2 = df_employment_types[1].apply(pd.Series, dtype='object')\n",
        "df_employment_type_2 = pd.concat([df_employment_type_2.drop(['salary'], axis=1),\n",
        "                                  df_employment_type_2['salary'].apply(pd.Series, dtype='object')], axis=1)\n",
        "df_employment_type_2.drop(columns=0, inplace = True)\n",
        "df_employment_type_2.sample(10)"
      ]
    },
    {
      "cell_type": "code",
      "execution_count": 221,
      "metadata": {
        "colab": {
          "background_save": true
        },
        "id": "sBZoIvVJroXW"
      },
      "outputs": [
        {
          "name": "stdout",
          "output_type": "stream",
          "text": [
            "<class 'pandas.core.frame.DataFrame'>\n",
            "RangeIndex: 1131 entries, 0 to 1130\n",
            "Data columns (total 57 columns):\n",
            " #   Column                   Non-Null Count  Dtype  \n",
            "---  ------                   --------------  -----  \n",
            " 0   id                       1131 non-null   object \n",
            " 1   apply_body               0 non-null      object \n",
            " 2   title                    1131 non-null   object \n",
            " 3   street                   1131 non-null   object \n",
            " 4   city                     1131 non-null   object \n",
            " 5   country_code             1131 non-null   int64  \n",
            " 6   address_text             1131 non-null   object \n",
            " 7   marker_icon              1131 non-null   object \n",
            " 8   workplace_type           1131 non-null   int64  \n",
            " 9   company_name             1131 non-null   object \n",
            " 10  company_url              1131 non-null   object \n",
            " 11  company_size             1131 non-null   object \n",
            " 12  experience_level         1131 non-null   int64  \n",
            " 13  latitude                 1131 non-null   object \n",
            " 14  longitude                1131 non-null   object \n",
            " 15  apply_url                728 non-null    object \n",
            " 16  published_at             1131 non-null   object \n",
            " 17  remote_interview         1131 non-null   bool   \n",
            " 18  video_key                1 non-null      object \n",
            " 19  video_provider           1 non-null      object \n",
            " 20  open_to_hire_ukrainians  1131 non-null   bool   \n",
            " 21  future_consent_title     965 non-null    object \n",
            " 22  future_consent           965 non-null    object \n",
            " 23  information_clause       1131 non-null   object \n",
            " 24  custom_consent_title     146 non-null    object \n",
            " 25  custom_consent           146 non-null    object \n",
            " 26  tags                     1131 non-null   object \n",
            " 27  body                     1131 non-null   object \n",
            " 28  company_logo_url         1131 non-null   object \n",
            " 29  banner_url               16 non-null     object \n",
            " 30  remote                   1131 non-null   bool   \n",
            " 31  multilocation            1131 non-null   object \n",
            " 32  company_profile          461 non-null    object \n",
            " 33  skill_aws                1131 non-null   int64  \n",
            " 34  skill_azure              1131 non-null   int64  \n",
            " 35  skill_big data           1131 non-null   int64  \n",
            " 36  skill_data               1131 non-null   int64  \n",
            " 37  skill_databases          1131 non-null   int64  \n",
            " 38  skill_databricks         1131 non-null   int64  \n",
            " 39  skill_dwh                1131 non-null   int64  \n",
            " 40  skill_english            1131 non-null   int64  \n",
            " 41  skill_etl                1131 non-null   int64  \n",
            " 42  skill_gcp                1131 non-null   int64  \n",
            " 43  skill_java               1131 non-null   int64  \n",
            " 44  skill_machine learning   1131 non-null   int64  \n",
            " 45  skill_oracle             1131 non-null   int64  \n",
            " 46  skill_pl/sql             1131 non-null   int64  \n",
            " 47  skill_power bi           1131 non-null   int64  \n",
            " 48  skill_python             1131 non-null   int64  \n",
            " 49  skill_scala              1131 non-null   int64  \n",
            " 50  skill_snowflake          1131 non-null   int64  \n",
            " 51  skill_spark              1131 non-null   int64  \n",
            " 52  skill_sql                1131 non-null   int64  \n",
            " 53  type                     1131 non-null   object \n",
            " 54  from                     789 non-null    float64\n",
            " 55  to                       789 non-null    float64\n",
            " 56  currency                 789 non-null    object \n",
            "dtypes: bool(3), float64(2), int64(23), object(29)\n",
            "memory usage: 480.6+ KB\n"
          ]
        }
      ],
      "source": [
        "df_no_employment = aggregated_df.drop(columns = 'employment_types')\n",
        "df_employment_1 = pd.concat([df_no_employment, df_employment_type_1], axis = 1)\n",
        "df_employment_2 = pd.concat([df_no_employment, df_employment_type_2], axis = 1)\n",
        "df_employment = pd.concat([df_employment_1, df_employment_2])\n",
        "df_employment.dropna(subset=['type'], inplace = True)\n",
        "df_employment.reset_index(drop=True, inplace = True)\n",
        "df_employment.info()"
      ]
    },
    {
      "cell_type": "code",
      "execution_count": 222,
      "metadata": {
        "colab": {
          "background_save": true
        },
        "id": "AG2oXkd6roXW"
      },
      "outputs": [],
      "source": [
        "# df_employment['type']= label_encoder.fit_transform(df_employment['type'])\n",
        "type_map = {'permanent': 0, 'b2b': 1, 'mandate_contract': 2}\n",
        "df_employment['type'] = df_employment['type'].map(type_map)"
      ]
    },
    {
      "cell_type": "markdown",
      "metadata": {
        "id": "ZWOU-ORsroXW"
      },
      "source": [
        "### Convert all currencies to PLN"
      ]
    },
    {
      "cell_type": "code",
      "execution_count": 145,
      "metadata": {
        "colab": {
          "background_save": true
        },
        "id": "Ix_8Rd1groXW"
      },
      "outputs": [
        {
          "data": {
            "text/plain": [
              "['pln', 'eur', 'usd']"
            ]
          },
          "execution_count": 145,
          "metadata": {},
          "output_type": "execute_result"
        }
      ],
      "source": [
        "currency_list = list(df_employment[df_employment['from'].notna()]['currency'].unique())\n",
        "currency_list"
      ]
    },
    {
      "cell_type": "code",
      "execution_count": 146,
      "metadata": {
        "colab": {
          "background_save": true
        },
        "id": "jcnmjctCroXW"
      },
      "outputs": [],
      "source": [
        "selected_currency  = 'pln'\n",
        "foreign_currencies = currency_list.copy()\n",
        "foreign_currencies.remove(selected_currency)"
      ]
    },
    {
      "cell_type": "code",
      "execution_count": 147,
      "metadata": {
        "colab": {
          "background_save": true
        },
        "id": "ACulAJC9roXW"
      },
      "outputs": [],
      "source": [
        "df_with_salary = df_employment[df_employment['currency'].notna()]\n",
        "df_no_salary = df_employment[df_employment['currency'].isna()]"
      ]
    },
    {
      "cell_type": "code",
      "execution_count": 148,
      "metadata": {
        "colab": {
          "background_save": true
        },
        "id": "d3hmVXq7roXW"
      },
      "outputs": [
        {
          "name": "stderr",
          "output_type": "stream",
          "text": [
            "/var/folders/mp/mpgc14lx6b9f41xmhqs4mxc80000gn/T/ipykernel_72483/2430910949.py:1: SettingWithCopyWarning: \n",
            "A value is trying to be set on a copy of a slice from a DataFrame.\n",
            "Try using .loc[row_indexer,col_indexer] = value instead\n",
            "\n",
            "See the caveats in the documentation: https://pandas.pydata.org/pandas-docs/stable/user_guide/indexing.html#returning-a-view-versus-a-copy\n",
            "  df_with_salary['from'] = df_with_salary.apply(lambda row: change_currency(row['from'], row['currency'], selected_currency)\n"
          ]
        }
      ],
      "source": [
        "df_with_salary['from'] = df_with_salary.apply(lambda row: change_currency(row['from'], row['currency'], selected_currency)\n",
        "                                              if row['currency'] != selected_currency and pd.notna(row['currency'])\n",
        "                                              else row['from'], axis=1)"
      ]
    },
    {
      "cell_type": "code",
      "execution_count": 149,
      "metadata": {
        "id": "viPYYYTvroXW"
      },
      "outputs": [
        {
          "name": "stderr",
          "output_type": "stream",
          "text": [
            "/var/folders/mp/mpgc14lx6b9f41xmhqs4mxc80000gn/T/ipykernel_72483/1341338040.py:1: SettingWithCopyWarning: \n",
            "A value is trying to be set on a copy of a slice from a DataFrame.\n",
            "Try using .loc[row_indexer,col_indexer] = value instead\n",
            "\n",
            "See the caveats in the documentation: https://pandas.pydata.org/pandas-docs/stable/user_guide/indexing.html#returning-a-view-versus-a-copy\n",
            "  df_with_salary['to'] = df_with_salary.apply(lambda row: change_currency(row['to'], row['currency'], selected_currency)\n"
          ]
        }
      ],
      "source": [
        "df_with_salary['to'] = df_with_salary.apply(lambda row: change_currency(row['to'], row['currency'], selected_currency)\n",
        "                                            if row['currency'] != selected_currency and pd.notna(row['currency'])\n",
        "                                            else row['to'], axis=1)"
      ]
    },
    {
      "cell_type": "code",
      "execution_count": 150,
      "metadata": {
        "id": "1OIlGY4proXW"
      },
      "outputs": [],
      "source": [
        "df_with_salary.loc[df_with_salary['currency'] != selected_currency, 'currency'] = selected_currency"
      ]
    },
    {
      "cell_type": "code",
      "execution_count": 151,
      "metadata": {
        "id": "zrdFi0uuroXW"
      },
      "outputs": [
        {
          "name": "stdout",
          "output_type": "stream",
          "text": [
            "<class 'pandas.core.frame.DataFrame'>\n",
            "RangeIndex: 1131 entries, 0 to 1130\n",
            "Data columns (total 57 columns):\n",
            " #   Column                   Non-Null Count  Dtype  \n",
            "---  ------                   --------------  -----  \n",
            " 0   id                       1131 non-null   object \n",
            " 1   apply_body               0 non-null      object \n",
            " 2   title                    1131 non-null   object \n",
            " 3   street                   1131 non-null   object \n",
            " 4   city                     1131 non-null   object \n",
            " 5   country_code             1131 non-null   int64  \n",
            " 6   address_text             1131 non-null   object \n",
            " 7   marker_icon              1131 non-null   object \n",
            " 8   workplace_type           1131 non-null   int64  \n",
            " 9   company_name             1131 non-null   object \n",
            " 10  company_url              1131 non-null   object \n",
            " 11  company_size             1131 non-null   object \n",
            " 12  experience_level         1131 non-null   int64  \n",
            " 13  latitude                 1131 non-null   object \n",
            " 14  longitude                1131 non-null   object \n",
            " 15  apply_url                728 non-null    object \n",
            " 16  published_at             1131 non-null   object \n",
            " 17  remote_interview         1131 non-null   bool   \n",
            " 18  video_key                1 non-null      object \n",
            " 19  video_provider           1 non-null      object \n",
            " 20  open_to_hire_ukrainians  1131 non-null   bool   \n",
            " 21  future_consent_title     965 non-null    object \n",
            " 22  future_consent           965 non-null    object \n",
            " 23  information_clause       1131 non-null   object \n",
            " 24  custom_consent_title     146 non-null    object \n",
            " 25  custom_consent           146 non-null    object \n",
            " 26  tags                     1131 non-null   object \n",
            " 27  body                     1131 non-null   object \n",
            " 28  company_logo_url         1131 non-null   object \n",
            " 29  banner_url               16 non-null     object \n",
            " 30  remote                   1131 non-null   bool   \n",
            " 31  multilocation            1131 non-null   object \n",
            " 32  company_profile          461 non-null    object \n",
            " 33  skill_aws                1131 non-null   int64  \n",
            " 34  skill_azure              1131 non-null   int64  \n",
            " 35  skill_big data           1131 non-null   int64  \n",
            " 36  skill_data               1131 non-null   int64  \n",
            " 37  skill_databases          1131 non-null   int64  \n",
            " 38  skill_databricks         1131 non-null   int64  \n",
            " 39  skill_dwh                1131 non-null   int64  \n",
            " 40  skill_english            1131 non-null   int64  \n",
            " 41  skill_etl                1131 non-null   int64  \n",
            " 42  skill_gcp                1131 non-null   int64  \n",
            " 43  skill_java               1131 non-null   int64  \n",
            " 44  skill_machine learning   1131 non-null   int64  \n",
            " 45  skill_oracle             1131 non-null   int64  \n",
            " 46  skill_pl/sql             1131 non-null   int64  \n",
            " 47  skill_power bi           1131 non-null   int64  \n",
            " 48  skill_python             1131 non-null   int64  \n",
            " 49  skill_scala              1131 non-null   int64  \n",
            " 50  skill_snowflake          1131 non-null   int64  \n",
            " 51  skill_spark              1131 non-null   int64  \n",
            " 52  skill_sql                1131 non-null   int64  \n",
            " 53  type                     1131 non-null   int64  \n",
            " 54  from                     789 non-null    float64\n",
            " 55  to                       789 non-null    float64\n",
            " 56  currency                 789 non-null    object \n",
            "dtypes: bool(3), float64(2), int64(24), object(28)\n",
            "memory usage: 480.6+ KB\n"
          ]
        }
      ],
      "source": [
        "df_pln = pd.concat([df_with_salary, df_no_salary])\n",
        "df_pln.reset_index(drop=True, inplace = True)\n",
        "df_pln.info()"
      ]
    },
    {
      "cell_type": "markdown",
      "metadata": {
        "id": "Lt8oXBZQroXX"
      },
      "source": [
        "at this stage df includes:\n",
        "- offers with marker icon 'data'\n",
        "- ordered employment column\n",
        "- cleaned company_size column\n",
        "- selected offers with the 30 most popular skills among 'data', both with given and unknown salary\n",
        "- experience_level, country_code, employment_type, workplace_type and skills encoded columns\n",
        "- offers in a foreign currency converted into PLN"
      ]
    },
    {
      "cell_type": "code",
      "execution_count": 152,
      "metadata": {
        "id": "jL3cSqw4roXX"
      },
      "outputs": [
        {
          "data": {
            "text/html": [
              "<div>\n",
              "<style scoped>\n",
              "    .dataframe tbody tr th:only-of-type {\n",
              "        vertical-align: middle;\n",
              "    }\n",
              "\n",
              "    .dataframe tbody tr th {\n",
              "        vertical-align: top;\n",
              "    }\n",
              "\n",
              "    .dataframe thead th {\n",
              "        text-align: right;\n",
              "    }\n",
              "</style>\n",
              "<table border=\"1\" class=\"dataframe\">\n",
              "  <thead>\n",
              "    <tr style=\"text-align: right;\">\n",
              "      <th></th>\n",
              "      <th>company_size</th>\n",
              "    </tr>\n",
              "  </thead>\n",
              "  <tbody>\n",
              "    <tr>\n",
              "      <th>5</th>\n",
              "      <td>11-50</td>\n",
              "    </tr>\n",
              "    <tr>\n",
              "      <th>31</th>\n",
              "      <td>51-200</td>\n",
              "    </tr>\n",
              "    <tr>\n",
              "      <th>32</th>\n",
              "      <td>51-200</td>\n",
              "    </tr>\n",
              "    <tr>\n",
              "      <th>33</th>\n",
              "      <td>51-200</td>\n",
              "    </tr>\n",
              "    <tr>\n",
              "      <th>34</th>\n",
              "      <td>51-200</td>\n",
              "    </tr>\n",
              "    <tr>\n",
              "      <th>...</th>\n",
              "      <td>...</td>\n",
              "    </tr>\n",
              "    <tr>\n",
              "      <th>996</th>\n",
              "      <td>101-500</td>\n",
              "    </tr>\n",
              "    <tr>\n",
              "      <th>1017</th>\n",
              "      <td>200-220</td>\n",
              "    </tr>\n",
              "    <tr>\n",
              "      <th>1018</th>\n",
              "      <td>1001-5000</td>\n",
              "    </tr>\n",
              "    <tr>\n",
              "      <th>1095</th>\n",
              "      <td>-</td>\n",
              "    </tr>\n",
              "    <tr>\n",
              "      <th>1110</th>\n",
              "      <td>200-220</td>\n",
              "    </tr>\n",
              "  </tbody>\n",
              "</table>\n",
              "<p>218 rows × 1 columns</p>\n",
              "</div>"
            ],
            "text/plain": [
              "     company_size\n",
              "5           11-50\n",
              "31         51-200\n",
              "32         51-200\n",
              "33         51-200\n",
              "34         51-200\n",
              "...           ...\n",
              "996       101-500\n",
              "1017      200-220\n",
              "1018    1001-5000\n",
              "1095            -\n",
              "1110      200-220\n",
              "\n",
              "[218 rows x 1 columns]"
            ]
          },
          "execution_count": 152,
          "metadata": {},
          "output_type": "execute_result"
        }
      ],
      "source": [
        "#cleaning up and encoding company sizes\n",
        "\n",
        "#cleaning up sizes that contain '-'\n",
        "company_size_df = df_pln[df_pln['company_size'].str.contains('-')][['company_size']]\n",
        "company_size_df"
      ]
    },
    {
      "cell_type": "code",
      "execution_count": 153,
      "metadata": {
        "id": "hVS5RSnhTsg-"
      },
      "outputs": [],
      "source": [
        "company_size_df['company_size_1'] = company_size_df['company_size'].str.split('-').str[0]\n",
        "company_size_df['company_size_2']  = company_size_df['company_size'].str.split('-').str[-1]"
      ]
    },
    {
      "cell_type": "code",
      "execution_count": 154,
      "metadata": {
        "id": "kbKIDex9UVSd"
      },
      "outputs": [
        {
          "data": {
            "text/html": [
              "<div>\n",
              "<style scoped>\n",
              "    .dataframe tbody tr th:only-of-type {\n",
              "        vertical-align: middle;\n",
              "    }\n",
              "\n",
              "    .dataframe tbody tr th {\n",
              "        vertical-align: top;\n",
              "    }\n",
              "\n",
              "    .dataframe thead th {\n",
              "        text-align: right;\n",
              "    }\n",
              "</style>\n",
              "<table border=\"1\" class=\"dataframe\">\n",
              "  <thead>\n",
              "    <tr style=\"text-align: right;\">\n",
              "      <th></th>\n",
              "      <th>company_size</th>\n",
              "      <th>company_size_1</th>\n",
              "      <th>company_size_2</th>\n",
              "    </tr>\n",
              "  </thead>\n",
              "  <tbody>\n",
              "    <tr>\n",
              "      <th>902</th>\n",
              "      <td>-</td>\n",
              "      <td></td>\n",
              "      <td></td>\n",
              "    </tr>\n",
              "    <tr>\n",
              "      <th>903</th>\n",
              "      <td>-</td>\n",
              "      <td></td>\n",
              "      <td></td>\n",
              "    </tr>\n",
              "    <tr>\n",
              "      <th>1095</th>\n",
              "      <td>-</td>\n",
              "      <td></td>\n",
              "      <td></td>\n",
              "    </tr>\n",
              "  </tbody>\n",
              "</table>\n",
              "</div>"
            ],
            "text/plain": [
              "     company_size company_size_1 company_size_2\n",
              "902             -                              \n",
              "903             -                              \n",
              "1095            -                              "
            ]
          },
          "execution_count": 154,
          "metadata": {},
          "output_type": "execute_result"
        }
      ],
      "source": [
        "company_size_df[company_size_df['company_size']=='-']"
      ]
    },
    {
      "cell_type": "code",
      "execution_count": 155,
      "metadata": {
        "id": "vLw77-jrT4FO"
      },
      "outputs": [
        {
          "data": {
            "text/html": [
              "<div>\n",
              "<style scoped>\n",
              "    .dataframe tbody tr th:only-of-type {\n",
              "        vertical-align: middle;\n",
              "    }\n",
              "\n",
              "    .dataframe tbody tr th {\n",
              "        vertical-align: top;\n",
              "    }\n",
              "\n",
              "    .dataframe thead th {\n",
              "        text-align: right;\n",
              "    }\n",
              "</style>\n",
              "<table border=\"1\" class=\"dataframe\">\n",
              "  <thead>\n",
              "    <tr style=\"text-align: right;\">\n",
              "      <th></th>\n",
              "      <th>company_size</th>\n",
              "      <th>company_size_1</th>\n",
              "      <th>company_size_2</th>\n",
              "    </tr>\n",
              "  </thead>\n",
              "  <tbody>\n",
              "  </tbody>\n",
              "</table>\n",
              "</div>"
            ],
            "text/plain": [
              "Empty DataFrame\n",
              "Columns: [company_size, company_size_1, company_size_2]\n",
              "Index: []"
            ]
          },
          "execution_count": 155,
          "metadata": {},
          "output_type": "execute_result"
        }
      ],
      "source": [
        "company_size_df = company_size_df[company_size_df['company_size'] != '-']\n",
        "company_size_df[company_size_df['company_size']=='-']"
      ]
    },
    {
      "cell_type": "code",
      "execution_count": 156,
      "metadata": {
        "id": "zFKI_D6OUzVm"
      },
      "outputs": [
        {
          "name": "stderr",
          "output_type": "stream",
          "text": [
            "/var/folders/mp/mpgc14lx6b9f41xmhqs4mxc80000gn/T/ipykernel_72483/2302636781.py:2: SettingWithCopyWarning: \n",
            "A value is trying to be set on a copy of a slice from a DataFrame.\n",
            "Try using .loc[row_indexer,col_indexer] = value instead\n",
            "\n",
            "See the caveats in the documentation: https://pandas.pydata.org/pandas-docs/stable/user_guide/indexing.html#returning-a-view-versus-a-copy\n",
            "  company_size_df['company_size_1'] = pd.to_numeric(company_size_df['company_size_1'])\n",
            "/var/folders/mp/mpgc14lx6b9f41xmhqs4mxc80000gn/T/ipykernel_72483/2302636781.py:3: SettingWithCopyWarning: \n",
            "A value is trying to be set on a copy of a slice from a DataFrame.\n",
            "Try using .loc[row_indexer,col_indexer] = value instead\n",
            "\n",
            "See the caveats in the documentation: https://pandas.pydata.org/pandas-docs/stable/user_guide/indexing.html#returning-a-view-versus-a-copy\n",
            "  company_size_df['company_size_2'] = pd.to_numeric(company_size_df['company_size_2'])\n",
            "/var/folders/mp/mpgc14lx6b9f41xmhqs4mxc80000gn/T/ipykernel_72483/2302636781.py:4: SettingWithCopyWarning: \n",
            "A value is trying to be set on a copy of a slice from a DataFrame.\n",
            "Try using .loc[row_indexer,col_indexer] = value instead\n",
            "\n",
            "See the caveats in the documentation: https://pandas.pydata.org/pandas-docs/stable/user_guide/indexing.html#returning-a-view-versus-a-copy\n",
            "  company_size_df['avg_company_size'] = (company_size_df['company_size_1'] + company_size_df['company_size_2']) / 2\n"
          ]
        },
        {
          "data": {
            "text/html": [
              "<div>\n",
              "<style scoped>\n",
              "    .dataframe tbody tr th:only-of-type {\n",
              "        vertical-align: middle;\n",
              "    }\n",
              "\n",
              "    .dataframe tbody tr th {\n",
              "        vertical-align: top;\n",
              "    }\n",
              "\n",
              "    .dataframe thead th {\n",
              "        text-align: right;\n",
              "    }\n",
              "</style>\n",
              "<table border=\"1\" class=\"dataframe\">\n",
              "  <thead>\n",
              "    <tr style=\"text-align: right;\">\n",
              "      <th></th>\n",
              "      <th>avg_company_size</th>\n",
              "    </tr>\n",
              "  </thead>\n",
              "  <tbody>\n",
              "    <tr>\n",
              "      <th>5</th>\n",
              "      <td>30.5</td>\n",
              "    </tr>\n",
              "    <tr>\n",
              "      <th>31</th>\n",
              "      <td>125.5</td>\n",
              "    </tr>\n",
              "    <tr>\n",
              "      <th>32</th>\n",
              "      <td>125.5</td>\n",
              "    </tr>\n",
              "    <tr>\n",
              "      <th>33</th>\n",
              "      <td>125.5</td>\n",
              "    </tr>\n",
              "    <tr>\n",
              "      <th>34</th>\n",
              "      <td>125.5</td>\n",
              "    </tr>\n",
              "    <tr>\n",
              "      <th>...</th>\n",
              "      <td>...</td>\n",
              "    </tr>\n",
              "    <tr>\n",
              "      <th>917</th>\n",
              "      <td>300.5</td>\n",
              "    </tr>\n",
              "    <tr>\n",
              "      <th>996</th>\n",
              "      <td>300.5</td>\n",
              "    </tr>\n",
              "    <tr>\n",
              "      <th>1017</th>\n",
              "      <td>210.0</td>\n",
              "    </tr>\n",
              "    <tr>\n",
              "      <th>1018</th>\n",
              "      <td>3000.5</td>\n",
              "    </tr>\n",
              "    <tr>\n",
              "      <th>1110</th>\n",
              "      <td>210.0</td>\n",
              "    </tr>\n",
              "  </tbody>\n",
              "</table>\n",
              "<p>215 rows × 1 columns</p>\n",
              "</div>"
            ],
            "text/plain": [
              "      avg_company_size\n",
              "5                 30.5\n",
              "31               125.5\n",
              "32               125.5\n",
              "33               125.5\n",
              "34               125.5\n",
              "...                ...\n",
              "917              300.5\n",
              "996              300.5\n",
              "1017             210.0\n",
              "1018            3000.5\n",
              "1110             210.0\n",
              "\n",
              "[215 rows x 1 columns]"
            ]
          },
          "execution_count": 156,
          "metadata": {},
          "output_type": "execute_result"
        }
      ],
      "source": [
        "# company_size_df = company_size_df.copy()\n",
        "company_size_df['company_size_1'] = pd.to_numeric(company_size_df['company_size_1'])\n",
        "company_size_df['company_size_2'] = pd.to_numeric(company_size_df['company_size_2'])\n",
        "company_size_df['avg_company_size'] = (company_size_df['company_size_1'] + company_size_df['company_size_2']) / 2\n",
        "\n",
        "company_size_df = company_size_df[['avg_company_size']]\n",
        "company_size_df"
      ]
    },
    {
      "cell_type": "code",
      "execution_count": 157,
      "metadata": {
        "id": "7eZNw8RuroXX"
      },
      "outputs": [],
      "source": [
        "df_avg_company_size = pd.merge(df_pln, company_size_df, left_index=True, right_index=True, how = 'outer')"
      ]
    },
    {
      "cell_type": "code",
      "execution_count": 158,
      "metadata": {
        "id": "foaesHkuW_99"
      },
      "outputs": [
        {
          "data": {
            "text/plain": [
              "array(['250', '6000', '1150', '200', '30', '51200', '1001  5000', '100',\n",
              "       '500', '6080', '60000', '150', '110', '1000', '2030', '50',\n",
              "       '300000', '125', '1025', '16', '120', '1020', '3040', '450', '40',\n",
              "       '1400', '1530', '7000', '5011000', '750', '350', '80', '87',\n",
              "       '101500', '50100', '60', '1520', '200250', '50  100', '2000',\n",
              "       '900', '460', '430', '300', '60  70', '2650', '22 200', '30000',\n",
              "       '1525', ' 30', '1500', '280', '2 000', '100200', '51100', '170',\n",
              "       '5000', '8600', '500 000', '70100', '9000', '501', '1700', '600',\n",
              "       '67007000', '400', '700', '100 000', '', '55000', '10000', '1600',\n",
              "       '800', '3000', '22000', '200220', '10015000', '40000', '10 000 ',\n",
              "       '3500', '70', '650'], dtype=object)"
            ]
          },
          "execution_count": 158,
          "metadata": {},
          "output_type": "execute_result"
        }
      ],
      "source": [
        "df_avg_company_size['company_size'] = df_avg_company_size['company_size'].apply(remove_mark)\n",
        "df_avg_company_size['company_size'].unique()"
      ]
    },
    {
      "cell_type": "code",
      "execution_count": 159,
      "metadata": {
        "id": "ZBlI_RTkXTvc"
      },
      "outputs": [
        {
          "data": {
            "text/plain": [
              "array(['250', '6000', '1150', '200', '30', '51200', '10015000', '100',\n",
              "       '500', '6080', '60000', '150', '110', '1000', '2030', '50',\n",
              "       '300000', '125', '1025', '16', '120', '1020', '3040', '450', '40',\n",
              "       '1400', '1530', '7000', '5011000', '750', '350', '80', '87',\n",
              "       '101500', '50100', '60', '1520', '200250', '2000', '900', '460',\n",
              "       '430', '300', '6070', '2650', '22200', '30000', '1525', '1500',\n",
              "       '280', '100200', '51100', '170', '5000', '8600', '500000', '70100',\n",
              "       '9000', '501', '1700', '600', '67007000', '400', '700', '100000',\n",
              "       '', '55000', '10000', '1600', '800', '3000', '22000', '200220',\n",
              "       '40000', '3500', '70', '650'], dtype=object)"
            ]
          },
          "execution_count": 159,
          "metadata": {},
          "output_type": "execute_result"
        }
      ],
      "source": [
        "df_avg_company_size['company_size'] = df_avg_company_size['company_size'].apply(remove_mark)\n",
        "df_avg_company_size['company_size'].unique()"
      ]
    },
    {
      "cell_type": "code",
      "execution_count": 160,
      "metadata": {
        "id": "xm9Uufr8roXX"
      },
      "outputs": [],
      "source": [
        "df_avg_company_size['company_size'] = pd.to_numeric(df_avg_company_size['company_size'])"
      ]
    },
    {
      "cell_type": "code",
      "execution_count": 161,
      "metadata": {
        "id": "lPo7FJVXroXX"
      },
      "outputs": [],
      "source": [
        "df_avg_company_size['avg_company_size'] = df_avg_company_size.apply(\n",
        "    lambda row: row['company_size'] if pd.isna(row['avg_company_size']) else row['avg_company_size'],\n",
        "    axis=1\n",
        ").astype('float')"
      ]
    },
    {
      "cell_type": "code",
      "execution_count": 162,
      "metadata": {
        "id": "FH7Bjk7vroXX"
      },
      "outputs": [
        {
          "name": "stdout",
          "output_type": "stream",
          "text": [
            "<class 'pandas.core.frame.DataFrame'>\n",
            "Index: 1131 entries, 0 to 1130\n",
            "Data columns (total 58 columns):\n",
            " #   Column                   Non-Null Count  Dtype  \n",
            "---  ------                   --------------  -----  \n",
            " 0   id                       1131 non-null   object \n",
            " 1   apply_body               0 non-null      object \n",
            " 2   title                    1131 non-null   object \n",
            " 3   street                   1131 non-null   object \n",
            " 4   city                     1131 non-null   object \n",
            " 5   country_code             1131 non-null   int64  \n",
            " 6   address_text             1131 non-null   object \n",
            " 7   marker_icon              1131 non-null   object \n",
            " 8   workplace_type           1131 non-null   int64  \n",
            " 9   company_name             1131 non-null   object \n",
            " 10  company_url              1131 non-null   object \n",
            " 11  company_size             1128 non-null   float64\n",
            " 12  experience_level         1131 non-null   int64  \n",
            " 13  latitude                 1131 non-null   object \n",
            " 14  longitude                1131 non-null   object \n",
            " 15  apply_url                728 non-null    object \n",
            " 16  published_at             1131 non-null   object \n",
            " 17  remote_interview         1131 non-null   bool   \n",
            " 18  video_key                1 non-null      object \n",
            " 19  video_provider           1 non-null      object \n",
            " 20  open_to_hire_ukrainians  1131 non-null   bool   \n",
            " 21  future_consent_title     965 non-null    object \n",
            " 22  future_consent           965 non-null    object \n",
            " 23  information_clause       1131 non-null   object \n",
            " 24  custom_consent_title     146 non-null    object \n",
            " 25  custom_consent           146 non-null    object \n",
            " 26  tags                     1131 non-null   object \n",
            " 27  body                     1131 non-null   object \n",
            " 28  company_logo_url         1131 non-null   object \n",
            " 29  banner_url               16 non-null     object \n",
            " 30  remote                   1131 non-null   bool   \n",
            " 31  multilocation            1131 non-null   object \n",
            " 32  company_profile          461 non-null    object \n",
            " 33  skill_aws                1131 non-null   int64  \n",
            " 34  skill_azure              1131 non-null   int64  \n",
            " 35  skill_big data           1131 non-null   int64  \n",
            " 36  skill_data               1131 non-null   int64  \n",
            " 37  skill_databases          1131 non-null   int64  \n",
            " 38  skill_databricks         1131 non-null   int64  \n",
            " 39  skill_dwh                1131 non-null   int64  \n",
            " 40  skill_english            1131 non-null   int64  \n",
            " 41  skill_etl                1131 non-null   int64  \n",
            " 42  skill_gcp                1131 non-null   int64  \n",
            " 43  skill_java               1131 non-null   int64  \n",
            " 44  skill_machine learning   1131 non-null   int64  \n",
            " 45  skill_oracle             1131 non-null   int64  \n",
            " 46  skill_pl/sql             1131 non-null   int64  \n",
            " 47  skill_power bi           1131 non-null   int64  \n",
            " 48  skill_python             1131 non-null   int64  \n",
            " 49  skill_scala              1131 non-null   int64  \n",
            " 50  skill_snowflake          1131 non-null   int64  \n",
            " 51  skill_spark              1131 non-null   int64  \n",
            " 52  skill_sql                1131 non-null   int64  \n",
            " 53  type                     1131 non-null   int64  \n",
            " 54  from                     789 non-null    float64\n",
            " 55  to                       789 non-null    float64\n",
            " 56  currency                 789 non-null    object \n",
            " 57  avg_company_size         1128 non-null   float64\n",
            "dtypes: bool(3), float64(4), int64(24), object(27)\n",
            "memory usage: 498.1+ KB\n"
          ]
        }
      ],
      "source": [
        "df_avg_company_size.info()"
      ]
    },
    {
      "cell_type": "code",
      "execution_count": 163,
      "metadata": {
        "id": "UDTKzYjGYrUG"
      },
      "outputs": [],
      "source": [
        "to_csv_date(df_avg_company_size,'offers_API_ready_to_analyze')"
      ]
    },
    {
      "cell_type": "markdown",
      "metadata": {
        "id": "LhJYSLKHroXX"
      },
      "source": []
    },
    {
      "cell_type": "markdown",
      "metadata": {
        "id": "rNgoxgnjHYmO"
      },
      "source": [
        "# BUILDING REGRESSION MODEL"
      ]
    },
    {
      "cell_type": "code",
      "execution_count": 164,
      "metadata": {
        "id": "aYAg92GuvG9H"
      },
      "outputs": [],
      "source": [
        "df_reg = df_avg_company_size.copy()\n",
        "#pd.read_csv('https://raw.githubusercontent.com/KKozakiewicz/predict_salaries/main/ready_to_analyze_08252023_.csv')"
      ]
    },
    {
      "cell_type": "code",
      "execution_count": 165,
      "metadata": {
        "id": "jQU7ZlW_ZqDG"
      },
      "outputs": [
        {
          "data": {
            "text/html": [
              "<div>\n",
              "<style scoped>\n",
              "    .dataframe tbody tr th:only-of-type {\n",
              "        vertical-align: middle;\n",
              "    }\n",
              "\n",
              "    .dataframe tbody tr th {\n",
              "        vertical-align: top;\n",
              "    }\n",
              "\n",
              "    .dataframe thead th {\n",
              "        text-align: right;\n",
              "    }\n",
              "</style>\n",
              "<table border=\"1\" class=\"dataframe\">\n",
              "  <thead>\n",
              "    <tr style=\"text-align: right;\">\n",
              "      <th></th>\n",
              "      <th>id</th>\n",
              "      <th>apply_body</th>\n",
              "      <th>title</th>\n",
              "      <th>street</th>\n",
              "      <th>city</th>\n",
              "      <th>country_code</th>\n",
              "      <th>address_text</th>\n",
              "      <th>marker_icon</th>\n",
              "      <th>workplace_type</th>\n",
              "      <th>company_name</th>\n",
              "      <th>...</th>\n",
              "      <th>skill_python</th>\n",
              "      <th>skill_scala</th>\n",
              "      <th>skill_snowflake</th>\n",
              "      <th>skill_spark</th>\n",
              "      <th>skill_sql</th>\n",
              "      <th>type</th>\n",
              "      <th>from</th>\n",
              "      <th>to</th>\n",
              "      <th>currency</th>\n",
              "      <th>avg_company_size</th>\n",
              "    </tr>\n",
              "  </thead>\n",
              "  <tbody>\n",
              "    <tr>\n",
              "      <th>128</th>\n",
              "      <td>cloudfide-power-bi-developer-lublin</td>\n",
              "      <td>None</td>\n",
              "      <td>power bi developer</td>\n",
              "      <td>Centrum</td>\n",
              "      <td>Lublin</td>\n",
              "      <td>6</td>\n",
              "      <td>Centrum, Lublin</td>\n",
              "      <td>data</td>\n",
              "      <td>2</td>\n",
              "      <td>CLOUDFIDE</td>\n",
              "      <td>...</td>\n",
              "      <td>0</td>\n",
              "      <td>0</td>\n",
              "      <td>0</td>\n",
              "      <td>0</td>\n",
              "      <td>4</td>\n",
              "      <td>0</td>\n",
              "      <td>11000.0</td>\n",
              "      <td>22000.0</td>\n",
              "      <td>pln</td>\n",
              "      <td>50.0</td>\n",
              "    </tr>\n",
              "    <tr>\n",
              "      <th>626</th>\n",
              "      <td>xtb-head-of-ai-d68fb7a8-1a35-4b02-99ec-05ede28...</td>\n",
              "      <td>None</td>\n",
              "      <td>head of ai</td>\n",
              "      <td>Centrum</td>\n",
              "      <td>Kielce</td>\n",
              "      <td>6</td>\n",
              "      <td>Centrum, Kielce</td>\n",
              "      <td>data</td>\n",
              "      <td>2</td>\n",
              "      <td>XTB</td>\n",
              "      <td>...</td>\n",
              "      <td>5</td>\n",
              "      <td>0</td>\n",
              "      <td>0</td>\n",
              "      <td>0</td>\n",
              "      <td>0</td>\n",
              "      <td>0</td>\n",
              "      <td>30000.0</td>\n",
              "      <td>40000.0</td>\n",
              "      <td>pln</td>\n",
              "      <td>500.0</td>\n",
              "    </tr>\n",
              "    <tr>\n",
              "      <th>324</th>\n",
              "      <td>idego-data-engineer-236a5d44-40fb-407f-8e42-31...</td>\n",
              "      <td>None</td>\n",
              "      <td>data engineer</td>\n",
              "      <td>-</td>\n",
              "      <td>Warszawa</td>\n",
              "      <td>6</td>\n",
              "      <td>-, Warszawa</td>\n",
              "      <td>data</td>\n",
              "      <td>2</td>\n",
              "      <td>Idego</td>\n",
              "      <td>...</td>\n",
              "      <td>3</td>\n",
              "      <td>0</td>\n",
              "      <td>4</td>\n",
              "      <td>0</td>\n",
              "      <td>3</td>\n",
              "      <td>0</td>\n",
              "      <td>20000.0</td>\n",
              "      <td>30000.0</td>\n",
              "      <td>pln</td>\n",
              "      <td>120.0</td>\n",
              "    </tr>\n",
              "    <tr>\n",
              "      <th>542</th>\n",
              "      <td>square-one-data-engineer-bialystok</td>\n",
              "      <td>None</td>\n",
              "      <td>data engineer</td>\n",
              "      <td>Centrum</td>\n",
              "      <td>Białystok</td>\n",
              "      <td>6</td>\n",
              "      <td>Centrum, Białystok</td>\n",
              "      <td>data</td>\n",
              "      <td>2</td>\n",
              "      <td>Square One</td>\n",
              "      <td>...</td>\n",
              "      <td>4</td>\n",
              "      <td>0</td>\n",
              "      <td>0</td>\n",
              "      <td>0</td>\n",
              "      <td>0</td>\n",
              "      <td>0</td>\n",
              "      <td>26000.0</td>\n",
              "      <td>31920.0</td>\n",
              "      <td>pln</td>\n",
              "      <td>450.0</td>\n",
              "    </tr>\n",
              "    <tr>\n",
              "      <th>758</th>\n",
              "      <td>tpay-bi-developer-tableau</td>\n",
              "      <td>None</td>\n",
              "      <td>bi developer (tableau)</td>\n",
              "      <td>plac Andersa 3, 17 piętro</td>\n",
              "      <td>Poznań</td>\n",
              "      <td>6</td>\n",
              "      <td>plac Andersa 3, 17 piętro, Poznań</td>\n",
              "      <td>data</td>\n",
              "      <td>2</td>\n",
              "      <td>Tpay</td>\n",
              "      <td>...</td>\n",
              "      <td>3</td>\n",
              "      <td>0</td>\n",
              "      <td>0</td>\n",
              "      <td>0</td>\n",
              "      <td>0</td>\n",
              "      <td>2</td>\n",
              "      <td>14000.0</td>\n",
              "      <td>18000.0</td>\n",
              "      <td>pln</td>\n",
              "      <td>100.0</td>\n",
              "    </tr>\n",
              "  </tbody>\n",
              "</table>\n",
              "<p>5 rows × 58 columns</p>\n",
              "</div>"
            ],
            "text/plain": [
              "                                                    id apply_body  \\\n",
              "128                cloudfide-power-bi-developer-lublin       None   \n",
              "626  xtb-head-of-ai-d68fb7a8-1a35-4b02-99ec-05ede28...       None   \n",
              "324  idego-data-engineer-236a5d44-40fb-407f-8e42-31...       None   \n",
              "542                 square-one-data-engineer-bialystok       None   \n",
              "758                          tpay-bi-developer-tableau       None   \n",
              "\n",
              "                      title                     street       city  \\\n",
              "128      power bi developer                    Centrum     Lublin   \n",
              "626              head of ai                    Centrum     Kielce   \n",
              "324           data engineer                          -   Warszawa   \n",
              "542           data engineer                    Centrum  Białystok   \n",
              "758  bi developer (tableau)  plac Andersa 3, 17 piętro     Poznań   \n",
              "\n",
              "     country_code                       address_text marker_icon  \\\n",
              "128             6                    Centrum, Lublin        data   \n",
              "626             6                    Centrum, Kielce        data   \n",
              "324             6                        -, Warszawa        data   \n",
              "542             6                 Centrum, Białystok        data   \n",
              "758             6  plac Andersa 3, 17 piętro, Poznań        data   \n",
              "\n",
              "     workplace_type company_name  ... skill_python  skill_scala  \\\n",
              "128               2    CLOUDFIDE  ...            0            0   \n",
              "626               2          XTB  ...            5            0   \n",
              "324               2        Idego  ...            3            0   \n",
              "542               2   Square One  ...            4            0   \n",
              "758               2         Tpay  ...            3            0   \n",
              "\n",
              "     skill_snowflake skill_spark skill_sql type     from       to currency  \\\n",
              "128                0           0         4    0  11000.0  22000.0      pln   \n",
              "626                0           0         0    0  30000.0  40000.0      pln   \n",
              "324                4           0         3    0  20000.0  30000.0      pln   \n",
              "542                0           0         0    0  26000.0  31920.0      pln   \n",
              "758                0           0         0    2  14000.0  18000.0      pln   \n",
              "\n",
              "    avg_company_size  \n",
              "128             50.0  \n",
              "626            500.0  \n",
              "324            120.0  \n",
              "542            450.0  \n",
              "758            100.0  \n",
              "\n",
              "[5 rows x 58 columns]"
            ]
          },
          "execution_count": 165,
          "metadata": {},
          "output_type": "execute_result"
        }
      ],
      "source": [
        "df_reg.sample(5)"
      ]
    },
    {
      "cell_type": "code",
      "execution_count": 166,
      "metadata": {
        "id": "ie3utLLuHWvD"
      },
      "outputs": [],
      "source": [
        "# remove columns that won't be taken into consideration\n",
        "df_reg_limit=df_reg.drop(columns = ['id', 'apply_body', 'title', 'company_size', 'street', 'city', 'address_text', 'marker_icon', 'company_name', 'company_url', 'latitude', 'longitude', 'apply_url', 'published_at', 'remote_interview', 'video_key', 'video_provider', 'open_to_hire_ukrainians', 'future_consent_title', 'future_consent', 'information_clause', 'custom_consent_title', 'custom_consent', 'tags', 'body', 'company_logo_url', 'banner_url', 'multilocation', 'company_profile', 'currency'])\n"
      ]
    },
    {
      "cell_type": "code",
      "execution_count": 167,
      "metadata": {
        "id": "ezqMq-KiT-l2"
      },
      "outputs": [
        {
          "data": {
            "text/html": [
              "<div>\n",
              "<style scoped>\n",
              "    .dataframe tbody tr th:only-of-type {\n",
              "        vertical-align: middle;\n",
              "    }\n",
              "\n",
              "    .dataframe tbody tr th {\n",
              "        vertical-align: top;\n",
              "    }\n",
              "\n",
              "    .dataframe thead th {\n",
              "        text-align: right;\n",
              "    }\n",
              "</style>\n",
              "<table border=\"1\" class=\"dataframe\">\n",
              "  <thead>\n",
              "    <tr style=\"text-align: right;\">\n",
              "      <th></th>\n",
              "      <th>country_code</th>\n",
              "      <th>workplace_type</th>\n",
              "      <th>experience_level</th>\n",
              "      <th>remote</th>\n",
              "      <th>skill_aws</th>\n",
              "      <th>skill_azure</th>\n",
              "      <th>skill_big data</th>\n",
              "      <th>skill_data</th>\n",
              "      <th>skill_databases</th>\n",
              "      <th>skill_databricks</th>\n",
              "      <th>...</th>\n",
              "      <th>skill_power bi</th>\n",
              "      <th>skill_python</th>\n",
              "      <th>skill_scala</th>\n",
              "      <th>skill_snowflake</th>\n",
              "      <th>skill_spark</th>\n",
              "      <th>skill_sql</th>\n",
              "      <th>type</th>\n",
              "      <th>from</th>\n",
              "      <th>to</th>\n",
              "      <th>avg_company_size</th>\n",
              "    </tr>\n",
              "  </thead>\n",
              "  <tbody>\n",
              "    <tr>\n",
              "      <th>0</th>\n",
              "      <td>6</td>\n",
              "      <td>2</td>\n",
              "      <td>2</td>\n",
              "      <td>True</td>\n",
              "      <td>3</td>\n",
              "      <td>0</td>\n",
              "      <td>0</td>\n",
              "      <td>0</td>\n",
              "      <td>0</td>\n",
              "      <td>0</td>\n",
              "      <td>...</td>\n",
              "      <td>0</td>\n",
              "      <td>4</td>\n",
              "      <td>0</td>\n",
              "      <td>3</td>\n",
              "      <td>1</td>\n",
              "      <td>4</td>\n",
              "      <td>0</td>\n",
              "      <td>31000.0</td>\n",
              "      <td>38000.0</td>\n",
              "      <td>250.0</td>\n",
              "    </tr>\n",
              "    <tr>\n",
              "      <th>1</th>\n",
              "      <td>6</td>\n",
              "      <td>2</td>\n",
              "      <td>2</td>\n",
              "      <td>True</td>\n",
              "      <td>3</td>\n",
              "      <td>0</td>\n",
              "      <td>0</td>\n",
              "      <td>0</td>\n",
              "      <td>0</td>\n",
              "      <td>0</td>\n",
              "      <td>...</td>\n",
              "      <td>0</td>\n",
              "      <td>4</td>\n",
              "      <td>0</td>\n",
              "      <td>3</td>\n",
              "      <td>1</td>\n",
              "      <td>4</td>\n",
              "      <td>0</td>\n",
              "      <td>25000.0</td>\n",
              "      <td>30000.0</td>\n",
              "      <td>250.0</td>\n",
              "    </tr>\n",
              "    <tr>\n",
              "      <th>2</th>\n",
              "      <td>6</td>\n",
              "      <td>2</td>\n",
              "      <td>1</td>\n",
              "      <td>True</td>\n",
              "      <td>0</td>\n",
              "      <td>0</td>\n",
              "      <td>0</td>\n",
              "      <td>0</td>\n",
              "      <td>0</td>\n",
              "      <td>3</td>\n",
              "      <td>...</td>\n",
              "      <td>0</td>\n",
              "      <td>4</td>\n",
              "      <td>0</td>\n",
              "      <td>0</td>\n",
              "      <td>0</td>\n",
              "      <td>4</td>\n",
              "      <td>2</td>\n",
              "      <td>13000.0</td>\n",
              "      <td>25000.0</td>\n",
              "      <td>6000.0</td>\n",
              "    </tr>\n",
              "    <tr>\n",
              "      <th>3</th>\n",
              "      <td>6</td>\n",
              "      <td>2</td>\n",
              "      <td>1</td>\n",
              "      <td>True</td>\n",
              "      <td>0</td>\n",
              "      <td>0</td>\n",
              "      <td>0</td>\n",
              "      <td>0</td>\n",
              "      <td>0</td>\n",
              "      <td>3</td>\n",
              "      <td>...</td>\n",
              "      <td>0</td>\n",
              "      <td>4</td>\n",
              "      <td>0</td>\n",
              "      <td>0</td>\n",
              "      <td>0</td>\n",
              "      <td>4</td>\n",
              "      <td>2</td>\n",
              "      <td>13000.0</td>\n",
              "      <td>25000.0</td>\n",
              "      <td>6000.0</td>\n",
              "    </tr>\n",
              "    <tr>\n",
              "      <th>4</th>\n",
              "      <td>6</td>\n",
              "      <td>2</td>\n",
              "      <td>1</td>\n",
              "      <td>True</td>\n",
              "      <td>0</td>\n",
              "      <td>0</td>\n",
              "      <td>0</td>\n",
              "      <td>0</td>\n",
              "      <td>0</td>\n",
              "      <td>3</td>\n",
              "      <td>...</td>\n",
              "      <td>0</td>\n",
              "      <td>4</td>\n",
              "      <td>0</td>\n",
              "      <td>0</td>\n",
              "      <td>0</td>\n",
              "      <td>4</td>\n",
              "      <td>2</td>\n",
              "      <td>13000.0</td>\n",
              "      <td>25000.0</td>\n",
              "      <td>6000.0</td>\n",
              "    </tr>\n",
              "  </tbody>\n",
              "</table>\n",
              "<p>5 rows × 28 columns</p>\n",
              "</div>"
            ],
            "text/plain": [
              "   country_code  workplace_type  experience_level  remote  skill_aws  \\\n",
              "0             6               2                 2    True          3   \n",
              "1             6               2                 2    True          3   \n",
              "2             6               2                 1    True          0   \n",
              "3             6               2                 1    True          0   \n",
              "4             6               2                 1    True          0   \n",
              "\n",
              "   skill_azure  skill_big data  skill_data  skill_databases  skill_databricks  \\\n",
              "0            0               0           0                0                 0   \n",
              "1            0               0           0                0                 0   \n",
              "2            0               0           0                0                 3   \n",
              "3            0               0           0                0                 3   \n",
              "4            0               0           0                0                 3   \n",
              "\n",
              "   ...  skill_power bi  skill_python  skill_scala  skill_snowflake  \\\n",
              "0  ...               0             4            0                3   \n",
              "1  ...               0             4            0                3   \n",
              "2  ...               0             4            0                0   \n",
              "3  ...               0             4            0                0   \n",
              "4  ...               0             4            0                0   \n",
              "\n",
              "   skill_spark  skill_sql  type     from       to  avg_company_size  \n",
              "0            1          4     0  31000.0  38000.0             250.0  \n",
              "1            1          4     0  25000.0  30000.0             250.0  \n",
              "2            0          4     2  13000.0  25000.0            6000.0  \n",
              "3            0          4     2  13000.0  25000.0            6000.0  \n",
              "4            0          4     2  13000.0  25000.0            6000.0  \n",
              "\n",
              "[5 rows x 28 columns]"
            ]
          },
          "execution_count": 167,
          "metadata": {},
          "output_type": "execute_result"
        }
      ],
      "source": [
        "df_reg_limit.head()"
      ]
    },
    {
      "cell_type": "code",
      "execution_count": 168,
      "metadata": {
        "id": "-vsSKpdV0J_o"
      },
      "outputs": [
        {
          "name": "stdout",
          "output_type": "stream",
          "text": [
            "<class 'pandas.core.frame.DataFrame'>\n",
            "Index: 1131 entries, 0 to 1130\n",
            "Data columns (total 28 columns):\n",
            " #   Column                  Non-Null Count  Dtype  \n",
            "---  ------                  --------------  -----  \n",
            " 0   country_code            1131 non-null   int64  \n",
            " 1   workplace_type          1131 non-null   int64  \n",
            " 2   experience_level        1131 non-null   int64  \n",
            " 3   remote                  1131 non-null   bool   \n",
            " 4   skill_aws               1131 non-null   int64  \n",
            " 5   skill_azure             1131 non-null   int64  \n",
            " 6   skill_big data          1131 non-null   int64  \n",
            " 7   skill_data              1131 non-null   int64  \n",
            " 8   skill_databases         1131 non-null   int64  \n",
            " 9   skill_databricks        1131 non-null   int64  \n",
            " 10  skill_dwh               1131 non-null   int64  \n",
            " 11  skill_english           1131 non-null   int64  \n",
            " 12  skill_etl               1131 non-null   int64  \n",
            " 13  skill_gcp               1131 non-null   int64  \n",
            " 14  skill_java              1131 non-null   int64  \n",
            " 15  skill_machine learning  1131 non-null   int64  \n",
            " 16  skill_oracle            1131 non-null   int64  \n",
            " 17  skill_pl/sql            1131 non-null   int64  \n",
            " 18  skill_power bi          1131 non-null   int64  \n",
            " 19  skill_python            1131 non-null   int64  \n",
            " 20  skill_scala             1131 non-null   int64  \n",
            " 21  skill_snowflake         1131 non-null   int64  \n",
            " 22  skill_spark             1131 non-null   int64  \n",
            " 23  skill_sql               1131 non-null   int64  \n",
            " 24  type                    1131 non-null   int64  \n",
            " 25  from                    789 non-null    float64\n",
            " 26  to                      789 non-null    float64\n",
            " 27  avg_company_size        1128 non-null   float64\n",
            "dtypes: bool(1), float64(3), int64(24)\n",
            "memory usage: 248.5 KB\n"
          ]
        }
      ],
      "source": [
        "df_reg_limit.info()"
      ]
    },
    {
      "cell_type": "code",
      "execution_count": 169,
      "metadata": {
        "id": "3W00BbbiHW2l"
      },
      "outputs": [
        {
          "name": "stdout",
          "output_type": "stream",
          "text": [
            "<class 'pandas.core.frame.DataFrame'>\n",
            "RangeIndex: 342 entries, 0 to 341\n",
            "Data columns (total 28 columns):\n",
            " #   Column                  Non-Null Count  Dtype  \n",
            "---  ------                  --------------  -----  \n",
            " 0   country_code            342 non-null    int64  \n",
            " 1   workplace_type          342 non-null    int64  \n",
            " 2   experience_level        342 non-null    int64  \n",
            " 3   remote                  342 non-null    bool   \n",
            " 4   skill_aws               342 non-null    int64  \n",
            " 5   skill_azure             342 non-null    int64  \n",
            " 6   skill_big data          342 non-null    int64  \n",
            " 7   skill_data              342 non-null    int64  \n",
            " 8   skill_databases         342 non-null    int64  \n",
            " 9   skill_databricks        342 non-null    int64  \n",
            " 10  skill_dwh               342 non-null    int64  \n",
            " 11  skill_english           342 non-null    int64  \n",
            " 12  skill_etl               342 non-null    int64  \n",
            " 13  skill_gcp               342 non-null    int64  \n",
            " 14  skill_java              342 non-null    int64  \n",
            " 15  skill_machine learning  342 non-null    int64  \n",
            " 16  skill_oracle            342 non-null    int64  \n",
            " 17  skill_pl/sql            342 non-null    int64  \n",
            " 18  skill_power bi          342 non-null    int64  \n",
            " 19  skill_python            342 non-null    int64  \n",
            " 20  skill_scala             342 non-null    int64  \n",
            " 21  skill_snowflake         342 non-null    int64  \n",
            " 22  skill_spark             342 non-null    int64  \n",
            " 23  skill_sql               342 non-null    int64  \n",
            " 24  type                    342 non-null    int64  \n",
            " 25  from                    0 non-null      float64\n",
            " 26  to                      0 non-null      float64\n",
            " 27  avg_company_size        339 non-null    float64\n",
            "dtypes: bool(1), float64(3), int64(24)\n",
            "memory usage: 72.6 KB\n",
            "<class 'pandas.core.frame.DataFrame'>\n",
            "RangeIndex: 789 entries, 0 to 788\n",
            "Data columns (total 28 columns):\n",
            " #   Column                  Non-Null Count  Dtype  \n",
            "---  ------                  --------------  -----  \n",
            " 0   country_code            789 non-null    int64  \n",
            " 1   workplace_type          789 non-null    int64  \n",
            " 2   experience_level        789 non-null    int64  \n",
            " 3   remote                  789 non-null    bool   \n",
            " 4   skill_aws               789 non-null    int64  \n",
            " 5   skill_azure             789 non-null    int64  \n",
            " 6   skill_big data          789 non-null    int64  \n",
            " 7   skill_data              789 non-null    int64  \n",
            " 8   skill_databases         789 non-null    int64  \n",
            " 9   skill_databricks        789 non-null    int64  \n",
            " 10  skill_dwh               789 non-null    int64  \n",
            " 11  skill_english           789 non-null    int64  \n",
            " 12  skill_etl               789 non-null    int64  \n",
            " 13  skill_gcp               789 non-null    int64  \n",
            " 14  skill_java              789 non-null    int64  \n",
            " 15  skill_machine learning  789 non-null    int64  \n",
            " 16  skill_oracle            789 non-null    int64  \n",
            " 17  skill_pl/sql            789 non-null    int64  \n",
            " 18  skill_power bi          789 non-null    int64  \n",
            " 19  skill_python            789 non-null    int64  \n",
            " 20  skill_scala             789 non-null    int64  \n",
            " 21  skill_snowflake         789 non-null    int64  \n",
            " 22  skill_spark             789 non-null    int64  \n",
            " 23  skill_sql               789 non-null    int64  \n",
            " 24  type                    789 non-null    int64  \n",
            " 25  from                    789 non-null    float64\n",
            " 26  to                      789 non-null    float64\n",
            " 27  avg_company_size        789 non-null    float64\n",
            "dtypes: bool(1), float64(3), int64(24)\n",
            "memory usage: 167.3 KB\n"
          ]
        }
      ],
      "source": [
        "# extract rows with no salary information\n",
        "df_no_salaries = df_reg_limit[df_reg_limit['to'].isna()].reset_index(drop=True)\n",
        "df_no_salaries.info()\n",
        "\n",
        "# extract rows with salary information\n",
        "df_salaries = df_reg_limit[df_reg_limit['to'].notna()].reset_index(drop=True)\n",
        "df_salaries.info()"
      ]
    },
    {
      "cell_type": "code",
      "execution_count": 170,
      "metadata": {
        "id": "QqfMIvJrbAst"
      },
      "outputs": [
        {
          "data": {
            "text/html": [
              "<div>\n",
              "<style scoped>\n",
              "    .dataframe tbody tr th:only-of-type {\n",
              "        vertical-align: middle;\n",
              "    }\n",
              "\n",
              "    .dataframe tbody tr th {\n",
              "        vertical-align: top;\n",
              "    }\n",
              "\n",
              "    .dataframe thead th {\n",
              "        text-align: right;\n",
              "    }\n",
              "</style>\n",
              "<table border=\"1\" class=\"dataframe\">\n",
              "  <thead>\n",
              "    <tr style=\"text-align: right;\">\n",
              "      <th></th>\n",
              "      <th>country_code</th>\n",
              "      <th>workplace_type</th>\n",
              "      <th>experience_level</th>\n",
              "      <th>remote</th>\n",
              "      <th>skill_aws</th>\n",
              "      <th>skill_azure</th>\n",
              "      <th>skill_big data</th>\n",
              "      <th>skill_data</th>\n",
              "      <th>skill_databases</th>\n",
              "      <th>skill_databricks</th>\n",
              "      <th>...</th>\n",
              "      <th>skill_power bi</th>\n",
              "      <th>skill_python</th>\n",
              "      <th>skill_scala</th>\n",
              "      <th>skill_snowflake</th>\n",
              "      <th>skill_spark</th>\n",
              "      <th>skill_sql</th>\n",
              "      <th>type</th>\n",
              "      <th>from</th>\n",
              "      <th>to</th>\n",
              "      <th>avg_company_size</th>\n",
              "    </tr>\n",
              "  </thead>\n",
              "  <tbody>\n",
              "    <tr>\n",
              "      <th>189</th>\n",
              "      <td>6</td>\n",
              "      <td>2</td>\n",
              "      <td>1</td>\n",
              "      <td>True</td>\n",
              "      <td>3</td>\n",
              "      <td>0</td>\n",
              "      <td>0</td>\n",
              "      <td>0</td>\n",
              "      <td>0</td>\n",
              "      <td>0</td>\n",
              "      <td>...</td>\n",
              "      <td>0</td>\n",
              "      <td>3</td>\n",
              "      <td>0</td>\n",
              "      <td>0</td>\n",
              "      <td>0</td>\n",
              "      <td>5</td>\n",
              "      <td>0</td>\n",
              "      <td>1800.0</td>\n",
              "      <td>2300.0</td>\n",
              "      <td>16.0</td>\n",
              "    </tr>\n",
              "    <tr>\n",
              "      <th>701</th>\n",
              "      <td>6</td>\n",
              "      <td>0</td>\n",
              "      <td>0</td>\n",
              "      <td>False</td>\n",
              "      <td>0</td>\n",
              "      <td>0</td>\n",
              "      <td>0</td>\n",
              "      <td>0</td>\n",
              "      <td>0</td>\n",
              "      <td>0</td>\n",
              "      <td>...</td>\n",
              "      <td>0</td>\n",
              "      <td>0</td>\n",
              "      <td>0</td>\n",
              "      <td>0</td>\n",
              "      <td>0</td>\n",
              "      <td>1</td>\n",
              "      <td>2</td>\n",
              "      <td>3600.0</td>\n",
              "      <td>5090.0</td>\n",
              "      <td>75.0</td>\n",
              "    </tr>\n",
              "    <tr>\n",
              "      <th>441</th>\n",
              "      <td>6</td>\n",
              "      <td>1</td>\n",
              "      <td>0</td>\n",
              "      <td>False</td>\n",
              "      <td>0</td>\n",
              "      <td>0</td>\n",
              "      <td>0</td>\n",
              "      <td>0</td>\n",
              "      <td>0</td>\n",
              "      <td>0</td>\n",
              "      <td>...</td>\n",
              "      <td>0</td>\n",
              "      <td>1</td>\n",
              "      <td>0</td>\n",
              "      <td>0</td>\n",
              "      <td>0</td>\n",
              "      <td>3</td>\n",
              "      <td>2</td>\n",
              "      <td>4000.0</td>\n",
              "      <td>8000.0</td>\n",
              "      <td>460.0</td>\n",
              "    </tr>\n",
              "    <tr>\n",
              "      <th>420</th>\n",
              "      <td>6</td>\n",
              "      <td>1</td>\n",
              "      <td>0</td>\n",
              "      <td>False</td>\n",
              "      <td>0</td>\n",
              "      <td>0</td>\n",
              "      <td>0</td>\n",
              "      <td>0</td>\n",
              "      <td>0</td>\n",
              "      <td>0</td>\n",
              "      <td>...</td>\n",
              "      <td>0</td>\n",
              "      <td>0</td>\n",
              "      <td>0</td>\n",
              "      <td>0</td>\n",
              "      <td>0</td>\n",
              "      <td>3</td>\n",
              "      <td>2</td>\n",
              "      <td>4000.0</td>\n",
              "      <td>7000.0</td>\n",
              "      <td>25.0</td>\n",
              "    </tr>\n",
              "    <tr>\n",
              "      <th>410</th>\n",
              "      <td>6</td>\n",
              "      <td>0</td>\n",
              "      <td>0</td>\n",
              "      <td>False</td>\n",
              "      <td>0</td>\n",
              "      <td>0</td>\n",
              "      <td>0</td>\n",
              "      <td>0</td>\n",
              "      <td>0</td>\n",
              "      <td>0</td>\n",
              "      <td>...</td>\n",
              "      <td>0</td>\n",
              "      <td>0</td>\n",
              "      <td>0</td>\n",
              "      <td>0</td>\n",
              "      <td>0</td>\n",
              "      <td>1</td>\n",
              "      <td>0</td>\n",
              "      <td>4337.0</td>\n",
              "      <td>6133.0</td>\n",
              "      <td>75.0</td>\n",
              "    </tr>\n",
              "  </tbody>\n",
              "</table>\n",
              "<p>5 rows × 28 columns</p>\n",
              "</div>"
            ],
            "text/plain": [
              "     country_code  workplace_type  experience_level  remote  skill_aws  \\\n",
              "189             6               2                 1    True          3   \n",
              "701             6               0                 0   False          0   \n",
              "441             6               1                 0   False          0   \n",
              "420             6               1                 0   False          0   \n",
              "410             6               0                 0   False          0   \n",
              "\n",
              "     skill_azure  skill_big data  skill_data  skill_databases  \\\n",
              "189            0               0           0                0   \n",
              "701            0               0           0                0   \n",
              "441            0               0           0                0   \n",
              "420            0               0           0                0   \n",
              "410            0               0           0                0   \n",
              "\n",
              "     skill_databricks  ...  skill_power bi  skill_python  skill_scala  \\\n",
              "189                 0  ...               0             3            0   \n",
              "701                 0  ...               0             0            0   \n",
              "441                 0  ...               0             1            0   \n",
              "420                 0  ...               0             0            0   \n",
              "410                 0  ...               0             0            0   \n",
              "\n",
              "     skill_snowflake  skill_spark  skill_sql  type    from      to  \\\n",
              "189                0            0          5     0  1800.0  2300.0   \n",
              "701                0            0          1     2  3600.0  5090.0   \n",
              "441                0            0          3     2  4000.0  8000.0   \n",
              "420                0            0          3     2  4000.0  7000.0   \n",
              "410                0            0          1     0  4337.0  6133.0   \n",
              "\n",
              "     avg_company_size  \n",
              "189              16.0  \n",
              "701              75.0  \n",
              "441             460.0  \n",
              "420              25.0  \n",
              "410              75.0  \n",
              "\n",
              "[5 rows x 28 columns]"
            ]
          },
          "execution_count": 170,
          "metadata": {},
          "output_type": "execute_result"
        }
      ],
      "source": [
        "df_salaries_sorted = df_salaries.sort_values(by='from', ascending=True)\n",
        "df_salaries_sorted.head()"
      ]
    },
    {
      "cell_type": "code",
      "execution_count": 171,
      "metadata": {
        "id": "aNzBDvUhbfSW"
      },
      "outputs": [
        {
          "data": {
            "image/png": "[encoded data removed]",
            "text/plain": [
              "<Figure size 1000x600 with 1 Axes>"
            ]
          },
          "metadata": {},
          "output_type": "display_data"
        }
      ],
      "source": [
        "plt.figure(figsize=(10, 6))\n",
        "sns.set(style=\"darkgrid\")\n",
        "plot = sns.scatterplot(x=np.arange(len(df_salaries_sorted)), y=df_salaries_sorted['from'])\n",
        "plot.set_title('Salary from in PLN')\n",
        "\n",
        "plt.show()"
      ]
    },
    {
      "cell_type": "code",
      "execution_count": 172,
      "metadata": {
        "id": "8U-0d0rdHW98"
      },
      "outputs": [],
      "source": [
        "# split the dataset into training and test sets, now only salary_from is investigated\n",
        "X = df_salaries.drop(columns=['from','to'])\n",
        "y = df_salaries['from']"
      ]
    },
    {
      "cell_type": "code",
      "execution_count": 173,
      "metadata": {
        "id": "0xFhFRR_LRfJ"
      },
      "outputs": [],
      "source": [
        "# normalizing the data\n",
        "scl = StandardScaler()\n",
        "X_scaled = pd.DataFrame(scl.fit_transform(X), columns = X.columns)"
      ]
    },
    {
      "cell_type": "code",
      "execution_count": 310,
      "metadata": {
        "id": "kmBfKLesHXEr"
      },
      "outputs": [],
      "source": [
        "# X_train, X_test, y_train, y_test = train_test_split(X_scaled, y, test_size=0.2)\n",
        "X_train, X_test, y_train, y_test = train_test_split(X, y, test_size=0.2)"
      ]
    },
    {
      "cell_type": "markdown",
      "metadata": {
        "id": "u4Rl6-jVImQ7"
      },
      "source": [
        "## Random Forest"
      ]
    },
    {
      "cell_type": "code",
      "execution_count": 311,
      "metadata": {
        "id": "nxn9kWiuHXMI"
      },
      "outputs": [
        {
          "name": "stdout",
          "output_type": "stream",
          "text": [
            "Best Parameters: {'max_depth': 20, 'min_samples_leaf': 1, 'min_samples_split': 2, 'n_estimators': 100}\n",
            "Regression Model Evaluation:\n",
            "===========================\n",
            "Mean Absolute Error (MAE): 893.59\n",
            "Mean Squared Error (MSE): 6837577.64\n",
            "Root Mean Squared Error (RMSE): 2614.88\n",
            "R-squared (R2): 0.86\n"
          ]
        }
      ],
      "source": [
        "# Initialize the RandomForestRegressor model\n",
        "rf_regressor = RandomForestRegressor()\n",
        "\n",
        "# Define the parameter grid for the grid search\n",
        "param_grid = {\n",
        "    'n_estimators': [100, 200, 300],\n",
        "    'max_depth': [None, 10, 20],\n",
        "    'min_samples_split': [2, 5, 10],\n",
        "    'min_samples_leaf': [1, 2, 4]\n",
        "}\n",
        "\n",
        "# Create a GridSearchCV object\n",
        "gs = GridSearchCV(estimator=rf_regressor, param_grid=param_grid, cv=5, n_jobs=-1, scoring='neg_mean_absolute_error')\n",
        "\n",
        "# Fit the GridSearchCV object to the training data\n",
        "gs.fit(X_train, y_train)\n",
        "\n",
        "# Get the best model with tuned hyperparameters\n",
        "best_model = gs.best_estimator_\n",
        "\n",
        "# Print best parameters\n",
        "print(\"Best Parameters:\", gs.best_params_)\n",
        "\n",
        "# Predict on the test set\n",
        "y_pred = best_model.predict(X_test)\n",
        "\n",
        "# Evaluate the best model\n",
        "evaluate_regression_model(best_model, X_test, y_test)"
      ]
    },
    {
      "cell_type": "code",
      "execution_count": 314,
      "metadata": {
        "id": "_l0EUBvGJUYC"
      },
      "outputs": [
        {
          "name": "stdout",
          "output_type": "stream",
          "text": [
            "Regression Model Evaluation:\n",
            "===========================\n",
            "Mean Absolute Error (MAE): 852.33\n",
            "Mean Squared Error (MSE): 6426856.75\n",
            "Root Mean Squared Error (RMSE): 2535.12\n",
            "R-squared (R2): 0.87\n"
          ]
        }
      ],
      "source": [
        "RF_model = RandomForestRegressor(max_depth = 20, min_samples_leaf= 1, min_samples_split=2, n_estimators=100)\n",
        "RF_model.fit(X_train, y_train)\n",
        "\n",
        "evaluate_regression_model(RF_model, X_test, y_test)"
      ]
    },
    {
      "cell_type": "markdown",
      "metadata": {
        "id": "t2V73OBD8BBc"
      },
      "source": []
    },
    {
      "cell_type": "markdown",
      "metadata": {
        "id": "eehoyGMy_b_K"
      },
      "source": [
        "##MAE distribution"
      ]
    },
    {
      "cell_type": "code",
      "execution_count": 177,
      "metadata": {
        "id": "vCXNSVWL_byS"
      },
      "outputs": [
        {
          "data": {
            "text/plain": [
              "<Axes: ylabel='Count'>"
            ]
          },
          "execution_count": 177,
          "metadata": {},
          "output_type": "execute_result"
        },
        {
          "data": {
            "image/png": "[encoded data removed]",
            "text/plain": [
              "<Figure size 640x480 with 1 Axes>"
            ]
          },
          "metadata": {},
          "output_type": "display_data"
        }
      ],
      "source": [
        "mae = []\n",
        "\n",
        "for i in range(1000):\n",
        "    X_train, X_test, y_train, y_test = train_test_split(X, y, test_size = 0.2)\n",
        "    RF_model = RandomForestRegressor(max_depth=20, min_samples_split = 2, n_estimators = 150)\n",
        "\n",
        "    RF_model.fit(X_train, y_train)\n",
        "\n",
        "    mae.append(mean_absolute_error(y_test, RF_model.predict(X_test)))\n",
        "\n",
        "sns.set_style(\"darkgrid\")\n",
        "sns.histplot(mae)"
      ]
    },
    {
      "cell_type": "code",
      "execution_count": 179,
      "metadata": {},
      "outputs": [
        {
          "name": "stdout",
          "output_type": "stream",
          "text": [
            "1.2.2\n"
          ]
        }
      ],
      "source": [
        "import sklearn\n",
        "scikit_version = sklearn.__version__\n",
        "print(scikit_version)"
      ]
    },
    {
      "cell_type": "code",
      "execution_count": 180,
      "metadata": {},
      "outputs": [
        {
          "data": {
            "text/plain": [
              "['RF_model_1.2.2.pkl']"
            ]
          },
          "execution_count": 180,
          "metadata": {},
          "output_type": "execute_result"
        }
      ],
      "source": [
        "joblib.dump(RF_model, f\"RF_model_{scikit_version}.pkl\")"
      ]
    },
    {
      "cell_type": "markdown",
      "metadata": {
        "id": "MCTtNlIR0SPA"
      },
      "source": [
        "# Reading job offer and preparing the data"
      ]
    },
    {
      "cell_type": "code",
      "execution_count": 379,
      "metadata": {
        "id": "fl166Irt0YQr"
      },
      "outputs": [],
      "source": [
        "job_offer = 'https://justjoin.it/offers/link-group-senior-data-scientist-graph-analytics'\n",
        "job_offer_api = job_offer.replace(\"https://justjoin.it/offers/\", \"https://justjoin.it/api/offers/\")"
      ]
    },
    {
      "cell_type": "code",
      "execution_count": 380,
      "metadata": {
        "id": "TMWJUTX_1Wq7"
      },
      "outputs": [],
      "source": [
        "response = requests.get(job_offer_api)\n",
        "job_data = response.json()"
      ]
    },
    {
      "cell_type": "code",
      "execution_count": 381,
      "metadata": {},
      "outputs": [
        {
          "name": "stdout",
          "output_type": "stream",
          "text": [
            "['sql', 'python', 'english', 'power bi', 'etl', 'azure', 'java', 'aws', 'snowflake', 'oracle', 'databricks', 'data', 'big data', 'pl/sql', 'scala', 'machine learning', 'spark', 'dwh', 'gcp', 'databases']\n"
          ]
        }
      ],
      "source": [
        "with open('output.txt', 'r') as file:\n",
        "    lines = file.readlines()\n",
        "    top_20_skills = [line.strip() for line in lines]\n",
        "\n",
        "print(top_20_skills)"
      ]
    },
    {
      "cell_type": "code",
      "execution_count": 382,
      "metadata": {},
      "outputs": [],
      "source": [
        "offer_data = []\n",
        "\n",
        "for skill in job_data['skills']:\n",
        "    # print(skill['name'])\n",
        "    new_row = job_data.copy()\n",
        "    new_row['skill_name'] = skill['name']\n",
        "    new_row['skill_level'] = skill['level']\n",
        "    offer_data.append(new_row)\n",
        "\n",
        "\n",
        "offer_df = pd.DataFrame(offer_data)\n",
        "offer_df = standardize_text(offer_df, \"title\")\n",
        "offer_df = standardize_text(offer_df, \"skill_name\")\n",
        "\n",
        "offer_dummies = pd.DataFrame()\n",
        "\n",
        "for col_name in sorted(top_20_skills):\n",
        "    offer_dummies[\"skill_\" + col_name] = 0\n",
        "\n",
        "offer_dummies.loc[0] = 0"
      ]
    },
    {
      "cell_type": "code",
      "execution_count": 383,
      "metadata": {},
      "outputs": [],
      "source": [
        "final = []\n",
        "for skill in offer_df['skill_name']:\n",
        "    new_dummy = offer_dummies.copy()\n",
        "    if skill in top_20_skills:\n",
        "        new_dummy[f\"skill_{skill}\"] = 1\n",
        "    final.append(new_dummy)\n",
        "\n",
        "all_dummies = pd.concat(final, ignore_index=True)"
      ]
    },
    {
      "cell_type": "code",
      "execution_count": 384,
      "metadata": {
        "id": "PaEviqEe3Qbl"
      },
      "outputs": [],
      "source": [
        "\n",
        "\n",
        "\n",
        "for col in all_dummies.columns:\n",
        "    all_dummies[col] *=  offer_df['skill_level']\n",
        "\n",
        "# Dołączanie kolumn dummies\n",
        "aggregated_offer_df = pd.concat([offer_df, all_dummies], axis=1)\n",
        "\n",
        "def custom_agg(series):\n",
        "    if series.name.startswith('skill'):\n",
        "        return series.sum()\n",
        "    else:\n",
        "        return series.iat[0]\n",
        "\n",
        "\n",
        "aggregated_offer_df = aggregated_offer_df.drop('skill_name', axis=1)\n",
        "aggregated_offer_df = aggregated_offer_df.drop('skills', axis=1)\n",
        "\n",
        "# Grupowanie, agregacja i reset indeksu\n",
        "aggregated_offer_df = aggregated_offer_df.groupby('id', as_index=False).agg(custom_agg)\n",
        "aggregated_offer_df = aggregated_offer_df.drop('skill_level', axis=1)\n",
        "\n",
        "level_mapping = {'junior': 0, 'mid': 1, 'senior': 2}\n",
        "workplace_mapping= {'remote': 0, 'partly_remote': 1, 'office': 2}\n",
        "country_mapping = {'PL': 0, 'SK': 1, 'CZ': 2, 'HU': 3, 'AT': 4, 'SI': 5, 'RO': 6, 'MT': 7, 'DE': 8, 'UA': 9, 'None': 10,\n",
        "       'EE': 11}\n",
        "\n",
        "aggregated_offer_df['experience_level'] = aggregated_offer_df['experience_level'].map(level_mapping)\n",
        "\n",
        "aggregated_offer_df['workplace_type'] =aggregated_offer_df['workplace_type'].map(workplace_mapping)\n",
        "\n",
        "aggregated_offer_df['country_code'] = aggregated_offer_df['country_code'].map(country_mapping)\n",
        "\n",
        "offer_employment_types = aggregated_offer_df['employment_types'].apply(pd.Series)\n",
        "offer_employment_type = offer_employment_types[0].apply(pd.Series)\n",
        "offer_employment_type= pd.concat([offer_employment_type.drop(['salary'], axis=1),\n",
        "                                 offer_employment_type['salary'].apply(pd.Series)], axis=1)\n",
        "\n",
        "offer_no_employment = aggregated_offer_df.drop(columns = 'employment_types')\n",
        "offer_employment = pd.concat([offer_no_employment, offer_employment_type], axis = 1)\n",
        "\n",
        "type_map = {'permanent': 0, 'b2b': 1, 'mandate_contract': 2}\n",
        "offer_employment['type'] = offer_employment['type'].map(type_map)"
      ]
    },
    {
      "cell_type": "code",
      "execution_count": 385,
      "metadata": {},
      "outputs": [
        {
          "data": {
            "text/plain": [
              "'200-250'"
            ]
          },
          "execution_count": 385,
          "metadata": {},
          "output_type": "execute_result"
        }
      ],
      "source": [
        "offer_employment['company_size'][0]"
      ]
    },
    {
      "cell_type": "code",
      "execution_count": 386,
      "metadata": {},
      "outputs": [],
      "source": [
        "def standardize_company_size(company_size_value):\n",
        "    company_size_value = str(company_size_value)\n",
        "    if (company_size_value == '-' or company_size_value == '' or company_size_value == ' ' or company_size_value == 'None'):\n",
        "        size = 0.0\n",
        "    elif '-' in company_size_value:\n",
        "        min_value, max_value = company_size_value.split('-')\n",
        "        size = 0.5 * (float(min_value) + float(max_value))\n",
        "    elif '+' in company_size_value:\n",
        "        size = float(company_size_value.replace('+', ''))\n",
        "    elif ' ' in company_size_value:\n",
        "        size = float(company_size_value.replace(' ', ''))\n",
        "    else:\n",
        "        size = float(company_size_value)\n",
        "\n",
        "    return size"
      ]
    },
    {
      "cell_type": "code",
      "execution_count": 390,
      "metadata": {
        "id": "FPt1CrKvDEks"
      },
      "outputs": [],
      "source": [
        "offer_employment['avg_company_size'] = offer_employment['company_size'].apply(lambda x: standardize_company_size(x))\n",
        "\n",
        "offer=offer_employment.drop(columns = ['id', 'from', 'to', 'currency','company_size', 'company_profile','apply_body', 'title', 'street', 'city', 'address_text', 'marker_icon', 'company_name', 'company_url', 'latitude', 'longitude', 'apply_url', 'published_at', 'remote_interview', 'video_key', 'video_provider', 'open_to_hire_ukrainians', 'future_consent_title', 'future_consent', 'information_clause', 'custom_consent_title', 'custom_consent', 'tags', 'body', 'company_logo_url', 'banner_url', 'multilocation'], errors='ignore')\n",
        "# scl = StandardScaler()\n",
        "# offer_scaled = pd.DataFrame(scl.fit_transform(offer), columns = offer.columns)"
      ]
    },
    {
      "cell_type": "code",
      "execution_count": 391,
      "metadata": {},
      "outputs": [
        {
          "data": {
            "text/html": [
              "<div>\n",
              "<style scoped>\n",
              "    .dataframe tbody tr th:only-of-type {\n",
              "        vertical-align: middle;\n",
              "    }\n",
              "\n",
              "    .dataframe tbody tr th {\n",
              "        vertical-align: top;\n",
              "    }\n",
              "\n",
              "    .dataframe thead th {\n",
              "        text-align: right;\n",
              "    }\n",
              "</style>\n",
              "<table border=\"1\" class=\"dataframe\">\n",
              "  <thead>\n",
              "    <tr style=\"text-align: right;\">\n",
              "      <th></th>\n",
              "      <th>country_code</th>\n",
              "      <th>workplace_type</th>\n",
              "      <th>experience_level</th>\n",
              "      <th>remote</th>\n",
              "      <th>skill_aws</th>\n",
              "      <th>skill_azure</th>\n",
              "      <th>skill_big data</th>\n",
              "      <th>skill_data</th>\n",
              "      <th>skill_databases</th>\n",
              "      <th>skill_databricks</th>\n",
              "      <th>...</th>\n",
              "      <th>skill_oracle</th>\n",
              "      <th>skill_pl/sql</th>\n",
              "      <th>skill_power bi</th>\n",
              "      <th>skill_python</th>\n",
              "      <th>skill_scala</th>\n",
              "      <th>skill_snowflake</th>\n",
              "      <th>skill_spark</th>\n",
              "      <th>skill_sql</th>\n",
              "      <th>type</th>\n",
              "      <th>avg_company_size</th>\n",
              "    </tr>\n",
              "  </thead>\n",
              "  <tbody>\n",
              "    <tr>\n",
              "      <th>0</th>\n",
              "      <td>0</td>\n",
              "      <td>1</td>\n",
              "      <td>2</td>\n",
              "      <td>False</td>\n",
              "      <td>0</td>\n",
              "      <td>0</td>\n",
              "      <td>0</td>\n",
              "      <td>0</td>\n",
              "      <td>0</td>\n",
              "      <td>0</td>\n",
              "      <td>...</td>\n",
              "      <td>0</td>\n",
              "      <td>0</td>\n",
              "      <td>0</td>\n",
              "      <td>0</td>\n",
              "      <td>0</td>\n",
              "      <td>0</td>\n",
              "      <td>0</td>\n",
              "      <td>0</td>\n",
              "      <td>0</td>\n",
              "      <td>225.0</td>\n",
              "    </tr>\n",
              "  </tbody>\n",
              "</table>\n",
              "<p>1 rows × 26 columns</p>\n",
              "</div>"
            ],
            "text/plain": [
              "   country_code  workplace_type  experience_level  remote  skill_aws  \\\n",
              "0             0               1                 2   False          0   \n",
              "\n",
              "   skill_azure  skill_big data  skill_data  skill_databases  skill_databricks  \\\n",
              "0            0               0           0                0                 0   \n",
              "\n",
              "   ...  skill_oracle  skill_pl/sql  skill_power bi  skill_python  skill_scala  \\\n",
              "0  ...             0             0               0             0            0   \n",
              "\n",
              "   skill_snowflake  skill_spark  skill_sql  type  avg_company_size  \n",
              "0                0            0          0     0             225.0  \n",
              "\n",
              "[1 rows x 26 columns]"
            ]
          },
          "execution_count": 391,
          "metadata": {},
          "output_type": "execute_result"
        }
      ],
      "source": [
        "offer"
      ]
    },
    {
      "cell_type": "code",
      "execution_count": 392,
      "metadata": {
        "id": "KDj_CKG9CX6U"
      },
      "outputs": [],
      "source": [
        "# Predict on the test set\n",
        "# pred = RF_model.predict(offer_scaled)\n",
        "pred = RF_model.predict(offer)"
      ]
    },
    {
      "cell_type": "code",
      "execution_count": 393,
      "metadata": {
        "id": "fBcpN19gCYyH"
      },
      "outputs": [
        {
          "name": "stdout",
          "output_type": "stream",
          "text": [
            "[25581.9]\n"
          ]
        }
      ],
      "source": [
        "print(pred)"
      ]
    },
    {
      "cell_type": "code",
      "execution_count": null,
      "metadata": {},
      "outputs": [],
      "source": [
        "'''\n",
        "company size, from, to i inne, tylko, jeeli faktycznie istnieją w dataframe\n",
        "NaN w country code jeśli nan to 0\n",
        "'''"
      ]
    }
  ],
  "metadata": {
    "colab": {
      "provenance": []
    },
    "kernelspec": {
      "display_name": "Python 3",
      "name": "python3"
    },
    "language_info": {
      "codemirror_mode": {
        "name": "ipython",
        "version": 3
      },
      "file_extension": ".py",
      "mimetype": "text/x-python",
      "name": "python",
      "nbconvert_exporter": "python",
      "pygments_lexer": "ipython3",
      "version": "3.10.9"
    }
  },
  "nbformat": 4,
  "nbformat_minor": 0
}
