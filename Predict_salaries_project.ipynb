{
  "cells": [
    {
      "cell_type": "code",
      "execution_count": 1,
      "metadata": {
        "colab": {
          "base_uri": "https://localhost:8080/"
        },
        "id": "EuC4ohiUVOLz",
        "outputId": "ac926b09-4003-47fb-c59f-c7c0cdbf376e"
      },
      "outputs": [
        {
          "name": "stdout",
          "output_type": "stream",
          "text": [
            "Requirement already satisfied: forex-python in /Users/dawidmarszalik/anaconda3/lib/python3.10/site-packages (1.8)\n",
            "Requirement already satisfied: requests in /Users/dawidmarszalik/anaconda3/lib/python3.10/site-packages (from forex-python) (2.29.0)\n",
            "Requirement already satisfied: simplejson in /Users/dawidmarszalik/anaconda3/lib/python3.10/site-packages (from forex-python) (3.19.1)\n",
            "Requirement already satisfied: charset-normalizer<4,>=2 in /Users/dawidmarszalik/anaconda3/lib/python3.10/site-packages (from requests->forex-python) (2.0.4)\n",
            "Requirement already satisfied: idna<4,>=2.5 in /Users/dawidmarszalik/anaconda3/lib/python3.10/site-packages (from requests->forex-python) (3.4)\n",
            "Requirement already satisfied: urllib3<1.27,>=1.21.1 in /Users/dawidmarszalik/anaconda3/lib/python3.10/site-packages (from requests->forex-python) (1.26.16)\n",
            "Requirement already satisfied: certifi>=2017.4.17 in /Users/dawidmarszalik/anaconda3/lib/python3.10/site-packages (from requests->forex-python) (2023.5.7)\n"
          ]
        }
      ],
      "source": [
        "!pip install forex-python"
      ]
    },
    {
      "cell_type": "code",
      "execution_count": 2,
      "metadata": {
        "id": "-6q7uwO6eoUO"
      },
      "outputs": [],
      "source": [
        "import pandas as pd\n",
        "import numpy as np\n",
        "import matplotlib.pyplot as plt\n",
        "import seaborn as sns\n",
        "\n",
        "import requests\n",
        "import json\n",
        "import time\n",
        "import joblib\n",
        "import datetime\n",
        "\n",
        "from sklearn import preprocessing\n",
        "from sklearn.feature_extraction.text import TfidfVectorizer\n",
        "from sklearn.ensemble import RandomForestRegressor\n",
        "from sklearn.model_selection import train_test_split\n",
        "from sklearn.model_selection import cross_val_score, KFold\n",
        "from sklearn.model_selection import GridSearchCV\n",
        "from sklearn import tree\n",
        "from sklearn.preprocessing import StandardScaler\n",
        "\n",
        "from forex_python.converter import CurrencyRates\n",
        "\n",
        "###RandomizedSearchCV\n",
        "\n",
        "from sklearn.neighbors import KNeighborsRegressor\n",
        "from sklearn.metrics import mean_absolute_error, mean_squared_error, r2_score, accuracy_score"
      ]
    },
    {
      "cell_type": "code",
      "execution_count": 3,
      "metadata": {
        "id": "rBMl1FyhVWcb"
      },
      "outputs": [],
      "source": [
        "def change_currency(val, curr_from, curr_to):\n",
        "  if curr_from != curr_to:\n",
        "    curr_from = curr_from.upper()\n",
        "    curr_to = curr_to.upper()\n",
        "    c = CurrencyRates()\n",
        "    return round(val/c.get_rate(curr_to, curr_from, datetime.datetime.now()))"
      ]
    },
    {
      "cell_type": "code",
      "execution_count": 4,
      "metadata": {
        "id": "K4-vEJIKBYFT"
      },
      "outputs": [],
      "source": [
        "def remove_mark(value):\n",
        "    marks = ['>', '<', '-', '+', '_', ' ', '  ', ',']\n",
        "    for mark in marks:\n",
        "        if pd.notna(value) and mark in value:\n",
        "            return value.replace(mark, '')\n",
        "    return value"
      ]
    },
    {
      "cell_type": "code",
      "execution_count": 5,
      "metadata": {
        "id": "K0yosZVjroXI"
      },
      "outputs": [],
      "source": [
        "def remove_blanc(value):\n",
        "    if value == '':\n",
        "        value = 0\n",
        "        return value"
      ]
    },
    {
      "cell_type": "code",
      "execution_count": 6,
      "metadata": {
        "id": "peCsuyUDHyQF"
      },
      "outputs": [],
      "source": [
        "def evaluate_regression_model(model, X_test, y_test):\n",
        "    \"\"\"\n",
        "    Evaluates the performance of a regression model and provides a summary.\n",
        "\n",
        "    Parameters:\n",
        "        model: A trained regression model from scikit-learn.\n",
        "        X_test: Test features.\n",
        "        y_test: Test labels.\n",
        "    \"\"\"\n",
        "    # Predictions on the test set\n",
        "    y_pred = model.predict(X_test)\n",
        "\n",
        "    # Calculate metrics\n",
        "    mae = mean_absolute_error(y_test, y_pred)\n",
        "    mse = mean_squared_error(y_test, y_pred)\n",
        "    rmse = mean_squared_error(y_test, y_pred, squared=False)  # RMSE\n",
        "    r2 = r2_score(y_test, y_pred)\n",
        "\n",
        "    # Display results\n",
        "    print(\"Regression Model Evaluation:\")\n",
        "    print(\"===========================\")\n",
        "    print(f\"Mean Absolute Error (MAE): {mae:.2f}\")\n",
        "    print(f\"Mean Squared Error (MSE): {mse:.2f}\")\n",
        "    print(f\"Root Mean Squared Error (RMSE): {rmse:.2f}\")\n",
        "    print(f\"R-squared (R2): {r2:.2f}\")"
      ]
    },
    {
      "cell_type": "code",
      "execution_count": 7,
      "metadata": {
        "id": "MPJLs00kXQXo"
      },
      "outputs": [],
      "source": [
        "def api_to_df(url):\n",
        "    response = requests.get(url)\n",
        "    content = response.json()\n",
        "    return pd.DataFrame.from_records(content)\n"
      ]
    },
    {
      "cell_type": "code",
      "execution_count": 8,
      "metadata": {
        "id": "RfHKL9f0YgTI"
      },
      "outputs": [],
      "source": [
        "def to_csv_date(df, filename):\n",
        "    current_date = pd.Timestamp(\"today\").strftime(\"%m%d%Y\")\n",
        "    df.to_csv(filename + '_' + current_date + '_.csv', index = False)\n"
      ]
    },
    {
      "cell_type": "code",
      "execution_count": 9,
      "metadata": {
        "id": "Iljb_FG1Yi93"
      },
      "outputs": [],
      "source": [
        "def remove_null_col(df):\n",
        "    return df.dropna(axis=1, how='all', inplace = False)"
      ]
    },
    {
      "cell_type": "code",
      "execution_count": 10,
      "metadata": {
        "id": "bV6HbV2_YlOA"
      },
      "outputs": [],
      "source": [
        "def flatten_list_col(df):\n",
        "    new_df = pd.DataFrame()\n",
        "    nested_columns_list = []\n",
        "    for i, col in enumerate(df.columns):\n",
        "        if any(isinstance(item, list) for item in df[col]):\n",
        "            nested_columns_list.append(col)\n",
        "            new_df= pd.concat([new_df, df[col].apply(pd.Series)], axis = 1)\n",
        "    new_columns = list(range(len(new_df.columns)))\n",
        "    new_df.columns = new_columns\n",
        "    return new_df"
      ]
    },
    {
      "cell_type": "code",
      "execution_count": 11,
      "metadata": {
        "id": "A7U2aPp8YoT4"
      },
      "outputs": [],
      "source": [
        "def flatten_dict_col(df):\n",
        "    new_df = pd.DataFrame()\n",
        "    nested_columns_list = []\n",
        "    for i, col in enumerate(df.columns):\n",
        "        if any(isinstance(item, dict) for item in df[col]):\n",
        "            nested_columns_list.append(col)\n",
        "            new_df= pd.concat([new_df, df[col].apply(pd.Series)], axis = 1)\n",
        "#     new_columns = list(range(len(new_df.columns)))\n",
        "#     new_df.columns = new_columns\n",
        "    new_df = remove_null_col(new_df)\n",
        "    return new_df"
      ]
    },
    {
      "cell_type": "code",
      "execution_count": 12,
      "metadata": {
        "id": "yPnvG6bBZ6lJ"
      },
      "outputs": [],
      "source": [
        "def unpack_nested_col(nested_col, key_name):\n",
        "    unpacked_col = {}\n",
        "    nested_col_unpacked = nested_col.apply(pd.Series)\n",
        "    for i, col in enumerate(nested_col_unpacked.columns):\n",
        "        unpacked_col[f'{key_name}_{i}'] = nested_col_unpacked[col].apply(pd.Series)\n",
        "        if 0 in unpacked_col[f'{key_name}_{i}'].columns:\n",
        "            if unpacked_col[f'{key_name}_{i}'][0].isna().all():\n",
        "                unpacked_col[f'{key_name}_{i}'].drop(columns = 0, inplace = True)\n",
        "    return unpacked_col"
      ]
    },
    {
      "cell_type": "code",
      "execution_count": 13,
      "metadata": {
        "id": "KWUFbgEaroXK"
      },
      "outputs": [],
      "source": [
        "def standardize_text(df, text_field):\n",
        "    df[text_field] = df[text_field].str.lower()\n",
        "    return df"
      ]
    },
    {
      "cell_type": "code",
      "execution_count": 14,
      "metadata": {
        "id": "D4hvcePmYs0v"
      },
      "outputs": [],
      "source": [
        "def replace_cols(recipient_df, col_replaced, donor_df, col_replacing):\n",
        "    recipient_df.drop(columns = col_replaced, inplace = True)\n",
        "    recipient_df = pd.concat([recipient_df, donor_df[col_replacing]])\n",
        "    return recipient_df"
      ]
    },
    {
      "cell_type": "markdown",
      "metadata": {
        "id": "uIL37bLnKsyr"
      },
      "source": [
        "## Reading initial data from API. In this step, we accept all offers from the API, but only receive general information. In order to complete the data, we also read each offer separately using its individual API."
      ]
    },
    {
      "cell_type": "markdown",
      "metadata": {
        "id": "9XRC0WCeYyH3"
      },
      "source": [
        "\n",
        "## Unpacking the data\n"
      ]
    },
    {
      "cell_type": "code",
      "execution_count": 15,
      "metadata": {
        "colab": {
          "base_uri": "https://localhost:8080/"
        },
        "id": "pBXzE6iAYvN_",
        "outputId": "0c4e7fe9-6918-4221-81fd-329c2e2f4d3d"
      },
      "outputs": [
        {
          "name": "stdout",
          "output_type": "stream",
          "text": [
            "<class 'pandas.core.frame.DataFrame'>\n",
            "RangeIndex: 12829 entries, 0 to 12828\n",
            "Data columns (total 24 columns):\n",
            " #   Column                   Non-Null Count  Dtype \n",
            "---  ------                   --------------  ----- \n",
            " 0   title                    12829 non-null  object\n",
            " 1   street                   12827 non-null  object\n",
            " 2   city                     12829 non-null  object\n",
            " 3   country_code             12824 non-null  object\n",
            " 4   address_text             12829 non-null  object\n",
            " 5   marker_icon              12829 non-null  object\n",
            " 6   workplace_type           12829 non-null  object\n",
            " 7   company_name             12829 non-null  object\n",
            " 8   company_url              12829 non-null  object\n",
            " 9   company_size             12829 non-null  object\n",
            " 10  experience_level         12829 non-null  object\n",
            " 11  latitude                 12829 non-null  object\n",
            " 12  longitude                12829 non-null  object\n",
            " 13  published_at             12829 non-null  object\n",
            " 14  remote_interview         12829 non-null  bool  \n",
            " 15  open_to_hire_ukrainians  12829 non-null  bool  \n",
            " 16  id                       12829 non-null  object\n",
            " 17  display_offer            12829 non-null  bool  \n",
            " 18  employment_types         12829 non-null  object\n",
            " 19  company_logo_url         12829 non-null  object\n",
            " 20  skills                   12829 non-null  object\n",
            " 21  remote                   12829 non-null  bool  \n",
            " 22  multilocation            12829 non-null  object\n",
            " 23  way_of_apply             12829 non-null  object\n",
            "dtypes: bool(4), object(20)\n",
            "memory usage: 2.0+ MB\n"
          ]
        }
      ],
      "source": [
        "df_init = api_to_df('https://justjoin.it/api/offers')\n",
        "\n",
        "df_init.info()"
      ]
    },
    {
      "cell_type": "markdown",
      "metadata": {
        "id": "ZcHsRCYJiD_y"
      },
      "source": [
        "## Select the subset of the data - only \"data\" marker icon"
      ]
    },
    {
      "cell_type": "code",
      "execution_count": 16,
      "metadata": {
        "id": "BDY21nfovSn1"
      },
      "outputs": [],
      "source": [
        "# Limit observations to those that have flag 'data'\n",
        "df_data = df_init[df_init['marker_icon'] == 'data']\n",
        "df_data.reset_index(drop=True, inplace = True)"
      ]
    },
    {
      "cell_type": "markdown",
      "metadata": {
        "id": "BSyhlRNOJ9Hq"
      },
      "source": [
        "## Reading detailed data for every separete offer from API"
      ]
    },
    {
      "cell_type": "code",
      "execution_count": 17,
      "metadata": {
        "id": "-cA9M3EQ6Rle"
      },
      "outputs": [],
      "source": [
        "json_data = []"
      ]
    },
    {
      "cell_type": "code",
      "execution_count": 18,
      "metadata": {
        "id": "IW7WIO2U7E15"
      },
      "outputs": [],
      "source": [
        "offers = list(df_data.id)"
      ]
    },
    {
      "cell_type": "code",
      "execution_count": 19,
      "metadata": {
        "colab": {
          "base_uri": "https://localhost:8080/"
        },
        "id": "Xcxmi4xjQOGu",
        "outputId": "f07ddf36-a3a6-4eef-b429-f50d9848cb43"
      },
      "outputs": [
        {
          "data": {
            "text/plain": [
              "1175"
            ]
          },
          "execution_count": 19,
          "metadata": {},
          "output_type": "execute_result"
        }
      ],
      "source": [
        "len(offers)"
      ]
    },
    {
      "cell_type": "code",
      "execution_count": 20,
      "metadata": {
        "colab": {
          "background_save": true
        },
        "id": "OopZge2j6WW9"
      },
      "outputs": [],
      "source": [
        "for offer in offers:\n",
        "  url = f'https://justjoin.it/api/offers/{offer}'\n",
        "  response = requests.get(url)\n",
        "  json_obj = response.json()\n",
        "#   initial_df = pd.json_normalize(json_obj)\n",
        "  json_data.append(json_obj)\n",
        "#   time.sleep(0.5)"
      ]
    },
    {
      "cell_type": "code",
      "execution_count": 21,
      "metadata": {
        "colab": {
          "background_save": true
        },
        "id": "OkkgjsuLRy-w"
      },
      "outputs": [],
      "source": [
        "df_data_offers = pd.DataFrame(json_data)\n",
        "# to_csv_date(df_data_offers, 'df_data_offers')"
      ]
    },
    {
      "cell_type": "code",
      "execution_count": 22,
      "metadata": {
        "colab": {
          "background_save": true
        },
        "id": "d7a7ItlZVcjs"
      },
      "outputs": [
        {
          "name": "stdout",
          "output_type": "stream",
          "text": [
            "<class 'pandas.core.frame.DataFrame'>\n",
            "RangeIndex: 1175 entries, 0 to 1174\n",
            "Data columns (total 35 columns):\n",
            " #   Column                   Non-Null Count  Dtype \n",
            "---  ------                   --------------  ----- \n",
            " 0   apply_body               0 non-null      object\n",
            " 1   title                    1175 non-null   object\n",
            " 2   street                   1175 non-null   object\n",
            " 3   city                     1175 non-null   object\n",
            " 4   country_code             1175 non-null   object\n",
            " 5   address_text             1175 non-null   object\n",
            " 6   marker_icon              1175 non-null   object\n",
            " 7   workplace_type           1175 non-null   object\n",
            " 8   company_name             1175 non-null   object\n",
            " 9   company_url              1175 non-null   object\n",
            " 10  company_size             1175 non-null   object\n",
            " 11  experience_level         1175 non-null   object\n",
            " 12  latitude                 1175 non-null   object\n",
            " 13  longitude                1175 non-null   object\n",
            " 14  apply_url                757 non-null    object\n",
            " 15  published_at             1175 non-null   object\n",
            " 16  remote_interview         1175 non-null   bool  \n",
            " 17  video_key                1 non-null      object\n",
            " 18  video_provider           1 non-null      object\n",
            " 19  open_to_hire_ukrainians  1175 non-null   bool  \n",
            " 20  future_consent_title     990 non-null    object\n",
            " 21  future_consent           990 non-null    object\n",
            " 22  information_clause       1175 non-null   object\n",
            " 23  custom_consent_title     141 non-null    object\n",
            " 24  custom_consent           141 non-null    object\n",
            " 25  id                       1175 non-null   object\n",
            " 26  tags                     1175 non-null   object\n",
            " 27  body                     1175 non-null   object\n",
            " 28  company_logo_url         1175 non-null   object\n",
            " 29  banner_url               4 non-null      object\n",
            " 30  skills                   1175 non-null   object\n",
            " 31  remote                   1175 non-null   bool  \n",
            " 32  employment_types         1175 non-null   object\n",
            " 33  multilocation            1175 non-null   object\n",
            " 34  company_profile          519 non-null    object\n",
            "dtypes: bool(3), object(32)\n",
            "memory usage: 297.3+ KB\n"
          ]
        }
      ],
      "source": [
        "df_data_offers.info(10)"
      ]
    },
    {
      "cell_type": "markdown",
      "metadata": {
        "id": "OG1bQrvEroXN"
      },
      "source": [
        "### Dealing with skills"
      ]
    },
    {
      "cell_type": "code",
      "execution_count": 23,
      "metadata": {
        "colab": {
          "background_save": true
        },
        "id": "oJrq48jBroXN"
      },
      "outputs": [
        {
          "name": "stdout",
          "output_type": "stream",
          "text": [
            "[{'name': 'Databases', 'level': 4}, {'name': 'English', 'level': 4}, {'name': 'Oracle', 'level': 4}, {'name': 'SQL Server', 'level': 3}, {'name': 'MySQL', 'level': 1}, {'name': 'MariaDB', 'level': 1}, {'name': 'Eloquence', 'level': 1}, {'name': 'AIX', 'level': 1}, {'name': 'Windows', 'level': 1}, {'name': 'DevOps', 'level': 1}]\n"
          ]
        }
      ],
      "source": [
        "print(df_data_offers['skills'][0])"
      ]
    },
    {
      "cell_type": "code",
      "execution_count": 24,
      "metadata": {
        "colab": {
          "background_save": true
        },
        "id": "mb3I-XKIfMlD"
      },
      "outputs": [],
      "source": [
        "# Putting all skills into one column\n",
        "\n",
        "old_data = df_data_offers.to_dict(orient='records')\n",
        "new_data = []\n",
        "\n",
        "for index, skills_list in enumerate(df_data_offers['skills']):\n",
        "    for skill in skills_list:\n",
        "        new_row = old_data[index].copy()\n",
        "        new_row['skill_name'] = skill['name']\n",
        "        new_row['skill_level'] = skill['level']\n",
        "        new_data.append(new_row)"
      ]
    },
    {
      "cell_type": "code",
      "execution_count": 25,
      "metadata": {
        "colab": {
          "background_save": true
        },
        "id": "vnQze3bCfRDy"
      },
      "outputs": [],
      "source": [
        "new_df = pd.DataFrame(new_data)"
      ]
    },
    {
      "cell_type": "code",
      "execution_count": 26,
      "metadata": {
        "colab": {
          "background_save": true
        },
        "id": "yYB1u2oeroXO"
      },
      "outputs": [
        {
          "data": {
            "text/html": [
              "<div>\n",
              "<style scoped>\n",
              "    .dataframe tbody tr th:only-of-type {\n",
              "        vertical-align: middle;\n",
              "    }\n",
              "\n",
              "    .dataframe tbody tr th {\n",
              "        vertical-align: top;\n",
              "    }\n",
              "\n",
              "    .dataframe thead th {\n",
              "        text-align: right;\n",
              "    }\n",
              "</style>\n",
              "<table border=\"1\" class=\"dataframe\">\n",
              "  <thead>\n",
              "    <tr style=\"text-align: right;\">\n",
              "      <th></th>\n",
              "      <th>apply_body</th>\n",
              "      <th>title</th>\n",
              "      <th>street</th>\n",
              "      <th>city</th>\n",
              "      <th>country_code</th>\n",
              "      <th>address_text</th>\n",
              "      <th>marker_icon</th>\n",
              "      <th>workplace_type</th>\n",
              "      <th>company_name</th>\n",
              "      <th>company_url</th>\n",
              "      <th>...</th>\n",
              "      <th>body</th>\n",
              "      <th>company_logo_url</th>\n",
              "      <th>banner_url</th>\n",
              "      <th>skills</th>\n",
              "      <th>remote</th>\n",
              "      <th>employment_types</th>\n",
              "      <th>multilocation</th>\n",
              "      <th>company_profile</th>\n",
              "      <th>skill_name</th>\n",
              "      <th>skill_level</th>\n",
              "    </tr>\n",
              "  </thead>\n",
              "  <tbody>\n",
              "    <tr>\n",
              "      <th>762</th>\n",
              "      <td>None</td>\n",
              "      <td>Data Engineer II - Fulfillment</td>\n",
              "      <td>Przy Rondzie 4</td>\n",
              "      <td>Kraków</td>\n",
              "      <td>PL</td>\n",
              "      <td>Przy Rondzie 4, Kraków</td>\n",
              "      <td>data</td>\n",
              "      <td>partly_remote</td>\n",
              "      <td>Tesco Technology</td>\n",
              "      <td>https://www.linkedin.com/showcase/tesco-techno...</td>\n",
              "      <td>...</td>\n",
              "      <td>&lt;div&gt;\\n&lt;strong&gt;Company Description&lt;/strong&gt;&lt;br...</td>\n",
              "      <td>https://bucket.justjoin.it/offers/company_logo...</td>\n",
              "      <td>None</td>\n",
              "      <td>[{'name': 'Hadoop', 'level': 4}, {'name': 'Sca...</td>\n",
              "      <td>False</td>\n",
              "      <td>[{'type': 'b2b', 'salary': {'from': 20000, 'to...</td>\n",
              "      <td>[{'slug': 'tesco-technology-software-developme...</td>\n",
              "      <td>{'url': '/brands/story/tesco-technology', 'sho...</td>\n",
              "      <td>Hadoop</td>\n",
              "      <td>4</td>\n",
              "    </tr>\n",
              "  </tbody>\n",
              "</table>\n",
              "<p>1 rows × 37 columns</p>\n",
              "</div>"
            ],
            "text/plain": [
              "    apply_body                           title          street    city  \\\n",
              "762       None  Data Engineer II - Fulfillment  Przy Rondzie 4  Kraków   \n",
              "\n",
              "    country_code            address_text marker_icon workplace_type  \\\n",
              "762           PL  Przy Rondzie 4, Kraków        data  partly_remote   \n",
              "\n",
              "         company_name                                        company_url  ...  \\\n",
              "762  Tesco Technology  https://www.linkedin.com/showcase/tesco-techno...  ...   \n",
              "\n",
              "                                                  body  \\\n",
              "762  <div>\\n<strong>Company Description</strong><br...   \n",
              "\n",
              "                                      company_logo_url banner_url  \\\n",
              "762  https://bucket.justjoin.it/offers/company_logo...       None   \n",
              "\n",
              "                                                skills remote  \\\n",
              "762  [{'name': 'Hadoop', 'level': 4}, {'name': 'Sca...  False   \n",
              "\n",
              "                                      employment_types  \\\n",
              "762  [{'type': 'b2b', 'salary': {'from': 20000, 'to...   \n",
              "\n",
              "                                         multilocation  \\\n",
              "762  [{'slug': 'tesco-technology-software-developme...   \n",
              "\n",
              "                                       company_profile skill_name  skill_level  \n",
              "762  {'url': '/brands/story/tesco-technology', 'sho...     Hadoop            4  \n",
              "\n",
              "[1 rows x 37 columns]"
            ]
          },
          "execution_count": 26,
          "metadata": {},
          "output_type": "execute_result"
        }
      ],
      "source": [
        "new_df.sample()"
      ]
    },
    {
      "cell_type": "code",
      "execution_count": 27,
      "metadata": {
        "colab": {
          "background_save": true
        },
        "id": "KvGJSECgfZN6"
      },
      "outputs": [
        {
          "data": {
            "text/plain": [
              "array(['Databases', 'English', 'Oracle', 'SQL Server', 'MySQL', 'MariaDB',\n",
              "       'Eloquence', 'AIX', 'Windows', 'DevOps', 'German',\n",
              "       'Software Engineering', 'Algorithms', 'Java', 'NodeJS', 'Mobile',\n",
              "       'Python', 'Data Integration', 'Spark', 'ETL tools', 'AWS',\n",
              "       'Hadoop', 'Kafka', 'NIFI', 'SQL', 'Azure', 'ETL', 'CI/CD',\n",
              "       'Big Data', 'Cassandra', 'IoT', 'RabbitMQ', 'Snowflake', 'Agile',\n",
              "       'R', 'Scala', 'Cloud', 'Data', 'Airflow', 'Terraform', 'Datadog',\n",
              "       'Business Analysis', 'Private Capital fund industry',\n",
              "       'Project Management', 'eFront', 'PostgreSQL',\n",
              "       'Google Cloud Platform', 'Cloud SQL', 'Microservices',\n",
              "       'Networking', 'BigQuery', 'Kubernetes', 'Docker',\n",
              "       'Identity Management', 'virtualisation', 'secutity', 'Powershell',\n",
              "       'VBScript', 'Graph API', 'MS', 'AD', 'MECM', 'MS/Postgre SQL',\n",
              "       'Technologie Voice i eCom', 'Multifond', 'Arc Regulatory',\n",
              "       'Fund ID', 'Arep', 'Oracle BI', 'PL/SQL', 'T-SQL', 'SAP', 'Bots',\n",
              "       'MS SQL', 'Oracle DB', 'TIA', 'Oracle Forms', 'Data Science',\n",
              "       'NLP', 'LLMs', 'LLM', 'Enterprise Architect', 'REST', 'Data Lake',\n",
              "       'LakeHouse', 'SoapUI', 'MS Azure DevOps', 'MS Project',\n",
              "       'Confluence', 'MangoDB', 'PowerBi', 'analiza', 'DWH',\n",
              "       'Microsoft Azure Cloud', 'MS SQL Server', 'PostreSQL', 'ETL/ELT',\n",
              "       'Databricks', 'Apache Spark', 'Apache Airflow', 'Power BI', 'DAX',\n",
              "       'SSAS/AAS', 'M', 'MS Azure', 'Hadoop-Based Analytics', 'GCP',\n",
              "       'PySpark', 'data processing', 'NoSQL', 'Apache Flink', 'Niemiecki',\n",
              "       'master data', 'SAP MM', 'TimeXtender', 'MS Data',\n",
              "       'Data Warehousing', 'banking',\n",
              "       'narzędzia do wizualizacji i analizy danych', 'Tableau',\n",
              "       'Looker Studio', 'TSQL', 'scikit-learn', 'TensorFlow', 'VS Code',\n",
              "       'Data Engineering', 'Git', 'HTML', 'C#', 'JavaScript', 'CSS',\n",
              "       'XSLT', 'Problem Solving', 'Team Management',\n",
              "       'Communication Skills', 'EDW architectural frameworks',\n",
              "       'Data architecture', 'Azure Services', 'Data Factory',\n",
              "       'Delta Lake', 'Synapse', 'Azure Data Factory',\n",
              "       'Relational Databases', 'Azure Synapse', 'Azure SQL DW', 'ERP',\n",
              "       'SAP BW', 'SAP HR', 'Azure Synapse Analytics / Azure Data Factory',\n",
              "       'SQL / T-SQL / Spark-SQL', 'Azure Stream Analytics',\n",
              "       'Power BI Dax Query Language', 'Azure Functions', 'Data engineer',\n",
              "       'Analytics', 'Business Intelligence', 'MS SQL Server on SAN’s',\n",
              "       'SolarWinds Database Performance Analyzer', 'MongoDB',\n",
              "       'Java/Scala', 'Scrum', 'Kanban', 'JIRA', 'Microsoft Azure',\n",
              "       'Azure CLI', 'SQL sentry', 'PCI', 'sox', 'Eclipse', 'GitLab',\n",
              "       'Jenkins', 'Tomcat', 'DBT', 'Fivetran', 'AWS / Azure', 'BPMN',\n",
              "       'MS Excel', 'Groovy', 'Informatica', 'Data Mesh',\n",
              "       'Microsoft Power BI', 'Azure SQL', 'Azure Synapse Analytics',\n",
              "       'Azure Data Storage', 'Azure Databricks', 'Microsoft Purview',\n",
              "       'Azure Cosmos DB', 'Azure Applied AI Services',\n",
              "       'Azure Cognitive Services', 'Data analysis', 'Linux / Unix',\n",
              "       'SOAP/REST API', 'AI', 'Machine Learning', 'C++', 'VBA',\n",
              "       'Azure Data stack', 'Azure Data Lake Analytics', 'MS Power BI',\n",
              "       'IBM DataStage ETL', 'Azure Analysis Services',\n",
              "       'Synapse Analytics', 'Google BigQuery', 'fiddler',\n",
              "       'Power Query editor', 'Apache', 'Leadership', 'mitigating risks',\n",
              "       'MS Office', 'Data Asset Services Portfolio', 'Budget Management',\n",
              "       'risk identification', 'ISO', 'NACE', 'Clarity', 'PyTorch',\n",
              "       'Risk Management', 'Computer Vision', 'Statistics',\n",
              "       'Deep Learning', 'Qlik Sense', 'People Management',\n",
              "       'Analiza Biznesowa', 'UML', 'SOA', 'Data Management',\n",
              "       'Pricing Models', 'Derivatives', 'Financial Instrumetns', 'Flask',\n",
              "       'Cryptocurrencies', 'GitHub', 'Python/Go', 'Docker/Kubernates',\n",
              "       'Go', 'Amazon Redshift', 'Bash', 'Linux', 'NumPy', 'Pandas', 'C',\n",
              "       'Microcontrolers', 'Embedded Systems', 'Data procesing', 'SAP MDM',\n",
              "       'BI', 'Salesforce', 'Amazon AWS', 'AI/ML', 'Ansible', 'SSIS',\n",
              "       'SSAS', 'SSRS', 'MLOps', 'Azure DevOps', 'Angielski', 'Dane',\n",
              "       'API', 'Data Lakes', 'Cloud architecture', 'Qlik',\n",
              "       'Microsoft Power Platform', 'Database', 'Azure/AWS', 'Power Shell',\n",
              "       'AWS Glue', 'Golang', 'Kafk', 'Microsoft SQL', 'Azure/GCP/AWS',\n",
              "       'OLAP', 'SAP HANA', 'Azure Data Lake', 'Spark / pySpark / Python',\n",
              "       'Azure Event hub', 'Git/SVN', 'Data Streaming and Kafka', 'VMware',\n",
              "       'Hyper-V', 'data governance', 'Colibra', 'AbInitio', 'Ataccama',\n",
              "       'Design Patterns', 'ML Techniques', 'Polish', 'hBase',\n",
              "       'Bazy Danych', 'Hurtownie Danych', 'Data Automation',\n",
              "       'ETL Development', 'Scripting languages', 'IBM DataStage', 'Hive',\n",
              "       'SAS', 'Apache Kafka', 'Oracle SQL', 'ETL/ELT data processing',\n",
              "       'DATA MODELLING', 'Cortex XSOAR', 'SIEM', 'IT Security',\n",
              "       'baza danych Oracle', 'Workday', 'HR', 'HRIS',\n",
              "       'Windows Administration', 'COMARCH', 'MsSQL', '.NET C#',\n",
              "       'IFS Cloud', 'Matillion', 'Oracle EBS', 'Fusion Cloud',\n",
              "       'oracle financials', 'Oracle SCM', 'OCI', 'Hyperion',\n",
              "       'data analyst', 'Analytical Thinking', 'PBI', 'DSP', 'DV360',\n",
              "       'Adform', 'Excel', 'HTML5 / CSS3', 'MS tools', 'Power Query',\n",
              "       'Controlling', 'Consulting', 'data analytics', 'Cloud Platforms',\n",
              "       'SAP RAR', 'FICA', 'RAR', 'Crystal Reports', 'Google Analytics',\n",
              "       'Amplitude', 'SEMrush', 'Torchscript', 'ONNX', 'MVC',\n",
              "       'SQL Profiler', 'WebService', 'Graph Analytics', 'Neo4j',\n",
              "       'TigerGraph', 'Palantir', 'Quantexa', 'Node.js', 'Ruby on Rails',\n",
              "       'Solid', 'Bitbucket', 'GBQ', 'Mass data', 'OpenShift',\n",
              "       'MapR Cluster', 'Google Tag Manager', 'integracja systemów',\n",
              "       'REST API / JSON / XML / UML / Postman / Swagger / WSDL', '.Net',\n",
              "       'Data Strategy', 'Data Architecure', 'ESG', 'Security',\n",
              "       'IT Support', 'Relacyjne Bazy Danych', 'Scada', 'MES',\n",
              "       'Data modeling', 'Containers', 'Jupyter Notebook', 'ITIL', 'Perl',\n",
              "       'Lamp / Linux', 'ScyllaDB', 'protocols', 'Degree', 'Prometheus',\n",
              "       'DNS', 'Solution architecture', 'Data platforms', 'Design skills',\n",
              "       'Azure/GCP', 'Python/R', 'R Shiny', 'Elasticsearch',\n",
              "       'ALM Quality Center', 'Octane', '4D technology', 'Autosys',\n",
              "       'unix shell', 'IRP', 'Data Warehouse', 'IS Service Delivery',\n",
              "       'Network Service Owner', 'Global WAN', 'LAN technologies',\n",
              "       'Data cloud', 'Testy A/B', '.NET Core', '.NET 6', '.Net 5',\n",
              "       'Data Analysis/Data Science',\n",
              "       'Artificial Intelligence/Machine learning', 'Python 3.x',\n",
              "       'REST API', 'Confluent Kafka', 'JupyterHub', 'MapR',\n",
              "       'HPE Ezmeral Data Fabric', 'PHP', 'Symfony', 'Apex', 'IDE', 'wiki',\n",
              "       'sad', 'Unit Testing', 'VSS', 'DBMS', 'Pipeline Pilot', 'alteryx',\n",
              "       'ETL applications', 'ELT', 'kubeflow', 'AutomateNow', 'TeamCity',\n",
              "       'Informatica Powercenter', 'Oracle APEX', 'SAP BODS', 'qad',\n",
              "       'AX09', 'SAP S4/Hana', 'JSON', 'UML/BPMN', 'Data Warehouses',\n",
              "       '4gl', 'shiny', 'Julia', 'Kedro', 'MLflow', 'Metabase',\n",
              "       'Data Pipelines', 'Looker', 'data analysis/engineering', 'GTM',\n",
              "       'BI tool', 'SaaS', 'Processing data', 'Spring Boot',\n",
              "       'Computer science', 'Oracle DBA', 'Oracle RDBMS', 'Testing',\n",
              "       'ETL process', 'Data Bricks', 'GB/GF', 'Komunikatywność',\n",
              "       'Statistic', 'Visualforce', 'LWC', 'OOP', 'GCP/AWS/AZURE',\n",
              "       'Databricks/Dataiku/Alteryx', 'DevOps Components', 'Big Table',\n",
              "       'Unix', 'MS SSIS', 'Big Querry', 'change manager',\n",
              "       'SAP - wdrożenia', 'projekty IT - wdrożenia',\n",
              "       'SharePont Jira Confluence', 'Analityczne Myślenie',\n",
              "       'współpraca z biznesem', 'Zarządzanie zmianą', 'certyfikaty',\n",
              "       'referencje', 'Ceph', 'Big Query', 'ALM', 'QlikSense', 'RPA',\n",
              "       'Palantir Foundry', 'SAS Viya', 'Jira/Confluence',\n",
              "       'reklama online', 'Google Sheets', 'Appsheets', 'PostGIS',\n",
              "       'Lambda', 'GraphQL', 'Presto/Trino', 'Apache Spark/PySpark',\n",
              "       'Data Center', 'G1', 'Word', 'Power Point',\n",
              "       'Umiejętności analityczne', 'MS Power Platform', 'Grafana'],\n",
              "      dtype=object)"
            ]
          },
          "execution_count": 27,
          "metadata": {},
          "output_type": "execute_result"
        }
      ],
      "source": [
        "new_df.skill_name.unique()"
      ]
    },
    {
      "cell_type": "code",
      "execution_count": 28,
      "metadata": {
        "colab": {
          "background_save": true
        },
        "id": "WYBz4_MNfe0g"
      },
      "outputs": [
        {
          "data": {
            "text/plain": [
              "501"
            ]
          },
          "execution_count": 28,
          "metadata": {},
          "output_type": "execute_result"
        }
      ],
      "source": [
        "new_df.skill_name.nunique()"
      ]
    },
    {
      "cell_type": "code",
      "execution_count": 29,
      "metadata": {
        "colab": {
          "background_save": true
        },
        "id": "O6jg-xX2gR1X"
      },
      "outputs": [],
      "source": [
        "# Po co to?\n",
        "\n",
        "clean_df = new_df.copy()\n",
        "clean_df = standardize_text(clean_df, \"title\")\n",
        "clean_df = standardize_text(clean_df, \"skill_name\")"
      ]
    },
    {
      "cell_type": "code",
      "execution_count": 30,
      "metadata": {
        "colab": {
          "background_save": true
        },
        "id": "ojvkVUjQroXO"
      },
      "outputs": [
        {
          "data": {
            "text/html": [
              "<div>\n",
              "<style scoped>\n",
              "    .dataframe tbody tr th:only-of-type {\n",
              "        vertical-align: middle;\n",
              "    }\n",
              "\n",
              "    .dataframe tbody tr th {\n",
              "        vertical-align: top;\n",
              "    }\n",
              "\n",
              "    .dataframe thead th {\n",
              "        text-align: right;\n",
              "    }\n",
              "</style>\n",
              "<table border=\"1\" class=\"dataframe\">\n",
              "  <thead>\n",
              "    <tr style=\"text-align: right;\">\n",
              "      <th></th>\n",
              "      <th>apply_body</th>\n",
              "      <th>title</th>\n",
              "      <th>street</th>\n",
              "      <th>city</th>\n",
              "      <th>country_code</th>\n",
              "      <th>address_text</th>\n",
              "      <th>marker_icon</th>\n",
              "      <th>workplace_type</th>\n",
              "      <th>company_name</th>\n",
              "      <th>company_url</th>\n",
              "      <th>...</th>\n",
              "      <th>body</th>\n",
              "      <th>company_logo_url</th>\n",
              "      <th>banner_url</th>\n",
              "      <th>skills</th>\n",
              "      <th>remote</th>\n",
              "      <th>employment_types</th>\n",
              "      <th>multilocation</th>\n",
              "      <th>company_profile</th>\n",
              "      <th>skill_name</th>\n",
              "      <th>skill_level</th>\n",
              "    </tr>\n",
              "  </thead>\n",
              "  <tbody>\n",
              "    <tr>\n",
              "      <th>0</th>\n",
              "      <td>None</td>\n",
              "      <td>database administrator</td>\n",
              "      <td>-</td>\n",
              "      <td>Warszawa</td>\n",
              "      <td>PL</td>\n",
              "      <td>-, Warszawa</td>\n",
              "      <td>data</td>\n",
              "      <td>remote</td>\n",
              "      <td>Qurate Retail Group</td>\n",
              "      <td>http://QurateRetailGroup.com</td>\n",
              "      <td>...</td>\n",
              "      <td>&lt;div&gt;\\n&lt;strong&gt;The Qurate Retail Group (QRG)&lt;/...</td>\n",
              "      <td>https://bucket.justjoin.it/offers/company_logo...</td>\n",
              "      <td>None</td>\n",
              "      <td>[{'name': 'Databases', 'level': 4}, {'name': '...</td>\n",
              "      <td>True</td>\n",
              "      <td>[{'type': 'permanent', 'salary': {'from': 1800...</td>\n",
              "      <td>[{'slug': 'qurate-retail-group-database-admini...</td>\n",
              "      <td>{'url': '/brands/story/qurate-retail-group-glo...</td>\n",
              "      <td>databases</td>\n",
              "      <td>4</td>\n",
              "    </tr>\n",
              "    <tr>\n",
              "      <th>1</th>\n",
              "      <td>None</td>\n",
              "      <td>database administrator</td>\n",
              "      <td>-</td>\n",
              "      <td>Warszawa</td>\n",
              "      <td>PL</td>\n",
              "      <td>-, Warszawa</td>\n",
              "      <td>data</td>\n",
              "      <td>remote</td>\n",
              "      <td>Qurate Retail Group</td>\n",
              "      <td>http://QurateRetailGroup.com</td>\n",
              "      <td>...</td>\n",
              "      <td>&lt;div&gt;\\n&lt;strong&gt;The Qurate Retail Group (QRG)&lt;/...</td>\n",
              "      <td>https://bucket.justjoin.it/offers/company_logo...</td>\n",
              "      <td>None</td>\n",
              "      <td>[{'name': 'Databases', 'level': 4}, {'name': '...</td>\n",
              "      <td>True</td>\n",
              "      <td>[{'type': 'permanent', 'salary': {'from': 1800...</td>\n",
              "      <td>[{'slug': 'qurate-retail-group-database-admini...</td>\n",
              "      <td>{'url': '/brands/story/qurate-retail-group-glo...</td>\n",
              "      <td>english</td>\n",
              "      <td>4</td>\n",
              "    </tr>\n",
              "    <tr>\n",
              "      <th>2</th>\n",
              "      <td>None</td>\n",
              "      <td>database administrator</td>\n",
              "      <td>-</td>\n",
              "      <td>Warszawa</td>\n",
              "      <td>PL</td>\n",
              "      <td>-, Warszawa</td>\n",
              "      <td>data</td>\n",
              "      <td>remote</td>\n",
              "      <td>Qurate Retail Group</td>\n",
              "      <td>http://QurateRetailGroup.com</td>\n",
              "      <td>...</td>\n",
              "      <td>&lt;div&gt;\\n&lt;strong&gt;The Qurate Retail Group (QRG)&lt;/...</td>\n",
              "      <td>https://bucket.justjoin.it/offers/company_logo...</td>\n",
              "      <td>None</td>\n",
              "      <td>[{'name': 'Databases', 'level': 4}, {'name': '...</td>\n",
              "      <td>True</td>\n",
              "      <td>[{'type': 'permanent', 'salary': {'from': 1800...</td>\n",
              "      <td>[{'slug': 'qurate-retail-group-database-admini...</td>\n",
              "      <td>{'url': '/brands/story/qurate-retail-group-glo...</td>\n",
              "      <td>oracle</td>\n",
              "      <td>4</td>\n",
              "    </tr>\n",
              "    <tr>\n",
              "      <th>3</th>\n",
              "      <td>None</td>\n",
              "      <td>database administrator</td>\n",
              "      <td>-</td>\n",
              "      <td>Warszawa</td>\n",
              "      <td>PL</td>\n",
              "      <td>-, Warszawa</td>\n",
              "      <td>data</td>\n",
              "      <td>remote</td>\n",
              "      <td>Qurate Retail Group</td>\n",
              "      <td>http://QurateRetailGroup.com</td>\n",
              "      <td>...</td>\n",
              "      <td>&lt;div&gt;\\n&lt;strong&gt;The Qurate Retail Group (QRG)&lt;/...</td>\n",
              "      <td>https://bucket.justjoin.it/offers/company_logo...</td>\n",
              "      <td>None</td>\n",
              "      <td>[{'name': 'Databases', 'level': 4}, {'name': '...</td>\n",
              "      <td>True</td>\n",
              "      <td>[{'type': 'permanent', 'salary': {'from': 1800...</td>\n",
              "      <td>[{'slug': 'qurate-retail-group-database-admini...</td>\n",
              "      <td>{'url': '/brands/story/qurate-retail-group-glo...</td>\n",
              "      <td>sql server</td>\n",
              "      <td>3</td>\n",
              "    </tr>\n",
              "    <tr>\n",
              "      <th>4</th>\n",
              "      <td>None</td>\n",
              "      <td>database administrator</td>\n",
              "      <td>-</td>\n",
              "      <td>Warszawa</td>\n",
              "      <td>PL</td>\n",
              "      <td>-, Warszawa</td>\n",
              "      <td>data</td>\n",
              "      <td>remote</td>\n",
              "      <td>Qurate Retail Group</td>\n",
              "      <td>http://QurateRetailGroup.com</td>\n",
              "      <td>...</td>\n",
              "      <td>&lt;div&gt;\\n&lt;strong&gt;The Qurate Retail Group (QRG)&lt;/...</td>\n",
              "      <td>https://bucket.justjoin.it/offers/company_logo...</td>\n",
              "      <td>None</td>\n",
              "      <td>[{'name': 'Databases', 'level': 4}, {'name': '...</td>\n",
              "      <td>True</td>\n",
              "      <td>[{'type': 'permanent', 'salary': {'from': 1800...</td>\n",
              "      <td>[{'slug': 'qurate-retail-group-database-admini...</td>\n",
              "      <td>{'url': '/brands/story/qurate-retail-group-glo...</td>\n",
              "      <td>mysql</td>\n",
              "      <td>1</td>\n",
              "    </tr>\n",
              "  </tbody>\n",
              "</table>\n",
              "<p>5 rows × 37 columns</p>\n",
              "</div>"
            ],
            "text/plain": [
              "  apply_body                   title street      city country_code  \\\n",
              "0       None  database administrator      -  Warszawa           PL   \n",
              "1       None  database administrator      -  Warszawa           PL   \n",
              "2       None  database administrator      -  Warszawa           PL   \n",
              "3       None  database administrator      -  Warszawa           PL   \n",
              "4       None  database administrator      -  Warszawa           PL   \n",
              "\n",
              "  address_text marker_icon workplace_type         company_name  \\\n",
              "0  -, Warszawa        data         remote  Qurate Retail Group   \n",
              "1  -, Warszawa        data         remote  Qurate Retail Group   \n",
              "2  -, Warszawa        data         remote  Qurate Retail Group   \n",
              "3  -, Warszawa        data         remote  Qurate Retail Group   \n",
              "4  -, Warszawa        data         remote  Qurate Retail Group   \n",
              "\n",
              "                    company_url  ...  \\\n",
              "0  http://QurateRetailGroup.com  ...   \n",
              "1  http://QurateRetailGroup.com  ...   \n",
              "2  http://QurateRetailGroup.com  ...   \n",
              "3  http://QurateRetailGroup.com  ...   \n",
              "4  http://QurateRetailGroup.com  ...   \n",
              "\n",
              "                                                body  \\\n",
              "0  <div>\\n<strong>The Qurate Retail Group (QRG)</...   \n",
              "1  <div>\\n<strong>The Qurate Retail Group (QRG)</...   \n",
              "2  <div>\\n<strong>The Qurate Retail Group (QRG)</...   \n",
              "3  <div>\\n<strong>The Qurate Retail Group (QRG)</...   \n",
              "4  <div>\\n<strong>The Qurate Retail Group (QRG)</...   \n",
              "\n",
              "                                    company_logo_url banner_url  \\\n",
              "0  https://bucket.justjoin.it/offers/company_logo...       None   \n",
              "1  https://bucket.justjoin.it/offers/company_logo...       None   \n",
              "2  https://bucket.justjoin.it/offers/company_logo...       None   \n",
              "3  https://bucket.justjoin.it/offers/company_logo...       None   \n",
              "4  https://bucket.justjoin.it/offers/company_logo...       None   \n",
              "\n",
              "                                              skills remote  \\\n",
              "0  [{'name': 'Databases', 'level': 4}, {'name': '...   True   \n",
              "1  [{'name': 'Databases', 'level': 4}, {'name': '...   True   \n",
              "2  [{'name': 'Databases', 'level': 4}, {'name': '...   True   \n",
              "3  [{'name': 'Databases', 'level': 4}, {'name': '...   True   \n",
              "4  [{'name': 'Databases', 'level': 4}, {'name': '...   True   \n",
              "\n",
              "                                    employment_types  \\\n",
              "0  [{'type': 'permanent', 'salary': {'from': 1800...   \n",
              "1  [{'type': 'permanent', 'salary': {'from': 1800...   \n",
              "2  [{'type': 'permanent', 'salary': {'from': 1800...   \n",
              "3  [{'type': 'permanent', 'salary': {'from': 1800...   \n",
              "4  [{'type': 'permanent', 'salary': {'from': 1800...   \n",
              "\n",
              "                                       multilocation  \\\n",
              "0  [{'slug': 'qurate-retail-group-database-admini...   \n",
              "1  [{'slug': 'qurate-retail-group-database-admini...   \n",
              "2  [{'slug': 'qurate-retail-group-database-admini...   \n",
              "3  [{'slug': 'qurate-retail-group-database-admini...   \n",
              "4  [{'slug': 'qurate-retail-group-database-admini...   \n",
              "\n",
              "                                     company_profile  skill_name  skill_level  \n",
              "0  {'url': '/brands/story/qurate-retail-group-glo...   databases            4  \n",
              "1  {'url': '/brands/story/qurate-retail-group-glo...     english            4  \n",
              "2  {'url': '/brands/story/qurate-retail-group-glo...      oracle            4  \n",
              "3  {'url': '/brands/story/qurate-retail-group-glo...  sql server            3  \n",
              "4  {'url': '/brands/story/qurate-retail-group-glo...       mysql            1  \n",
              "\n",
              "[5 rows x 37 columns]"
            ]
          },
          "execution_count": 30,
          "metadata": {},
          "output_type": "execute_result"
        }
      ],
      "source": [
        "clean_df.head(5)"
      ]
    },
    {
      "cell_type": "code",
      "execution_count": 31,
      "metadata": {
        "colab": {
          "background_save": true
        },
        "id": "XCVG8Uwzfhlm"
      },
      "outputs": [],
      "source": [
        "top_values = clean_df['skill_name'].value_counts().head(20)\n",
        "top_20_skills = list(top_values.index)"
      ]
    },
    {
      "cell_type": "code",
      "execution_count": 32,
      "metadata": {
        "colab": {
          "background_save": true
        },
        "id": "EAjoCKmsih0E"
      },
      "outputs": [
        {
          "name": "stdout",
          "output_type": "stream",
          "text": [
            "['sql', 'python', 'english', 'java', 'snowflake', 'power bi', 'azure', 'aws', 'etl', 'oracle', 'big data', 'machine learning', 'databases', 'sql server', 'agile', 'spark', 'devops', 'databricks', 'scala', 'cassandra']\n"
          ]
        }
      ],
      "source": [
        "print(top_20_skills)"
      ]
    },
    {
      "cell_type": "code",
      "execution_count": 33,
      "metadata": {},
      "outputs": [],
      "source": [
        "with open('output.txt', 'w') as file:\n",
        "    for item in top_20_skills:\n",
        "        file.write(str(item) + '\\n')"
      ]
    },
    {
      "cell_type": "code",
      "execution_count": 34,
      "metadata": {
        "colab": {
          "background_save": true
        },
        "id": "9bgnE6xhroXT"
      },
      "outputs": [
        {
          "data": {
            "image/png": "[encoded data removed]",
            "text/plain": [
              "<Figure size 1000x600 with 1 Axes>"
            ]
          },
          "metadata": {},
          "output_type": "display_data"
        }
      ],
      "source": [
        "plt.figure(figsize=(10, 6))\n",
        "sns.set(style=\"darkgrid\")\n",
        "plot = sns.barplot(x=clean_df['skill_name'].value_counts().iloc[:20].index, y=clean_df['skill_name'].value_counts().iloc[:20].values)\n",
        "plot.set_title('20 Most Common Skills')\n",
        "plot.set_xticklabels(plot.get_xticklabels(), rotation=45, horizontalalignment='right')\n",
        "\n",
        "plt.show()"
      ]
    },
    {
      "cell_type": "code",
      "execution_count": 35,
      "metadata": {
        "colab": {
          "background_save": true
        },
        "id": "dd32fVp7roXU"
      },
      "outputs": [],
      "source": [
        "# Sprawdzanie i zamiana wartości\n",
        "common_skills_df = clean_df.copy()\n",
        "mask = ~common_skills_df['skill_name'].isin(top_20_skills)\n",
        "common_skills_df.loc[mask, 'skill_name'] = None\n"
      ]
    },
    {
      "cell_type": "code",
      "execution_count": 36,
      "metadata": {
        "colab": {
          "background_save": true
        },
        "id": "ZHzRMyr4QPDm"
      },
      "outputs": [],
      "source": [
        "most_common_skills_df = common_skills_df.dropna(subset=['skill_name'])"
      ]
    },
    {
      "cell_type": "code",
      "execution_count": 37,
      "metadata": {
        "colab": {
          "background_save": true
        },
        "id": "KAaH9P8_QW09"
      },
      "outputs": [
        {
          "name": "stdout",
          "output_type": "stream",
          "text": [
            "<class 'pandas.core.frame.DataFrame'>\n",
            "RangeIndex: 2836 entries, 0 to 2835\n",
            "Data columns (total 37 columns):\n",
            " #   Column                   Non-Null Count  Dtype \n",
            "---  ------                   --------------  ----- \n",
            " 0   apply_body               0 non-null      object\n",
            " 1   title                    2836 non-null   object\n",
            " 2   street                   2836 non-null   object\n",
            " 3   city                     2836 non-null   object\n",
            " 4   country_code             2836 non-null   object\n",
            " 5   address_text             2836 non-null   object\n",
            " 6   marker_icon              2836 non-null   object\n",
            " 7   workplace_type           2836 non-null   object\n",
            " 8   company_name             2836 non-null   object\n",
            " 9   company_url              2836 non-null   object\n",
            " 10  company_size             2836 non-null   object\n",
            " 11  experience_level         2836 non-null   object\n",
            " 12  latitude                 2836 non-null   object\n",
            " 13  longitude                2836 non-null   object\n",
            " 14  apply_url                1738 non-null   object\n",
            " 15  published_at             2836 non-null   object\n",
            " 16  remote_interview         2836 non-null   bool  \n",
            " 17  video_key                0 non-null      object\n",
            " 18  video_provider           0 non-null      object\n",
            " 19  open_to_hire_ukrainians  2836 non-null   bool  \n",
            " 20  future_consent_title     2375 non-null   object\n",
            " 21  future_consent           2375 non-null   object\n",
            " 22  information_clause       2836 non-null   object\n",
            " 23  custom_consent_title     344 non-null    object\n",
            " 24  custom_consent           344 non-null    object\n",
            " 25  id                       2836 non-null   object\n",
            " 26  tags                     2836 non-null   object\n",
            " 27  body                     2836 non-null   object\n",
            " 28  company_logo_url         2836 non-null   object\n",
            " 29  banner_url               0 non-null      object\n",
            " 30  skills                   2836 non-null   object\n",
            " 31  remote                   2836 non-null   bool  \n",
            " 32  employment_types         2836 non-null   object\n",
            " 33  multilocation            2836 non-null   object\n",
            " 34  company_profile          1424 non-null   object\n",
            " 35  skill_name               2836 non-null   object\n",
            " 36  skill_level              2836 non-null   int64 \n",
            "dtypes: bool(3), int64(1), object(33)\n",
            "memory usage: 761.7+ KB\n"
          ]
        }
      ],
      "source": [
        "most_common_skills_df.reset_index(drop=True, inplace = True)\n",
        "most_common_skills_df.info()"
      ]
    },
    {
      "cell_type": "code",
      "execution_count": 38,
      "metadata": {
        "colab": {
          "background_save": true
        },
        "id": "6xvMGqrdroXU"
      },
      "outputs": [
        {
          "data": {
            "text/plain": [
              "Index(['apply_body', 'title', 'street', 'city', 'country_code', 'address_text',\n",
              "       'marker_icon', 'workplace_type', 'company_name', 'company_url',\n",
              "       'company_size', 'experience_level', 'latitude', 'longitude',\n",
              "       'apply_url', 'published_at', 'remote_interview', 'video_key',\n",
              "       'video_provider', 'open_to_hire_ukrainians', 'future_consent_title',\n",
              "       'future_consent', 'information_clause', 'custom_consent_title',\n",
              "       'custom_consent', 'id', 'tags', 'body', 'company_logo_url',\n",
              "       'banner_url', 'skills', 'remote', 'employment_types', 'multilocation',\n",
              "       'company_profile', 'skill_name', 'skill_level'],\n",
              "      dtype='object')"
            ]
          },
          "execution_count": 38,
          "metadata": {},
          "output_type": "execute_result"
        }
      ],
      "source": [
        "most_common_skills_df.columns"
      ]
    },
    {
      "cell_type": "code",
      "execution_count": 39,
      "metadata": {
        "colab": {
          "background_save": true
        },
        "id": "ywo6HEAlroXU"
      },
      "outputs": [],
      "source": [
        "dummies = pd.get_dummies(most_common_skills_df['skill_name'], prefix='skill')\n",
        "\n",
        "for col in dummies.columns:\n",
        "    dummies[col] *=  most_common_skills_df['skill_level']\n",
        "\n",
        "# Dołączanie kolumn dummies\n",
        "aggregated_df = pd.concat([most_common_skills_df, dummies], axis=1)\n",
        "\n",
        "def custom_agg(series):\n",
        "    if series.name.startswith('skill'):\n",
        "        return series.sum()\n",
        "    else:\n",
        "        return series.iat[0]\n",
        "\n",
        "\n",
        "aggregated_df = aggregated_df.drop('skill_name', axis=1)\n",
        "aggregated_df = aggregated_df.drop('skills', axis=1)\n",
        "\n",
        "# Grupowanie, agregacja i reset indeksu\n",
        "aggregated_df = aggregated_df.groupby('id', as_index=False).agg(custom_agg)\n",
        "aggregated_df = aggregated_df.drop('skill_level', axis=1)"
      ]
    },
    {
      "cell_type": "code",
      "execution_count": 40,
      "metadata": {
        "colab": {
          "background_save": true
        },
        "id": "1Gbhfv0nroXU"
      },
      "outputs": [
        {
          "name": "stdout",
          "output_type": "stream",
          "text": [
            "<class 'pandas.core.frame.DataFrame'>\n",
            "RangeIndex: 1037 entries, 0 to 1036\n",
            "Data columns (total 54 columns):\n",
            " #   Column                   Non-Null Count  Dtype \n",
            "---  ------                   --------------  ----- \n",
            " 0   id                       1037 non-null   object\n",
            " 1   apply_body               0 non-null      object\n",
            " 2   title                    1037 non-null   object\n",
            " 3   street                   1037 non-null   object\n",
            " 4   city                     1037 non-null   object\n",
            " 5   country_code             1037 non-null   object\n",
            " 6   address_text             1037 non-null   object\n",
            " 7   marker_icon              1037 non-null   object\n",
            " 8   workplace_type           1037 non-null   object\n",
            " 9   company_name             1037 non-null   object\n",
            " 10  company_url              1037 non-null   object\n",
            " 11  company_size             1037 non-null   object\n",
            " 12  experience_level         1037 non-null   object\n",
            " 13  latitude                 1037 non-null   object\n",
            " 14  longitude                1037 non-null   object\n",
            " 15  apply_url                660 non-null    object\n",
            " 16  published_at             1037 non-null   object\n",
            " 17  remote_interview         1037 non-null   bool  \n",
            " 18  video_key                0 non-null      object\n",
            " 19  video_provider           0 non-null      object\n",
            " 20  open_to_hire_ukrainians  1037 non-null   bool  \n",
            " 21  future_consent_title     874 non-null    object\n",
            " 22  future_consent           874 non-null    object\n",
            " 23  information_clause       1037 non-null   object\n",
            " 24  custom_consent_title     137 non-null    object\n",
            " 25  custom_consent           137 non-null    object\n",
            " 26  tags                     1037 non-null   object\n",
            " 27  body                     1037 non-null   object\n",
            " 28  company_logo_url         1037 non-null   object\n",
            " 29  banner_url               0 non-null      object\n",
            " 30  remote                   1037 non-null   bool  \n",
            " 31  employment_types         1037 non-null   object\n",
            " 32  multilocation            1037 non-null   object\n",
            " 33  company_profile          493 non-null    object\n",
            " 34  skill_agile              1037 non-null   int64 \n",
            " 35  skill_aws                1037 non-null   int64 \n",
            " 36  skill_azure              1037 non-null   int64 \n",
            " 37  skill_big data           1037 non-null   int64 \n",
            " 38  skill_cassandra          1037 non-null   int64 \n",
            " 39  skill_databases          1037 non-null   int64 \n",
            " 40  skill_databricks         1037 non-null   int64 \n",
            " 41  skill_devops             1037 non-null   int64 \n",
            " 42  skill_english            1037 non-null   int64 \n",
            " 43  skill_etl                1037 non-null   int64 \n",
            " 44  skill_java               1037 non-null   int64 \n",
            " 45  skill_machine learning   1037 non-null   int64 \n",
            " 46  skill_oracle             1037 non-null   int64 \n",
            " 47  skill_power bi           1037 non-null   int64 \n",
            " 48  skill_python             1037 non-null   int64 \n",
            " 49  skill_scala              1037 non-null   int64 \n",
            " 50  skill_snowflake          1037 non-null   int64 \n",
            " 51  skill_spark              1037 non-null   int64 \n",
            " 52  skill_sql                1037 non-null   int64 \n",
            " 53  skill_sql server         1037 non-null   int64 \n",
            "dtypes: bool(3), int64(20), object(31)\n",
            "memory usage: 416.3+ KB\n"
          ]
        }
      ],
      "source": [
        "aggregated_df.info()"
      ]
    },
    {
      "cell_type": "markdown",
      "metadata": {
        "id": "T9VfDcCOroXU"
      },
      "source": [
        "## Dealing with experience level - label encoding"
      ]
    },
    {
      "cell_type": "code",
      "execution_count": 41,
      "metadata": {},
      "outputs": [
        {
          "data": {
            "text/plain": [
              "array(['junior', 'mid', 'senior'], dtype=object)"
            ]
          },
          "execution_count": 41,
          "metadata": {},
          "output_type": "execute_result"
        }
      ],
      "source": [
        "aggregated_df['experience_level'].unique()"
      ]
    },
    {
      "cell_type": "code",
      "execution_count": 42,
      "metadata": {
        "colab": {
          "background_save": true
        },
        "id": "6cfNNP2nroXV"
      },
      "outputs": [],
      "source": [
        "# label_encoder = preprocessing.LabelEncoder()\n",
        "# aggregated_df['experience_level']= label_encoder.fit_transform(aggregated_df['experience_level'])\n",
        "level_mapping = {'junior': 0, 'mid': 1, 'senior': 2}\n",
        "aggregated_df['experience_level'] = aggregated_df['experience_level'].map(level_mapping)"
      ]
    },
    {
      "cell_type": "code",
      "execution_count": 43,
      "metadata": {},
      "outputs": [
        {
          "data": {
            "text/plain": [
              "array([0, 1, 2])"
            ]
          },
          "execution_count": 43,
          "metadata": {},
          "output_type": "execute_result"
        }
      ],
      "source": [
        "aggregated_df['experience_level'].unique()"
      ]
    },
    {
      "cell_type": "markdown",
      "metadata": {
        "id": "IoFXGuoTroXV"
      },
      "source": [
        "## Dealing with 'workplace_type', 'country_code'"
      ]
    },
    {
      "cell_type": "code",
      "execution_count": 44,
      "metadata": {
        "colab": {
          "background_save": true
        },
        "id": "aBqXs4qjroXV"
      },
      "outputs": [
        {
          "data": {
            "text/plain": [
              "array(['partly_remote', 'remote', 'office'], dtype=object)"
            ]
          },
          "execution_count": 44,
          "metadata": {},
          "output_type": "execute_result"
        }
      ],
      "source": [
        "aggregated_df['workplace_type'].unique()"
      ]
    },
    {
      "cell_type": "code",
      "execution_count": 45,
      "metadata": {
        "colab": {
          "background_save": true
        },
        "id": "K821pb5eroXV"
      },
      "outputs": [
        {
          "data": {
            "text/plain": [
              "array(['PL', 'SK', 'CZ', 'HU', 'AT', 'SI', 'RO', 'US', 'ES', 'DE', 'GB'],\n",
              "      dtype=object)"
            ]
          },
          "execution_count": 45,
          "metadata": {},
          "output_type": "execute_result"
        }
      ],
      "source": [
        "aggregated_df['country_code'].unique()"
      ]
    },
    {
      "cell_type": "code",
      "execution_count": 46,
      "metadata": {
        "colab": {
          "background_save": true
        },
        "id": "ICygch60roXV"
      },
      "outputs": [],
      "source": [
        "workplace_mapping= {'remote': 0, 'partly_remote': 1, 'office': 2}\n",
        "country_mapping = {'PL': 0, 'SK': 1, 'CZ': 2, 'HU': 3, 'AT': 4, 'SI': 5, 'RO': 6, 'MT': 7, 'DE': 8, 'UA': 9, 'None': 10,\n",
        "       'EE': 11}\n",
        "\n",
        "aggregated_df['workplace_type'] =aggregated_df['workplace_type'].map(workplace_mapping)\n",
        "\n",
        "aggregated_df['country_code'] = aggregated_df['country_code'].map(country_mapping)\n",
        "aggregated_df['country_code'] = aggregated_df['country_code'].fillna(10)"
      ]
    },
    {
      "cell_type": "markdown",
      "metadata": {
        "id": "wfa3GCe0roXV"
      },
      "source": [
        "## Dealing with salaries"
      ]
    },
    {
      "cell_type": "code",
      "execution_count": 47,
      "metadata": {
        "colab": {
          "background_save": true
        },
        "id": "YmkcTgfZroXV"
      },
      "outputs": [
        {
          "data": {
            "text/html": [
              "<div>\n",
              "<style scoped>\n",
              "    .dataframe tbody tr th:only-of-type {\n",
              "        vertical-align: middle;\n",
              "    }\n",
              "\n",
              "    .dataframe tbody tr th {\n",
              "        vertical-align: top;\n",
              "    }\n",
              "\n",
              "    .dataframe thead th {\n",
              "        text-align: right;\n",
              "    }\n",
              "</style>\n",
              "<table border=\"1\" class=\"dataframe\">\n",
              "  <thead>\n",
              "    <tr style=\"text-align: right;\">\n",
              "      <th></th>\n",
              "      <th>0</th>\n",
              "      <th>1</th>\n",
              "    </tr>\n",
              "  </thead>\n",
              "  <tbody>\n",
              "    <tr>\n",
              "      <th>502</th>\n",
              "      <td>{'type': 'b2b', 'salary': {'from': 20000, 'to'...</td>\n",
              "      <td>NaN</td>\n",
              "    </tr>\n",
              "  </tbody>\n",
              "</table>\n",
              "</div>"
            ],
            "text/plain": [
              "                                                     0    1\n",
              "502  {'type': 'b2b', 'salary': {'from': 20000, 'to'...  NaN"
            ]
          },
          "execution_count": 47,
          "metadata": {},
          "output_type": "execute_result"
        }
      ],
      "source": [
        "df_employment_types = aggregated_df['employment_types'].apply(pd.Series)\n",
        "df_employment_types.sample()"
      ]
    },
    {
      "cell_type": "code",
      "execution_count": 48,
      "metadata": {
        "colab": {
          "background_save": true
        },
        "id": "aaM_1q9uroXV"
      },
      "outputs": [
        {
          "data": {
            "text/plain": [
              "array(['b2b', 'permanent', 'mandate_contract'], dtype=object)"
            ]
          },
          "execution_count": 48,
          "metadata": {},
          "output_type": "execute_result"
        }
      ],
      "source": [
        "df_employment_type_1 = df_employment_types[0].apply(pd.Series, dtype='object')\n",
        "df_employment_type_1= pd.concat([df_employment_type_1.drop(['salary'], axis=1),\n",
        "                                 df_employment_type_1['salary'].apply(pd.Series, dtype='object')], axis=1)\n",
        "df_employment_type_1['type'].unique()"
      ]
    },
    {
      "cell_type": "code",
      "execution_count": 49,
      "metadata": {
        "colab": {
          "background_save": true
        },
        "id": "AvBsWoMTroXV"
      },
      "outputs": [
        {
          "data": {
            "text/html": [
              "<div>\n",
              "<style scoped>\n",
              "    .dataframe tbody tr th:only-of-type {\n",
              "        vertical-align: middle;\n",
              "    }\n",
              "\n",
              "    .dataframe tbody tr th {\n",
              "        vertical-align: top;\n",
              "    }\n",
              "\n",
              "    .dataframe thead th {\n",
              "        text-align: right;\n",
              "    }\n",
              "</style>\n",
              "<table border=\"1\" class=\"dataframe\">\n",
              "  <thead>\n",
              "    <tr style=\"text-align: right;\">\n",
              "      <th></th>\n",
              "      <th>type</th>\n",
              "      <th>from</th>\n",
              "      <th>to</th>\n",
              "      <th>currency</th>\n",
              "    </tr>\n",
              "  </thead>\n",
              "  <tbody>\n",
              "    <tr>\n",
              "      <th>990</th>\n",
              "      <td>permanent</td>\n",
              "      <td>27000.0</td>\n",
              "      <td>37000.0</td>\n",
              "      <td>pln</td>\n",
              "    </tr>\n",
              "    <tr>\n",
              "      <th>833</th>\n",
              "      <td>NaN</td>\n",
              "      <td>NaN</td>\n",
              "      <td>NaN</td>\n",
              "      <td>NaN</td>\n",
              "    </tr>\n",
              "    <tr>\n",
              "      <th>584</th>\n",
              "      <td>NaN</td>\n",
              "      <td>NaN</td>\n",
              "      <td>NaN</td>\n",
              "      <td>NaN</td>\n",
              "    </tr>\n",
              "    <tr>\n",
              "      <th>225</th>\n",
              "      <td>permanent</td>\n",
              "      <td>7000.0</td>\n",
              "      <td>14000.0</td>\n",
              "      <td>pln</td>\n",
              "    </tr>\n",
              "    <tr>\n",
              "      <th>843</th>\n",
              "      <td>b2b</td>\n",
              "      <td>NaN</td>\n",
              "      <td>NaN</td>\n",
              "      <td>NaN</td>\n",
              "    </tr>\n",
              "    <tr>\n",
              "      <th>354</th>\n",
              "      <td>NaN</td>\n",
              "      <td>NaN</td>\n",
              "      <td>NaN</td>\n",
              "      <td>NaN</td>\n",
              "    </tr>\n",
              "    <tr>\n",
              "      <th>968</th>\n",
              "      <td>NaN</td>\n",
              "      <td>NaN</td>\n",
              "      <td>NaN</td>\n",
              "      <td>NaN</td>\n",
              "    </tr>\n",
              "    <tr>\n",
              "      <th>664</th>\n",
              "      <td>NaN</td>\n",
              "      <td>NaN</td>\n",
              "      <td>NaN</td>\n",
              "      <td>NaN</td>\n",
              "    </tr>\n",
              "    <tr>\n",
              "      <th>998</th>\n",
              "      <td>permanent</td>\n",
              "      <td>27000.0</td>\n",
              "      <td>37000.0</td>\n",
              "      <td>pln</td>\n",
              "    </tr>\n",
              "    <tr>\n",
              "      <th>10</th>\n",
              "      <td>NaN</td>\n",
              "      <td>NaN</td>\n",
              "      <td>NaN</td>\n",
              "      <td>NaN</td>\n",
              "    </tr>\n",
              "  </tbody>\n",
              "</table>\n",
              "</div>"
            ],
            "text/plain": [
              "          type     from       to currency\n",
              "990  permanent  27000.0  37000.0      pln\n",
              "833        NaN      NaN      NaN      NaN\n",
              "584        NaN      NaN      NaN      NaN\n",
              "225  permanent   7000.0  14000.0      pln\n",
              "843        b2b      NaN      NaN      NaN\n",
              "354        NaN      NaN      NaN      NaN\n",
              "968        NaN      NaN      NaN      NaN\n",
              "664        NaN      NaN      NaN      NaN\n",
              "998  permanent  27000.0  37000.0      pln\n",
              "10         NaN      NaN      NaN      NaN"
            ]
          },
          "execution_count": 49,
          "metadata": {},
          "output_type": "execute_result"
        }
      ],
      "source": [
        "df_employment_type_2 = df_employment_types[1].apply(pd.Series, dtype='object')\n",
        "df_employment_type_2 = pd.concat([df_employment_type_2.drop(['salary'], axis=1),\n",
        "                                  df_employment_type_2['salary'].apply(pd.Series, dtype='object')], axis=1)\n",
        "df_employment_type_2.drop(columns=0, inplace = True)\n",
        "df_employment_type_2.sample(10)"
      ]
    },
    {
      "cell_type": "code",
      "execution_count": 50,
      "metadata": {
        "colab": {
          "background_save": true
        },
        "id": "sBZoIvVJroXW"
      },
      "outputs": [
        {
          "name": "stdout",
          "output_type": "stream",
          "text": [
            "<class 'pandas.core.frame.DataFrame'>\n",
            "RangeIndex: 1225 entries, 0 to 1224\n",
            "Data columns (total 57 columns):\n",
            " #   Column                   Non-Null Count  Dtype  \n",
            "---  ------                   --------------  -----  \n",
            " 0   id                       1225 non-null   object \n",
            " 1   apply_body               0 non-null      object \n",
            " 2   title                    1225 non-null   object \n",
            " 3   street                   1225 non-null   object \n",
            " 4   city                     1225 non-null   object \n",
            " 5   country_code             1225 non-null   float64\n",
            " 6   address_text             1225 non-null   object \n",
            " 7   marker_icon              1225 non-null   object \n",
            " 8   workplace_type           1225 non-null   int64  \n",
            " 9   company_name             1225 non-null   object \n",
            " 10  company_url              1225 non-null   object \n",
            " 11  company_size             1225 non-null   object \n",
            " 12  experience_level         1225 non-null   int64  \n",
            " 13  latitude                 1225 non-null   object \n",
            " 14  longitude                1225 non-null   object \n",
            " 15  apply_url                787 non-null    object \n",
            " 16  published_at             1225 non-null   object \n",
            " 17  remote_interview         1225 non-null   bool   \n",
            " 18  video_key                0 non-null      object \n",
            " 19  video_provider           0 non-null      object \n",
            " 20  open_to_hire_ukrainians  1225 non-null   bool   \n",
            " 21  future_consent_title     1037 non-null   object \n",
            " 22  future_consent           1037 non-null   object \n",
            " 23  information_clause       1225 non-null   object \n",
            " 24  custom_consent_title     156 non-null    object \n",
            " 25  custom_consent           156 non-null    object \n",
            " 26  tags                     1225 non-null   object \n",
            " 27  body                     1225 non-null   object \n",
            " 28  company_logo_url         1225 non-null   object \n",
            " 29  banner_url               0 non-null      object \n",
            " 30  remote                   1225 non-null   bool   \n",
            " 31  multilocation            1225 non-null   object \n",
            " 32  company_profile          581 non-null    object \n",
            " 33  skill_agile              1225 non-null   int64  \n",
            " 34  skill_aws                1225 non-null   int64  \n",
            " 35  skill_azure              1225 non-null   int64  \n",
            " 36  skill_big data           1225 non-null   int64  \n",
            " 37  skill_cassandra          1225 non-null   int64  \n",
            " 38  skill_databases          1225 non-null   int64  \n",
            " 39  skill_databricks         1225 non-null   int64  \n",
            " 40  skill_devops             1225 non-null   int64  \n",
            " 41  skill_english            1225 non-null   int64  \n",
            " 42  skill_etl                1225 non-null   int64  \n",
            " 43  skill_java               1225 non-null   int64  \n",
            " 44  skill_machine learning   1225 non-null   int64  \n",
            " 45  skill_oracle             1225 non-null   int64  \n",
            " 46  skill_power bi           1225 non-null   int64  \n",
            " 47  skill_python             1225 non-null   int64  \n",
            " 48  skill_scala              1225 non-null   int64  \n",
            " 49  skill_snowflake          1225 non-null   int64  \n",
            " 50  skill_spark              1225 non-null   int64  \n",
            " 51  skill_sql                1225 non-null   int64  \n",
            " 52  skill_sql server         1225 non-null   int64  \n",
            " 53  type                     1225 non-null   object \n",
            " 54  from                     893 non-null    float64\n",
            " 55  to                       893 non-null    float64\n",
            " 56  currency                 893 non-null    object \n",
            "dtypes: bool(3), float64(3), int64(22), object(29)\n",
            "memory usage: 520.5+ KB\n"
          ]
        }
      ],
      "source": [
        "df_no_employment = aggregated_df.drop(columns = 'employment_types')\n",
        "df_employment_1 = pd.concat([df_no_employment, df_employment_type_1], axis = 1)\n",
        "df_employment_2 = pd.concat([df_no_employment, df_employment_type_2], axis = 1)\n",
        "df_employment = pd.concat([df_employment_1, df_employment_2])\n",
        "df_employment.dropna(subset=['type'], inplace = True)\n",
        "df_employment.reset_index(drop=True, inplace = True)\n",
        "df_employment.info()"
      ]
    },
    {
      "cell_type": "code",
      "execution_count": 51,
      "metadata": {
        "colab": {
          "background_save": true
        },
        "id": "AG2oXkd6roXW"
      },
      "outputs": [],
      "source": [
        "# df_employment['type']= label_encoder.fit_transform(df_employment['type'])\n",
        "type_map = {'permanent': 0, 'b2b': 1, 'mandate_contract': 2}\n",
        "df_employment['type'] = df_employment['type'].map(type_map)"
      ]
    },
    {
      "cell_type": "markdown",
      "metadata": {
        "id": "ZWOU-ORsroXW"
      },
      "source": [
        "### Convert all currencies to PLN"
      ]
    },
    {
      "cell_type": "code",
      "execution_count": 52,
      "metadata": {
        "colab": {
          "background_save": true
        },
        "id": "Ix_8Rd1groXW"
      },
      "outputs": [
        {
          "data": {
            "text/plain": [
              "['pln', 'eur', 'usd']"
            ]
          },
          "execution_count": 52,
          "metadata": {},
          "output_type": "execute_result"
        }
      ],
      "source": [
        "currency_list = list(df_employment[df_employment['from'].notna()]['currency'].unique())\n",
        "currency_list"
      ]
    },
    {
      "cell_type": "code",
      "execution_count": 53,
      "metadata": {
        "colab": {
          "background_save": true
        },
        "id": "jcnmjctCroXW"
      },
      "outputs": [],
      "source": [
        "selected_currency  = 'pln'\n",
        "foreign_currencies = currency_list.copy()\n",
        "foreign_currencies.remove(selected_currency)"
      ]
    },
    {
      "cell_type": "code",
      "execution_count": 54,
      "metadata": {
        "colab": {
          "background_save": true
        },
        "id": "ACulAJC9roXW"
      },
      "outputs": [],
      "source": [
        "df_with_salary = df_employment[df_employment['currency'].notna()]\n",
        "df_no_salary = df_employment[df_employment['currency'].isna()]"
      ]
    },
    {
      "cell_type": "code",
      "execution_count": 55,
      "metadata": {
        "colab": {
          "background_save": true
        },
        "id": "d3hmVXq7roXW"
      },
      "outputs": [
        {
          "name": "stderr",
          "output_type": "stream",
          "text": [
            "/var/folders/mp/mpgc14lx6b9f41xmhqs4mxc80000gn/T/ipykernel_97379/2430910949.py:1: SettingWithCopyWarning: \n",
            "A value is trying to be set on a copy of a slice from a DataFrame.\n",
            "Try using .loc[row_indexer,col_indexer] = value instead\n",
            "\n",
            "See the caveats in the documentation: https://pandas.pydata.org/pandas-docs/stable/user_guide/indexing.html#returning-a-view-versus-a-copy\n",
            "  df_with_salary['from'] = df_with_salary.apply(lambda row: change_currency(row['from'], row['currency'], selected_currency)\n"
          ]
        }
      ],
      "source": [
        "df_with_salary['from'] = df_with_salary.apply(lambda row: change_currency(row['from'], row['currency'], selected_currency)\n",
        "                                              if row['currency'] != selected_currency and pd.notna(row['currency'])\n",
        "                                              else row['from'], axis=1)"
      ]
    },
    {
      "cell_type": "code",
      "execution_count": 56,
      "metadata": {
        "id": "viPYYYTvroXW"
      },
      "outputs": [
        {
          "name": "stderr",
          "output_type": "stream",
          "text": [
            "/var/folders/mp/mpgc14lx6b9f41xmhqs4mxc80000gn/T/ipykernel_97379/1341338040.py:1: SettingWithCopyWarning: \n",
            "A value is trying to be set on a copy of a slice from a DataFrame.\n",
            "Try using .loc[row_indexer,col_indexer] = value instead\n",
            "\n",
            "See the caveats in the documentation: https://pandas.pydata.org/pandas-docs/stable/user_guide/indexing.html#returning-a-view-versus-a-copy\n",
            "  df_with_salary['to'] = df_with_salary.apply(lambda row: change_currency(row['to'], row['currency'], selected_currency)\n"
          ]
        }
      ],
      "source": [
        "df_with_salary['to'] = df_with_salary.apply(lambda row: change_currency(row['to'], row['currency'], selected_currency)\n",
        "                                            if row['currency'] != selected_currency and pd.notna(row['currency'])\n",
        "                                            else row['to'], axis=1)"
      ]
    },
    {
      "cell_type": "code",
      "execution_count": 57,
      "metadata": {
        "id": "1OIlGY4proXW"
      },
      "outputs": [],
      "source": [
        "df_with_salary.loc[df_with_salary['currency'] != selected_currency, 'currency'] = selected_currency"
      ]
    },
    {
      "cell_type": "code",
      "execution_count": 58,
      "metadata": {
        "id": "zrdFi0uuroXW"
      },
      "outputs": [
        {
          "name": "stdout",
          "output_type": "stream",
          "text": [
            "<class 'pandas.core.frame.DataFrame'>\n",
            "RangeIndex: 1225 entries, 0 to 1224\n",
            "Data columns (total 57 columns):\n",
            " #   Column                   Non-Null Count  Dtype  \n",
            "---  ------                   --------------  -----  \n",
            " 0   id                       1225 non-null   object \n",
            " 1   apply_body               0 non-null      object \n",
            " 2   title                    1225 non-null   object \n",
            " 3   street                   1225 non-null   object \n",
            " 4   city                     1225 non-null   object \n",
            " 5   country_code             1225 non-null   float64\n",
            " 6   address_text             1225 non-null   object \n",
            " 7   marker_icon              1225 non-null   object \n",
            " 8   workplace_type           1225 non-null   int64  \n",
            " 9   company_name             1225 non-null   object \n",
            " 10  company_url              1225 non-null   object \n",
            " 11  company_size             1225 non-null   object \n",
            " 12  experience_level         1225 non-null   int64  \n",
            " 13  latitude                 1225 non-null   object \n",
            " 14  longitude                1225 non-null   object \n",
            " 15  apply_url                787 non-null    object \n",
            " 16  published_at             1225 non-null   object \n",
            " 17  remote_interview         1225 non-null   bool   \n",
            " 18  video_key                0 non-null      object \n",
            " 19  video_provider           0 non-null      object \n",
            " 20  open_to_hire_ukrainians  1225 non-null   bool   \n",
            " 21  future_consent_title     1037 non-null   object \n",
            " 22  future_consent           1037 non-null   object \n",
            " 23  information_clause       1225 non-null   object \n",
            " 24  custom_consent_title     156 non-null    object \n",
            " 25  custom_consent           156 non-null    object \n",
            " 26  tags                     1225 non-null   object \n",
            " 27  body                     1225 non-null   object \n",
            " 28  company_logo_url         1225 non-null   object \n",
            " 29  banner_url               0 non-null      object \n",
            " 30  remote                   1225 non-null   bool   \n",
            " 31  multilocation            1225 non-null   object \n",
            " 32  company_profile          581 non-null    object \n",
            " 33  skill_agile              1225 non-null   int64  \n",
            " 34  skill_aws                1225 non-null   int64  \n",
            " 35  skill_azure              1225 non-null   int64  \n",
            " 36  skill_big data           1225 non-null   int64  \n",
            " 37  skill_cassandra          1225 non-null   int64  \n",
            " 38  skill_databases          1225 non-null   int64  \n",
            " 39  skill_databricks         1225 non-null   int64  \n",
            " 40  skill_devops             1225 non-null   int64  \n",
            " 41  skill_english            1225 non-null   int64  \n",
            " 42  skill_etl                1225 non-null   int64  \n",
            " 43  skill_java               1225 non-null   int64  \n",
            " 44  skill_machine learning   1225 non-null   int64  \n",
            " 45  skill_oracle             1225 non-null   int64  \n",
            " 46  skill_power bi           1225 non-null   int64  \n",
            " 47  skill_python             1225 non-null   int64  \n",
            " 48  skill_scala              1225 non-null   int64  \n",
            " 49  skill_snowflake          1225 non-null   int64  \n",
            " 50  skill_spark              1225 non-null   int64  \n",
            " 51  skill_sql                1225 non-null   int64  \n",
            " 52  skill_sql server         1225 non-null   int64  \n",
            " 53  type                     1225 non-null   int64  \n",
            " 54  from                     893 non-null    float64\n",
            " 55  to                       893 non-null    float64\n",
            " 56  currency                 893 non-null    object \n",
            "dtypes: bool(3), float64(3), int64(23), object(28)\n",
            "memory usage: 520.5+ KB\n"
          ]
        }
      ],
      "source": [
        "df_pln = pd.concat([df_with_salary, df_no_salary])\n",
        "df_pln.reset_index(drop=True, inplace = True)\n",
        "df_pln.info()"
      ]
    },
    {
      "cell_type": "markdown",
      "metadata": {
        "id": "Lt8oXBZQroXX"
      },
      "source": [
        "at this stage df includes:\n",
        "- offers with marker icon 'data'\n",
        "- ordered employment column\n",
        "- cleaned company_size column\n",
        "- selected offers with the 30 most popular skills among 'data', both with given and unknown salary\n",
        "- experience_level, country_code, employment_type, workplace_type and skills encoded columns\n",
        "- offers in a foreign currency converted into PLN"
      ]
    },
    {
      "cell_type": "code",
      "execution_count": 59,
      "metadata": {
        "id": "jL3cSqw4roXX"
      },
      "outputs": [
        {
          "data": {
            "text/html": [
              "<div>\n",
              "<style scoped>\n",
              "    .dataframe tbody tr th:only-of-type {\n",
              "        vertical-align: middle;\n",
              "    }\n",
              "\n",
              "    .dataframe tbody tr th {\n",
              "        vertical-align: top;\n",
              "    }\n",
              "\n",
              "    .dataframe thead th {\n",
              "        text-align: right;\n",
              "    }\n",
              "</style>\n",
              "<table border=\"1\" class=\"dataframe\">\n",
              "  <thead>\n",
              "    <tr style=\"text-align: right;\">\n",
              "      <th></th>\n",
              "      <th>company_size</th>\n",
              "    </tr>\n",
              "  </thead>\n",
              "  <tbody>\n",
              "    <tr>\n",
              "      <th>5</th>\n",
              "      <td>11-50</td>\n",
              "    </tr>\n",
              "    <tr>\n",
              "      <th>31</th>\n",
              "      <td>51-200</td>\n",
              "    </tr>\n",
              "    <tr>\n",
              "      <th>32</th>\n",
              "      <td>51-200</td>\n",
              "    </tr>\n",
              "    <tr>\n",
              "      <th>33</th>\n",
              "      <td>51-200</td>\n",
              "    </tr>\n",
              "    <tr>\n",
              "      <th>34</th>\n",
              "      <td>51-200</td>\n",
              "    </tr>\n",
              "    <tr>\n",
              "      <th>...</th>\n",
              "      <td>...</td>\n",
              "    </tr>\n",
              "    <tr>\n",
              "      <th>1014</th>\n",
              "      <td>1-600</td>\n",
              "    </tr>\n",
              "    <tr>\n",
              "      <th>1015</th>\n",
              "      <td>1-600</td>\n",
              "    </tr>\n",
              "    <tr>\n",
              "      <th>1016</th>\n",
              "      <td>1-600</td>\n",
              "    </tr>\n",
              "    <tr>\n",
              "      <th>1017</th>\n",
              "      <td>1-600</td>\n",
              "    </tr>\n",
              "    <tr>\n",
              "      <th>1018</th>\n",
              "      <td>1-600</td>\n",
              "    </tr>\n",
              "  </tbody>\n",
              "</table>\n",
              "<p>225 rows × 1 columns</p>\n",
              "</div>"
            ],
            "text/plain": [
              "     company_size\n",
              "5           11-50\n",
              "31         51-200\n",
              "32         51-200\n",
              "33         51-200\n",
              "34         51-200\n",
              "...           ...\n",
              "1014        1-600\n",
              "1015        1-600\n",
              "1016        1-600\n",
              "1017        1-600\n",
              "1018        1-600\n",
              "\n",
              "[225 rows x 1 columns]"
            ]
          },
          "execution_count": 59,
          "metadata": {},
          "output_type": "execute_result"
        }
      ],
      "source": [
        "#cleaning up and encoding company sizes\n",
        "\n",
        "#cleaning up sizes that contain '-'\n",
        "company_size_df = df_pln[df_pln['company_size'].str.contains('-')][['company_size']]\n",
        "company_size_df"
      ]
    },
    {
      "cell_type": "code",
      "execution_count": 60,
      "metadata": {
        "id": "hVS5RSnhTsg-"
      },
      "outputs": [],
      "source": [
        "company_size_df['company_size_1'] = company_size_df['company_size'].str.split('-').str[0]\n",
        "company_size_df['company_size_2']  = company_size_df['company_size'].str.split('-').str[-1]"
      ]
    },
    {
      "cell_type": "code",
      "execution_count": 61,
      "metadata": {
        "id": "kbKIDex9UVSd"
      },
      "outputs": [
        {
          "data": {
            "text/html": [
              "<div>\n",
              "<style scoped>\n",
              "    .dataframe tbody tr th:only-of-type {\n",
              "        vertical-align: middle;\n",
              "    }\n",
              "\n",
              "    .dataframe tbody tr th {\n",
              "        vertical-align: top;\n",
              "    }\n",
              "\n",
              "    .dataframe thead th {\n",
              "        text-align: right;\n",
              "    }\n",
              "</style>\n",
              "<table border=\"1\" class=\"dataframe\">\n",
              "  <thead>\n",
              "    <tr style=\"text-align: right;\">\n",
              "      <th></th>\n",
              "      <th>company_size</th>\n",
              "      <th>company_size_1</th>\n",
              "      <th>company_size_2</th>\n",
              "    </tr>\n",
              "  </thead>\n",
              "  <tbody>\n",
              "  </tbody>\n",
              "</table>\n",
              "</div>"
            ],
            "text/plain": [
              "Empty DataFrame\n",
              "Columns: [company_size, company_size_1, company_size_2]\n",
              "Index: []"
            ]
          },
          "execution_count": 61,
          "metadata": {},
          "output_type": "execute_result"
        }
      ],
      "source": [
        "company_size_df[company_size_df['company_size']=='-']"
      ]
    },
    {
      "cell_type": "code",
      "execution_count": 62,
      "metadata": {
        "id": "vLw77-jrT4FO"
      },
      "outputs": [
        {
          "data": {
            "text/html": [
              "<div>\n",
              "<style scoped>\n",
              "    .dataframe tbody tr th:only-of-type {\n",
              "        vertical-align: middle;\n",
              "    }\n",
              "\n",
              "    .dataframe tbody tr th {\n",
              "        vertical-align: top;\n",
              "    }\n",
              "\n",
              "    .dataframe thead th {\n",
              "        text-align: right;\n",
              "    }\n",
              "</style>\n",
              "<table border=\"1\" class=\"dataframe\">\n",
              "  <thead>\n",
              "    <tr style=\"text-align: right;\">\n",
              "      <th></th>\n",
              "      <th>company_size</th>\n",
              "      <th>company_size_1</th>\n",
              "      <th>company_size_2</th>\n",
              "    </tr>\n",
              "  </thead>\n",
              "  <tbody>\n",
              "  </tbody>\n",
              "</table>\n",
              "</div>"
            ],
            "text/plain": [
              "Empty DataFrame\n",
              "Columns: [company_size, company_size_1, company_size_2]\n",
              "Index: []"
            ]
          },
          "execution_count": 62,
          "metadata": {},
          "output_type": "execute_result"
        }
      ],
      "source": [
        "company_size_df = company_size_df[company_size_df['company_size'] != '-']\n",
        "company_size_df[company_size_df['company_size']=='-']"
      ]
    },
    {
      "cell_type": "code",
      "execution_count": 63,
      "metadata": {
        "id": "zFKI_D6OUzVm"
      },
      "outputs": [
        {
          "data": {
            "text/html": [
              "<div>\n",
              "<style scoped>\n",
              "    .dataframe tbody tr th:only-of-type {\n",
              "        vertical-align: middle;\n",
              "    }\n",
              "\n",
              "    .dataframe tbody tr th {\n",
              "        vertical-align: top;\n",
              "    }\n",
              "\n",
              "    .dataframe thead th {\n",
              "        text-align: right;\n",
              "    }\n",
              "</style>\n",
              "<table border=\"1\" class=\"dataframe\">\n",
              "  <thead>\n",
              "    <tr style=\"text-align: right;\">\n",
              "      <th></th>\n",
              "      <th>avg_company_size</th>\n",
              "    </tr>\n",
              "  </thead>\n",
              "  <tbody>\n",
              "    <tr>\n",
              "      <th>5</th>\n",
              "      <td>30.5</td>\n",
              "    </tr>\n",
              "    <tr>\n",
              "      <th>31</th>\n",
              "      <td>125.5</td>\n",
              "    </tr>\n",
              "    <tr>\n",
              "      <th>32</th>\n",
              "      <td>125.5</td>\n",
              "    </tr>\n",
              "    <tr>\n",
              "      <th>33</th>\n",
              "      <td>125.5</td>\n",
              "    </tr>\n",
              "    <tr>\n",
              "      <th>34</th>\n",
              "      <td>125.5</td>\n",
              "    </tr>\n",
              "    <tr>\n",
              "      <th>...</th>\n",
              "      <td>...</td>\n",
              "    </tr>\n",
              "    <tr>\n",
              "      <th>1014</th>\n",
              "      <td>300.5</td>\n",
              "    </tr>\n",
              "    <tr>\n",
              "      <th>1015</th>\n",
              "      <td>300.5</td>\n",
              "    </tr>\n",
              "    <tr>\n",
              "      <th>1016</th>\n",
              "      <td>300.5</td>\n",
              "    </tr>\n",
              "    <tr>\n",
              "      <th>1017</th>\n",
              "      <td>300.5</td>\n",
              "    </tr>\n",
              "    <tr>\n",
              "      <th>1018</th>\n",
              "      <td>300.5</td>\n",
              "    </tr>\n",
              "  </tbody>\n",
              "</table>\n",
              "<p>225 rows × 1 columns</p>\n",
              "</div>"
            ],
            "text/plain": [
              "      avg_company_size\n",
              "5                 30.5\n",
              "31               125.5\n",
              "32               125.5\n",
              "33               125.5\n",
              "34               125.5\n",
              "...                ...\n",
              "1014             300.5\n",
              "1015             300.5\n",
              "1016             300.5\n",
              "1017             300.5\n",
              "1018             300.5\n",
              "\n",
              "[225 rows x 1 columns]"
            ]
          },
          "execution_count": 63,
          "metadata": {},
          "output_type": "execute_result"
        }
      ],
      "source": [
        "# company_size_df = company_size_df.copy()\n",
        "company_size_df['company_size_1'] = pd.to_numeric(company_size_df['company_size_1'])\n",
        "company_size_df['company_size_2'] = pd.to_numeric(company_size_df['company_size_2'])\n",
        "company_size_df['avg_company_size'] = (company_size_df['company_size_1'] + company_size_df['company_size_2']) / 2\n",
        "\n",
        "company_size_df = company_size_df[['avg_company_size']]\n",
        "company_size_df"
      ]
    },
    {
      "cell_type": "code",
      "execution_count": 64,
      "metadata": {
        "id": "7eZNw8RuroXX"
      },
      "outputs": [],
      "source": [
        "df_avg_company_size = pd.merge(df_pln, company_size_df, left_index=True, right_index=True, how = 'outer')"
      ]
    },
    {
      "cell_type": "code",
      "execution_count": 65,
      "metadata": {
        "id": "foaesHkuW_99"
      },
      "outputs": [
        {
          "data": {
            "text/plain": [
              "array(['250', '6000', '1150', '200', '30', '51200', '1001  5000', '150',\n",
              "       '100', '500', '6080', '60000', '1000', '2030', '50', '300000',\n",
              "       '16', '120', '5000', '1020', '7080', '3040', '450', '40', '1400',\n",
              "       '1530', '5011000', '750', '350', '80', '101500', '50100', '60',\n",
              "       '63', '200250', '50  100', '2000', '600', '650', '900', '460',\n",
              "       '430', '300', '230', '60  70', '2650', '22 200', '3060', '30000',\n",
              "       '170 ', '1525', ' 30', '1500', '280', '2 000', '100200', '51100',\n",
              "       '170', '8600', '500 000', '70100', '9000', '1700', '250350', '400',\n",
              "       '700', '100 000', '635', '7000', '10000', '1600', '4500', '1300',\n",
              "       '800', '3000', ' 6 500 ', '22000', '3500', '25'], dtype=object)"
            ]
          },
          "execution_count": 65,
          "metadata": {},
          "output_type": "execute_result"
        }
      ],
      "source": [
        "df_avg_company_size['company_size'] = df_avg_company_size['company_size'].apply(remove_mark)\n",
        "df_avg_company_size['company_size'].unique()"
      ]
    },
    {
      "cell_type": "code",
      "execution_count": 66,
      "metadata": {
        "id": "ZBlI_RTkXTvc"
      },
      "outputs": [
        {
          "data": {
            "text/plain": [
              "array(['250', '6000', '1150', '200', '30', '51200', '10015000', '150',\n",
              "       '100', '500', '6080', '60000', '1000', '2030', '50', '300000',\n",
              "       '16', '120', '5000', '1020', '7080', '3040', '450', '40', '1400',\n",
              "       '1530', '5011000', '750', '350', '80', '101500', '50100', '60',\n",
              "       '63', '200250', '2000', '600', '650', '900', '460', '430', '300',\n",
              "       '230', '6070', '2650', '22200', '3060', '30000', '170', '1525',\n",
              "       '1500', '280', '100200', '51100', '8600', '500000', '70100',\n",
              "       '9000', '1700', '250350', '400', '700', '100000', '635', '7000',\n",
              "       '10000', '1600', '4500', '1300', '800', '3000', '6500', '22000',\n",
              "       '3500', '25'], dtype=object)"
            ]
          },
          "execution_count": 66,
          "metadata": {},
          "output_type": "execute_result"
        }
      ],
      "source": [
        "df_avg_company_size['company_size'] = df_avg_company_size['company_size'].apply(remove_mark)\n",
        "df_avg_company_size['company_size'].unique()"
      ]
    },
    {
      "cell_type": "code",
      "execution_count": 67,
      "metadata": {
        "id": "xm9Uufr8roXX"
      },
      "outputs": [],
      "source": [
        "df_avg_company_size['company_size'] = pd.to_numeric(df_avg_company_size['company_size'])"
      ]
    },
    {
      "cell_type": "code",
      "execution_count": 68,
      "metadata": {
        "id": "lPo7FJVXroXX"
      },
      "outputs": [],
      "source": [
        "df_avg_company_size['avg_company_size'] = df_avg_company_size.apply(\n",
        "    lambda row: row['company_size'] if pd.isna(row['avg_company_size']) else row['avg_company_size'],\n",
        "    axis=1\n",
        ").astype('float')"
      ]
    },
    {
      "cell_type": "code",
      "execution_count": 69,
      "metadata": {
        "id": "FH7Bjk7vroXX"
      },
      "outputs": [
        {
          "name": "stdout",
          "output_type": "stream",
          "text": [
            "<class 'pandas.core.frame.DataFrame'>\n",
            "Index: 1225 entries, 0 to 1224\n",
            "Data columns (total 58 columns):\n",
            " #   Column                   Non-Null Count  Dtype  \n",
            "---  ------                   --------------  -----  \n",
            " 0   id                       1225 non-null   object \n",
            " 1   apply_body               0 non-null      object \n",
            " 2   title                    1225 non-null   object \n",
            " 3   street                   1225 non-null   object \n",
            " 4   city                     1225 non-null   object \n",
            " 5   country_code             1225 non-null   float64\n",
            " 6   address_text             1225 non-null   object \n",
            " 7   marker_icon              1225 non-null   object \n",
            " 8   workplace_type           1225 non-null   int64  \n",
            " 9   company_name             1225 non-null   object \n",
            " 10  company_url              1225 non-null   object \n",
            " 11  company_size             1225 non-null   int64  \n",
            " 12  experience_level         1225 non-null   int64  \n",
            " 13  latitude                 1225 non-null   object \n",
            " 14  longitude                1225 non-null   object \n",
            " 15  apply_url                787 non-null    object \n",
            " 16  published_at             1225 non-null   object \n",
            " 17  remote_interview         1225 non-null   bool   \n",
            " 18  video_key                0 non-null      object \n",
            " 19  video_provider           0 non-null      object \n",
            " 20  open_to_hire_ukrainians  1225 non-null   bool   \n",
            " 21  future_consent_title     1037 non-null   object \n",
            " 22  future_consent           1037 non-null   object \n",
            " 23  information_clause       1225 non-null   object \n",
            " 24  custom_consent_title     156 non-null    object \n",
            " 25  custom_consent           156 non-null    object \n",
            " 26  tags                     1225 non-null   object \n",
            " 27  body                     1225 non-null   object \n",
            " 28  company_logo_url         1225 non-null   object \n",
            " 29  banner_url               0 non-null      object \n",
            " 30  remote                   1225 non-null   bool   \n",
            " 31  multilocation            1225 non-null   object \n",
            " 32  company_profile          581 non-null    object \n",
            " 33  skill_agile              1225 non-null   int64  \n",
            " 34  skill_aws                1225 non-null   int64  \n",
            " 35  skill_azure              1225 non-null   int64  \n",
            " 36  skill_big data           1225 non-null   int64  \n",
            " 37  skill_cassandra          1225 non-null   int64  \n",
            " 38  skill_databases          1225 non-null   int64  \n",
            " 39  skill_databricks         1225 non-null   int64  \n",
            " 40  skill_devops             1225 non-null   int64  \n",
            " 41  skill_english            1225 non-null   int64  \n",
            " 42  skill_etl                1225 non-null   int64  \n",
            " 43  skill_java               1225 non-null   int64  \n",
            " 44  skill_machine learning   1225 non-null   int64  \n",
            " 45  skill_oracle             1225 non-null   int64  \n",
            " 46  skill_power bi           1225 non-null   int64  \n",
            " 47  skill_python             1225 non-null   int64  \n",
            " 48  skill_scala              1225 non-null   int64  \n",
            " 49  skill_snowflake          1225 non-null   int64  \n",
            " 50  skill_spark              1225 non-null   int64  \n",
            " 51  skill_sql                1225 non-null   int64  \n",
            " 52  skill_sql server         1225 non-null   int64  \n",
            " 53  type                     1225 non-null   int64  \n",
            " 54  from                     893 non-null    float64\n",
            " 55  to                       893 non-null    float64\n",
            " 56  currency                 893 non-null    object \n",
            " 57  avg_company_size         1225 non-null   float64\n",
            "dtypes: bool(3), float64(4), int64(24), object(27)\n",
            "memory usage: 539.5+ KB\n"
          ]
        }
      ],
      "source": [
        "df_avg_company_size.info()"
      ]
    },
    {
      "cell_type": "code",
      "execution_count": 70,
      "metadata": {
        "id": "UDTKzYjGYrUG"
      },
      "outputs": [],
      "source": [
        "# to_csv_date(df_avg_company_size,'offers_API_ready_to_analyze')"
      ]
    },
    {
      "cell_type": "markdown",
      "metadata": {
        "id": "LhJYSLKHroXX"
      },
      "source": []
    },
    {
      "cell_type": "markdown",
      "metadata": {
        "id": "rNgoxgnjHYmO"
      },
      "source": [
        "# BUILDING REGRESSION MODEL"
      ]
    },
    {
      "cell_type": "code",
      "execution_count": 71,
      "metadata": {
        "id": "aYAg92GuvG9H"
      },
      "outputs": [],
      "source": [
        "df_reg = df_avg_company_size.copy()\n",
        "#pd.read_csv('https://raw.githubusercontent.com/KKozakiewicz/predict_salaries/main/ready_to_analyze_08252023_.csv')"
      ]
    },
    {
      "cell_type": "code",
      "execution_count": 72,
      "metadata": {
        "id": "jQU7ZlW_ZqDG"
      },
      "outputs": [
        {
          "data": {
            "text/html": [
              "<div>\n",
              "<style scoped>\n",
              "    .dataframe tbody tr th:only-of-type {\n",
              "        vertical-align: middle;\n",
              "    }\n",
              "\n",
              "    .dataframe tbody tr th {\n",
              "        vertical-align: top;\n",
              "    }\n",
              "\n",
              "    .dataframe thead th {\n",
              "        text-align: right;\n",
              "    }\n",
              "</style>\n",
              "<table border=\"1\" class=\"dataframe\">\n",
              "  <thead>\n",
              "    <tr style=\"text-align: right;\">\n",
              "      <th></th>\n",
              "      <th>id</th>\n",
              "      <th>apply_body</th>\n",
              "      <th>title</th>\n",
              "      <th>street</th>\n",
              "      <th>city</th>\n",
              "      <th>country_code</th>\n",
              "      <th>address_text</th>\n",
              "      <th>marker_icon</th>\n",
              "      <th>workplace_type</th>\n",
              "      <th>company_name</th>\n",
              "      <th>...</th>\n",
              "      <th>skill_scala</th>\n",
              "      <th>skill_snowflake</th>\n",
              "      <th>skill_spark</th>\n",
              "      <th>skill_sql</th>\n",
              "      <th>skill_sql server</th>\n",
              "      <th>type</th>\n",
              "      <th>from</th>\n",
              "      <th>to</th>\n",
              "      <th>currency</th>\n",
              "      <th>avg_company_size</th>\n",
              "    </tr>\n",
              "  </thead>\n",
              "  <tbody>\n",
              "    <tr>\n",
              "      <th>374</th>\n",
              "      <td>inter-cars-s-a-data-analyst</td>\n",
              "      <td>None</td>\n",
              "      <td>data analyst</td>\n",
              "      <td>Zgrupowania AK Kampinos 15</td>\n",
              "      <td>Warszawa</td>\n",
              "      <td>0.0</td>\n",
              "      <td>Zgrupowania AK Kampinos 15, Warszawa</td>\n",
              "      <td>data</td>\n",
              "      <td>0</td>\n",
              "      <td>Inter Cars S.A.</td>\n",
              "      <td>...</td>\n",
              "      <td>0</td>\n",
              "      <td>0</td>\n",
              "      <td>0</td>\n",
              "      <td>4</td>\n",
              "      <td>0</td>\n",
              "      <td>1</td>\n",
              "      <td>19000.0</td>\n",
              "      <td>25000.0</td>\n",
              "      <td>pln</td>\n",
              "      <td>1000.0</td>\n",
              "    </tr>\n",
              "    <tr>\n",
              "      <th>81</th>\n",
              "      <td>bayer-sp-z-o-o-data-engineer-wolomin</td>\n",
              "      <td>None</td>\n",
              "      <td>data engineer</td>\n",
              "      <td>-</td>\n",
              "      <td>Wołomin</td>\n",
              "      <td>0.0</td>\n",
              "      <td>-, Wołomin</td>\n",
              "      <td>data</td>\n",
              "      <td>1</td>\n",
              "      <td>Bayer Sp. z o.o.</td>\n",
              "      <td>...</td>\n",
              "      <td>0</td>\n",
              "      <td>0</td>\n",
              "      <td>0</td>\n",
              "      <td>0</td>\n",
              "      <td>0</td>\n",
              "      <td>0</td>\n",
              "      <td>14000.0</td>\n",
              "      <td>20500.0</td>\n",
              "      <td>pln</td>\n",
              "      <td>100.0</td>\n",
              "    </tr>\n",
              "    <tr>\n",
              "      <th>644</th>\n",
              "      <td>sky-gate-machine-learning-developer-warszawa</td>\n",
              "      <td>None</td>\n",
              "      <td>machine learning developer</td>\n",
              "      <td>Centrum</td>\n",
              "      <td>Warszawa</td>\n",
              "      <td>0.0</td>\n",
              "      <td>Centrum, Warszawa</td>\n",
              "      <td>data</td>\n",
              "      <td>0</td>\n",
              "      <td>Mindpal</td>\n",
              "      <td>...</td>\n",
              "      <td>0</td>\n",
              "      <td>0</td>\n",
              "      <td>0</td>\n",
              "      <td>0</td>\n",
              "      <td>0</td>\n",
              "      <td>1</td>\n",
              "      <td>13000.0</td>\n",
              "      <td>24000.0</td>\n",
              "      <td>pln</td>\n",
              "      <td>75.0</td>\n",
              "    </tr>\n",
              "    <tr>\n",
              "      <th>921</th>\n",
              "      <td>accenture-machine-learning-engineer-d1c3934c-3...</td>\n",
              "      <td>None</td>\n",
              "      <td>machine learning engineer</td>\n",
              "      <td>ul. Sienna 39</td>\n",
              "      <td>Warszawa</td>\n",
              "      <td>0.0</td>\n",
              "      <td>ul. Sienna 39, Warszawa</td>\n",
              "      <td>data</td>\n",
              "      <td>1</td>\n",
              "      <td>Accenture</td>\n",
              "      <td>...</td>\n",
              "      <td>0</td>\n",
              "      <td>0</td>\n",
              "      <td>1</td>\n",
              "      <td>4</td>\n",
              "      <td>0</td>\n",
              "      <td>0</td>\n",
              "      <td>NaN</td>\n",
              "      <td>NaN</td>\n",
              "      <td>NaN</td>\n",
              "      <td>8600.0</td>\n",
              "    </tr>\n",
              "    <tr>\n",
              "      <th>954</th>\n",
              "      <td>bluesoft-data-engineer-gdansk</td>\n",
              "      <td>None</td>\n",
              "      <td>data engineer</td>\n",
              "      <td>Remote</td>\n",
              "      <td>Gdańsk</td>\n",
              "      <td>0.0</td>\n",
              "      <td>Remote, Gdańsk</td>\n",
              "      <td>data</td>\n",
              "      <td>0</td>\n",
              "      <td>BlueSoft</td>\n",
              "      <td>...</td>\n",
              "      <td>0</td>\n",
              "      <td>0</td>\n",
              "      <td>0</td>\n",
              "      <td>0</td>\n",
              "      <td>0</td>\n",
              "      <td>1</td>\n",
              "      <td>NaN</td>\n",
              "      <td>NaN</td>\n",
              "      <td>NaN</td>\n",
              "      <td>1000.0</td>\n",
              "    </tr>\n",
              "  </tbody>\n",
              "</table>\n",
              "<p>5 rows × 58 columns</p>\n",
              "</div>"
            ],
            "text/plain": [
              "                                                    id apply_body  \\\n",
              "374                        inter-cars-s-a-data-analyst       None   \n",
              "81                bayer-sp-z-o-o-data-engineer-wolomin       None   \n",
              "644       sky-gate-machine-learning-developer-warszawa       None   \n",
              "921  accenture-machine-learning-engineer-d1c3934c-3...       None   \n",
              "954                      bluesoft-data-engineer-gdansk       None   \n",
              "\n",
              "                          title                      street      city  \\\n",
              "374                data analyst  Zgrupowania AK Kampinos 15  Warszawa   \n",
              "81                data engineer                           -   Wołomin   \n",
              "644  machine learning developer                     Centrum  Warszawa   \n",
              "921   machine learning engineer               ul. Sienna 39  Warszawa   \n",
              "954               data engineer                      Remote    Gdańsk   \n",
              "\n",
              "     country_code                          address_text marker_icon  \\\n",
              "374           0.0  Zgrupowania AK Kampinos 15, Warszawa        data   \n",
              "81            0.0                            -, Wołomin        data   \n",
              "644           0.0                     Centrum, Warszawa        data   \n",
              "921           0.0               ul. Sienna 39, Warszawa        data   \n",
              "954           0.0                        Remote, Gdańsk        data   \n",
              "\n",
              "     workplace_type      company_name  ... skill_scala  skill_snowflake  \\\n",
              "374               0   Inter Cars S.A.  ...           0                0   \n",
              "81                1  Bayer Sp. z o.o.  ...           0                0   \n",
              "644               0           Mindpal  ...           0                0   \n",
              "921               1         Accenture  ...           0                0   \n",
              "954               0          BlueSoft  ...           0                0   \n",
              "\n",
              "     skill_spark skill_sql skill_sql server type     from       to currency  \\\n",
              "374            0         4                0    1  19000.0  25000.0      pln   \n",
              "81             0         0                0    0  14000.0  20500.0      pln   \n",
              "644            0         0                0    1  13000.0  24000.0      pln   \n",
              "921            1         4                0    0      NaN      NaN      NaN   \n",
              "954            0         0                0    1      NaN      NaN      NaN   \n",
              "\n",
              "    avg_company_size  \n",
              "374           1000.0  \n",
              "81             100.0  \n",
              "644             75.0  \n",
              "921           8600.0  \n",
              "954           1000.0  \n",
              "\n",
              "[5 rows x 58 columns]"
            ]
          },
          "execution_count": 72,
          "metadata": {},
          "output_type": "execute_result"
        }
      ],
      "source": [
        "df_reg.sample(5)"
      ]
    },
    {
      "cell_type": "code",
      "execution_count": 73,
      "metadata": {
        "id": "ie3utLLuHWvD"
      },
      "outputs": [],
      "source": [
        "# remove columns that won't be taken into consideration\n",
        "df_reg_limit=df_reg.drop(columns = ['id', 'apply_body', 'title', 'company_size', 'street', 'city', 'address_text', 'marker_icon', 'company_name', 'company_url', 'latitude', 'longitude', 'apply_url', 'published_at', 'remote_interview', 'video_key', 'video_provider', 'open_to_hire_ukrainians', 'future_consent_title', 'future_consent', 'information_clause', 'custom_consent_title', 'custom_consent', 'tags', 'body', 'company_logo_url', 'banner_url', 'multilocation', 'company_profile', 'currency'])\n"
      ]
    },
    {
      "cell_type": "code",
      "execution_count": 74,
      "metadata": {
        "id": "ezqMq-KiT-l2"
      },
      "outputs": [
        {
          "data": {
            "text/html": [
              "<div>\n",
              "<style scoped>\n",
              "    .dataframe tbody tr th:only-of-type {\n",
              "        vertical-align: middle;\n",
              "    }\n",
              "\n",
              "    .dataframe tbody tr th {\n",
              "        vertical-align: top;\n",
              "    }\n",
              "\n",
              "    .dataframe thead th {\n",
              "        text-align: right;\n",
              "    }\n",
              "</style>\n",
              "<table border=\"1\" class=\"dataframe\">\n",
              "  <thead>\n",
              "    <tr style=\"text-align: right;\">\n",
              "      <th></th>\n",
              "      <th>country_code</th>\n",
              "      <th>workplace_type</th>\n",
              "      <th>experience_level</th>\n",
              "      <th>remote</th>\n",
              "      <th>skill_agile</th>\n",
              "      <th>skill_aws</th>\n",
              "      <th>skill_azure</th>\n",
              "      <th>skill_big data</th>\n",
              "      <th>skill_cassandra</th>\n",
              "      <th>skill_databases</th>\n",
              "      <th>...</th>\n",
              "      <th>skill_python</th>\n",
              "      <th>skill_scala</th>\n",
              "      <th>skill_snowflake</th>\n",
              "      <th>skill_spark</th>\n",
              "      <th>skill_sql</th>\n",
              "      <th>skill_sql server</th>\n",
              "      <th>type</th>\n",
              "      <th>from</th>\n",
              "      <th>to</th>\n",
              "      <th>avg_company_size</th>\n",
              "    </tr>\n",
              "  </thead>\n",
              "  <tbody>\n",
              "    <tr>\n",
              "      <th>0</th>\n",
              "      <td>0.0</td>\n",
              "      <td>0</td>\n",
              "      <td>2</td>\n",
              "      <td>True</td>\n",
              "      <td>0</td>\n",
              "      <td>3</td>\n",
              "      <td>0</td>\n",
              "      <td>0</td>\n",
              "      <td>0</td>\n",
              "      <td>0</td>\n",
              "      <td>...</td>\n",
              "      <td>4</td>\n",
              "      <td>0</td>\n",
              "      <td>3</td>\n",
              "      <td>1</td>\n",
              "      <td>4</td>\n",
              "      <td>0</td>\n",
              "      <td>1</td>\n",
              "      <td>31000.0</td>\n",
              "      <td>38000.0</td>\n",
              "      <td>250.0</td>\n",
              "    </tr>\n",
              "    <tr>\n",
              "      <th>1</th>\n",
              "      <td>0.0</td>\n",
              "      <td>0</td>\n",
              "      <td>2</td>\n",
              "      <td>True</td>\n",
              "      <td>0</td>\n",
              "      <td>3</td>\n",
              "      <td>0</td>\n",
              "      <td>0</td>\n",
              "      <td>0</td>\n",
              "      <td>0</td>\n",
              "      <td>...</td>\n",
              "      <td>4</td>\n",
              "      <td>0</td>\n",
              "      <td>3</td>\n",
              "      <td>1</td>\n",
              "      <td>4</td>\n",
              "      <td>0</td>\n",
              "      <td>1</td>\n",
              "      <td>25000.0</td>\n",
              "      <td>30000.0</td>\n",
              "      <td>250.0</td>\n",
              "    </tr>\n",
              "    <tr>\n",
              "      <th>2</th>\n",
              "      <td>0.0</td>\n",
              "      <td>0</td>\n",
              "      <td>1</td>\n",
              "      <td>True</td>\n",
              "      <td>0</td>\n",
              "      <td>0</td>\n",
              "      <td>0</td>\n",
              "      <td>0</td>\n",
              "      <td>0</td>\n",
              "      <td>0</td>\n",
              "      <td>...</td>\n",
              "      <td>4</td>\n",
              "      <td>0</td>\n",
              "      <td>0</td>\n",
              "      <td>0</td>\n",
              "      <td>4</td>\n",
              "      <td>0</td>\n",
              "      <td>0</td>\n",
              "      <td>13000.0</td>\n",
              "      <td>25000.0</td>\n",
              "      <td>6000.0</td>\n",
              "    </tr>\n",
              "    <tr>\n",
              "      <th>3</th>\n",
              "      <td>0.0</td>\n",
              "      <td>0</td>\n",
              "      <td>1</td>\n",
              "      <td>True</td>\n",
              "      <td>0</td>\n",
              "      <td>0</td>\n",
              "      <td>0</td>\n",
              "      <td>0</td>\n",
              "      <td>0</td>\n",
              "      <td>0</td>\n",
              "      <td>...</td>\n",
              "      <td>4</td>\n",
              "      <td>0</td>\n",
              "      <td>0</td>\n",
              "      <td>0</td>\n",
              "      <td>4</td>\n",
              "      <td>0</td>\n",
              "      <td>0</td>\n",
              "      <td>13000.0</td>\n",
              "      <td>25000.0</td>\n",
              "      <td>6000.0</td>\n",
              "    </tr>\n",
              "    <tr>\n",
              "      <th>4</th>\n",
              "      <td>0.0</td>\n",
              "      <td>0</td>\n",
              "      <td>1</td>\n",
              "      <td>True</td>\n",
              "      <td>0</td>\n",
              "      <td>0</td>\n",
              "      <td>0</td>\n",
              "      <td>0</td>\n",
              "      <td>0</td>\n",
              "      <td>0</td>\n",
              "      <td>...</td>\n",
              "      <td>4</td>\n",
              "      <td>0</td>\n",
              "      <td>0</td>\n",
              "      <td>0</td>\n",
              "      <td>4</td>\n",
              "      <td>0</td>\n",
              "      <td>0</td>\n",
              "      <td>13000.0</td>\n",
              "      <td>25000.0</td>\n",
              "      <td>6000.0</td>\n",
              "    </tr>\n",
              "  </tbody>\n",
              "</table>\n",
              "<p>5 rows × 28 columns</p>\n",
              "</div>"
            ],
            "text/plain": [
              "   country_code  workplace_type  experience_level  remote  skill_agile  \\\n",
              "0           0.0               0                 2    True            0   \n",
              "1           0.0               0                 2    True            0   \n",
              "2           0.0               0                 1    True            0   \n",
              "3           0.0               0                 1    True            0   \n",
              "4           0.0               0                 1    True            0   \n",
              "\n",
              "   skill_aws  skill_azure  skill_big data  skill_cassandra  skill_databases  \\\n",
              "0          3            0               0                0                0   \n",
              "1          3            0               0                0                0   \n",
              "2          0            0               0                0                0   \n",
              "3          0            0               0                0                0   \n",
              "4          0            0               0                0                0   \n",
              "\n",
              "   ...  skill_python  skill_scala  skill_snowflake  skill_spark  skill_sql  \\\n",
              "0  ...             4            0                3            1          4   \n",
              "1  ...             4            0                3            1          4   \n",
              "2  ...             4            0                0            0          4   \n",
              "3  ...             4            0                0            0          4   \n",
              "4  ...             4            0                0            0          4   \n",
              "\n",
              "   skill_sql server  type     from       to  avg_company_size  \n",
              "0                 0     1  31000.0  38000.0             250.0  \n",
              "1                 0     1  25000.0  30000.0             250.0  \n",
              "2                 0     0  13000.0  25000.0            6000.0  \n",
              "3                 0     0  13000.0  25000.0            6000.0  \n",
              "4                 0     0  13000.0  25000.0            6000.0  \n",
              "\n",
              "[5 rows x 28 columns]"
            ]
          },
          "execution_count": 74,
          "metadata": {},
          "output_type": "execute_result"
        }
      ],
      "source": [
        "df_reg_limit.head()"
      ]
    },
    {
      "cell_type": "code",
      "execution_count": 75,
      "metadata": {
        "id": "-vsSKpdV0J_o"
      },
      "outputs": [
        {
          "name": "stdout",
          "output_type": "stream",
          "text": [
            "<class 'pandas.core.frame.DataFrame'>\n",
            "Index: 1225 entries, 0 to 1224\n",
            "Data columns (total 28 columns):\n",
            " #   Column                  Non-Null Count  Dtype  \n",
            "---  ------                  --------------  -----  \n",
            " 0   country_code            1225 non-null   float64\n",
            " 1   workplace_type          1225 non-null   int64  \n",
            " 2   experience_level        1225 non-null   int64  \n",
            " 3   remote                  1225 non-null   bool   \n",
            " 4   skill_agile             1225 non-null   int64  \n",
            " 5   skill_aws               1225 non-null   int64  \n",
            " 6   skill_azure             1225 non-null   int64  \n",
            " 7   skill_big data          1225 non-null   int64  \n",
            " 8   skill_cassandra         1225 non-null   int64  \n",
            " 9   skill_databases         1225 non-null   int64  \n",
            " 10  skill_databricks        1225 non-null   int64  \n",
            " 11  skill_devops            1225 non-null   int64  \n",
            " 12  skill_english           1225 non-null   int64  \n",
            " 13  skill_etl               1225 non-null   int64  \n",
            " 14  skill_java              1225 non-null   int64  \n",
            " 15  skill_machine learning  1225 non-null   int64  \n",
            " 16  skill_oracle            1225 non-null   int64  \n",
            " 17  skill_power bi          1225 non-null   int64  \n",
            " 18  skill_python            1225 non-null   int64  \n",
            " 19  skill_scala             1225 non-null   int64  \n",
            " 20  skill_snowflake         1225 non-null   int64  \n",
            " 21  skill_spark             1225 non-null   int64  \n",
            " 22  skill_sql               1225 non-null   int64  \n",
            " 23  skill_sql server        1225 non-null   int64  \n",
            " 24  type                    1225 non-null   int64  \n",
            " 25  from                    893 non-null    float64\n",
            " 26  to                      893 non-null    float64\n",
            " 27  avg_company_size        1225 non-null   float64\n",
            "dtypes: bool(1), float64(4), int64(23)\n",
            "memory usage: 269.2 KB\n"
          ]
        }
      ],
      "source": [
        "df_reg_limit.info()"
      ]
    },
    {
      "cell_type": "code",
      "execution_count": 76,
      "metadata": {
        "id": "3W00BbbiHW2l"
      },
      "outputs": [
        {
          "name": "stdout",
          "output_type": "stream",
          "text": [
            "<class 'pandas.core.frame.DataFrame'>\n",
            "RangeIndex: 332 entries, 0 to 331\n",
            "Data columns (total 28 columns):\n",
            " #   Column                  Non-Null Count  Dtype  \n",
            "---  ------                  --------------  -----  \n",
            " 0   country_code            332 non-null    float64\n",
            " 1   workplace_type          332 non-null    int64  \n",
            " 2   experience_level        332 non-null    int64  \n",
            " 3   remote                  332 non-null    bool   \n",
            " 4   skill_agile             332 non-null    int64  \n",
            " 5   skill_aws               332 non-null    int64  \n",
            " 6   skill_azure             332 non-null    int64  \n",
            " 7   skill_big data          332 non-null    int64  \n",
            " 8   skill_cassandra         332 non-null    int64  \n",
            " 9   skill_databases         332 non-null    int64  \n",
            " 10  skill_databricks        332 non-null    int64  \n",
            " 11  skill_devops            332 non-null    int64  \n",
            " 12  skill_english           332 non-null    int64  \n",
            " 13  skill_etl               332 non-null    int64  \n",
            " 14  skill_java              332 non-null    int64  \n",
            " 15  skill_machine learning  332 non-null    int64  \n",
            " 16  skill_oracle            332 non-null    int64  \n",
            " 17  skill_power bi          332 non-null    int64  \n",
            " 18  skill_python            332 non-null    int64  \n",
            " 19  skill_scala             332 non-null    int64  \n",
            " 20  skill_snowflake         332 non-null    int64  \n",
            " 21  skill_spark             332 non-null    int64  \n",
            " 22  skill_sql               332 non-null    int64  \n",
            " 23  skill_sql server        332 non-null    int64  \n",
            " 24  type                    332 non-null    int64  \n",
            " 25  from                    0 non-null      float64\n",
            " 26  to                      0 non-null      float64\n",
            " 27  avg_company_size        332 non-null    float64\n",
            "dtypes: bool(1), float64(4), int64(23)\n",
            "memory usage: 70.5 KB\n",
            "<class 'pandas.core.frame.DataFrame'>\n",
            "RangeIndex: 893 entries, 0 to 892\n",
            "Data columns (total 28 columns):\n",
            " #   Column                  Non-Null Count  Dtype  \n",
            "---  ------                  --------------  -----  \n",
            " 0   country_code            893 non-null    float64\n",
            " 1   workplace_type          893 non-null    int64  \n",
            " 2   experience_level        893 non-null    int64  \n",
            " 3   remote                  893 non-null    bool   \n",
            " 4   skill_agile             893 non-null    int64  \n",
            " 5   skill_aws               893 non-null    int64  \n",
            " 6   skill_azure             893 non-null    int64  \n",
            " 7   skill_big data          893 non-null    int64  \n",
            " 8   skill_cassandra         893 non-null    int64  \n",
            " 9   skill_databases         893 non-null    int64  \n",
            " 10  skill_databricks        893 non-null    int64  \n",
            " 11  skill_devops            893 non-null    int64  \n",
            " 12  skill_english           893 non-null    int64  \n",
            " 13  skill_etl               893 non-null    int64  \n",
            " 14  skill_java              893 non-null    int64  \n",
            " 15  skill_machine learning  893 non-null    int64  \n",
            " 16  skill_oracle            893 non-null    int64  \n",
            " 17  skill_power bi          893 non-null    int64  \n",
            " 18  skill_python            893 non-null    int64  \n",
            " 19  skill_scala             893 non-null    int64  \n",
            " 20  skill_snowflake         893 non-null    int64  \n",
            " 21  skill_spark             893 non-null    int64  \n",
            " 22  skill_sql               893 non-null    int64  \n",
            " 23  skill_sql server        893 non-null    int64  \n",
            " 24  type                    893 non-null    int64  \n",
            " 25  from                    893 non-null    float64\n",
            " 26  to                      893 non-null    float64\n",
            " 27  avg_company_size        893 non-null    float64\n",
            "dtypes: bool(1), float64(4), int64(23)\n",
            "memory usage: 189.4 KB\n"
          ]
        }
      ],
      "source": [
        "# extract rows with no salary information\n",
        "df_no_salaries = df_reg_limit[df_reg_limit['to'].isna()].reset_index(drop=True)\n",
        "df_no_salaries.info()\n",
        "\n",
        "# extract rows with salary information\n",
        "df_salaries = df_reg_limit[df_reg_limit['to'].notna()].reset_index(drop=True)\n",
        "df_salaries.info()"
      ]
    },
    {
      "cell_type": "code",
      "execution_count": 77,
      "metadata": {
        "id": "QqfMIvJrbAst"
      },
      "outputs": [
        {
          "data": {
            "text/html": [
              "<div>\n",
              "<style scoped>\n",
              "    .dataframe tbody tr th:only-of-type {\n",
              "        vertical-align: middle;\n",
              "    }\n",
              "\n",
              "    .dataframe tbody tr th {\n",
              "        vertical-align: top;\n",
              "    }\n",
              "\n",
              "    .dataframe thead th {\n",
              "        text-align: right;\n",
              "    }\n",
              "</style>\n",
              "<table border=\"1\" class=\"dataframe\">\n",
              "  <thead>\n",
              "    <tr style=\"text-align: right;\">\n",
              "      <th></th>\n",
              "      <th>country_code</th>\n",
              "      <th>workplace_type</th>\n",
              "      <th>experience_level</th>\n",
              "      <th>remote</th>\n",
              "      <th>skill_agile</th>\n",
              "      <th>skill_aws</th>\n",
              "      <th>skill_azure</th>\n",
              "      <th>skill_big data</th>\n",
              "      <th>skill_cassandra</th>\n",
              "      <th>skill_databases</th>\n",
              "      <th>...</th>\n",
              "      <th>skill_python</th>\n",
              "      <th>skill_scala</th>\n",
              "      <th>skill_snowflake</th>\n",
              "      <th>skill_spark</th>\n",
              "      <th>skill_sql</th>\n",
              "      <th>skill_sql server</th>\n",
              "      <th>type</th>\n",
              "      <th>from</th>\n",
              "      <th>to</th>\n",
              "      <th>avg_company_size</th>\n",
              "    </tr>\n",
              "  </thead>\n",
              "  <tbody>\n",
              "    <tr>\n",
              "      <th>800</th>\n",
              "      <td>0.0</td>\n",
              "      <td>2</td>\n",
              "      <td>0</td>\n",
              "      <td>False</td>\n",
              "      <td>0</td>\n",
              "      <td>0</td>\n",
              "      <td>0</td>\n",
              "      <td>0</td>\n",
              "      <td>0</td>\n",
              "      <td>0</td>\n",
              "      <td>...</td>\n",
              "      <td>0</td>\n",
              "      <td>0</td>\n",
              "      <td>0</td>\n",
              "      <td>0</td>\n",
              "      <td>1</td>\n",
              "      <td>0</td>\n",
              "      <td>0</td>\n",
              "      <td>3600.0</td>\n",
              "      <td>5090.0</td>\n",
              "      <td>75.0</td>\n",
              "    </tr>\n",
              "    <tr>\n",
              "      <th>519</th>\n",
              "      <td>0.0</td>\n",
              "      <td>1</td>\n",
              "      <td>0</td>\n",
              "      <td>False</td>\n",
              "      <td>0</td>\n",
              "      <td>0</td>\n",
              "      <td>0</td>\n",
              "      <td>0</td>\n",
              "      <td>0</td>\n",
              "      <td>0</td>\n",
              "      <td>...</td>\n",
              "      <td>1</td>\n",
              "      <td>0</td>\n",
              "      <td>0</td>\n",
              "      <td>0</td>\n",
              "      <td>3</td>\n",
              "      <td>0</td>\n",
              "      <td>0</td>\n",
              "      <td>4000.0</td>\n",
              "      <td>8000.0</td>\n",
              "      <td>460.0</td>\n",
              "    </tr>\n",
              "    <tr>\n",
              "      <th>441</th>\n",
              "      <td>0.0</td>\n",
              "      <td>1</td>\n",
              "      <td>0</td>\n",
              "      <td>False</td>\n",
              "      <td>0</td>\n",
              "      <td>0</td>\n",
              "      <td>0</td>\n",
              "      <td>0</td>\n",
              "      <td>0</td>\n",
              "      <td>0</td>\n",
              "      <td>...</td>\n",
              "      <td>0</td>\n",
              "      <td>0</td>\n",
              "      <td>0</td>\n",
              "      <td>0</td>\n",
              "      <td>3</td>\n",
              "      <td>0</td>\n",
              "      <td>0</td>\n",
              "      <td>4000.0</td>\n",
              "      <td>7000.0</td>\n",
              "      <td>25.0</td>\n",
              "    </tr>\n",
              "    <tr>\n",
              "      <th>411</th>\n",
              "      <td>0.0</td>\n",
              "      <td>2</td>\n",
              "      <td>0</td>\n",
              "      <td>False</td>\n",
              "      <td>0</td>\n",
              "      <td>0</td>\n",
              "      <td>0</td>\n",
              "      <td>0</td>\n",
              "      <td>0</td>\n",
              "      <td>0</td>\n",
              "      <td>...</td>\n",
              "      <td>0</td>\n",
              "      <td>0</td>\n",
              "      <td>0</td>\n",
              "      <td>0</td>\n",
              "      <td>1</td>\n",
              "      <td>0</td>\n",
              "      <td>1</td>\n",
              "      <td>4337.0</td>\n",
              "      <td>6133.0</td>\n",
              "      <td>75.0</td>\n",
              "    </tr>\n",
              "    <tr>\n",
              "      <th>706</th>\n",
              "      <td>0.0</td>\n",
              "      <td>0</td>\n",
              "      <td>0</td>\n",
              "      <td>True</td>\n",
              "      <td>0</td>\n",
              "      <td>0</td>\n",
              "      <td>0</td>\n",
              "      <td>0</td>\n",
              "      <td>0</td>\n",
              "      <td>0</td>\n",
              "      <td>...</td>\n",
              "      <td>0</td>\n",
              "      <td>0</td>\n",
              "      <td>0</td>\n",
              "      <td>0</td>\n",
              "      <td>2</td>\n",
              "      <td>0</td>\n",
              "      <td>2</td>\n",
              "      <td>4500.0</td>\n",
              "      <td>5000.0</td>\n",
              "      <td>1000.0</td>\n",
              "    </tr>\n",
              "  </tbody>\n",
              "</table>\n",
              "<p>5 rows × 28 columns</p>\n",
              "</div>"
            ],
            "text/plain": [
              "     country_code  workplace_type  experience_level  remote  skill_agile  \\\n",
              "800           0.0               2                 0   False            0   \n",
              "519           0.0               1                 0   False            0   \n",
              "441           0.0               1                 0   False            0   \n",
              "411           0.0               2                 0   False            0   \n",
              "706           0.0               0                 0    True            0   \n",
              "\n",
              "     skill_aws  skill_azure  skill_big data  skill_cassandra  skill_databases  \\\n",
              "800          0            0               0                0                0   \n",
              "519          0            0               0                0                0   \n",
              "441          0            0               0                0                0   \n",
              "411          0            0               0                0                0   \n",
              "706          0            0               0                0                0   \n",
              "\n",
              "     ...  skill_python  skill_scala  skill_snowflake  skill_spark  skill_sql  \\\n",
              "800  ...             0            0                0            0          1   \n",
              "519  ...             1            0                0            0          3   \n",
              "441  ...             0            0                0            0          3   \n",
              "411  ...             0            0                0            0          1   \n",
              "706  ...             0            0                0            0          2   \n",
              "\n",
              "     skill_sql server  type    from      to  avg_company_size  \n",
              "800                 0     0  3600.0  5090.0              75.0  \n",
              "519                 0     0  4000.0  8000.0             460.0  \n",
              "441                 0     0  4000.0  7000.0              25.0  \n",
              "411                 0     1  4337.0  6133.0              75.0  \n",
              "706                 0     2  4500.0  5000.0            1000.0  \n",
              "\n",
              "[5 rows x 28 columns]"
            ]
          },
          "execution_count": 77,
          "metadata": {},
          "output_type": "execute_result"
        }
      ],
      "source": [
        "df_salaries_sorted = df_salaries.sort_values(by='from', ascending=True)\n",
        "df_salaries_sorted.head()"
      ]
    },
    {
      "cell_type": "code",
      "execution_count": 78,
      "metadata": {
        "id": "aNzBDvUhbfSW"
      },
      "outputs": [
        {
          "data": {
            "image/png": "[encoded data removed]",
            "text/plain": [
              "<Figure size 1000x600 with 1 Axes>"
            ]
          },
          "metadata": {},
          "output_type": "display_data"
        }
      ],
      "source": [
        "plt.figure(figsize=(10, 6))\n",
        "sns.set(style=\"darkgrid\")\n",
        "plot = sns.scatterplot(x=np.arange(len(df_salaries_sorted)), y=df_salaries_sorted['from'])\n",
        "plot.set_title('Salary from in PLN')\n",
        "\n",
        "plt.show()"
      ]
    },
    {
      "cell_type": "code",
      "execution_count": 106,
      "metadata": {
        "id": "8U-0d0rdHW98"
      },
      "outputs": [],
      "source": [
        "# split the dataset into training and test sets, now only salary_from is investigated\n",
        "X = df_salaries.drop(columns=['from','to'])\n",
        "y = df_salaries[['from', 'to']]"
      ]
    },
    {
      "cell_type": "code",
      "execution_count": 107,
      "metadata": {},
      "outputs": [
        {
          "data": {
            "text/plain": [
              "array([ 0.,  1.,  2.,  3.,  4.,  5.,  6., 10.,  8.])"
            ]
          },
          "execution_count": 107,
          "metadata": {},
          "output_type": "execute_result"
        }
      ],
      "source": [
        "X['country_code'].unique()"
      ]
    },
    {
      "cell_type": "code",
      "execution_count": 108,
      "metadata": {},
      "outputs": [
        {
          "name": "stdout",
          "output_type": "stream",
          "text": [
            "1.2.2\n"
          ]
        }
      ],
      "source": [
        "import sklearn\n",
        "scikit_version = sklearn.__version__\n",
        "print(scikit_version)"
      ]
    },
    {
      "cell_type": "code",
      "execution_count": 109,
      "metadata": {
        "id": "0xFhFRR_LRfJ"
      },
      "outputs": [],
      "source": [
        "# normalizing the data\n",
        "scl = StandardScaler()\n",
        "X_scaled = pd.DataFrame(scl.fit_transform(X), columns = X.columns)"
      ]
    },
    {
      "cell_type": "code",
      "execution_count": 110,
      "metadata": {},
      "outputs": [
        {
          "data": {
            "text/plain": [
              "['Standard_Scaler_1.2.2.pkl']"
            ]
          },
          "execution_count": 110,
          "metadata": {},
          "output_type": "execute_result"
        }
      ],
      "source": [
        "joblib.dump(scl, f\"Standard_Scaler_{scikit_version}.pkl\")"
      ]
    },
    {
      "cell_type": "code",
      "execution_count": 111,
      "metadata": {
        "id": "kmBfKLesHXEr"
      },
      "outputs": [],
      "source": [
        "X_train, X_test, y_train, y_test = train_test_split(X_scaled, y, test_size=0.2)\n",
        "X_train, X_val, y_train, y_val = train_test_split(X_train, y_train, test_size=0.2)"
      ]
    },
    {
      "cell_type": "code",
      "execution_count": 112,
      "metadata": {},
      "outputs": [
        {
          "name": "stdout",
          "output_type": "stream",
          "text": [
            "<class 'pandas.core.frame.DataFrame'>\n",
            "Index: 571 entries, 553 to 789\n",
            "Data columns (total 26 columns):\n",
            " #   Column                  Non-Null Count  Dtype  \n",
            "---  ------                  --------------  -----  \n",
            " 0   country_code            571 non-null    float64\n",
            " 1   workplace_type          571 non-null    float64\n",
            " 2   experience_level        571 non-null    float64\n",
            " 3   remote                  571 non-null    float64\n",
            " 4   skill_agile             571 non-null    float64\n",
            " 5   skill_aws               571 non-null    float64\n",
            " 6   skill_azure             571 non-null    float64\n",
            " 7   skill_big data          571 non-null    float64\n",
            " 8   skill_cassandra         571 non-null    float64\n",
            " 9   skill_databases         571 non-null    float64\n",
            " 10  skill_databricks        571 non-null    float64\n",
            " 11  skill_devops            571 non-null    float64\n",
            " 12  skill_english           571 non-null    float64\n",
            " 13  skill_etl               571 non-null    float64\n",
            " 14  skill_java              571 non-null    float64\n",
            " 15  skill_machine learning  571 non-null    float64\n",
            " 16  skill_oracle            571 non-null    float64\n",
            " 17  skill_power bi          571 non-null    float64\n",
            " 18  skill_python            571 non-null    float64\n",
            " 19  skill_scala             571 non-null    float64\n",
            " 20  skill_snowflake         571 non-null    float64\n",
            " 21  skill_spark             571 non-null    float64\n",
            " 22  skill_sql               571 non-null    float64\n",
            " 23  skill_sql server        571 non-null    float64\n",
            " 24  type                    571 non-null    float64\n",
            " 25  avg_company_size        571 non-null    float64\n",
            "dtypes: float64(26)\n",
            "memory usage: 120.4 KB\n"
          ]
        }
      ],
      "source": [
        "X_train.info()"
      ]
    },
    {
      "cell_type": "markdown",
      "metadata": {},
      "source": []
    },
    {
      "cell_type": "markdown",
      "metadata": {
        "id": "u4Rl6-jVImQ7"
      },
      "source": [
        "## Salafry_from: Random Forest + GridSeachCV"
      ]
    },
    {
      "cell_type": "code",
      "execution_count": 113,
      "metadata": {
        "id": "nxn9kWiuHXMI"
      },
      "outputs": [
        {
          "name": "stdout",
          "output_type": "stream",
          "text": [
            "Best Parameters: {'max_depth': 20, 'min_samples_leaf': 1, 'min_samples_split': 2, 'n_estimators': 100}\n",
            "Regression Model Evaluation:\n",
            "===========================\n",
            "Mean Absolute Error (MAE): 764.47\n",
            "Mean Squared Error (MSE): 3804075.23\n",
            "Root Mean Squared Error (RMSE): 1950.40\n",
            "R-squared (R2): 0.92\n"
          ]
        }
      ],
      "source": [
        "# select X and y\n",
        "y_train_from = y_train['from']\n",
        "\n",
        "# Initialize the RandomForestRegressor model\n",
        "rf_regressor = RandomForestRegressor()\n",
        "\n",
        "# Define the parameter grid for the grid search\n",
        "param_grid = {\n",
        "    'n_estimators': [100, 200, 300],\n",
        "    'max_depth': [None, 10, 20],\n",
        "    'min_samples_split': [2, 5, 10],\n",
        "    'min_samples_leaf': [1, 2, 4]\n",
        "}\n",
        "\n",
        "# Create a GridSearchCV object\n",
        "gs_from = GridSearchCV(estimator=rf_regressor, param_grid=param_grid, cv=5, n_jobs=-1, scoring='neg_mean_absolute_error')\n",
        "\n",
        "# Fit the GridSearchCV object to the training data\n",
        "gs_from.fit(X_train, y_train_from)\n",
        "\n",
        "# Get the best model with tuned hyperparameters\n",
        "best_model_from = gs_from.best_estimator_\n",
        "\n",
        "# Print best parameters\n",
        "print(\"Best Parameters:\", gs_from.best_params_)\n",
        "\n",
        "# Predict on the test set\n",
        "y_pred_from = best_model_from.predict(X_val)\n",
        "\n",
        "# Evaluate the best model\n",
        "evaluate_regression_model(best_model_from, X_val, y_val['from'])"
      ]
    },
    {
      "cell_type": "markdown",
      "metadata": {},
      "source": [
        "### Salary_from: comparision of real and predicted y for train and test set"
      ]
    },
    {
      "cell_type": "code",
      "execution_count": 118,
      "metadata": {},
      "outputs": [
        {
          "data": {
            "image/png": "[encoded data removed]",
            "text/plain": [
              "<Figure size 1600x1000 with 4 Axes>"
            ]
          },
          "metadata": {},
          "output_type": "display_data"
        }
      ],
      "source": [
        "# df with real and predicted y for the train set\n",
        "y_pred_train_from = best_model_from.predict(X_train)\n",
        "df_train_from = {'y_train': y_train_from, 'y_pred_train': y_pred_train_from, 'train_diff': y_train_from-y_pred_train_from}\n",
        "df_train_from = pd.DataFrame(df_train_from)\n",
        "df_train_from.sort_values(by = 'y_train', inplace = True)\n",
        "\n",
        "# df with real and predicted y for the test set\n",
        "y_pred_test_from = best_model_from.predict(X_val)\n",
        "df_test_from = {'y_test': y_val['from'], 'y_pred_test': y_pred_test_from, 'test_diff': y_val['from']-y_pred_test_from}\n",
        "df_test_from = pd.DataFrame(df_test_from)\n",
        "df_test_from.sort_values(by = 'y_test', inplace = True)\n",
        "\n",
        "# plot\n",
        "figure, axis = plt.subplots(2, 2, figsize=(16, 10), sharey = 'row')\n",
        "\n",
        "length_train_from = range(len(df_train_from))\n",
        "length_test_from = range(len(df_test_from))\n",
        "\n",
        "# Salary_from: y_train v. y_pred\n",
        "axis[0, 0].scatter(length_train_from, df_train_from['y_train'], marker = '.', label = 'y_train')\n",
        "axis[0, 0].scatter(length_train_from, df_train_from['y_pred_train'], marker = '.', label = 'y_pred')\n",
        "axis[0, 0].legend()\n",
        "axis[0, 0].set_title(\"Salary_from: y_train v. y_pred\")\n",
        "axis[0, 0].set_xlabel('Row Number')\n",
        "axis[0, 0].set_ylabel('y')\n",
        "\n",
        "# Salary_from: y_train - y_pred\n",
        "axis[1, 0].scatter(length_train_from, df_train_from['train_diff'], marker = '.')\n",
        "axis[1, 0].set_title(\"Salary_from: y_train - y_pred\")\n",
        "axis[1, 0].set_xlabel('Row Number')\n",
        "axis[1, 0].set_ylabel('diff')\n",
        "\n",
        "# Salary_from: y_test v. y_pred\n",
        "axis[0, 1].scatter(length_test_from, df_test_from['y_test'], marker = '.', label = 'y_train')\n",
        "axis[0, 1].scatter(length_test_from, df_test_from['y_pred_test'], marker = '.', label = 'y_pred')\n",
        "axis[0, 1].legend()\n",
        "axis[0, 1].set_title(\"Salary_from: y_test v. y_pred\")\n",
        "axis[0, 1].set_xlabel('Row Number')\n",
        "axis[0, 1].set_ylabel('y')\n",
        "\n",
        "# Salary_from: y_test - y_pred\n",
        "axis[1, 1].scatter(length_test_from, df_test_from['test_diff'], marker = '.')\n",
        "axis[1, 1].set_title(\"Salary_from: y_test - y_pred\")\n",
        "axis[1, 1].set_xlabel('Row Number')\n",
        "axis[1, 1].set_ylabel('diff')\n",
        "\n",
        "plt.show()"
      ]
    },
    {
      "cell_type": "markdown",
      "metadata": {},
      "source": [
        "### Salary_to: Random Forest + **GridSearchCV**"
      ]
    },
    {
      "cell_type": "code",
      "execution_count": 119,
      "metadata": {},
      "outputs": [
        {
          "name": "stdout",
          "output_type": "stream",
          "text": [
            "Best Parameters: {'max_depth': 20, 'min_samples_leaf': 1, 'min_samples_split': 2, 'n_estimators': 200}\n",
            "Regression Model Evaluation:\n",
            "===========================\n",
            "Mean Absolute Error (MAE): 969.52\n",
            "Mean Squared Error (MSE): 5290141.75\n",
            "Root Mean Squared Error (RMSE): 2300.03\n",
            "R-squared (R2): 0.92\n"
          ]
        }
      ],
      "source": [
        "# select X and y\n",
        "y_train_to = y_train['to']\n",
        "\n",
        "# Initialize the RandomForestRegressor model\n",
        "rf_regressor = RandomForestRegressor()\n",
        "\n",
        "# Define the parameter grid for the grid search\n",
        "param_grid = {\n",
        "    'n_estimators': [100, 200, 300],\n",
        "    'max_depth': [None, 10, 20],\n",
        "    'min_samples_split': [2, 5, 10],\n",
        "    'min_samples_leaf': [1, 2, 4]\n",
        "}\n",
        "\n",
        "# Create a GridSearchCV object\n",
        "gs_to = GridSearchCV(estimator=rf_regressor, param_grid=param_grid, cv=5, n_jobs=-1, scoring='neg_mean_absolute_error')\n",
        "\n",
        "# Fit the GridSearchCV object to the training data\n",
        "gs_to.fit(X_train, y_train_to)\n",
        "\n",
        "# Get the best model with tuned hyperparameters\n",
        "best_model_to = gs_to.best_estimator_\n",
        "\n",
        "# Print best parameters\n",
        "print(\"Best Parameters:\", gs_to.best_params_)\n",
        "\n",
        "# Evaluate the best model\n",
        "evaluate_regression_model(best_model_to, X_val, y_val['to'])"
      ]
    },
    {
      "cell_type": "markdown",
      "metadata": {},
      "source": [
        "### Salary_to: comparision of real and predicted y for train and test set"
      ]
    },
    {
      "cell_type": "code",
      "execution_count": 120,
      "metadata": {},
      "outputs": [
        {
          "ename": "KeyError",
          "evalue": "'y_test'",
          "output_type": "error",
          "traceback": [
            "\u001b[0;31m---------------------------------------------------------------------------\u001b[0m",
            "\u001b[0;31mKeyError\u001b[0m                                  Traceback (most recent call last)",
            "File \u001b[0;32m~/anaconda3/lib/python3.10/site-packages/pandas/core/indexes/base.py:3652\u001b[0m, in \u001b[0;36mIndex.get_loc\u001b[0;34m(self, key)\u001b[0m\n\u001b[1;32m   3651\u001b[0m \u001b[39mtry\u001b[39;00m:\n\u001b[0;32m-> 3652\u001b[0m     \u001b[39mreturn\u001b[39;00m \u001b[39mself\u001b[39;49m\u001b[39m.\u001b[39;49m_engine\u001b[39m.\u001b[39;49mget_loc(casted_key)\n\u001b[1;32m   3653\u001b[0m \u001b[39mexcept\u001b[39;00m \u001b[39mKeyError\u001b[39;00m \u001b[39mas\u001b[39;00m err:\n",
            "File \u001b[0;32m~/anaconda3/lib/python3.10/site-packages/pandas/_libs/index.pyx:147\u001b[0m, in \u001b[0;36mpandas._libs.index.IndexEngine.get_loc\u001b[0;34m()\u001b[0m\n",
            "File \u001b[0;32m~/anaconda3/lib/python3.10/site-packages/pandas/_libs/index.pyx:176\u001b[0m, in \u001b[0;36mpandas._libs.index.IndexEngine.get_loc\u001b[0;34m()\u001b[0m\n",
            "File \u001b[0;32mpandas/_libs/hashtable_class_helper.pxi:7080\u001b[0m, in \u001b[0;36mpandas._libs.hashtable.PyObjectHashTable.get_item\u001b[0;34m()\u001b[0m\n",
            "File \u001b[0;32mpandas/_libs/hashtable_class_helper.pxi:7088\u001b[0m, in \u001b[0;36mpandas._libs.hashtable.PyObjectHashTable.get_item\u001b[0;34m()\u001b[0m\n",
            "\u001b[0;31mKeyError\u001b[0m: 'y_test'",
            "\nThe above exception was the direct cause of the following exception:\n",
            "\u001b[0;31mKeyError\u001b[0m                                  Traceback (most recent call last)",
            "Cell \u001b[0;32mIn[120], line 34\u001b[0m\n\u001b[1;32m     31\u001b[0m axis[\u001b[39m1\u001b[39m, \u001b[39m0\u001b[39m]\u001b[39m.\u001b[39mset_ylabel(\u001b[39m'\u001b[39m\u001b[39mdiff\u001b[39m\u001b[39m'\u001b[39m)\n\u001b[1;32m     33\u001b[0m \u001b[39m# Salary_to: y_test v. y_pred\u001b[39;00m\n\u001b[0;32m---> 34\u001b[0m axis[\u001b[39m0\u001b[39m, \u001b[39m1\u001b[39m]\u001b[39m.\u001b[39mscatter(length_test_to, df_test_to[\u001b[39m'\u001b[39;49m\u001b[39my_test\u001b[39;49m\u001b[39m'\u001b[39;49m], marker \u001b[39m=\u001b[39m \u001b[39m'\u001b[39m\u001b[39m.\u001b[39m\u001b[39m'\u001b[39m, label \u001b[39m=\u001b[39m \u001b[39m'\u001b[39m\u001b[39my_train\u001b[39m\u001b[39m'\u001b[39m)\n\u001b[1;32m     35\u001b[0m axis[\u001b[39m0\u001b[39m, \u001b[39m1\u001b[39m]\u001b[39m.\u001b[39mscatter(length_test_to, df_test_to[\u001b[39m'\u001b[39m\u001b[39my_pred_test\u001b[39m\u001b[39m'\u001b[39m], marker \u001b[39m=\u001b[39m \u001b[39m'\u001b[39m\u001b[39m.\u001b[39m\u001b[39m'\u001b[39m, label \u001b[39m=\u001b[39m \u001b[39m'\u001b[39m\u001b[39my_pred\u001b[39m\u001b[39m'\u001b[39m)\n\u001b[1;32m     36\u001b[0m axis[\u001b[39m0\u001b[39m, \u001b[39m1\u001b[39m]\u001b[39m.\u001b[39mlegend()\n",
            "File \u001b[0;32m~/anaconda3/lib/python3.10/site-packages/pandas/core/frame.py:3761\u001b[0m, in \u001b[0;36mDataFrame.__getitem__\u001b[0;34m(self, key)\u001b[0m\n\u001b[1;32m   3759\u001b[0m \u001b[39mif\u001b[39;00m \u001b[39mself\u001b[39m\u001b[39m.\u001b[39mcolumns\u001b[39m.\u001b[39mnlevels \u001b[39m>\u001b[39m \u001b[39m1\u001b[39m:\n\u001b[1;32m   3760\u001b[0m     \u001b[39mreturn\u001b[39;00m \u001b[39mself\u001b[39m\u001b[39m.\u001b[39m_getitem_multilevel(key)\n\u001b[0;32m-> 3761\u001b[0m indexer \u001b[39m=\u001b[39m \u001b[39mself\u001b[39;49m\u001b[39m.\u001b[39;49mcolumns\u001b[39m.\u001b[39;49mget_loc(key)\n\u001b[1;32m   3762\u001b[0m \u001b[39mif\u001b[39;00m is_integer(indexer):\n\u001b[1;32m   3763\u001b[0m     indexer \u001b[39m=\u001b[39m [indexer]\n",
            "File \u001b[0;32m~/anaconda3/lib/python3.10/site-packages/pandas/core/indexes/base.py:3654\u001b[0m, in \u001b[0;36mIndex.get_loc\u001b[0;34m(self, key)\u001b[0m\n\u001b[1;32m   3652\u001b[0m     \u001b[39mreturn\u001b[39;00m \u001b[39mself\u001b[39m\u001b[39m.\u001b[39m_engine\u001b[39m.\u001b[39mget_loc(casted_key)\n\u001b[1;32m   3653\u001b[0m \u001b[39mexcept\u001b[39;00m \u001b[39mKeyError\u001b[39;00m \u001b[39mas\u001b[39;00m err:\n\u001b[0;32m-> 3654\u001b[0m     \u001b[39mraise\u001b[39;00m \u001b[39mKeyError\u001b[39;00m(key) \u001b[39mfrom\u001b[39;00m \u001b[39merr\u001b[39;00m\n\u001b[1;32m   3655\u001b[0m \u001b[39mexcept\u001b[39;00m \u001b[39mTypeError\u001b[39;00m:\n\u001b[1;32m   3656\u001b[0m     \u001b[39m# If we have a listlike key, _check_indexing_error will raise\u001b[39;00m\n\u001b[1;32m   3657\u001b[0m     \u001b[39m#  InvalidIndexError. Otherwise we fall through and re-raise\u001b[39;00m\n\u001b[1;32m   3658\u001b[0m     \u001b[39m#  the TypeError.\u001b[39;00m\n\u001b[1;32m   3659\u001b[0m     \u001b[39mself\u001b[39m\u001b[39m.\u001b[39m_check_indexing_error(key)\n",
            "\u001b[0;31mKeyError\u001b[0m: 'y_test'"
          ]
        },
        {
          "data": {
            "image/png": "[encoded data removed]",
            "text/plain": [
              "<Figure size 1600x1000 with 4 Axes>"
            ]
          },
          "metadata": {},
          "output_type": "display_data"
        }
      ],
      "source": [
        "# # df with real and predicted y for the train set\n",
        "# y_pred_train_to = best_model_to.predict(X_train)\n",
        "# df_train_to = {'y_train': y_train_to, 'y_pred_train': y_pred_train_to, 'train_diff': y_train_to-y_pred_train_to}\n",
        "# df_train_to = pd.DataFrame(df_train_to)\n",
        "# df_train_to.sort_values(by = 'y_train', inplace = True)\n",
        "\n",
        "# # df with real and predicted y for the test set\n",
        "# y_pred_test_to = best_model_to.predict(X_val)\n",
        "# df_test_to = {'y_val': y_val['to'], 'y_pred_test': y_pred_test_to, 'val_diff': y_val['to']-y_pred_test_to}\n",
        "# df_test_to = pd.DataFrame(df_test_to)\n",
        "# df_test_to.sort_values(by = 'y_val', inplace = True)\n",
        "\n",
        "# # plot\n",
        "# figure, axis = plt.subplots(2, 2, figsize=(16, 10), sharey = 'row')\n",
        "\n",
        "# length_train_to = range(len(df_train_to))\n",
        "# length_test_to = range(len(df_test_to))\n",
        "\n",
        "# # Salary_to: y_train v. y_pred\n",
        "# axis[0, 0].scatter(length_train_to, df_train_to['y_train'], marker = '.', label = 'y_train')\n",
        "# axis[0, 0].scatter(length_train_to, df_train_to['y_pred_train'], marker = '.', label = 'y_pred')\n",
        "# axis[0, 0].legend()\n",
        "# axis[0, 0].set_title(\"Salary_to: y_train v. y_pred\")\n",
        "# axis[0, 0].set_xlabel('Row Number')\n",
        "# axis[0, 0].set_ylabel('y')\n",
        "\n",
        "# # Salary_to: y_train - y_pred\n",
        "# axis[1, 0].scatter(length_train_to, df_train_to['train_diff'], marker = '.')\n",
        "# axis[1, 0].set_title(\"Salary_to: y_train - y_pred\")\n",
        "# axis[1, 0].set_xlabel('Row Number')\n",
        "# axis[1, 0].set_ylabel('diff')\n",
        "\n",
        "# # Salary_to: y_test v. y_pred\n",
        "# axis[0, 1].scatter(length_test_to, df_test_to['y_test'], marker = '.', label = 'y_train')\n",
        "# axis[0, 1].scatter(length_test_to, df_test_to['y_pred_test'], marker = '.', label = 'y_pred')\n",
        "# axis[0, 1].legend()\n",
        "# axis[0, 1].set_title(\"Salary_to: y_test v. y_pred\")\n",
        "# axis[0, 1].set_xlabel('Row Number')\n",
        "# axis[0, 1].set_ylabel('y')\n",
        "\n",
        "# # Salary_to: y_test - y_pred\n",
        "# axis[1, 1].scatter(length_test_to, df_test_to['test_diff'], marker = '.')\n",
        "# axis[1, 1].set_title(\"Salary_to: y_test - y_pred\")\n",
        "# axis[1, 1].set_xlabel('Row Number')\n",
        "# axis[1, 1].set_ylabel('diff')\n",
        "\n",
        "# plt.show()"
      ]
    },
    {
      "cell_type": "markdown",
      "metadata": {
        "id": "t2V73OBD8BBc"
      },
      "source": []
    },
    {
      "cell_type": "markdown",
      "metadata": {
        "id": "eehoyGMy_b_K"
      },
      "source": [
        "##MAE distribution"
      ]
    },
    {
      "cell_type": "code",
      "execution_count": 88,
      "metadata": {
        "id": "vCXNSVWL_byS"
      },
      "outputs": [],
      "source": [
        "# mae_from = []\n",
        "\n",
        "# for i in range(1000):\n",
        "\n",
        "#     model_from = RandomForestRegressor(max_depth = None, min_samples_leaf= 1, min_samples_split= 2, n_estimators= 300)\n",
        "#     # model_from = RandomForestRegressor(best_model_from.get_params())\n",
        "#     model_from.fit(X_train_from, y_train_from)\n",
        "\n",
        "#     mae_from.append(mean_absolute_error(y_test_from, model_from.predict(X_test_from)))\n",
        "\n",
        "# sns.set_style(\"darkgrid\")\n",
        "# sns.histplot(mae_from)"
      ]
    },
    {
      "cell_type": "code",
      "execution_count": null,
      "metadata": {},
      "outputs": [],
      "source": [
        "# from sklearn import model_selection\n",
        "# mae_to = []\n",
        "\n",
        "# for i in range(1000):\n",
        "\n",
        "#     model_to = RandomForestRegressor(max_depth = 20, min_samples_leaf= 1, min_samples_split= 2, n_estimators= 100)\n",
        "#     # model_to = RandomForestRegressor(best_model_to.get_params())\n",
        "#     model_to.fit(X_train_to, y_train_to)\n",
        "\n",
        "#     mae_to.append(mean_absolute_error(y_test_to, model_to.predict(X_test_to)))\n",
        "\n",
        "# sns.set_style(\"darkgrid\")\n",
        "# sns.histplot(mae_to)"
      ]
    },
    {
      "cell_type": "code",
      "execution_count": 121,
      "metadata": {},
      "outputs": [
        {
          "name": "stdout",
          "output_type": "stream",
          "text": [
            "1.2.2\n"
          ]
        },
        {
          "data": {
            "text/plain": [
              "['best_model_to_1.2.2.pkl']"
            ]
          },
          "execution_count": 121,
          "metadata": {},
          "output_type": "execute_result"
        }
      ],
      "source": [
        "# saving model\n",
        "import sklearn\n",
        "scikit_version = sklearn.__version__\n",
        "print(scikit_version)\n",
        "\n",
        "joblib.dump(best_model_from, f\"best_model_from_{scikit_version}.pkl\")\n",
        "joblib.dump(best_model_to, f\"best_model_to_{scikit_version}.pkl\")"
      ]
    },
    {
      "cell_type": "markdown",
      "metadata": {
        "id": "MCTtNlIR0SPA"
      },
      "source": [
        "# Reading job offer and preparing the data"
      ]
    },
    {
      "cell_type": "code",
      "execution_count": 138,
      "metadata": {
        "id": "fl166Irt0YQr"
      },
      "outputs": [],
      "source": [
        "job_offer = 'https://justjoin.it/offers/itds-machine-learning-engineer'\n",
        "job_offer_api = job_offer.replace(\"https://justjoin.it/offers/\", \"https://justjoin.it/api/offers/\")"
      ]
    },
    {
      "cell_type": "code",
      "execution_count": 139,
      "metadata": {
        "id": "TMWJUTX_1Wq7"
      },
      "outputs": [],
      "source": [
        "response = requests.get(job_offer_api)\n",
        "job_data = response.json()"
      ]
    },
    {
      "cell_type": "code",
      "execution_count": 140,
      "metadata": {},
      "outputs": [
        {
          "name": "stdout",
          "output_type": "stream",
          "text": [
            "['sql', 'python', 'english', 'java', 'snowflake', 'power bi', 'azure', 'aws', 'etl', 'oracle', 'big data', 'machine learning', 'databases', 'sql server', 'agile', 'spark', 'devops', 'databricks', 'scala', 'cassandra']\n"
          ]
        }
      ],
      "source": [
        "with open('output.txt', 'r') as file:\n",
        "    lines = file.readlines()\n",
        "    top_20_skills = [line.strip() for line in lines]\n",
        "\n",
        "print(top_20_skills)"
      ]
    },
    {
      "cell_type": "code",
      "execution_count": 141,
      "metadata": {},
      "outputs": [],
      "source": [
        "offer_data = []\n",
        "\n",
        "for skill in job_data['skills']:\n",
        "    # print(skill['name'])\n",
        "    new_row = job_data.copy()\n",
        "    new_row['skill_name'] = skill['name']\n",
        "    new_row['skill_level'] = skill['level']\n",
        "    offer_data.append(new_row)\n",
        "\n",
        "\n",
        "offer_df = pd.DataFrame(offer_data)\n",
        "offer_df = standardize_text(offer_df, \"title\")\n",
        "offer_df = standardize_text(offer_df, \"skill_name\")\n",
        "\n",
        "offer_dummies = pd.DataFrame()\n",
        "\n",
        "for col_name in sorted(top_20_skills):\n",
        "    offer_dummies[\"skill_\" + col_name] = 0\n",
        "\n",
        "offer_dummies.loc[0] = 0"
      ]
    },
    {
      "cell_type": "code",
      "execution_count": 142,
      "metadata": {},
      "outputs": [],
      "source": [
        "final = []\n",
        "for skill in offer_df['skill_name']:\n",
        "    new_dummy = offer_dummies.copy()\n",
        "    if skill in top_20_skills:\n",
        "        new_dummy[f\"skill_{skill}\"] = 1\n",
        "    final.append(new_dummy)\n",
        "\n",
        "all_dummies = pd.concat(final, ignore_index=True)"
      ]
    },
    {
      "cell_type": "code",
      "execution_count": 143,
      "metadata": {
        "id": "PaEviqEe3Qbl"
      },
      "outputs": [],
      "source": [
        "for col in all_dummies.columns:\n",
        "    all_dummies[col] *=  offer_df['skill_level']\n",
        "\n",
        "# Dołączanie kolumn dummies\n",
        "aggregated_offer_df = pd.concat([offer_df, all_dummies], axis=1)\n",
        "\n",
        "def custom_agg(series):\n",
        "    if series.name.startswith('skill'):\n",
        "        return series.sum()\n",
        "    else:\n",
        "        return series.iat[0]\n",
        "\n",
        "\n",
        "aggregated_offer_df = aggregated_offer_df.drop('skill_name', axis=1)\n",
        "aggregated_offer_df = aggregated_offer_df.drop('skills', axis=1)\n",
        "\n",
        "# Grupowanie, agregacja i reset indeksu\n",
        "aggregated_offer_df = aggregated_offer_df.groupby('id', as_index=False).agg(custom_agg)\n",
        "aggregated_offer_df = aggregated_offer_df.drop('skill_level', axis=1)\n",
        "\n",
        "level_mapping = {'junior': 0, 'mid': 1, 'senior': 2}\n",
        "workplace_mapping= {'remote': 0, 'partly_remote': 1, 'office': 2}\n",
        "country_mapping = {'PL': 0, 'SK': 1, 'CZ': 2, 'HU': 3, 'AT': 4, 'SI': 5, 'RO': 6, 'MT': 7, 'DE': 8, 'UA': 9, 'None': 10,\n",
        "       'EE': 11}\n",
        "\n",
        "aggregated_offer_df['experience_level'] = aggregated_offer_df['experience_level'].map(level_mapping)\n",
        "\n",
        "aggregated_offer_df['workplace_type'] =aggregated_offer_df['workplace_type'].map(workplace_mapping)\n",
        "\n",
        "aggregated_offer_df['country_code'] = aggregated_offer_df['country_code'].map(country_mapping)\n",
        "aggregated_df['country_code'] = aggregated_df['country_code'].fillna(10)\n",
        "\n",
        "offer_employment_types = aggregated_offer_df['employment_types'].apply(pd.Series)\n",
        "offer_employment_type = offer_employment_types[0].apply(pd.Series)\n",
        "offer_employment_type= pd.concat([offer_employment_type.drop(['salary'], axis=1),\n",
        "                                 offer_employment_type['salary'].apply(pd.Series)], axis=1)\n",
        "\n",
        "offer_no_employment = aggregated_offer_df.drop(columns = 'employment_types')\n",
        "offer_employment = pd.concat([offer_no_employment, offer_employment_type], axis = 1)\n",
        "\n",
        "type_map = {'permanent': 0, 'b2b': 1, 'mandate_contract': 2}\n",
        "offer_employment['type'] = offer_employment['type'].map(type_map)"
      ]
    },
    {
      "cell_type": "code",
      "execution_count": 144,
      "metadata": {},
      "outputs": [
        {
          "data": {
            "text/plain": [
              "'200+'"
            ]
          },
          "execution_count": 144,
          "metadata": {},
          "output_type": "execute_result"
        }
      ],
      "source": [
        "offer_employment['company_size'][0]"
      ]
    },
    {
      "cell_type": "code",
      "execution_count": 145,
      "metadata": {},
      "outputs": [],
      "source": [
        "def standardize_company_size(company_size_value):\n",
        "    company_size_value = str(company_size_value)\n",
        "    if (company_size_value == '-' or company_size_value == '' or company_size_value == ' ' or company_size_value == 'None'):\n",
        "        size = 0.0\n",
        "    elif '-' in company_size_value:\n",
        "        min_value, max_value = company_size_value.split('-')\n",
        "        size = 0.5 * (float(min_value) + float(max_value))\n",
        "    elif '+' in company_size_value:\n",
        "        size = float(company_size_value.replace('+', ''))\n",
        "    elif ' ' in company_size_value:\n",
        "        size = float(company_size_value.replace(' ', ''))\n",
        "    else:\n",
        "        size = float(company_size_value)\n",
        "\n",
        "    return size"
      ]
    },
    {
      "cell_type": "code",
      "execution_count": 146,
      "metadata": {
        "id": "FPt1CrKvDEks"
      },
      "outputs": [],
      "source": [
        "offer_employment['avg_company_size'] = offer_employment['company_size'].apply(lambda x: standardize_company_size(x))\n",
        "\n",
        "offer=offer_employment.drop(columns = ['id', 'from', 'to', 'currency','company_size', 'company_profile','apply_body', 'title', 'street', 'city', 'address_text', 'marker_icon', 'company_name', 'company_url', 'latitude', 'longitude', 'apply_url', 'published_at', 'remote_interview', 'video_key', 'video_provider', 'open_to_hire_ukrainians', 'future_consent_title', 'future_consent', 'information_clause', 'custom_consent_title', 'custom_consent', 'tags', 'body', 'company_logo_url', 'banner_url', 'multilocation'], errors='ignore')\n",
        "scaler = joblib.load('Standard_Scaler_1.2.2.pkl')\n",
        "offer_scaled = pd.DataFrame(scl.transform(offer), columns = offer.columns)"
      ]
    },
    {
      "cell_type": "code",
      "execution_count": 147,
      "metadata": {},
      "outputs": [
        {
          "data": {
            "text/html": [
              "<div>\n",
              "<style scoped>\n",
              "    .dataframe tbody tr th:only-of-type {\n",
              "        vertical-align: middle;\n",
              "    }\n",
              "\n",
              "    .dataframe tbody tr th {\n",
              "        vertical-align: top;\n",
              "    }\n",
              "\n",
              "    .dataframe thead th {\n",
              "        text-align: right;\n",
              "    }\n",
              "</style>\n",
              "<table border=\"1\" class=\"dataframe\">\n",
              "  <thead>\n",
              "    <tr style=\"text-align: right;\">\n",
              "      <th></th>\n",
              "      <th>country_code</th>\n",
              "      <th>workplace_type</th>\n",
              "      <th>experience_level</th>\n",
              "      <th>remote</th>\n",
              "      <th>skill_agile</th>\n",
              "      <th>skill_aws</th>\n",
              "      <th>skill_azure</th>\n",
              "      <th>skill_big data</th>\n",
              "      <th>skill_cassandra</th>\n",
              "      <th>skill_databases</th>\n",
              "      <th>...</th>\n",
              "      <th>skill_oracle</th>\n",
              "      <th>skill_power bi</th>\n",
              "      <th>skill_python</th>\n",
              "      <th>skill_scala</th>\n",
              "      <th>skill_snowflake</th>\n",
              "      <th>skill_spark</th>\n",
              "      <th>skill_sql</th>\n",
              "      <th>skill_sql server</th>\n",
              "      <th>type</th>\n",
              "      <th>avg_company_size</th>\n",
              "    </tr>\n",
              "  </thead>\n",
              "  <tbody>\n",
              "    <tr>\n",
              "      <th>0</th>\n",
              "      <td>0</td>\n",
              "      <td>1</td>\n",
              "      <td>2</td>\n",
              "      <td>False</td>\n",
              "      <td>0</td>\n",
              "      <td>0</td>\n",
              "      <td>0</td>\n",
              "      <td>0</td>\n",
              "      <td>0</td>\n",
              "      <td>0</td>\n",
              "      <td>...</td>\n",
              "      <td>0</td>\n",
              "      <td>0</td>\n",
              "      <td>3</td>\n",
              "      <td>0</td>\n",
              "      <td>0</td>\n",
              "      <td>1</td>\n",
              "      <td>0</td>\n",
              "      <td>0</td>\n",
              "      <td>1</td>\n",
              "      <td>200.0</td>\n",
              "    </tr>\n",
              "  </tbody>\n",
              "</table>\n",
              "<p>1 rows × 26 columns</p>\n",
              "</div>"
            ],
            "text/plain": [
              "   country_code  workplace_type  experience_level  remote  skill_agile  \\\n",
              "0             0               1                 2   False            0   \n",
              "\n",
              "   skill_aws  skill_azure  skill_big data  skill_cassandra  skill_databases  \\\n",
              "0          0            0               0                0                0   \n",
              "\n",
              "   ...  skill_oracle  skill_power bi  skill_python  skill_scala  \\\n",
              "0  ...             0               0             3            0   \n",
              "\n",
              "   skill_snowflake  skill_spark  skill_sql  skill_sql server  type  \\\n",
              "0                0            1          0                 0     1   \n",
              "\n",
              "   avg_company_size  \n",
              "0             200.0  \n",
              "\n",
              "[1 rows x 26 columns]"
            ]
          },
          "execution_count": 147,
          "metadata": {},
          "output_type": "execute_result"
        }
      ],
      "source": [
        "offer"
      ]
    },
    {
      "cell_type": "code",
      "execution_count": 148,
      "metadata": {
        "id": "KDj_CKG9CX6U"
      },
      "outputs": [],
      "source": [
        "# Predict on the test set\n",
        "pred_from = best_model_from.predict(offer_scaled)\n",
        "pred_to = best_model_to.predict(offer_scaled)"
      ]
    },
    {
      "cell_type": "code",
      "execution_count": 149,
      "metadata": {
        "id": "fBcpN19gCYyH"
      },
      "outputs": [
        {
          "name": "stdout",
          "output_type": "stream",
          "text": [
            "[21805.9]\n",
            "[29691.97]\n"
          ]
        }
      ],
      "source": [
        "print(pred_from)\n",
        "print(pred_to)"
      ]
    },
    {
      "cell_type": "code",
      "execution_count": 150,
      "metadata": {},
      "outputs": [
        {
          "data": {
            "text/plain": [
              "'\\ncompany size, from, to i inne, tylko, jeeli faktycznie istnieją w dataframe\\nNaN w country code jeśli nan to 0\\n'"
            ]
          },
          "execution_count": 150,
          "metadata": {},
          "output_type": "execute_result"
        }
      ],
      "source": [
        "'''\n",
        "company size, from, to i inne, tylko, jeeli faktycznie istnieją w dataframe\n",
        "NaN w country code jeśli nan to 0\n",
        "'''"
      ]
    }
  ],
  "metadata": {
    "colab": {
      "provenance": []
    },
    "kernelspec": {
      "display_name": "Python 3",
      "name": "python3"
    },
    "language_info": {
      "codemirror_mode": {
        "name": "ipython",
        "version": 3
      },
      "file_extension": ".py",
      "mimetype": "text/x-python",
      "name": "python",
      "nbconvert_exporter": "python",
      "pygments_lexer": "ipython3",
      "version": "3.10.9"
    }
  },
  "nbformat": 4,
  "nbformat_minor": 0
}
